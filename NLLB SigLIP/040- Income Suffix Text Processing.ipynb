{
 "cells": [
  {
   "cell_type": "code",
   "execution_count": 1,
   "id": "ff43253d",
   "metadata": {},
   "outputs": [],
   "source": [
    "path_data = '/data'"
   ]
  },
  {
   "cell_type": "code",
   "execution_count": 2,
   "id": "fbb1c522",
   "metadata": {},
   "outputs": [
    {
     "name": "stdout",
     "output_type": "stream",
     "text": [
      "Torch version: 2.2.1+cu121\n"
     ]
    }
   ],
   "source": [
    "import numpy as np\n",
    "import pandas as pd\n",
    "import matplotlib.pyplot as plt\n",
    "import seaborn as sns \n",
    "import warnings\n",
    "warnings.filterwarnings(\"ignore\")\n",
    "import os\n",
    "\n",
    "import pandas as pd\n",
    "\n",
    "import torch\n",
    "from pkg_resources import packaging\n",
    "from PIL import Image\n",
    "import tqdm\n",
    "from pathlib import Path\n",
    "print(\"Torch version:\", torch.__version__)\n",
    "\n",
    "from PIL import ImageFile\n",
    "ImageFile.LOAD_TRUNCATED_IMAGES = True\n",
    "\n",
    "plt.style.use('ggplot')"
   ]
  },
  {
   "cell_type": "code",
   "execution_count": 3,
   "id": "4c14e84c",
   "metadata": {},
   "outputs": [],
   "source": [
    "data_unfiltered = pd.read_csv(\"/\".join([path_data, \"images_v2.csv\"]))\n",
    "#display(data_unfiltered)"
   ]
  },
  {
   "cell_type": "code",
   "execution_count": 4,
   "id": "f79fed69",
   "metadata": {},
   "outputs": [
    {
     "data": {
      "text/plain": [
       "38479"
      ]
     },
     "execution_count": 4,
     "metadata": {},
     "output_type": "execute_result"
    }
   ],
   "source": [
    "len(data_unfiltered)"
   ]
  },
  {
   "cell_type": "markdown",
   "id": "f7c8d061",
   "metadata": {},
   "source": [
    "### Remove subjective topics"
   ]
  },
  {
   "cell_type": "code",
   "execution_count": 5,
   "id": "e6c18806",
   "metadata": {},
   "outputs": [],
   "source": [
    "subjective_topics = ['Favorite home decorations', 'Favourite item in kitchen', 'Favourite sports clubs', 'How the most loved item is used', 'icons', 'Idols', 'Latest furniture bought', ' looking over the shoulder', 'Most loved item', 'Most loved toy', 'Most played songs on the radio', 'Music idol', 'Next big thing you are planning to buy', 'Playing with most loved toy', 'Thing I dream about having', 'Things I wish I had', 'Using most loved item', 'Youth culture', 'What I wish I could buy']"
   ]
  },
  {
   "cell_type": "code",
   "execution_count": 6,
   "id": "377f14b7",
   "metadata": {},
   "outputs": [],
   "source": [
    "unique_topics = data_unfiltered['topics'].unique()"
   ]
  },
  {
   "cell_type": "code",
   "execution_count": 7,
   "id": "ec2c83fa",
   "metadata": {},
   "outputs": [],
   "source": [
    "Subjective_topic_list = []\n",
    "\n",
    "for topic in unique_topics:\n",
    "    topic_ = topic.replace('/ ', ', ')\n",
    "    topic_split = topic_.split(',')\n",
    "    for split in topic_split:\n",
    "        if split in subjective_topics:\n",
    "            Subjective_topic_list.append(topic)"
   ]
  },
  {
   "cell_type": "code",
   "execution_count": 8,
   "id": "d4d490bb",
   "metadata": {},
   "outputs": [
    {
     "data": {
      "text/html": [
       "<div>\n",
       "<style scoped>\n",
       "    .dataframe tbody tr th:only-of-type {\n",
       "        vertical-align: middle;\n",
       "    }\n",
       "\n",
       "    .dataframe tbody tr th {\n",
       "        vertical-align: top;\n",
       "    }\n",
       "\n",
       "    .dataframe thead th {\n",
       "        text-align: right;\n",
       "    }\n",
       "</style>\n",
       "<table border=\"1\" class=\"dataframe\">\n",
       "  <thead>\n",
       "    <tr style=\"text-align: right;\">\n",
       "      <th></th>\n",
       "      <th>id</th>\n",
       "      <th>country.name</th>\n",
       "      <th>country.id</th>\n",
       "      <th>region.id</th>\n",
       "      <th>type</th>\n",
       "      <th>imageRelPath</th>\n",
       "      <th>topics</th>\n",
       "      <th>place</th>\n",
       "      <th>income</th>\n",
       "    </tr>\n",
       "  </thead>\n",
       "  <tbody>\n",
       "    <tr>\n",
       "      <th>1</th>\n",
       "      <td>5d4bf31ccf0b3a0f3f359814</td>\n",
       "      <td>Burundi</td>\n",
       "      <td>bi</td>\n",
       "      <td>af</td>\n",
       "      <td>image</td>\n",
       "      <td>assets/5d4bf31ccf0b3a0f3f359814/5d4bf31ccf0b3a...</td>\n",
       "      <td>Family snapshots</td>\n",
       "      <td>butoyi</td>\n",
       "      <td>26.994581</td>\n",
       "    </tr>\n",
       "    <tr>\n",
       "      <th>2</th>\n",
       "      <td>5d4bf31ccf0b3a0f3f35982a</td>\n",
       "      <td>Burundi</td>\n",
       "      <td>bi</td>\n",
       "      <td>af</td>\n",
       "      <td>image</td>\n",
       "      <td>assets/5d4bf31ccf0b3a0f3f35982a/5d4bf31ccf0b3a...</td>\n",
       "      <td>Cutlery</td>\n",
       "      <td>butoyi</td>\n",
       "      <td>26.994581</td>\n",
       "    </tr>\n",
       "    <tr>\n",
       "      <th>3</th>\n",
       "      <td>5d4bf31ccf0b3a0f3f35982e</td>\n",
       "      <td>Burundi</td>\n",
       "      <td>bi</td>\n",
       "      <td>af</td>\n",
       "      <td>image</td>\n",
       "      <td>assets/5d4bf31ccf0b3a0f3f35982e/5d4bf31ccf0b3a...</td>\n",
       "      <td>Family</td>\n",
       "      <td>butoyi</td>\n",
       "      <td>26.994581</td>\n",
       "    </tr>\n",
       "    <tr>\n",
       "      <th>4</th>\n",
       "      <td>5d4bf31ccf0b3a0f3f359830</td>\n",
       "      <td>Burundi</td>\n",
       "      <td>bi</td>\n",
       "      <td>af</td>\n",
       "      <td>image</td>\n",
       "      <td>assets/5d4bf31ccf0b3a0f3f359830/5d4bf31ccf0b3a...</td>\n",
       "      <td>Place where eating dinner</td>\n",
       "      <td>butoyi</td>\n",
       "      <td>26.994581</td>\n",
       "    </tr>\n",
       "    <tr>\n",
       "      <th>5</th>\n",
       "      <td>5d4bf31dcf0b3a0f3f35983c</td>\n",
       "      <td>Burundi</td>\n",
       "      <td>bi</td>\n",
       "      <td>af</td>\n",
       "      <td>image</td>\n",
       "      <td>assets/5d4bf31dcf0b3a0f3f35983c/5d4bf31dcf0b3a...</td>\n",
       "      <td>Plate of food</td>\n",
       "      <td>butoyi</td>\n",
       "      <td>26.994581</td>\n",
       "    </tr>\n",
       "    <tr>\n",
       "      <th>...</th>\n",
       "      <td>...</td>\n",
       "      <td>...</td>\n",
       "      <td>...</td>\n",
       "      <td>...</td>\n",
       "      <td>...</td>\n",
       "      <td>...</td>\n",
       "      <td>...</td>\n",
       "      <td>...</td>\n",
       "      <td>...</td>\n",
       "    </tr>\n",
       "    <tr>\n",
       "      <th>38474</th>\n",
       "      <td>5ec4f5513f62767d97a47324</td>\n",
       "      <td>France</td>\n",
       "      <td>fr</td>\n",
       "      <td>eu</td>\n",
       "      <td>image</td>\n",
       "      <td>assets/5ec4f5513f62767d97a47324/5ec4f5513f6276...</td>\n",
       "      <td>Bed</td>\n",
       "      <td>larriere</td>\n",
       "      <td>19671.000000</td>\n",
       "    </tr>\n",
       "    <tr>\n",
       "      <th>38475</th>\n",
       "      <td>5ec4f5513f62767d97a47325</td>\n",
       "      <td>France</td>\n",
       "      <td>fr</td>\n",
       "      <td>eu</td>\n",
       "      <td>image</td>\n",
       "      <td>assets/5ec4f5513f62767d97a47325/5ec4f5513f6276...</td>\n",
       "      <td>Bathroom/Toilet</td>\n",
       "      <td>larriere</td>\n",
       "      <td>19671.000000</td>\n",
       "    </tr>\n",
       "    <tr>\n",
       "      <th>38476</th>\n",
       "      <td>5ec4f5523f62767d97a47327</td>\n",
       "      <td>France</td>\n",
       "      <td>fr</td>\n",
       "      <td>eu</td>\n",
       "      <td>image</td>\n",
       "      <td>assets/5ec4f5523f62767d97a47327/5ec4f5523f6276...</td>\n",
       "      <td>Armchair</td>\n",
       "      <td>larriere</td>\n",
       "      <td>19671.000000</td>\n",
       "    </tr>\n",
       "    <tr>\n",
       "      <th>38477</th>\n",
       "      <td>5ec4f5523f62767d97a47328</td>\n",
       "      <td>France</td>\n",
       "      <td>fr</td>\n",
       "      <td>eu</td>\n",
       "      <td>image</td>\n",
       "      <td>assets/5ec4f5523f62767d97a47328/5ec4f5523f6276...</td>\n",
       "      <td>Armchair</td>\n",
       "      <td>larriere</td>\n",
       "      <td>19671.000000</td>\n",
       "    </tr>\n",
       "    <tr>\n",
       "      <th>38478</th>\n",
       "      <td>5ecfdf1f581a3d02cf7f8c05</td>\n",
       "      <td>France</td>\n",
       "      <td>fr</td>\n",
       "      <td>eu</td>\n",
       "      <td>image</td>\n",
       "      <td>assets/5ecfdf1f581a3d02cf7f8c05/5ecfdf1f581a3d...</td>\n",
       "      <td>Family</td>\n",
       "      <td>larriere</td>\n",
       "      <td>19671.000000</td>\n",
       "    </tr>\n",
       "  </tbody>\n",
       "</table>\n",
       "<p>36754 rows × 9 columns</p>\n",
       "</div>"
      ],
      "text/plain": [
       "                             id country.name country.id region.id   type  \\\n",
       "1      5d4bf31ccf0b3a0f3f359814      Burundi         bi        af  image   \n",
       "2      5d4bf31ccf0b3a0f3f35982a      Burundi         bi        af  image   \n",
       "3      5d4bf31ccf0b3a0f3f35982e      Burundi         bi        af  image   \n",
       "4      5d4bf31ccf0b3a0f3f359830      Burundi         bi        af  image   \n",
       "5      5d4bf31dcf0b3a0f3f35983c      Burundi         bi        af  image   \n",
       "...                         ...          ...        ...       ...    ...   \n",
       "38474  5ec4f5513f62767d97a47324       France         fr        eu  image   \n",
       "38475  5ec4f5513f62767d97a47325       France         fr        eu  image   \n",
       "38476  5ec4f5523f62767d97a47327       France         fr        eu  image   \n",
       "38477  5ec4f5523f62767d97a47328       France         fr        eu  image   \n",
       "38478  5ecfdf1f581a3d02cf7f8c05       France         fr        eu  image   \n",
       "\n",
       "                                            imageRelPath  \\\n",
       "1      assets/5d4bf31ccf0b3a0f3f359814/5d4bf31ccf0b3a...   \n",
       "2      assets/5d4bf31ccf0b3a0f3f35982a/5d4bf31ccf0b3a...   \n",
       "3      assets/5d4bf31ccf0b3a0f3f35982e/5d4bf31ccf0b3a...   \n",
       "4      assets/5d4bf31ccf0b3a0f3f359830/5d4bf31ccf0b3a...   \n",
       "5      assets/5d4bf31dcf0b3a0f3f35983c/5d4bf31dcf0b3a...   \n",
       "...                                                  ...   \n",
       "38474  assets/5ec4f5513f62767d97a47324/5ec4f5513f6276...   \n",
       "38475  assets/5ec4f5513f62767d97a47325/5ec4f5513f6276...   \n",
       "38476  assets/5ec4f5523f62767d97a47327/5ec4f5523f6276...   \n",
       "38477  assets/5ec4f5523f62767d97a47328/5ec4f5523f6276...   \n",
       "38478  assets/5ecfdf1f581a3d02cf7f8c05/5ecfdf1f581a3d...   \n",
       "\n",
       "                          topics     place        income  \n",
       "1               Family snapshots    butoyi     26.994581  \n",
       "2                        Cutlery    butoyi     26.994581  \n",
       "3                         Family    butoyi     26.994581  \n",
       "4      Place where eating dinner    butoyi     26.994581  \n",
       "5                  Plate of food    butoyi     26.994581  \n",
       "...                          ...       ...           ...  \n",
       "38474                        Bed  larriere  19671.000000  \n",
       "38475            Bathroom/Toilet  larriere  19671.000000  \n",
       "38476                   Armchair  larriere  19671.000000  \n",
       "38477                   Armchair  larriere  19671.000000  \n",
       "38478                     Family  larriere  19671.000000  \n",
       "\n",
       "[36754 rows x 9 columns]"
      ]
     },
     "metadata": {},
     "output_type": "display_data"
    }
   ],
   "source": [
    "data = data_unfiltered[~data_unfiltered['topics'].isin(Subjective_topic_list)]\n",
    "display(data)"
   ]
  },
  {
   "cell_type": "code",
   "execution_count": 9,
   "id": "964d0123",
   "metadata": {},
   "outputs": [
    {
     "data": {
      "text/plain": [
       "36754"
      ]
     },
     "execution_count": 9,
     "metadata": {},
     "output_type": "execute_result"
    }
   ],
   "source": [
    "len(data)"
   ]
  },
  {
   "cell_type": "markdown",
   "id": "eed9dd80",
   "metadata": {},
   "source": [
    "### Split topics"
   ]
  },
  {
   "cell_type": "code",
   "execution_count": 10,
   "id": "3903710d",
   "metadata": {
    "scrolled": true
   },
   "outputs": [
    {
     "name": "stdout",
     "output_type": "stream",
     "text": [
      "45692\n",
      "270\n"
     ]
    }
   ],
   "source": [
    "from collections import Counter\n",
    "list_topics = list(data['topics'])\n",
    "\n",
    "\n",
    "separate_topics = [t.lower().strip() for topic in list_topics for t in topic.split(\",\") ]\n",
    "\n",
    "\n",
    "print(len(separate_topics))\n",
    "#print(Counter(separate_topics))\n",
    "set_topics = list(set(separate_topics))\n",
    "print(len(set_topics))"
   ]
  },
  {
   "cell_type": "code",
   "execution_count": 11,
   "id": "ae6fbeeb",
   "metadata": {},
   "outputs": [
    {
     "name": "stdout",
     "output_type": "stream",
     "text": [
      "270\n"
     ]
    }
   ],
   "source": [
    "# map each topic to list of corresponding images\n",
    "dict_topic2img = {}\n",
    "for list_topics, image_path in zip(data['topics'], data['imageRelPath']):\n",
    "    for topic in list_topics.split(\",\"):\n",
    "        topic = topic.lower().strip()\n",
    "        if topic not in dict_topic2img:\n",
    "            dict_topic2img[topic] = set() #### here a set was used in place of list to avoid duplicate where keyword appears twice in a topic\n",
    "        dict_topic2img[topic].add(image_path)\n",
    "\n",
    "print(len(dict_topic2img))"
   ]
  },
  {
   "cell_type": "code",
   "execution_count": 12,
   "id": "58681a22",
   "metadata": {},
   "outputs": [
    {
     "name": "stdout",
     "output_type": "stream",
     "text": [
      "45616\n"
     ]
    }
   ],
   "source": [
    "#sanity checks \n",
    "\n",
    "ground_truth_counts = [len(dict_topic2img[i]) for i in dict_topic2img]\n",
    "print(sum(ground_truth_counts))"
   ]
  },
  {
   "cell_type": "code",
   "execution_count": 13,
   "id": "cd8f6afc",
   "metadata": {},
   "outputs": [],
   "source": [
    "topics = dict_topic2img.keys()"
   ]
  },
  {
   "cell_type": "code",
   "execution_count": null,
   "id": "d990669c",
   "metadata": {},
   "outputs": [],
   "source": []
  },
  {
   "cell_type": "markdown",
   "id": "20629a42",
   "metadata": {},
   "source": [
    "# Create prompts for the text encoder"
   ]
  },
  {
   "cell_type": "code",
   "execution_count": 14,
   "id": "e1f9b270",
   "metadata": {},
   "outputs": [],
   "source": [
    "temp = \"This is a photo of \"\n",
    "English_topics = [temp + topic for topic in topics]"
   ]
  },
  {
   "cell_type": "code",
   "execution_count": 15,
   "id": "ea685fd6",
   "metadata": {},
   "outputs": [],
   "source": [
    "#English_topics"
   ]
  },
  {
   "cell_type": "code",
   "execution_count": 16,
   "id": "4a3df851",
   "metadata": {},
   "outputs": [],
   "source": [
    "topic2english = {}\n",
    "for topic, prompt in zip(topics, English_topics):\n",
    "    topic2english[topic] = prompt"
   ]
  },
  {
   "cell_type": "code",
   "execution_count": 17,
   "id": "d217ca79",
   "metadata": {},
   "outputs": [
    {
     "data": {
      "text/plain": [
       "'This is a photo of family snapshots'"
      ]
     },
     "execution_count": 17,
     "metadata": {},
     "output_type": "execute_result"
    }
   ],
   "source": [
    "topic2english['family snapshots']"
   ]
  },
  {
   "cell_type": "code",
   "execution_count": 18,
   "id": "cdde580b",
   "metadata": {},
   "outputs": [
    {
     "name": "stdout",
     "output_type": "stream",
     "text": [
      "270\n"
     ]
    }
   ],
   "source": [
    "english_dict_topic2imgGT = {}\n",
    "\n",
    "for topic in topics:\n",
    "    key = topic2english[topic]\n",
    "    english_dict_topic2imgGT[key] = dict_topic2img[topic]\n",
    "print(len(english_dict_topic2imgGT))"
   ]
  },
  {
   "cell_type": "code",
   "execution_count": null,
   "id": "9feff791",
   "metadata": {
    "scrolled": true
   },
   "outputs": [],
   "source": []
  },
  {
   "cell_type": "markdown",
   "id": "fd2eccdb",
   "metadata": {},
   "source": [
    "### Make English-country prompts"
   ]
  },
  {
   "cell_type": "code",
   "execution_count": 19,
   "id": "f530e64c",
   "metadata": {},
   "outputs": [],
   "source": [
    "income_grps = ['a poor country', 'a low income country', 'a cheap country', 'an impoverished country', 'a rich country', 'a high income country', 'an expensive country', 'a wealthy country', 'a country', 'a poor region', 'a low income region', 'a cheap region', 'an impoverished region', 'a rich region', ' a high income region', 'an expensive region', 'a wealthy region', 'a region', 'a poor place', 'a low income place', 'a cheap place', 'an impoverished place', 'a rich place', 'a high income place', 'an expensive place', 'a wealthy place', 'a place', 'a poor home',  'a low income home', 'a cheap home', 'an impoverished home', 'a rich home', 'a high income home', 'an expensive home', 'a wealthy home', 'a home']"
   ]
  },
  {
   "cell_type": "code",
   "execution_count": 20,
   "id": "6898b0c8",
   "metadata": {},
   "outputs": [
    {
     "data": {
      "text/plain": [
       "36"
      ]
     },
     "execution_count": 20,
     "metadata": {},
     "output_type": "execute_result"
    }
   ],
   "source": [
    "len(income_grps)"
   ]
  },
  {
   "cell_type": "code",
   "execution_count": 21,
   "id": "8237a835",
   "metadata": {},
   "outputs": [],
   "source": [
    "list_of_income_dicts = []  # list of ground truth imgs and text prompt mapping for each country; list of dict_topic2img for each country\n",
    "list_of_topic2prompt_dict = []  # list of text prompt and topic mapping\n",
    "\n",
    "for income in income_grps:\n",
    "    \n",
    "    income_topics = ['This is a photo of ' + topic + ' from ' + income for topic in topics]\n",
    "      \n",
    "    topic2income = {}\n",
    "    for topic, prompt in zip(topics, income_topics):\n",
    "        topic2income[topic] = prompt\n",
    "    list_of_topic2prompt_dict.append(topic2income)\n",
    "    \n",
    "    \n",
    "    dict_incometopic2imgGT = {}\n",
    "\n",
    "    for topic in topics:\n",
    "        key = topic2income[topic]\n",
    "        dict_incometopic2imgGT[key] = dict_topic2img[topic]\n",
    "        \n",
    "    list_of_income_dicts.append(dict_incometopic2imgGT)"
   ]
  },
  {
   "cell_type": "code",
   "execution_count": 22,
   "id": "8e39f984",
   "metadata": {},
   "outputs": [
    {
     "data": {
      "text/plain": [
       "36"
      ]
     },
     "execution_count": 22,
     "metadata": {},
     "output_type": "execute_result"
    }
   ],
   "source": [
    "len(list_of_income_dicts)"
   ]
  },
  {
   "cell_type": "code",
   "execution_count": 24,
   "id": "5ad504ac",
   "metadata": {
    "scrolled": true
   },
   "outputs": [
    {
     "data": {
      "text/plain": [
       "270"
      ]
     },
     "execution_count": 24,
     "metadata": {},
     "output_type": "execute_result"
    }
   ],
   "source": [
    "len(list_of_income_dicts[1].keys())"
   ]
  },
  {
   "cell_type": "markdown",
   "id": "8a959379",
   "metadata": {},
   "source": [
    "### Load img embeddings"
   ]
  },
  {
   "cell_type": "code",
   "execution_count": 31,
   "id": "5fe2d7df",
   "metadata": {},
   "outputs": [],
   "source": [
    "import pickle\n",
    "with open(\"nllb_img_embedding.pkl\", 'rb') as f:\n",
    "    img_embedding = pickle.load(f)"
   ]
  },
  {
   "cell_type": "code",
   "execution_count": 32,
   "id": "adb02996",
   "metadata": {},
   "outputs": [
    {
     "data": {
      "text/plain": [
       "torch.Size([36754, 1152])"
      ]
     },
     "execution_count": 32,
     "metadata": {},
     "output_type": "execute_result"
    }
   ],
   "source": [
    "img_embedding.shape"
   ]
  },
  {
   "cell_type": "markdown",
   "id": "6370247f",
   "metadata": {},
   "source": [
    "## Cosine sim for country_prompts and imgs"
   ]
  },
  {
   "cell_type": "code",
   "execution_count": 33,
   "id": "5db263cb",
   "metadata": {},
   "outputs": [],
   "source": [
    "from sentence_transformers import SentenceTransformer, util\n",
    "from open_clip import get_tokenizer\n",
    "\n",
    "from open_clip import create_model_from_pretrained\n",
    "from PIL import Image, ImageFile\n",
    "import timm"
   ]
  },
  {
   "cell_type": "code",
   "execution_count": 34,
   "id": "745d6146",
   "metadata": {},
   "outputs": [],
   "source": [
    "# Load model directly\n",
    "from transformers import AutoProcessor, AutoModel\n",
    "\n",
    "model, transform = create_model_from_pretrained(\"nllb-clip-large-siglip\", \"v1\", device=\"cuda\")\n",
    "model = model.eval()\n"
   ]
  },
  {
   "cell_type": "code",
   "execution_count": 35,
   "id": "4b081499",
   "metadata": {},
   "outputs": [],
   "source": [
    "from open_clip import get_tokenizer\n",
    "\n",
    "tokenizer = get_tokenizer(\"nllb-clip-large-siglip\")"
   ]
  },
  {
   "cell_type": "code",
   "execution_count": 36,
   "id": "03d0346d",
   "metadata": {},
   "outputs": [
    {
     "name": "stderr",
     "output_type": "stream",
     "text": [
      "100%|██████████| 36/36 [05:39<00:00,  9.44s/it]\n"
     ]
    }
   ],
   "source": [
    "list_income_score_dicts = []\n",
    "for income_prompt in tqdm.tqdm(list_of_topic2prompt_dict):\n",
    "    text = list(income_prompt.values())\n",
    "    text_langs = 'eng_Latn'\n",
    "    text_inputs = []\n",
    "    for i in range(len(text)):\n",
    "        tokenizer.set_language(text_langs)\n",
    "        text_inputs.append(tokenizer(text[i]))\n",
    "        \n",
    "    text_inputs = torch.stack(text_inputs).squeeze(1)\n",
    "    text_inputs = text_inputs.to(\"cuda\")\n",
    "    \n",
    "    with torch.no_grad():\n",
    "        text_features = model.encode_text(text_inputs)\n",
    "        text_features /= text_features.norm(dim=-1, keepdim=True)\n",
    "\n",
    "    cossim = util.cos_sim(text_features, img_embedding)\n",
    "    cos_sim = cossim.cpu().numpy()\n",
    "\n",
    "    dict_topic2score = {}\n",
    "    for i, topic in enumerate(income_prompt.values()):\n",
    "        clip_scores = cos_sim[i] # clip scores between topic and images from data['imageRelPath']\n",
    "\n",
    "        list_scores_img = list(zip(clip_scores, data['imageRelPath'], data['topics'])) # ******\n",
    "        dict_topic2score[topic] = sorted(list_scores_img, key = lambda x: x[0], reverse=True)\n",
    "\n",
    "    list_income_score_dicts.append(dict_topic2score)"
   ]
  },
  {
   "cell_type": "code",
   "execution_count": 37,
   "id": "b0eba927",
   "metadata": {},
   "outputs": [
    {
     "data": {
      "text/plain": [
       "36"
      ]
     },
     "execution_count": 37,
     "metadata": {},
     "output_type": "execute_result"
    }
   ],
   "source": [
    "len(list_income_score_dicts)"
   ]
  },
  {
   "cell_type": "code",
   "execution_count": 38,
   "id": "9fceb057",
   "metadata": {},
   "outputs": [
    {
     "data": {
      "text/plain": [
       "270"
      ]
     },
     "execution_count": 38,
     "metadata": {},
     "output_type": "execute_result"
    }
   ],
   "source": [
    "len(list_income_score_dicts[0])"
   ]
  },
  {
   "cell_type": "code",
   "execution_count": null,
   "id": "735d132a",
   "metadata": {},
   "outputs": [],
   "source": [
    "#list_country_score_dicts[0]['This is a photo of family snapshots from Peru'][1]"
   ]
  },
  {
   "cell_type": "code",
   "execution_count": null,
   "id": "9e453511",
   "metadata": {},
   "outputs": [],
   "source": [
    "# This runs FOREVER and takes so much space... BEWARE!\n",
    "\n",
    "# f = open(\"list_country_dicts.pkl\",\"wb\")\n",
    "\n",
    "# # write the python object (dict) to pickle file\n",
    "# pickle.dump(list_country_score_dicts,f)\n",
    "\n",
    "# # close file\n",
    "# f.close()"
   ]
  },
  {
   "cell_type": "code",
   "execution_count": null,
   "id": "28ef3561",
   "metadata": {},
   "outputs": [],
   "source": [
    "# import pickle\n",
    "# with open(\"list_country_dicts.pkl\", 'rb') as f:\n",
    "#     list_country_dicts = pickle.load(f)"
   ]
  },
  {
   "cell_type": "code",
   "execution_count": null,
   "id": "a2331dc2",
   "metadata": {},
   "outputs": [],
   "source": []
  },
  {
   "cell_type": "markdown",
   "id": "c0298fd6",
   "metadata": {},
   "source": [
    "### Score Processing"
   ]
  },
  {
   "cell_type": "code",
   "execution_count": 39,
   "id": "c312d1d5",
   "metadata": {},
   "outputs": [],
   "source": [
    "labels=[\"poor\", \"lower-middle\", \"upper-middle\", \"rich\"]\n",
    "\n",
    "#list_of_topic2prompt_dict[1]\n",
    "data[\"quartile\"] = pd.qcut(data[\"income\"], q=[0, 0.25, 0.5, 0.75, 1],    \n",
    "                         labels=labels)"
   ]
  },
  {
   "cell_type": "code",
   "execution_count": 40,
   "id": "4e45cd20",
   "metadata": {},
   "outputs": [
    {
     "name": "stdout",
     "output_type": "stream",
     "text": [
      "36754\n"
     ]
    }
   ],
   "source": [
    "# map each image to corresponding topics, countries, income level ... TODO\n",
    "dict_img2topic, dict_img2country, dict_img2incomelevel, dict_country2region = {}, {}, {}, {}\n",
    "for list_topics, image_path, country, incomelevel, region in zip(data['topics'], data['imageRelPath'], data['country.name'], data['quartile'], data['region.id']):\n",
    "    dict_img2topic[image_path] = list_topics\n",
    "    dict_img2country[image_path] = country\n",
    "    dict_img2incomelevel[image_path] = incomelevel\n",
    "    dict_country2region[country] = region\n",
    "\n",
    "print(len(dict_img2topic))\n",
    "# print(dict_img2country)"
   ]
  },
  {
   "cell_type": "code",
   "execution_count": null,
   "id": "70fbd6c4",
   "metadata": {},
   "outputs": [],
   "source": []
  },
  {
   "cell_type": "code",
   "execution_count": 37,
   "id": "7bacdd4b",
   "metadata": {
    "scrolled": true
   },
   "outputs": [
    {
     "name": "stderr",
     "output_type": "stream",
     "text": [
      "  0%|          | 0/1 [00:00<?, ?it/s]\n",
      "  0%|          | 0/270 [00:00<?, ?it/s]\u001b[A\n",
      "  0%|          | 1/270 [00:00<00:54,  4.90it/s]\u001b[A"
     ]
    },
    {
     "name": "stdout",
     "output_type": "stream",
     "text": [
      "Acc: 99.48, Recall: 5.88, Precision: 5.88, F1: 5.88\n"
     ]
    },
    {
     "name": "stderr",
     "output_type": "stream",
     "text": [
      "\n",
      "  1%|          | 2/270 [00:00<01:11,  3.74it/s]\u001b[A"
     ]
    },
    {
     "name": "stdout",
     "output_type": "stream",
     "text": [
      "Acc: 98.54, Recall: 10.63, Precision: 10.63, F1: 10.63\n"
     ]
    },
    {
     "name": "stderr",
     "output_type": "stream",
     "text": [
      "\n",
      "  1%|          | 3/270 [00:00<01:35,  2.78it/s]\u001b[A"
     ]
    },
    {
     "name": "stdout",
     "output_type": "stream",
     "text": [
      "Acc: 98.71, Recall: 54.25, Precision: 54.25, F1: 54.25\n"
     ]
    },
    {
     "name": "stderr",
     "output_type": "stream",
     "text": [
      "\n",
      "  1%|▏         | 4/270 [00:01<01:36,  2.77it/s]\u001b[A"
     ]
    },
    {
     "name": "stdout",
     "output_type": "stream",
     "text": [
      "Acc: 98.15, Recall: 10.05, Precision: 10.05, F1: 10.05\n"
     ]
    },
    {
     "name": "stderr",
     "output_type": "stream",
     "text": [
      "\n",
      "  2%|▏         | 5/270 [00:01<01:35,  2.76it/s]\u001b[A"
     ]
    },
    {
     "name": "stdout",
     "output_type": "stream",
     "text": [
      "Acc: 98.94, Recall: 50.76, Precision: 50.76, F1: 50.76\n"
     ]
    },
    {
     "name": "stderr",
     "output_type": "stream",
     "text": [
      "\n",
      "  2%|▏         | 6/270 [00:01<01:27,  3.02it/s]\u001b[A"
     ]
    },
    {
     "name": "stdout",
     "output_type": "stream",
     "text": [
      "Acc: 99.21, Recall: 37.87, Precision: 37.87, F1: 37.87\n"
     ]
    },
    {
     "name": "stderr",
     "output_type": "stream",
     "text": [
      "\n",
      "  3%|▎         | 7/270 [00:02<01:22,  3.18it/s]\u001b[A"
     ]
    },
    {
     "name": "stdout",
     "output_type": "stream",
     "text": [
      "Acc: 99.01, Recall: 21.55, Precision: 21.55, F1: 21.55\n"
     ]
    },
    {
     "name": "stderr",
     "output_type": "stream",
     "text": [
      "\n",
      "  3%|▎         | 8/270 [00:02<01:30,  2.91it/s]\u001b[A"
     ]
    },
    {
     "name": "stdout",
     "output_type": "stream",
     "text": [
      "Acc: 98.61, Recall: 42.31, Precision: 42.31, F1: 42.31\n"
     ]
    },
    {
     "name": "stderr",
     "output_type": "stream",
     "text": [
      "\n",
      "  3%|▎         | 9/270 [00:02<01:27,  2.97it/s]\u001b[A"
     ]
    },
    {
     "name": "stdout",
     "output_type": "stream",
     "text": [
      "Acc: 98.91, Recall: 34.95, Precision: 34.95, F1: 34.95\n"
     ]
    },
    {
     "name": "stderr",
     "output_type": "stream",
     "text": [
      "\n",
      "  4%|▎         | 10/270 [00:03<01:36,  2.69it/s]\u001b[A"
     ]
    },
    {
     "name": "stdout",
     "output_type": "stream",
     "text": [
      "Acc: 97.87, Recall: 19.51, Precision: 19.51, F1: 19.51\n"
     ]
    },
    {
     "name": "stderr",
     "output_type": "stream",
     "text": [
      "\n",
      "  4%|▍         | 11/270 [00:03<01:41,  2.56it/s]\u001b[A"
     ]
    },
    {
     "name": "stdout",
     "output_type": "stream",
     "text": [
      "Acc: 98.36, Recall: 37.08, Precision: 37.08, F1: 37.08\n"
     ]
    },
    {
     "name": "stderr",
     "output_type": "stream",
     "text": [
      "\n",
      "  4%|▍         | 12/270 [00:04<01:38,  2.63it/s]\u001b[A"
     ]
    },
    {
     "name": "stdout",
     "output_type": "stream",
     "text": [
      "Acc: 98.36, Recall: 18.43, Precision: 18.43, F1: 18.43\n"
     ]
    },
    {
     "name": "stderr",
     "output_type": "stream",
     "text": [
      "\n",
      "  5%|▍         | 13/270 [00:04<01:30,  2.84it/s]\u001b[A"
     ]
    },
    {
     "name": "stdout",
     "output_type": "stream",
     "text": [
      "Acc: 98.99, Recall: 25.1, Precision: 25.1, F1: 25.1\n"
     ]
    },
    {
     "name": "stderr",
     "output_type": "stream",
     "text": [
      "\n",
      "  5%|▌         | 14/270 [00:04<01:32,  2.78it/s]\u001b[A"
     ]
    },
    {
     "name": "stdout",
     "output_type": "stream",
     "text": [
      "Acc: 98.51, Recall: 30.98, Precision: 30.98, F1: 30.98\n"
     ]
    },
    {
     "name": "stderr",
     "output_type": "stream",
     "text": [
      "\n",
      "  6%|▌         | 15/270 [00:05<01:40,  2.54it/s]\u001b[A"
     ]
    },
    {
     "name": "stdout",
     "output_type": "stream",
     "text": [
      "Acc: 98.08, Recall: 35.06, Precision: 35.06, F1: 35.06\n"
     ]
    },
    {
     "name": "stderr",
     "output_type": "stream",
     "text": [
      "\n",
      "  6%|▌         | 16/270 [00:05<01:34,  2.70it/s]\u001b[A"
     ]
    },
    {
     "name": "stdout",
     "output_type": "stream",
     "text": [
      "Acc: 98.59, Recall: 13.95, Precision: 13.95, F1: 13.95\n"
     ]
    },
    {
     "name": "stderr",
     "output_type": "stream",
     "text": [
      "\n",
      "  6%|▋         | 17/270 [00:06<01:41,  2.50it/s]\u001b[A"
     ]
    },
    {
     "name": "stdout",
     "output_type": "stream",
     "text": [
      "Acc: 98.66, Recall: 53.41, Precision: 53.41, F1: 53.41\n"
     ]
    },
    {
     "name": "stderr",
     "output_type": "stream",
     "text": [
      "\n",
      "  7%|▋         | 18/270 [00:06<01:35,  2.65it/s]\u001b[A"
     ]
    },
    {
     "name": "stdout",
     "output_type": "stream",
     "text": [
      "Acc: 99.46, Recall: 69.82, Precision: 69.82, F1: 69.82\n"
     ]
    },
    {
     "name": "stderr",
     "output_type": "stream",
     "text": [
      "\n",
      "  7%|▋         | 19/270 [00:06<01:32,  2.71it/s]\u001b[A"
     ]
    },
    {
     "name": "stdout",
     "output_type": "stream",
     "text": [
      "Acc: 98.75, Recall: 36.03, Precision: 36.03, F1: 36.03\n"
     ]
    },
    {
     "name": "stderr",
     "output_type": "stream",
     "text": [
      "\n",
      "  7%|▋         | 20/270 [00:07<01:37,  2.57it/s]\u001b[A"
     ]
    },
    {
     "name": "stdout",
     "output_type": "stream",
     "text": [
      "Acc: 98.64, Recall: 49.19, Precision: 49.19, F1: 49.19\n"
     ]
    },
    {
     "name": "stderr",
     "output_type": "stream",
     "text": [
      "\n",
      "  8%|▊         | 21/270 [00:07<01:26,  2.88it/s]\u001b[A"
     ]
    },
    {
     "name": "stdout",
     "output_type": "stream",
     "text": [
      "Acc: 99.33, Recall: 32.97, Precision: 32.97, F1: 32.97\n"
     ]
    },
    {
     "name": "stderr",
     "output_type": "stream",
     "text": [
      "\n",
      "  8%|▊         | 22/270 [00:07<01:27,  2.85it/s]\u001b[A"
     ]
    },
    {
     "name": "stdout",
     "output_type": "stream",
     "text": [
      "Acc: 98.47, Recall: 29.32, Precision: 29.32, F1: 29.32\n"
     ]
    },
    {
     "name": "stderr",
     "output_type": "stream",
     "text": [
      "\n",
      "  9%|▊         | 23/270 [00:08<01:24,  2.92it/s]\u001b[A"
     ]
    },
    {
     "name": "stdout",
     "output_type": "stream",
     "text": [
      "Acc: 98.89, Recall: 36.05, Precision: 36.05, F1: 36.05\n"
     ]
    },
    {
     "name": "stderr",
     "output_type": "stream",
     "text": [
      "\n",
      "  9%|▉         | 24/270 [00:08<01:24,  2.92it/s]\u001b[A"
     ]
    },
    {
     "name": "stdout",
     "output_type": "stream",
     "text": [
      "Acc: 98.97, Recall: 47.65, Precision: 47.65, F1: 47.65\n"
     ]
    },
    {
     "name": "stderr",
     "output_type": "stream",
     "text": [
      "\n",
      "  9%|▉         | 25/270 [00:08<01:22,  2.98it/s]\u001b[A\n",
      " 10%|▉         | 26/270 [00:09<01:09,  3.49it/s]\u001b[A"
     ]
    },
    {
     "name": "stdout",
     "output_type": "stream",
     "text": [
      "Acc: 99.08, Recall: 46.52, Precision: 46.52, F1: 46.52\n",
      "Acc: 99.78, Recall: 16.33, Precision: 16.33, F1: 16.33\n"
     ]
    },
    {
     "name": "stderr",
     "output_type": "stream",
     "text": [
      "\n",
      " 10%|█         | 27/270 [00:09<01:13,  3.32it/s]\u001b[A"
     ]
    },
    {
     "name": "stdout",
     "output_type": "stream",
     "text": [
      "Acc: 98.72, Recall: 29.34, Precision: 29.34, F1: 29.34\n"
     ]
    },
    {
     "name": "stderr",
     "output_type": "stream",
     "text": [
      "\n",
      " 10%|█         | 28/270 [00:09<01:14,  3.25it/s]\u001b[A"
     ]
    },
    {
     "name": "stdout",
     "output_type": "stream",
     "text": [
      "Acc: 98.93, Recall: 37.06, Precision: 37.06, F1: 37.06\n"
     ]
    },
    {
     "name": "stderr",
     "output_type": "stream",
     "text": [
      "\n",
      " 11%|█         | 29/270 [00:10<01:18,  3.08it/s]\u001b[A"
     ]
    },
    {
     "name": "stdout",
     "output_type": "stream",
     "text": [
      "Acc: 98.82, Recall: 46.0, Precision: 46.0, F1: 46.0\n"
     ]
    },
    {
     "name": "stderr",
     "output_type": "stream",
     "text": [
      "\n",
      " 11%|█         | 30/270 [00:10<01:29,  2.70it/s]\u001b[A"
     ]
    },
    {
     "name": "stdout",
     "output_type": "stream",
     "text": [
      "Acc: 98.19, Recall: 36.81, Precision: 36.81, F1: 36.81\n"
     ]
    },
    {
     "name": "stderr",
     "output_type": "stream",
     "text": [
      "\n",
      " 11%|█▏        | 31/270 [00:10<01:26,  2.78it/s]\u001b[A"
     ]
    },
    {
     "name": "stdout",
     "output_type": "stream",
     "text": [
      "Acc: 98.56, Recall: 19.94, Precision: 19.94, F1: 19.94\n"
     ]
    },
    {
     "name": "stderr",
     "output_type": "stream",
     "text": [
      "\n",
      " 12%|█▏        | 32/270 [00:11<01:20,  2.97it/s]\u001b[A"
     ]
    },
    {
     "name": "stdout",
     "output_type": "stream",
     "text": [
      "Acc: 99.25, Recall: 45.2, Precision: 45.2, F1: 45.2\n"
     ]
    },
    {
     "name": "stderr",
     "output_type": "stream",
     "text": [
      "\n",
      " 12%|█▏        | 33/270 [00:11<01:22,  2.88it/s]\u001b[A"
     ]
    },
    {
     "name": "stdout",
     "output_type": "stream",
     "text": [
      "Acc: 99.35, Recall: 71.19, Precision: 71.19, F1: 71.19\n"
     ]
    },
    {
     "name": "stderr",
     "output_type": "stream",
     "text": [
      "\n",
      " 13%|█▎        | 34/270 [00:11<01:20,  2.93it/s]\u001b[A"
     ]
    },
    {
     "name": "stdout",
     "output_type": "stream",
     "text": [
      "Acc: 98.49, Recall: 4.81, Precision: 4.81, F1: 4.81\n"
     ]
    },
    {
     "name": "stderr",
     "output_type": "stream",
     "text": [
      "\n",
      " 13%|█▎        | 35/270 [00:12<01:21,  2.90it/s]\u001b[A"
     ]
    },
    {
     "name": "stdout",
     "output_type": "stream",
     "text": [
      "Acc: 98.57, Recall: 27.55, Precision: 27.55, F1: 27.55\n"
     ]
    },
    {
     "name": "stderr",
     "output_type": "stream",
     "text": [
      "\n",
      " 13%|█▎        | 36/270 [00:12<01:19,  2.94it/s]\u001b[A\n",
      " 14%|█▎        | 37/270 [00:12<01:08,  3.41it/s]\u001b[A"
     ]
    },
    {
     "name": "stdout",
     "output_type": "stream",
     "text": [
      "Acc: 99.12, Recall: 52.51, Precision: 52.51, F1: 52.51\n",
      "Acc: 99.71, Recall: 22.86, Precision: 22.86, F1: 22.86\n"
     ]
    },
    {
     "name": "stderr",
     "output_type": "stream",
     "text": [
      "\n",
      " 14%|█▍        | 38/270 [00:13<01:09,  3.34it/s]\u001b[A"
     ]
    },
    {
     "name": "stdout",
     "output_type": "stream",
     "text": [
      "Acc: 99.15, Recall: 48.18, Precision: 48.18, F1: 48.18\n"
     ]
    },
    {
     "name": "stderr",
     "output_type": "stream",
     "text": [
      "\n",
      " 14%|█▍        | 39/270 [00:13<01:18,  2.95it/s]\u001b[A"
     ]
    },
    {
     "name": "stdout",
     "output_type": "stream",
     "text": [
      "Acc: 98.36, Recall: 38.95, Precision: 38.95, F1: 38.95\n"
     ]
    },
    {
     "name": "stderr",
     "output_type": "stream",
     "text": [
      "\n",
      " 15%|█▍        | 40/270 [00:13<01:20,  2.86it/s]\u001b[A"
     ]
    },
    {
     "name": "stdout",
     "output_type": "stream",
     "text": [
      "Acc: 98.87, Recall: 50.36, Precision: 50.36, F1: 50.36\n"
     ]
    },
    {
     "name": "stderr",
     "output_type": "stream",
     "text": [
      "\n",
      " 15%|█▌        | 41/270 [00:14<01:22,  2.78it/s]\u001b[A"
     ]
    },
    {
     "name": "stdout",
     "output_type": "stream",
     "text": [
      "Acc: 98.67, Recall: 44.06, Precision: 44.06, F1: 44.06\n"
     ]
    },
    {
     "name": "stderr",
     "output_type": "stream",
     "text": [
      "\n",
      " 16%|█▌        | 42/270 [00:14<01:14,  3.06it/s]\u001b[A"
     ]
    },
    {
     "name": "stdout",
     "output_type": "stream",
     "text": [
      "Acc: 99.53, Recall: 53.48, Precision: 53.48, F1: 53.48\n"
     ]
    },
    {
     "name": "stderr",
     "output_type": "stream",
     "text": [
      "\n",
      " 16%|█▌        | 43/270 [00:14<01:13,  3.10it/s]\u001b[A"
     ]
    },
    {
     "name": "stdout",
     "output_type": "stream",
     "text": [
      "Acc: 98.53, Recall: 9.97, Precision: 9.97, F1: 9.97\n"
     ]
    },
    {
     "name": "stderr",
     "output_type": "stream",
     "text": [
      "\n",
      " 16%|█▋        | 44/270 [00:15<01:15,  3.01it/s]\u001b[A"
     ]
    },
    {
     "name": "stdout",
     "output_type": "stream",
     "text": [
      "Acc: 98.24, Recall: 7.69, Precision: 7.69, F1: 7.69\n"
     ]
    },
    {
     "name": "stderr",
     "output_type": "stream",
     "text": [
      "\n",
      " 17%|█▋        | 45/270 [00:15<01:17,  2.90it/s]\u001b[A"
     ]
    },
    {
     "name": "stdout",
     "output_type": "stream",
     "text": [
      "Acc: 98.57, Recall: 31.51, Precision: 31.51, F1: 31.51\n"
     ]
    },
    {
     "name": "stderr",
     "output_type": "stream",
     "text": [
      "\n",
      " 17%|█▋        | 46/270 [00:15<01:16,  2.94it/s]\u001b[A"
     ]
    },
    {
     "name": "stdout",
     "output_type": "stream",
     "text": [
      "Acc: 98.7, Recall: 30.21, Precision: 30.21, F1: 30.21\n"
     ]
    },
    {
     "name": "stderr",
     "output_type": "stream",
     "text": [
      "\n",
      " 17%|█▋        | 47/270 [00:16<01:15,  2.96it/s]\u001b[A"
     ]
    },
    {
     "name": "stdout",
     "output_type": "stream",
     "text": [
      "Acc: 99.13, Recall: 52.11, Precision: 52.11, F1: 52.11\n"
     ]
    },
    {
     "name": "stderr",
     "output_type": "stream",
     "text": [
      "\n",
      " 18%|█▊        | 48/270 [00:16<01:12,  3.05it/s]\u001b[A\n",
      " 18%|█▊        | 49/270 [00:16<01:00,  3.64it/s]\u001b[A"
     ]
    },
    {
     "name": "stdout",
     "output_type": "stream",
     "text": [
      "Acc: 98.86, Recall: 26.92, Precision: 26.92, F1: 26.92\n",
      "Acc: 99.97, Recall: 54.55, Precision: 54.55, F1: 54.55\n"
     ]
    },
    {
     "name": "stderr",
     "output_type": "stream",
     "text": [
      "\n",
      " 19%|█▊        | 50/270 [00:16<01:04,  3.40it/s]\u001b[A"
     ]
    },
    {
     "name": "stdout",
     "output_type": "stream",
     "text": [
      "Acc: 98.68, Recall: 32.87, Precision: 32.87, F1: 32.87\n"
     ]
    },
    {
     "name": "stderr",
     "output_type": "stream",
     "text": [
      "\n",
      " 19%|█▉        | 51/270 [00:17<01:09,  3.15it/s]\u001b[A"
     ]
    },
    {
     "name": "stdout",
     "output_type": "stream",
     "text": [
      "Acc: 98.44, Recall: 32.55, Precision: 32.55, F1: 32.55\n"
     ]
    },
    {
     "name": "stderr",
     "output_type": "stream",
     "text": [
      "\n",
      " 19%|█▉        | 52/270 [00:17<01:06,  3.30it/s]\u001b[A"
     ]
    },
    {
     "name": "stdout",
     "output_type": "stream",
     "text": [
      "Acc: 98.84, Recall: 5.33, Precision: 5.33, F1: 5.33\n"
     ]
    },
    {
     "name": "stderr",
     "output_type": "stream",
     "text": [
      "\n",
      " 20%|█▉        | 53/270 [00:17<01:08,  3.16it/s]\u001b[A"
     ]
    },
    {
     "name": "stdout",
     "output_type": "stream",
     "text": [
      "Acc: 99.05, Recall: 49.13, Precision: 49.13, F1: 49.13\n"
     ]
    },
    {
     "name": "stderr",
     "output_type": "stream",
     "text": [
      "\n",
      " 20%|██        | 54/270 [00:18<01:10,  3.05it/s]\u001b[A"
     ]
    },
    {
     "name": "stdout",
     "output_type": "stream",
     "text": [
      "Acc: 98.64, Recall: 33.69, Precision: 33.69, F1: 33.69\n"
     ]
    },
    {
     "name": "stderr",
     "output_type": "stream",
     "text": [
      "\n",
      " 20%|██        | 55/270 [00:18<01:11,  2.99it/s]\u001b[A"
     ]
    },
    {
     "name": "stdout",
     "output_type": "stream",
     "text": [
      "Acc: 98.34, Recall: 14.57, Precision: 14.57, F1: 14.57\n"
     ]
    },
    {
     "name": "stderr",
     "output_type": "stream",
     "text": [
      "\n",
      " 21%|██        | 56/270 [00:19<01:16,  2.81it/s]\u001b[A"
     ]
    },
    {
     "name": "stdout",
     "output_type": "stream",
     "text": [
      "Acc: 98.87, Recall: 55.39, Precision: 55.39, F1: 55.39\n"
     ]
    },
    {
     "name": "stderr",
     "output_type": "stream",
     "text": [
      "\n",
      " 21%|██        | 57/270 [00:19<01:22,  2.58it/s]\u001b[A\n",
      " 21%|██▏       | 58/270 [00:19<01:07,  3.13it/s]\u001b[A"
     ]
    },
    {
     "name": "stdout",
     "output_type": "stream",
     "text": [
      "Acc: 98.08, Recall: 36.05, Precision: 36.05, F1: 36.05\n",
      "Acc: 99.95, Recall: 62.5, Precision: 62.5, F1: 62.5\n"
     ]
    },
    {
     "name": "stderr",
     "output_type": "stream",
     "text": [
      "\n",
      " 22%|██▏       | 59/270 [00:19<01:04,  3.26it/s]\u001b[A\n",
      " 22%|██▏       | 60/270 [00:20<00:56,  3.71it/s]\u001b[A"
     ]
    },
    {
     "name": "stdout",
     "output_type": "stream",
     "text": [
      "Acc: 98.87, Recall: 13.75, Precision: 13.75, F1: 13.75\n",
      "Acc: 99.62, Recall: 1.43, Precision: 1.43, F1: 1.43\n"
     ]
    },
    {
     "name": "stderr",
     "output_type": "stream",
     "text": [
      "\n",
      " 23%|██▎       | 61/270 [00:22<02:40,  1.30it/s]\u001b[A\n",
      " 23%|██▎       | 62/270 [00:22<02:02,  1.70it/s]\u001b[A"
     ]
    },
    {
     "name": "stdout",
     "output_type": "stream",
     "text": [
      "Acc: 83.7, Recall: 5.01, Precision: 5.01, F1: 5.01\n",
      "Acc: 99.74, Recall: 4.08, Precision: 4.08, F1: 4.08\n"
     ]
    },
    {
     "name": "stderr",
     "output_type": "stream",
     "text": [
      "\n",
      " 23%|██▎       | 63/270 [00:22<01:40,  2.05it/s]\u001b[A"
     ]
    },
    {
     "name": "stdout",
     "output_type": "stream",
     "text": [
      "Acc: 99.1, Recall: 7.82, Precision: 7.82, F1: 7.82\n",
      "Acc: 99.47, Recall: 1.02, Precision: 1.02, F1: 1.02\n"
     ]
    },
    {
     "name": "stderr",
     "output_type": "stream",
     "text": [
      "\n",
      " 24%|██▎       | 64/270 [00:22<01:22,  2.50it/s]\u001b[A\n",
      " 24%|██▍       | 65/270 [00:22<01:12,  2.81it/s]\u001b[A"
     ]
    },
    {
     "name": "stdout",
     "output_type": "stream",
     "text": [
      "Acc: 99.05, Recall: 3.33, Precision: 3.33, F1: 3.33\n"
     ]
    },
    {
     "name": "stderr",
     "output_type": "stream",
     "text": [
      "\n",
      " 24%|██▍       | 66/270 [00:23<01:04,  3.16it/s]\u001b[A"
     ]
    },
    {
     "name": "stdout",
     "output_type": "stream",
     "text": [
      "Acc: 99.26, Recall: 9.33, Precision: 9.33, F1: 9.33\n"
     ]
    },
    {
     "name": "stderr",
     "output_type": "stream",
     "text": [
      "\n",
      " 25%|██▍       | 67/270 [00:23<00:59,  3.40it/s]\u001b[A"
     ]
    },
    {
     "name": "stdout",
     "output_type": "stream",
     "text": [
      "Acc: 99.05, Recall: 2.25, Precision: 2.25, F1: 2.25\n"
     ]
    },
    {
     "name": "stderr",
     "output_type": "stream",
     "text": [
      "\n",
      " 25%|██▌       | 68/270 [00:23<00:57,  3.53it/s]\u001b[A"
     ]
    },
    {
     "name": "stdout",
     "output_type": "stream",
     "text": [
      "Acc: 99.11, Recall: 17.26, Precision: 17.26, F1: 17.26\n"
     ]
    },
    {
     "name": "stderr",
     "output_type": "stream",
     "text": [
      "\n",
      " 26%|██▌       | 69/270 [00:23<00:55,  3.60it/s]\u001b[A"
     ]
    },
    {
     "name": "stdout",
     "output_type": "stream",
     "text": [
      "Acc: 98.98, Recall: 10.1, Precision: 10.1, F1: 10.1\n"
     ]
    },
    {
     "name": "stderr",
     "output_type": "stream",
     "text": [
      "\n",
      " 26%|██▌       | 70/270 [00:24<00:53,  3.75it/s]\u001b[A"
     ]
    },
    {
     "name": "stdout",
     "output_type": "stream",
     "text": [
      "Acc: 99.19, Recall: 11.83, Precision: 11.83, F1: 11.83\n"
     ]
    },
    {
     "name": "stderr",
     "output_type": "stream",
     "text": [
      "\n",
      " 26%|██▋       | 71/270 [00:24<00:52,  3.79it/s]\u001b[A"
     ]
    },
    {
     "name": "stdout",
     "output_type": "stream",
     "text": [
      "Acc: 98.9, Recall: 3.33, Precision: 3.33, F1: 3.33\n"
     ]
    },
    {
     "name": "stderr",
     "output_type": "stream",
     "text": [
      "\n",
      " 27%|██▋       | 72/270 [00:24<00:51,  3.87it/s]\u001b[A\n",
      " 27%|██▋       | 73/270 [00:24<00:46,  4.23it/s]\u001b[A"
     ]
    },
    {
     "name": "stdout",
     "output_type": "stream",
     "text": [
      "Acc: 99.24, Recall: 23.91, Precision: 23.91, F1: 23.91\n",
      "Acc: 99.64, Recall: 14.1, Precision: 14.1, F1: 14.1\n"
     ]
    },
    {
     "name": "stderr",
     "output_type": "stream",
     "text": [
      "\n",
      " 27%|██▋       | 74/270 [00:25<00:58,  3.35it/s]\u001b[A"
     ]
    },
    {
     "name": "stdout",
     "output_type": "stream",
     "text": [
      "Acc: 98.39, Recall: 41.5, Precision: 41.5, F1: 41.5\n"
     ]
    },
    {
     "name": "stderr",
     "output_type": "stream",
     "text": [
      "\n",
      " 28%|██▊       | 75/270 [00:25<00:53,  3.67it/s]\u001b[A"
     ]
    },
    {
     "name": "stdout",
     "output_type": "stream",
     "text": [
      "Acc: 99.33, Recall: 0.81, Precision: 0.81, F1: 0.81\n",
      "Acc: 99.6, Recall: 30.84, Precision: 30.84, F1: 30.84\n"
     ]
    },
    {
     "name": "stderr",
     "output_type": "stream",
     "text": [
      "\n",
      " 28%|██▊       | 76/270 [00:25<00:48,  3.99it/s]\u001b[A\n",
      " 29%|██▊       | 77/270 [00:26<00:51,  3.73it/s]\u001b[A"
     ]
    },
    {
     "name": "stdout",
     "output_type": "stream",
     "text": [
      "Acc: 98.9, Recall: 30.72, Precision: 30.72, F1: 30.72\n"
     ]
    },
    {
     "name": "stderr",
     "output_type": "stream",
     "text": [
      "\n",
      " 29%|██▉       | 78/270 [00:26<00:52,  3.67it/s]\u001b[A"
     ]
    },
    {
     "name": "stdout",
     "output_type": "stream",
     "text": [
      "Acc: 98.79, Recall: 4.29, Precision: 4.29, F1: 4.29\n"
     ]
    },
    {
     "name": "stderr",
     "output_type": "stream",
     "text": [
      "\n",
      " 29%|██▉       | 79/270 [00:26<00:51,  3.73it/s]\u001b[A"
     ]
    },
    {
     "name": "stdout",
     "output_type": "stream",
     "text": [
      "Acc: 99.05, Recall: 16.67, Precision: 16.67, F1: 16.67\n"
     ]
    },
    {
     "name": "stderr",
     "output_type": "stream",
     "text": [
      "\n",
      " 30%|██▉       | 80/270 [00:26<00:55,  3.42it/s]\u001b[A"
     ]
    },
    {
     "name": "stdout",
     "output_type": "stream",
     "text": [
      "Acc: 98.63, Recall: 25.88, Precision: 25.88, F1: 25.88\n"
     ]
    },
    {
     "name": "stderr",
     "output_type": "stream",
     "text": [
      "\n",
      " 30%|███       | 81/270 [00:27<00:58,  3.23it/s]\u001b[A"
     ]
    },
    {
     "name": "stdout",
     "output_type": "stream",
     "text": [
      "Acc: 98.85, Recall: 43.16, Precision: 43.16, F1: 43.16\n"
     ]
    },
    {
     "name": "stderr",
     "output_type": "stream",
     "text": [
      "\n",
      " 30%|███       | 82/270 [00:27<00:53,  3.49it/s]\u001b[A"
     ]
    },
    {
     "name": "stdout",
     "output_type": "stream",
     "text": [
      "Acc: 99.39, Recall: 31.29, Precision: 31.29, F1: 31.29\n"
     ]
    },
    {
     "name": "stderr",
     "output_type": "stream",
     "text": [
      "\n",
      " 31%|███       | 83/270 [00:27<00:56,  3.32it/s]\u001b[A"
     ]
    },
    {
     "name": "stdout",
     "output_type": "stream",
     "text": [
      "Acc: 98.61, Recall: 25.22, Precision: 25.22, F1: 25.22\n"
     ]
    },
    {
     "name": "stderr",
     "output_type": "stream",
     "text": [
      "\n",
      " 31%|███       | 84/270 [00:28<00:56,  3.30it/s]\u001b[A"
     ]
    },
    {
     "name": "stdout",
     "output_type": "stream",
     "text": [
      "Acc: 98.64, Recall: 10.39, Precision: 10.39, F1: 10.39\n",
      "Acc: 99.73, Recall: 51.0, Precision: 51.0, F1: 51.0\n"
     ]
    },
    {
     "name": "stderr",
     "output_type": "stream",
     "text": [
      "\n",
      " 31%|███▏      | 85/270 [00:28<00:50,  3.67it/s]\u001b[A\n",
      " 32%|███▏      | 86/270 [00:28<00:54,  3.41it/s]\u001b[A"
     ]
    },
    {
     "name": "stdout",
     "output_type": "stream",
     "text": [
      "Acc: 98.75, Recall: 33.24, Precision: 33.24, F1: 33.24\n"
     ]
    },
    {
     "name": "stderr",
     "output_type": "stream",
     "text": [
      "\n",
      " 32%|███▏      | 87/270 [00:29<00:56,  3.23it/s]\u001b[A"
     ]
    },
    {
     "name": "stdout",
     "output_type": "stream",
     "text": [
      "Acc: 98.67, Recall: 30.0, Precision: 30.0, F1: 30.0\n"
     ]
    },
    {
     "name": "stderr",
     "output_type": "stream",
     "text": [
      "\n",
      " 33%|███▎      | 88/270 [00:29<00:53,  3.37it/s]\u001b[A"
     ]
    },
    {
     "name": "stdout",
     "output_type": "stream",
     "text": [
      "Acc: 99.35, Recall: 45.41, Precision: 45.41, F1: 45.41\n"
     ]
    },
    {
     "name": "stderr",
     "output_type": "stream",
     "text": [
      "\n",
      " 33%|███▎      | 89/270 [00:29<00:56,  3.19it/s]\u001b[A"
     ]
    },
    {
     "name": "stdout",
     "output_type": "stream",
     "text": [
      "Acc: 99.55, Recall: 77.75, Precision: 77.75, F1: 77.75\n"
     ]
    },
    {
     "name": "stderr",
     "output_type": "stream",
     "text": [
      "\n",
      " 33%|███▎      | 90/270 [00:29<00:56,  3.21it/s]\u001b[A"
     ]
    },
    {
     "name": "stdout",
     "output_type": "stream",
     "text": [
      "Acc: 99.06, Recall: 42.52, Precision: 42.52, F1: 42.52\n"
     ]
    },
    {
     "name": "stderr",
     "output_type": "stream",
     "text": [
      "\n",
      " 34%|███▎      | 91/270 [00:30<00:55,  3.21it/s]\u001b[A"
     ]
    },
    {
     "name": "stdout",
     "output_type": "stream",
     "text": [
      "Acc: 99.06, Recall: 42.52, Precision: 42.52, F1: 42.52\n"
     ]
    },
    {
     "name": "stderr",
     "output_type": "stream",
     "text": [
      "\n",
      " 34%|███▍      | 92/270 [00:30<00:51,  3.45it/s]\u001b[A"
     ]
    },
    {
     "name": "stdout",
     "output_type": "stream",
     "text": [
      "Acc: 99.7, Recall: 69.27, Precision: 69.27, F1: 69.27\n"
     ]
    },
    {
     "name": "stderr",
     "output_type": "stream",
     "text": [
      "\n",
      " 34%|███▍      | 93/270 [00:30<00:53,  3.32it/s]\u001b[A"
     ]
    },
    {
     "name": "stdout",
     "output_type": "stream",
     "text": [
      "Acc: 98.86, Recall: 37.8, Precision: 37.8, F1: 37.8\n"
     ]
    },
    {
     "name": "stderr",
     "output_type": "stream",
     "text": [
      "\n",
      " 35%|███▍      | 94/270 [00:31<00:56,  3.12it/s]\u001b[A"
     ]
    },
    {
     "name": "stdout",
     "output_type": "stream",
     "text": [
      "Acc: 98.45, Recall: 20.45, Precision: 20.45, F1: 20.45\n"
     ]
    },
    {
     "name": "stderr",
     "output_type": "stream",
     "text": [
      "\n",
      " 35%|███▌      | 95/270 [00:31<00:51,  3.42it/s]\u001b[A\n",
      " 36%|███▌      | 96/270 [00:31<00:45,  3.84it/s]\u001b[A"
     ]
    },
    {
     "name": "stdout",
     "output_type": "stream",
     "text": [
      "Acc: 99.24, Recall: 5.44, Precision: 5.44, F1: 5.44\n",
      "Acc: 99.64, Recall: 12.0, Precision: 12.0, F1: 12.0\n"
     ]
    },
    {
     "name": "stderr",
     "output_type": "stream",
     "text": [
      "\n",
      " 36%|███▌      | 97/270 [00:31<00:40,  4.26it/s]\u001b[A"
     ]
    },
    {
     "name": "stdout",
     "output_type": "stream",
     "text": [
      "Acc: 99.78, Recall: 24.53, Precision: 24.53, F1: 24.53\n"
     ]
    },
    {
     "name": "stderr",
     "output_type": "stream",
     "text": [
      "\n",
      " 36%|███▋      | 98/270 [00:32<00:44,  3.87it/s]\u001b[A"
     ]
    },
    {
     "name": "stdout",
     "output_type": "stream",
     "text": [
      "Acc: 98.49, Recall: 5.76, Precision: 5.76, F1: 5.76\n"
     ]
    },
    {
     "name": "stderr",
     "output_type": "stream",
     "text": [
      "\n",
      " 37%|███▋      | 99/270 [00:32<00:45,  3.77it/s]\u001b[A"
     ]
    },
    {
     "name": "stdout",
     "output_type": "stream",
     "text": [
      "Acc: 98.88, Recall: 17.0, Precision: 17.0, F1: 17.0\n"
     ]
    },
    {
     "name": "stderr",
     "output_type": "stream",
     "text": [
      "\n",
      " 37%|███▋      | 100/270 [00:32<00:48,  3.50it/s]\u001b[A"
     ]
    },
    {
     "name": "stdout",
     "output_type": "stream",
     "text": [
      "Acc: 98.31, Recall: 5.76, Precision: 5.76, F1: 5.76\n"
     ]
    },
    {
     "name": "stderr",
     "output_type": "stream",
     "text": [
      "\n",
      " 37%|███▋      | 101/270 [00:33<00:50,  3.36it/s]\u001b[A"
     ]
    },
    {
     "name": "stdout",
     "output_type": "stream",
     "text": [
      "Acc: 98.43, Recall: 5.56, Precision: 5.56, F1: 5.56\n"
     ]
    },
    {
     "name": "stderr",
     "output_type": "stream",
     "text": [
      "\n",
      " 38%|███▊      | 102/270 [00:33<00:50,  3.31it/s]\u001b[A"
     ]
    },
    {
     "name": "stdout",
     "output_type": "stream",
     "text": [
      "Acc: 98.9, Recall: 33.66, Precision: 33.66, F1: 33.66\n"
     ]
    },
    {
     "name": "stderr",
     "output_type": "stream",
     "text": [
      "\n",
      " 38%|███▊      | 103/270 [00:33<00:51,  3.22it/s]\u001b[A\n",
      " 39%|███▊      | 104/270 [00:33<00:44,  3.74it/s]\u001b[A"
     ]
    },
    {
     "name": "stdout",
     "output_type": "stream",
     "text": [
      "Acc: 98.72, Recall: 28.57, Precision: 28.57, F1: 28.57\n",
      "Acc: 99.8, Recall: 2.63, Precision: 2.63, F1: 2.63\n"
     ]
    },
    {
     "name": "stderr",
     "output_type": "stream",
     "text": [
      "\n",
      " 39%|███▉      | 105/270 [00:34<00:42,  3.85it/s]\u001b[A"
     ]
    },
    {
     "name": "stdout",
     "output_type": "stream",
     "text": [
      "Acc: 99.13, Recall: 3.61, Precision: 3.61, F1: 3.61\n"
     ]
    },
    {
     "name": "stderr",
     "output_type": "stream",
     "text": [
      "\n",
      " 39%|███▉      | 106/270 [00:34<00:40,  4.01it/s]\u001b[A\n",
      " 40%|███▉      | 107/270 [00:34<00:36,  4.41it/s]\u001b[A"
     ]
    },
    {
     "name": "stdout",
     "output_type": "stream",
     "text": [
      "Acc: 99.26, Recall: 2.16, Precision: 2.16, F1: 2.16\n",
      "Acc: 99.7, Recall: 8.33, Precision: 8.33, F1: 8.33\n"
     ]
    },
    {
     "name": "stderr",
     "output_type": "stream",
     "text": [
      "\n",
      " 40%|████      | 108/270 [00:34<00:35,  4.52it/s]\u001b[A\n",
      " 40%|████      | 109/270 [00:34<00:33,  4.76it/s]\u001b[A"
     ]
    },
    {
     "name": "stdout",
     "output_type": "stream",
     "text": [
      "Acc: 99.42, Recall: 4.5, Precision: 4.5, F1: 4.5\n",
      "Acc: 99.85, Recall: 61.43, Precision: 61.43, F1: 61.43\n"
     ]
    },
    {
     "name": "stderr",
     "output_type": "stream",
     "text": [
      "\n",
      " 41%|████      | 110/270 [00:35<00:34,  4.66it/s]\u001b[A"
     ]
    },
    {
     "name": "stdout",
     "output_type": "stream",
     "text": [
      "Acc: 99.76, Recall: 69.39, Precision: 69.39, F1: 69.39\n"
     ]
    },
    {
     "name": "stderr",
     "output_type": "stream",
     "text": [
      "\n",
      " 41%|████      | 111/270 [00:35<00:35,  4.43it/s]\u001b[A"
     ]
    },
    {
     "name": "stdout",
     "output_type": "stream",
     "text": [
      "Acc: 99.33, Recall: 33.15, Precision: 33.15, F1: 33.15\n"
     ]
    },
    {
     "name": "stderr",
     "output_type": "stream",
     "text": [
      "\n",
      " 41%|████▏     | 112/270 [00:35<00:41,  3.79it/s]\u001b[A"
     ]
    },
    {
     "name": "stdout",
     "output_type": "stream",
     "text": [
      "Acc: 99.4, Recall: 70.16, Precision: 70.16, F1: 70.16\n"
     ]
    },
    {
     "name": "stderr",
     "output_type": "stream",
     "text": [
      "\n",
      " 42%|████▏     | 113/270 [00:35<00:40,  3.89it/s]\u001b[A"
     ]
    },
    {
     "name": "stdout",
     "output_type": "stream",
     "text": [
      "Acc: 99.1, Recall: 2.37, Precision: 2.37, F1: 2.37\n"
     ]
    },
    {
     "name": "stderr",
     "output_type": "stream",
     "text": [
      "\n",
      " 42%|████▏     | 114/270 [00:36<00:40,  3.90it/s]\u001b[A"
     ]
    },
    {
     "name": "stdout",
     "output_type": "stream",
     "text": [
      "Acc: 99.06, Recall: 11.34, Precision: 11.34, F1: 11.34\n"
     ]
    },
    {
     "name": "stderr",
     "output_type": "stream",
     "text": [
      "\n",
      " 43%|████▎     | 115/270 [00:36<00:43,  3.59it/s]\u001b[A"
     ]
    },
    {
     "name": "stdout",
     "output_type": "stream",
     "text": [
      "Acc: 98.75, Recall: 28.44, Precision: 28.44, F1: 28.44\n"
     ]
    },
    {
     "name": "stderr",
     "output_type": "stream",
     "text": [
      "\n",
      " 43%|████▎     | 116/270 [00:36<00:45,  3.42it/s]\u001b[A"
     ]
    },
    {
     "name": "stdout",
     "output_type": "stream",
     "text": [
      "Acc: 98.9, Recall: 35.56, Precision: 35.56, F1: 35.56\n"
     ]
    },
    {
     "name": "stderr",
     "output_type": "stream",
     "text": [
      "\n",
      " 43%|████▎     | 117/270 [00:37<00:45,  3.39it/s]\u001b[A"
     ]
    },
    {
     "name": "stdout",
     "output_type": "stream",
     "text": [
      "Acc: 98.92, Recall: 31.85, Precision: 31.85, F1: 31.85\n"
     ]
    },
    {
     "name": "stderr",
     "output_type": "stream",
     "text": [
      "\n",
      " 44%|████▎     | 118/270 [00:37<00:47,  3.23it/s]\u001b[A"
     ]
    },
    {
     "name": "stdout",
     "output_type": "stream",
     "text": [
      "Acc: 98.63, Recall: 25.22, Precision: 25.22, F1: 25.22\n"
     ]
    },
    {
     "name": "stderr",
     "output_type": "stream",
     "text": [
      "\n",
      " 44%|████▍     | 119/270 [00:37<00:46,  3.25it/s]\u001b[A"
     ]
    },
    {
     "name": "stdout",
     "output_type": "stream",
     "text": [
      "Acc: 98.68, Recall: 9.67, Precision: 9.67, F1: 9.67\n"
     ]
    },
    {
     "name": "stderr",
     "output_type": "stream",
     "text": [
      "\n",
      " 44%|████▍     | 120/270 [00:38<00:42,  3.55it/s]\u001b[A"
     ]
    },
    {
     "name": "stdout",
     "output_type": "stream",
     "text": [
      "Acc: 99.28, Recall: 4.35, Precision: 4.35, F1: 4.35\n"
     ]
    },
    {
     "name": "stderr",
     "output_type": "stream",
     "text": [
      "\n",
      " 45%|████▍     | 121/270 [00:38<00:40,  3.70it/s]\u001b[A"
     ]
    },
    {
     "name": "stdout",
     "output_type": "stream",
     "text": [
      "Acc: 99.86, Recall: 85.87, Precision: 85.87, F1: 85.87\n"
     ]
    },
    {
     "name": "stderr",
     "output_type": "stream",
     "text": [
      "\n",
      " 45%|████▌     | 122/270 [00:38<00:38,  3.87it/s]\u001b[A\n",
      " 46%|████▌     | 123/270 [00:38<00:34,  4.23it/s]\u001b[A"
     ]
    },
    {
     "name": "stdout",
     "output_type": "stream",
     "text": [
      "Acc: 99.23, Recall: 11.8, Precision: 11.8, F1: 11.8\n",
      "Acc: 99.86, Recall: 66.23, Precision: 66.23, F1: 66.23\n"
     ]
    },
    {
     "name": "stderr",
     "output_type": "stream",
     "text": [
      "\n",
      " 46%|████▌     | 124/270 [00:39<00:38,  3.79it/s]\u001b[A"
     ]
    },
    {
     "name": "stdout",
     "output_type": "stream",
     "text": [
      "Acc: 99.35, Recall: 61.54, Precision: 61.54, F1: 61.54\n"
     ]
    },
    {
     "name": "stderr",
     "output_type": "stream",
     "text": [
      "\n",
      " 46%|████▋     | 125/270 [00:39<00:40,  3.59it/s]\u001b[A"
     ]
    },
    {
     "name": "stdout",
     "output_type": "stream",
     "text": [
      "Acc: 99.23, Recall: 51.04, Precision: 51.04, F1: 51.04\n"
     ]
    },
    {
     "name": "stderr",
     "output_type": "stream",
     "text": [
      "\n",
      " 47%|████▋     | 126/270 [00:39<00:39,  3.66it/s]\u001b[A"
     ]
    },
    {
     "name": "stdout",
     "output_type": "stream",
     "text": [
      "Acc: 98.99, Recall: 12.26, Precision: 12.26, F1: 12.26\n"
     ]
    },
    {
     "name": "stderr",
     "output_type": "stream",
     "text": [
      "\n",
      " 47%|████▋     | 127/270 [00:39<00:38,  3.74it/s]\u001b[A\n",
      " 47%|████▋     | 128/270 [00:40<00:32,  4.31it/s]\u001b[A"
     ]
    },
    {
     "name": "stdout",
     "output_type": "stream",
     "text": [
      "Acc: 99.36, Recall: 39.06, Precision: 39.06, F1: 39.06\n",
      "Acc: 99.98, Recall: 0.0, Precision: 0.0, F1: 0.0\n"
     ]
    },
    {
     "name": "stderr",
     "output_type": "stream",
     "text": [
      "\n",
      " 48%|████▊     | 129/270 [00:40<00:38,  3.68it/s]\u001b[A\n",
      " 48%|████▊     | 130/270 [00:40<00:33,  4.22it/s]\u001b[A"
     ]
    },
    {
     "name": "stdout",
     "output_type": "stream",
     "text": [
      "Acc: 98.45, Recall: 26.23, Precision: 26.23, F1: 26.23\n",
      "Acc: 99.89, Recall: 4.55, Precision: 4.55, F1: 4.55\n"
     ]
    },
    {
     "name": "stderr",
     "output_type": "stream",
     "text": [
      "\n",
      " 49%|████▊     | 131/270 [00:40<00:36,  3.76it/s]\u001b[A"
     ]
    },
    {
     "name": "stdout",
     "output_type": "stream",
     "text": [
      "Acc: 98.48, Recall: 15.66, Precision: 15.66, F1: 15.66\n"
     ]
    },
    {
     "name": "stderr",
     "output_type": "stream",
     "text": [
      "\n",
      " 49%|████▉     | 132/270 [00:41<00:37,  3.68it/s]\u001b[A"
     ]
    },
    {
     "name": "stdout",
     "output_type": "stream",
     "text": [
      "Acc: 98.83, Recall: 15.02, Precision: 15.02, F1: 15.02\n"
     ]
    },
    {
     "name": "stderr",
     "output_type": "stream",
     "text": [
      "\n",
      " 49%|████▉     | 133/270 [00:41<00:35,  3.88it/s]\u001b[A"
     ]
    },
    {
     "name": "stdout",
     "output_type": "stream",
     "text": [
      "Acc: 99.42, Recall: 27.21, Precision: 27.21, F1: 27.21\n"
     ]
    },
    {
     "name": "stderr",
     "output_type": "stream",
     "text": [
      "\n",
      " 50%|████▉     | 134/270 [00:41<00:32,  4.12it/s]\u001b[A"
     ]
    },
    {
     "name": "stdout",
     "output_type": "stream",
     "text": [
      "Acc: 99.42, Recall: 3.6, Precision: 3.6, F1: 3.6\n",
      "Acc: 99.41, Recall: 1.8, Precision: 1.8, F1: 1.8\n"
     ]
    },
    {
     "name": "stderr",
     "output_type": "stream",
     "text": [
      "\n",
      " 50%|█████     | 135/270 [00:41<00:31,  4.32it/s]\u001b[A\n",
      " 50%|█████     | 136/270 [00:42<00:30,  4.38it/s]\u001b[A"
     ]
    },
    {
     "name": "stdout",
     "output_type": "stream",
     "text": [
      "Acc: 99.61, Recall: 48.18, Precision: 48.18, F1: 48.18\n"
     ]
    },
    {
     "name": "stderr",
     "output_type": "stream",
     "text": [
      "\n",
      " 51%|█████     | 137/270 [00:42<00:29,  4.43it/s]\u001b[A"
     ]
    },
    {
     "name": "stdout",
     "output_type": "stream",
     "text": [
      "Acc: 99.72, Recall: 62.5, Precision: 62.5, F1: 62.5\n"
     ]
    },
    {
     "name": "stderr",
     "output_type": "stream",
     "text": [
      "\n",
      " 51%|█████     | 138/270 [00:42<00:29,  4.52it/s]\u001b[A"
     ]
    },
    {
     "name": "stdout",
     "output_type": "stream",
     "text": [
      "Acc: 99.47, Recall: 20.33, Precision: 20.33, F1: 20.33\n"
     ]
    },
    {
     "name": "stderr",
     "output_type": "stream",
     "text": [
      "\n",
      " 51%|█████▏    | 139/270 [00:42<00:28,  4.53it/s]\u001b[A"
     ]
    },
    {
     "name": "stdout",
     "output_type": "stream",
     "text": [
      "Acc: 99.43, Recall: 21.64, Precision: 21.64, F1: 21.64\n"
     ]
    },
    {
     "name": "stderr",
     "output_type": "stream",
     "text": [
      "\n",
      " 52%|█████▏    | 140/270 [00:42<00:28,  4.48it/s]\u001b[A\n",
      " 52%|█████▏    | 141/270 [00:43<00:27,  4.76it/s]\u001b[A"
     ]
    },
    {
     "name": "stdout",
     "output_type": "stream",
     "text": [
      "Acc: 99.24, Recall: 6.08, Precision: 6.08, F1: 6.08\n",
      "Acc: 99.68, Recall: 3.33, Precision: 3.33, F1: 3.33\n"
     ]
    },
    {
     "name": "stderr",
     "output_type": "stream",
     "text": [
      "\n",
      " 53%|█████▎    | 142/270 [00:43<00:25,  4.95it/s]\u001b[A\n",
      " 53%|█████▎    | 143/270 [00:43<00:25,  5.02it/s]\u001b[A"
     ]
    },
    {
     "name": "stdout",
     "output_type": "stream",
     "text": [
      "Acc: 99.63, Recall: 5.56, Precision: 5.56, F1: 5.56\n",
      "Acc: 99.54, Recall: 2.3, Precision: 2.3, F1: 2.3\n"
     ]
    },
    {
     "name": "stderr",
     "output_type": "stream",
     "text": [
      "\n",
      " 53%|█████▎    | 144/270 [00:43<00:25,  5.02it/s]\u001b[A"
     ]
    },
    {
     "name": "stdout",
     "output_type": "stream",
     "text": [
      "Acc: 99.49, Recall: 3.12, Precision: 3.12, F1: 3.12\n",
      "Acc: 99.51, Recall: 14.29, Precision: 14.29, F1: 14.29\n"
     ]
    },
    {
     "name": "stderr",
     "output_type": "stream",
     "text": [
      "\n",
      " 54%|█████▎    | 145/270 [00:43<00:24,  5.02it/s]\u001b[A\n",
      " 54%|█████▍    | 146/270 [00:44<00:26,  4.65it/s]\u001b[A\n",
      " 54%|█████▍    | 147/270 [00:44<00:23,  5.13it/s]\u001b[A"
     ]
    },
    {
     "name": "stdout",
     "output_type": "stream",
     "text": [
      "Acc: 99.23, Recall: 26.94, Precision: 26.94, F1: 26.94\n",
      "Acc: 99.98, Recall: 0.0, Precision: 0.0, F1: 0.0\n"
     ]
    },
    {
     "name": "stderr",
     "output_type": "stream",
     "text": [
      "\n",
      " 55%|█████▍    | 148/270 [00:44<00:26,  4.62it/s]\u001b[A\n",
      " 55%|█████▌    | 149/270 [00:44<00:24,  4.92it/s]\u001b[A"
     ]
    },
    {
     "name": "stdout",
     "output_type": "stream",
     "text": [
      "Acc: 99.53, Recall: 58.65, Precision: 58.65, F1: 58.65\n",
      "Acc: 99.77, Recall: 10.42, Precision: 10.42, F1: 10.42\n"
     ]
    },
    {
     "name": "stderr",
     "output_type": "stream",
     "text": [
      "\n",
      " 56%|█████▌    | 150/270 [00:44<00:22,  5.36it/s]\u001b[A\n",
      " 56%|█████▌    | 151/270 [00:45<00:21,  5.42it/s]\u001b[A"
     ]
    },
    {
     "name": "stdout",
     "output_type": "stream",
     "text": [
      "Acc: 99.99, Recall: 0.0, Precision: 0.0, F1: 0.0\n",
      "Acc: 99.78, Recall: 38.46, Precision: 38.46, F1: 38.46\n"
     ]
    },
    {
     "name": "stderr",
     "output_type": "stream",
     "text": [
      "\n",
      " 56%|█████▋    | 152/270 [00:45<00:22,  5.18it/s]\u001b[A\n",
      " 57%|█████▋    | 153/270 [00:45<00:21,  5.37it/s]\u001b[A"
     ]
    },
    {
     "name": "stdout",
     "output_type": "stream",
     "text": [
      "Acc: 99.65, Recall: 48.0, Precision: 48.0, F1: 48.0\n",
      "Acc: 99.74, Recall: 2.08, Precision: 2.08, F1: 2.08\n"
     ]
    },
    {
     "name": "stderr",
     "output_type": "stream",
     "text": [
      "\n",
      " 57%|█████▋    | 154/270 [00:45<00:20,  5.72it/s]\u001b[A"
     ]
    },
    {
     "name": "stdout",
     "output_type": "stream",
     "text": [
      "Acc: 99.98, Recall: 0.0, Precision: 0.0, F1: 0.0\n"
     ]
    },
    {
     "name": "stderr",
     "output_type": "stream",
     "text": [
      "\n",
      " 57%|█████▋    | 155/270 [00:45<00:21,  5.31it/s]\u001b[A"
     ]
    },
    {
     "name": "stdout",
     "output_type": "stream",
     "text": [
      "Acc: 99.3, Recall: 1.53, Precision: 1.53, F1: 1.53\n"
     ]
    },
    {
     "name": "stderr",
     "output_type": "stream",
     "text": [
      "\n",
      " 58%|█████▊    | 156/270 [00:46<00:27,  4.10it/s]\u001b[A"
     ]
    },
    {
     "name": "stdout",
     "output_type": "stream",
     "text": [
      "Acc: 99.37, Recall: 70.18, Precision: 70.18, F1: 70.18\n"
     ]
    },
    {
     "name": "stderr",
     "output_type": "stream",
     "text": [
      "\n",
      " 58%|█████▊    | 157/270 [00:46<00:26,  4.19it/s]\u001b[A\n",
      " 59%|█████▊    | 158/270 [00:46<00:24,  4.54it/s]\u001b[A"
     ]
    },
    {
     "name": "stdout",
     "output_type": "stream",
     "text": [
      "Acc: 99.95, Recall: 93.88, Precision: 93.88, F1: 93.88\n",
      "Acc: 99.71, Recall: 19.4, Precision: 19.4, F1: 19.4\n"
     ]
    },
    {
     "name": "stderr",
     "output_type": "stream",
     "text": [
      "\n",
      " 59%|█████▉    | 159/270 [00:46<00:22,  4.92it/s]\u001b[A\n",
      " 59%|█████▉    | 160/270 [00:46<00:21,  5.13it/s]\u001b[A"
     ]
    },
    {
     "name": "stdout",
     "output_type": "stream",
     "text": [
      "Acc: 99.8, Recall: 0.0, Precision: 0.0, F1: 0.0\n",
      "Acc: 99.71, Recall: 0.0, Precision: 0.0, F1: 0.0\n"
     ]
    },
    {
     "name": "stderr",
     "output_type": "stream",
     "text": [
      "\n",
      " 60%|█████▉    | 161/270 [00:47<00:21,  5.19it/s]\u001b[A\n",
      " 60%|██████    | 162/270 [00:47<00:20,  5.24it/s]\u001b[A"
     ]
    },
    {
     "name": "stdout",
     "output_type": "stream",
     "text": [
      "Acc: 99.59, Recall: 1.32, Precision: 1.32, F1: 1.32\n",
      "Acc: 99.65, Recall: 20.99, Precision: 20.99, F1: 20.99\n"
     ]
    },
    {
     "name": "stderr",
     "output_type": "stream",
     "text": [
      "\n",
      " 60%|██████    | 163/270 [00:47<00:28,  3.76it/s]\u001b[A\n",
      " 61%|██████    | 164/270 [00:47<00:25,  4.16it/s]\u001b[A"
     ]
    },
    {
     "name": "stdout",
     "output_type": "stream",
     "text": [
      "Acc: 98.94, Recall: 60.73, Precision: 60.73, F1: 60.73\n",
      "Acc: 99.78, Recall: 31.03, Precision: 31.03, F1: 31.03\n"
     ]
    },
    {
     "name": "stderr",
     "output_type": "stream",
     "text": [
      "\n",
      " 61%|██████    | 165/270 [00:48<00:22,  4.62it/s]\u001b[A\n",
      " 61%|██████▏   | 166/270 [00:48<00:21,  4.86it/s]\u001b[A"
     ]
    },
    {
     "name": "stdout",
     "output_type": "stream",
     "text": [
      "Acc: 99.88, Recall: 4.35, Precision: 4.35, F1: 4.35\n",
      "Acc: 99.64, Recall: 5.63, Precision: 5.63, F1: 5.63\n"
     ]
    },
    {
     "name": "stderr",
     "output_type": "stream",
     "text": [
      "\n",
      " 62%|██████▏   | 167/270 [00:48<00:19,  5.31it/s]\u001b[A\n",
      " 62%|██████▏   | 168/270 [00:48<00:18,  5.57it/s]\u001b[A"
     ]
    },
    {
     "name": "stdout",
     "output_type": "stream",
     "text": [
      "Acc: 99.99, Recall: 0.0, Precision: 0.0, F1: 0.0\n",
      "Acc: 99.91, Recall: 34.62, Precision: 34.62, F1: 34.62\n"
     ]
    },
    {
     "name": "stderr",
     "output_type": "stream",
     "text": [
      "\n",
      " 63%|██████▎   | 169/270 [00:48<00:17,  5.83it/s]\u001b[A\n",
      " 63%|██████▎   | 170/270 [00:48<00:17,  5.66it/s]\u001b[A"
     ]
    },
    {
     "name": "stdout",
     "output_type": "stream",
     "text": [
      "Acc: 99.93, Recall: 0.0, Precision: 0.0, F1: 0.0\n",
      "Acc: 99.81, Recall: 58.02, Precision: 58.02, F1: 58.02\n"
     ]
    },
    {
     "name": "stderr",
     "output_type": "stream",
     "text": [
      "\n",
      " 63%|██████▎   | 171/270 [00:49<00:18,  5.27it/s]\u001b[A\n",
      " 64%|██████▎   | 172/270 [00:49<00:18,  5.41it/s]\u001b[A"
     ]
    },
    {
     "name": "stdout",
     "output_type": "stream",
     "text": [
      "Acc: 99.37, Recall: 7.94, Precision: 7.94, F1: 7.94\n",
      "Acc: 99.72, Recall: 0.0, Precision: 0.0, F1: 0.0\n"
     ]
    },
    {
     "name": "stderr",
     "output_type": "stream",
     "text": [
      "\n",
      " 64%|██████▍   | 173/270 [00:49<00:17,  5.54it/s]\u001b[A"
     ]
    },
    {
     "name": "stdout",
     "output_type": "stream",
     "text": [
      "Acc: 99.87, Recall: 46.67, Precision: 46.67, F1: 46.67\n"
     ]
    },
    {
     "name": "stderr",
     "output_type": "stream",
     "text": [
      "\n",
      " 64%|██████▍   | 174/270 [00:49<00:18,  5.24it/s]\u001b[A\n",
      " 65%|██████▍   | 175/270 [00:49<00:18,  5.25it/s]\u001b[A"
     ]
    },
    {
     "name": "stdout",
     "output_type": "stream",
     "text": [
      "Acc: 99.35, Recall: 6.3, Precision: 6.3, F1: 6.3\n",
      "Acc: 99.69, Recall: 31.33, Precision: 31.33, F1: 31.33\n"
     ]
    },
    {
     "name": "stderr",
     "output_type": "stream",
     "text": [
      "\n",
      " 65%|██████▌   | 176/270 [00:49<00:16,  5.60it/s]\u001b[A\n",
      " 66%|██████▌   | 177/270 [00:50<00:15,  5.89it/s]\u001b[A"
     ]
    },
    {
     "name": "stdout",
     "output_type": "stream",
     "text": [
      "Acc: 99.95, Recall: 0.0, Precision: 0.0, F1: 0.0\n",
      "Acc: 99.98, Recall: 20.0, Precision: 20.0, F1: 20.0\n"
     ]
    },
    {
     "name": "stderr",
     "output_type": "stream",
     "text": [
      "\n",
      " 66%|██████▌   | 178/270 [00:50<00:15,  5.86it/s]\u001b[A\n",
      " 66%|██████▋   | 179/270 [00:50<00:15,  5.72it/s]\u001b[A"
     ]
    },
    {
     "name": "stdout",
     "output_type": "stream",
     "text": [
      "Acc: 99.73, Recall: 1.96, Precision: 1.96, F1: 1.96\n",
      "Acc: 99.62, Recall: 1.43, Precision: 1.43, F1: 1.43\n"
     ]
    },
    {
     "name": "stderr",
     "output_type": "stream",
     "text": [
      "\n",
      " 67%|██████▋   | 180/270 [00:50<00:15,  5.91it/s]\u001b[A\n"
     ]
    },
    {
     "name": "stdout",
     "output_type": "stream",
     "text": [
      "Acc: 99.9, Recall: 0.0, Precision: 0.0, F1: 0.0\n",
      "Acc: 99.53, Recall: 1.14, Precision: 1.14, F1: 1.14\n"
     ]
    },
    {
     "name": "stderr",
     "output_type": "stream",
     "text": [
      " 67%|██████▋   | 181/270 [00:50<00:15,  5.64it/s]\u001b[A\n",
      " 67%|██████▋   | 182/270 [00:51<00:15,  5.53it/s]\u001b[A\n",
      " 68%|██████▊   | 183/270 [00:51<00:15,  5.65it/s]\u001b[A"
     ]
    },
    {
     "name": "stdout",
     "output_type": "stream",
     "text": [
      "Acc: 99.62, Recall: 13.75, Precision: 13.75, F1: 13.75\n",
      "Acc: 99.79, Recall: 11.63, Precision: 11.63, F1: 11.63\n"
     ]
    },
    {
     "name": "stderr",
     "output_type": "stream",
     "text": [
      "\n",
      " 68%|██████▊   | 184/270 [00:51<00:15,  5.73it/s]\u001b[A\n",
      " 69%|██████▊   | 185/270 [00:51<00:14,  5.71it/s]\u001b[A"
     ]
    },
    {
     "name": "stdout",
     "output_type": "stream",
     "text": [
      "Acc: 99.77, Recall: 2.33, Precision: 2.33, F1: 2.33\n",
      "Acc: 99.7, Recall: 1.75, Precision: 1.75, F1: 1.75\n"
     ]
    },
    {
     "name": "stderr",
     "output_type": "stream",
     "text": [
      "\n",
      " 69%|██████▉   | 186/270 [00:51<00:14,  5.93it/s]\u001b[A\n",
      " 69%|██████▉   | 187/270 [00:51<00:13,  5.98it/s]\u001b[A"
     ]
    },
    {
     "name": "stdout",
     "output_type": "stream",
     "text": [
      "Acc: 99.93, Recall: 0.0, Precision: 0.0, F1: 0.0\n",
      "Acc: 99.84, Recall: 6.25, Precision: 6.25, F1: 6.25\n"
     ]
    },
    {
     "name": "stderr",
     "output_type": "stream",
     "text": [
      "\n",
      " 70%|██████▉   | 188/270 [00:52<00:14,  5.75it/s]\u001b[A\n",
      " 70%|███████   | 189/270 [00:52<00:13,  5.89it/s]\u001b[A"
     ]
    },
    {
     "name": "stdout",
     "output_type": "stream",
     "text": [
      "Acc: 99.55, Recall: 1.2, Precision: 1.2, F1: 1.2\n",
      "Acc: 99.85, Recall: 0.0, Precision: 0.0, F1: 0.0\n"
     ]
    },
    {
     "name": "stderr",
     "output_type": "stream",
     "text": [
      "\n",
      " 70%|███████   | 190/270 [00:52<00:13,  5.76it/s]\u001b[A\n",
      " 71%|███████   | 191/270 [00:52<00:13,  6.04it/s]\u001b[A"
     ]
    },
    {
     "name": "stdout",
     "output_type": "stream",
     "text": [
      "Acc: 99.81, Recall: 48.53, Precision: 48.53, F1: 48.53\n",
      "Acc: 99.99, Recall: 0.0, Precision: 0.0, F1: 0.0\n"
     ]
    },
    {
     "name": "stderr",
     "output_type": "stream",
     "text": [
      "\n",
      " 71%|███████   | 192/270 [00:52<00:13,  5.68it/s]\u001b[A\n",
      " 71%|███████▏  | 193/270 [00:52<00:12,  5.96it/s]\u001b[A"
     ]
    },
    {
     "name": "stdout",
     "output_type": "stream",
     "text": [
      "Acc: 99.79, Recall: 62.38, Precision: 62.38, F1: 62.38\n",
      "Acc: 99.99, Recall: 33.33, Precision: 33.33, F1: 33.33\n"
     ]
    },
    {
     "name": "stderr",
     "output_type": "stream",
     "text": [
      "\n",
      " 72%|███████▏  | 194/270 [00:53<00:12,  6.20it/s]\u001b[A\n",
      " 72%|███████▏  | 195/270 [00:53<00:11,  6.34it/s]\u001b[A"
     ]
    },
    {
     "name": "stdout",
     "output_type": "stream",
     "text": [
      "Acc: 99.99, Recall: 0.0, Precision: 0.0, F1: 0.0\n",
      "Acc: 99.97, Recall: 14.29, Precision: 14.29, F1: 14.29\n"
     ]
    },
    {
     "name": "stderr",
     "output_type": "stream",
     "text": [
      "\n",
      " 73%|███████▎  | 196/270 [00:53<00:11,  6.46it/s]\u001b[A\n",
      " 73%|███████▎  | 197/270 [00:53<00:11,  6.54it/s]\u001b[A"
     ]
    },
    {
     "name": "stdout",
     "output_type": "stream",
     "text": [
      "Acc: 99.98, Recall: 0.0, Precision: 0.0, F1: 0.0\n",
      "Acc: 99.97, Recall: 0.0, Precision: 0.0, F1: 0.0\n"
     ]
    },
    {
     "name": "stderr",
     "output_type": "stream",
     "text": [
      "\n",
      " 73%|███████▎  | 198/270 [00:53<00:11,  6.02it/s]\u001b[A\n",
      " 74%|███████▎  | 199/270 [00:53<00:11,  6.23it/s]\u001b[A"
     ]
    },
    {
     "name": "stdout",
     "output_type": "stream",
     "text": [
      "Acc: 99.65, Recall: 33.33, Precision: 33.33, F1: 33.33\n",
      "Acc: 99.99, Recall: 0.0, Precision: 0.0, F1: 0.0\n"
     ]
    },
    {
     "name": "stderr",
     "output_type": "stream",
     "text": [
      "\n",
      " 74%|███████▍  | 200/270 [00:53<00:11,  6.27it/s]\u001b[A\n",
      " 74%|███████▍  | 201/270 [00:54<00:10,  6.36it/s]\u001b[A"
     ]
    },
    {
     "name": "stdout",
     "output_type": "stream",
     "text": [
      "Acc: 99.89, Recall: 4.76, Precision: 4.76, F1: 4.76\n",
      "Acc: 99.93, Recall: 0.0, Precision: 0.0, F1: 0.0\n"
     ]
    },
    {
     "name": "stderr",
     "output_type": "stream",
     "text": [
      "\n",
      " 75%|███████▍  | 202/270 [00:54<00:10,  6.30it/s]\u001b[A\n",
      " 75%|███████▌  | 203/270 [00:54<00:10,  6.40it/s]\u001b[A"
     ]
    },
    {
     "name": "stdout",
     "output_type": "stream",
     "text": [
      "Acc: 99.91, Recall: 46.67, Precision: 46.67, F1: 46.67\n",
      "Acc: 99.95, Recall: 0.0, Precision: 0.0, F1: 0.0\n"
     ]
    },
    {
     "name": "stderr",
     "output_type": "stream",
     "text": [
      "\n",
      " 76%|███████▌  | 204/270 [00:54<00:10,  6.51it/s]\u001b[A\n",
      " 76%|███████▌  | 205/270 [00:54<00:09,  6.59it/s]\u001b[A"
     ]
    },
    {
     "name": "stdout",
     "output_type": "stream",
     "text": [
      "Acc: 99.98, Recall: 0.0, Precision: 0.0, F1: 0.0\n",
      "Acc: 99.99, Recall: 0.0, Precision: 0.0, F1: 0.0\n"
     ]
    },
    {
     "name": "stderr",
     "output_type": "stream",
     "text": [
      "\n",
      " 76%|███████▋  | 206/270 [00:54<00:09,  6.65it/s]\u001b[A"
     ]
    },
    {
     "name": "stdout",
     "output_type": "stream",
     "text": [
      "Acc: 99.99, Recall: 0.0, Precision: 0.0, F1: 0.0\n"
     ]
    },
    {
     "name": "stderr",
     "output_type": "stream",
     "text": [
      "\n",
      " 77%|███████▋  | 207/270 [00:55<00:11,  5.56it/s]\u001b[A\n",
      " 77%|███████▋  | 208/270 [00:55<00:10,  5.86it/s]\u001b[A"
     ]
    },
    {
     "name": "stdout",
     "output_type": "stream",
     "text": [
      "Acc: 99.3, Recall: 31.55, Precision: 31.55, F1: 31.55\n",
      "Acc: 99.97, Recall: 0.0, Precision: 0.0, F1: 0.0\n"
     ]
    },
    {
     "name": "stderr",
     "output_type": "stream",
     "text": [
      "\n",
      " 77%|███████▋  | 209/270 [00:55<00:10,  5.95it/s]\u001b[A\n",
      " 78%|███████▊  | 210/270 [00:55<00:10,  5.75it/s]\u001b[A"
     ]
    },
    {
     "name": "stdout",
     "output_type": "stream",
     "text": [
      "Acc: 99.87, Recall: 20.0, Precision: 20.0, F1: 20.0\n",
      "Acc: 99.65, Recall: 23.81, Precision: 23.81, F1: 23.81\n"
     ]
    },
    {
     "name": "stderr",
     "output_type": "stream",
     "text": [
      "\n",
      " 78%|███████▊  | 211/270 [00:55<00:10,  5.50it/s]\u001b[A\n",
      " 79%|███████▊  | 212/270 [00:56<00:10,  5.55it/s]\u001b[A"
     ]
    },
    {
     "name": "stdout",
     "output_type": "stream",
     "text": [
      "Acc: 99.53, Recall: 12.24, Precision: 12.24, F1: 12.24\n",
      "Acc: 99.88, Recall: 60.0, Precision: 60.0, F1: 60.0\n"
     ]
    },
    {
     "name": "stderr",
     "output_type": "stream",
     "text": [
      "\n",
      " 79%|███████▉  | 213/270 [00:56<00:11,  5.16it/s]\u001b[A\n",
      " 79%|███████▉  | 214/270 [00:56<00:10,  5.55it/s]\u001b[A"
     ]
    },
    {
     "name": "stdout",
     "output_type": "stream",
     "text": [
      "Acc: 99.5, Recall: 36.55, Precision: 36.55, F1: 36.55\n",
      "Acc: 99.98, Recall: 25.0, Precision: 25.0, F1: 25.0\n"
     ]
    },
    {
     "name": "stderr",
     "output_type": "stream",
     "text": [
      "\n",
      " 80%|███████▉  | 215/270 [00:56<00:09,  5.60it/s]\u001b[A\n",
      " 80%|████████  | 216/270 [00:56<00:09,  5.89it/s]\u001b[A"
     ]
    },
    {
     "name": "stdout",
     "output_type": "stream",
     "text": [
      "Acc: 99.9, Recall: 62.75, Precision: 62.75, F1: 62.75\n",
      "Acc: 99.98, Recall: 25.0, Precision: 25.0, F1: 25.0\n"
     ]
    },
    {
     "name": "stderr",
     "output_type": "stream",
     "text": [
      "\n",
      " 80%|████████  | 217/270 [00:56<00:09,  5.87it/s]\u001b[A\n",
      " 81%|████████  | 218/270 [00:57<00:08,  6.00it/s]\u001b[A"
     ]
    },
    {
     "name": "stdout",
     "output_type": "stream",
     "text": [
      "Acc: 99.74, Recall: 0.0, Precision: 0.0, F1: 0.0\n",
      "Acc: 99.89, Recall: 0.0, Precision: 0.0, F1: 0.0\n"
     ]
    },
    {
     "name": "stderr",
     "output_type": "stream",
     "text": [
      "\n",
      " 81%|████████  | 219/270 [00:57<00:08,  6.18it/s]\u001b[A\n",
      " 81%|████████▏ | 220/270 [00:57<00:07,  6.33it/s]\u001b[A"
     ]
    },
    {
     "name": "stdout",
     "output_type": "stream",
     "text": [
      "Acc: 99.96, Recall: 0.0, Precision: 0.0, F1: 0.0\n",
      "Acc: 99.97, Recall: 0.0, Precision: 0.0, F1: 0.0\n"
     ]
    },
    {
     "name": "stderr",
     "output_type": "stream",
     "text": [
      "\n",
      " 82%|████████▏ | 221/270 [00:57<00:09,  5.41it/s]\u001b[A\n",
      " 82%|████████▏ | 222/270 [00:57<00:08,  5.64it/s]\u001b[A"
     ]
    },
    {
     "name": "stdout",
     "output_type": "stream",
     "text": [
      "Acc: 99.4, Recall: 38.67, Precision: 38.67, F1: 38.67\n",
      "Acc: 99.9, Recall: 24.0, Precision: 24.0, F1: 24.0\n"
     ]
    },
    {
     "name": "stderr",
     "output_type": "stream",
     "text": [
      "\n",
      " 83%|████████▎ | 223/270 [00:57<00:08,  5.46it/s]\u001b[A\n",
      " 83%|████████▎ | 224/270 [00:58<00:07,  5.77it/s]\u001b[A"
     ]
    },
    {
     "name": "stdout",
     "output_type": "stream",
     "text": [
      "Acc: 99.62, Recall: 25.53, Precision: 25.53, F1: 25.53\n",
      "Acc: 99.96, Recall: 0.0, Precision: 0.0, F1: 0.0\n"
     ]
    },
    {
     "name": "stderr",
     "output_type": "stream",
     "text": [
      "\n",
      " 83%|████████▎ | 225/270 [00:58<00:07,  5.81it/s]\u001b[A\n",
      " 84%|████████▎ | 226/270 [00:58<00:07,  5.88it/s]\u001b[A"
     ]
    },
    {
     "name": "stdout",
     "output_type": "stream",
     "text": [
      "Acc: 99.78, Recall: 4.65, Precision: 4.65, F1: 4.65\n",
      "Acc: 99.83, Recall: 8.82, Precision: 8.82, F1: 8.82\n"
     ]
    },
    {
     "name": "stderr",
     "output_type": "stream",
     "text": [
      "\n",
      " 84%|████████▍ | 227/270 [00:58<00:07,  6.13it/s]\u001b[A\n",
      " 84%|████████▍ | 228/270 [00:58<00:07,  5.86it/s]\u001b[A"
     ]
    },
    {
     "name": "stdout",
     "output_type": "stream",
     "text": [
      "Acc: 99.99, Recall: 0.0, Precision: 0.0, F1: 0.0\n",
      "Acc: 99.61, Recall: 6.58, Precision: 6.58, F1: 6.58\n"
     ]
    },
    {
     "name": "stderr",
     "output_type": "stream",
     "text": [
      "\n",
      " 85%|████████▍ | 229/270 [00:58<00:06,  6.06it/s]\u001b[A\n",
      " 85%|████████▌ | 230/270 [00:59<00:06,  5.98it/s]\u001b[A"
     ]
    },
    {
     "name": "stdout",
     "output_type": "stream",
     "text": [
      "Acc: 99.95, Recall: 9.09, Precision: 9.09, F1: 9.09\n",
      "Acc: 99.78, Recall: 16.33, Precision: 16.33, F1: 16.33\n"
     ]
    },
    {
     "name": "stderr",
     "output_type": "stream",
     "text": [
      "\n",
      " 86%|████████▌ | 231/270 [00:59<00:06,  5.99it/s]\u001b[A\n",
      " 86%|████████▌ | 232/270 [00:59<00:06,  5.88it/s]\u001b[A"
     ]
    },
    {
     "name": "stdout",
     "output_type": "stream",
     "text": [
      "Acc: 99.79, Recall: 2.56, Precision: 2.56, F1: 2.56\n",
      "Acc: 99.91, Recall: 70.69, Precision: 70.69, F1: 70.69\n"
     ]
    },
    {
     "name": "stderr",
     "output_type": "stream",
     "text": [
      "\n",
      " 86%|████████▋ | 233/270 [00:59<00:06,  6.14it/s]\u001b[A\n",
      " 87%|████████▋ | 234/270 [00:59<00:05,  6.05it/s]\u001b[A"
     ]
    },
    {
     "name": "stdout",
     "output_type": "stream",
     "text": [
      "Acc: 100.0, Recall: 100.0, Precision: 100.0, F1: 100.0\n",
      "Acc: 99.76, Recall: 10.0, Precision: 10.0, F1: 10.0\n"
     ]
    },
    {
     "name": "stderr",
     "output_type": "stream",
     "text": [
      "\n",
      " 87%|████████▋ | 235/270 [00:59<00:05,  6.24it/s]\u001b[A\n",
      " 87%|████████▋ | 236/270 [01:00<00:05,  5.90it/s]\u001b[A"
     ]
    },
    {
     "name": "stdout",
     "output_type": "stream",
     "text": [
      "Acc: 99.97, Recall: 0.0, Precision: 0.0, F1: 0.0\n",
      "Acc: 99.58, Recall: 7.23, Precision: 7.23, F1: 7.23\n"
     ]
    },
    {
     "name": "stderr",
     "output_type": "stream",
     "text": [
      "\n",
      " 88%|████████▊ | 237/270 [01:00<00:05,  6.14it/s]\u001b[A\n",
      " 88%|████████▊ | 238/270 [01:00<00:05,  6.30it/s]\u001b[A"
     ]
    },
    {
     "name": "stdout",
     "output_type": "stream",
     "text": [
      "Acc: 99.99, Recall: 66.67, Precision: 66.67, F1: 66.67\n",
      "Acc: 99.96, Recall: 0.0, Precision: 0.0, F1: 0.0\n"
     ]
    },
    {
     "name": "stderr",
     "output_type": "stream",
     "text": [
      "\n",
      " 89%|████████▊ | 239/270 [01:00<00:04,  6.43it/s]\u001b[A\n",
      " 89%|████████▉ | 240/270 [01:00<00:04,  6.52it/s]\u001b[A"
     ]
    },
    {
     "name": "stdout",
     "output_type": "stream",
     "text": [
      "Acc: 99.98, Recall: 0.0, Precision: 0.0, F1: 0.0\n",
      "Acc: 99.97, Recall: 0.0, Precision: 0.0, F1: 0.0\n"
     ]
    },
    {
     "name": "stderr",
     "output_type": "stream",
     "text": [
      "\n",
      " 89%|████████▉ | 241/270 [01:00<00:04,  6.60it/s]\u001b[A\n",
      " 90%|████████▉ | 242/270 [01:00<00:04,  6.60it/s]\u001b[A"
     ]
    },
    {
     "name": "stdout",
     "output_type": "stream",
     "text": [
      "Acc: 99.99, Recall: 0.0, Precision: 0.0, F1: 0.0\n",
      "Acc: 99.97, Recall: 0.0, Precision: 0.0, F1: 0.0\n"
     ]
    },
    {
     "name": "stderr",
     "output_type": "stream",
     "text": [
      "\n",
      " 90%|█████████ | 243/270 [01:01<00:04,  6.63it/s]\u001b[A\n",
      " 90%|█████████ | 244/270 [01:01<00:03,  6.65it/s]\u001b[A"
     ]
    },
    {
     "name": "stdout",
     "output_type": "stream",
     "text": [
      "Acc: 99.99, Recall: 0.0, Precision: 0.0, F1: 0.0\n",
      "Acc: 99.97, Recall: 0.0, Precision: 0.0, F1: 0.0\n"
     ]
    },
    {
     "name": "stderr",
     "output_type": "stream",
     "text": [
      "\n",
      " 91%|█████████ | 245/270 [01:01<00:03,  6.66it/s]\u001b[A\n",
      " 91%|█████████ | 246/270 [01:01<00:03,  6.66it/s]\u001b[A"
     ]
    },
    {
     "name": "stdout",
     "output_type": "stream",
     "text": [
      "Acc: 99.96, Recall: 0.0, Precision: 0.0, F1: 0.0\n",
      "Acc: 99.95, Recall: 0.0, Precision: 0.0, F1: 0.0\n"
     ]
    },
    {
     "name": "stderr",
     "output_type": "stream",
     "text": [
      "\n",
      " 91%|█████████▏| 247/270 [01:01<00:03,  6.67it/s]\u001b[A\n",
      " 92%|█████████▏| 248/270 [01:01<00:03,  6.67it/s]\u001b[A"
     ]
    },
    {
     "name": "stdout",
     "output_type": "stream",
     "text": [
      "Acc: 99.96, Recall: 0.0, Precision: 0.0, F1: 0.0\n",
      "Acc: 99.97, Recall: 28.57, Precision: 28.57, F1: 28.57\n"
     ]
    },
    {
     "name": "stderr",
     "output_type": "stream",
     "text": [
      "\n",
      " 92%|█████████▏| 249/270 [01:02<00:03,  6.69it/s]\u001b[A\n",
      " 93%|█████████▎| 250/270 [01:02<00:02,  6.72it/s]\u001b[A"
     ]
    },
    {
     "name": "stdout",
     "output_type": "stream",
     "text": [
      "Acc: 99.98, Recall: 0.0, Precision: 0.0, F1: 0.0\n",
      "Acc: 99.99, Recall: 0.0, Precision: 0.0, F1: 0.0\n"
     ]
    },
    {
     "name": "stderr",
     "output_type": "stream",
     "text": [
      "\n",
      " 93%|█████████▎| 251/270 [01:02<00:02,  6.75it/s]\u001b[A\n",
      " 93%|█████████▎| 252/270 [01:02<00:02,  6.78it/s]\u001b[A"
     ]
    },
    {
     "name": "stdout",
     "output_type": "stream",
     "text": [
      "Acc: 100.0, Recall: 100.0, Precision: 100.0, F1: 100.0\n",
      "Acc: 99.99, Recall: 0.0, Precision: 0.0, F1: 0.0\n"
     ]
    },
    {
     "name": "stderr",
     "output_type": "stream",
     "text": [
      "\n",
      " 94%|█████████▎| 253/270 [01:02<00:02,  6.76it/s]\u001b[A\n",
      " 94%|█████████▍| 254/270 [01:02<00:02,  6.75it/s]\u001b[A"
     ]
    },
    {
     "name": "stdout",
     "output_type": "stream",
     "text": [
      "Acc: 99.98, Recall: 25.0, Precision: 25.0, F1: 25.0\n",
      "Acc: 99.98, Recall: 0.0, Precision: 0.0, F1: 0.0\n"
     ]
    },
    {
     "name": "stderr",
     "output_type": "stream",
     "text": [
      "\n",
      " 94%|█████████▍| 255/270 [01:02<00:02,  6.74it/s]\u001b[A\n",
      " 95%|█████████▍| 256/270 [01:03<00:02,  6.76it/s]\u001b[A"
     ]
    },
    {
     "name": "stdout",
     "output_type": "stream",
     "text": [
      "Acc: 99.97, Recall: 16.67, Precision: 16.67, F1: 16.67\n",
      "Acc: 99.99, Recall: 0.0, Precision: 0.0, F1: 0.0\n"
     ]
    },
    {
     "name": "stderr",
     "output_type": "stream",
     "text": [
      "\n",
      " 95%|█████████▌| 257/270 [01:03<00:01,  6.74it/s]\u001b[A\n",
      " 96%|█████████▌| 258/270 [01:03<00:01,  6.74it/s]\u001b[A"
     ]
    },
    {
     "name": "stdout",
     "output_type": "stream",
     "text": [
      "Acc: 99.98, Recall: 0.0, Precision: 0.0, F1: 0.0\n",
      "Acc: 99.98, Recall: 0.0, Precision: 0.0, F1: 0.0\n"
     ]
    },
    {
     "name": "stderr",
     "output_type": "stream",
     "text": [
      "\n",
      " 96%|█████████▌| 259/270 [01:03<00:01,  6.75it/s]\u001b[A\n",
      " 96%|█████████▋| 260/270 [01:03<00:01,  6.77it/s]\u001b[A"
     ]
    },
    {
     "name": "stdout",
     "output_type": "stream",
     "text": [
      "Acc: 99.99, Recall: 0.0, Precision: 0.0, F1: 0.0\n",
      "Acc: 99.99, Recall: 0.0, Precision: 0.0, F1: 0.0\n"
     ]
    },
    {
     "name": "stderr",
     "output_type": "stream",
     "text": [
      "\n",
      " 97%|█████████▋| 261/270 [01:03<00:01,  6.77it/s]\u001b[A\n",
      " 97%|█████████▋| 262/270 [01:03<00:01,  6.77it/s]\u001b[A"
     ]
    },
    {
     "name": "stdout",
     "output_type": "stream",
     "text": [
      "Acc: 99.98, Recall: 0.0, Precision: 0.0, F1: 0.0\n",
      "Acc: 99.99, Recall: 0.0, Precision: 0.0, F1: 0.0\n"
     ]
    },
    {
     "name": "stderr",
     "output_type": "stream",
     "text": [
      "\n",
      " 97%|█████████▋| 263/270 [01:04<00:01,  6.77it/s]\u001b[A\n",
      " 98%|█████████▊| 264/270 [01:04<00:00,  6.78it/s]\u001b[A"
     ]
    },
    {
     "name": "stdout",
     "output_type": "stream",
     "text": [
      "Acc: 99.99, Recall: 0.0, Precision: 0.0, F1: 0.0\n",
      "Acc: 99.99, Recall: 0.0, Precision: 0.0, F1: 0.0\n"
     ]
    },
    {
     "name": "stderr",
     "output_type": "stream",
     "text": [
      "\n",
      " 98%|█████████▊| 265/270 [01:04<00:00,  6.78it/s]\u001b[A\n",
      " 99%|█████████▊| 266/270 [01:04<00:00,  6.79it/s]\u001b[A"
     ]
    },
    {
     "name": "stdout",
     "output_type": "stream",
     "text": [
      "Acc: 99.99, Recall: 0.0, Precision: 0.0, F1: 0.0\n",
      "Acc: 99.99, Recall: 0.0, Precision: 0.0, F1: 0.0\n"
     ]
    },
    {
     "name": "stderr",
     "output_type": "stream",
     "text": [
      "\n",
      " 99%|█████████▉| 267/270 [01:04<00:00,  6.79it/s]\u001b[A\n",
      " 99%|█████████▉| 268/270 [01:04<00:00,  6.80it/s]\u001b[A"
     ]
    },
    {
     "name": "stdout",
     "output_type": "stream",
     "text": [
      "Acc: 99.99, Recall: 0.0, Precision: 0.0, F1: 0.0\n",
      "Acc: 99.99, Recall: 0.0, Precision: 0.0, F1: 0.0\n"
     ]
    },
    {
     "name": "stderr",
     "output_type": "stream",
     "text": [
      "\n",
      "100%|█████████▉| 269/270 [01:04<00:00,  6.80it/s]\u001b[A\n",
      "100%|██████████| 270/270 [01:05<00:00,  4.15it/s]\u001b[A\n",
      "100%|██████████| 1/1 [01:05<00:00, 65.12s/it]"
     ]
    },
    {
     "name": "stdout",
     "output_type": "stream",
     "text": [
      "Acc: 99.99, Recall: 0.0, Precision: 0.0, F1: 0.0\n",
      "Acc: 99.99, Recall: 0.0, Precision: 0.0, F1: 0.0\n"
     ]
    },
    {
     "name": "stderr",
     "output_type": "stream",
     "text": [
      "\n"
     ]
    }
   ],
   "source": [
    "## Trial for the first country_dict  (recall and precision and F1 scores are equal)\n",
    "\n",
    "from sklearn.metrics import accuracy_score, precision_score, recall_score, f1_score\n",
    "\n",
    "all_images = list(data['imageRelPath'])\n",
    "list_dict_topic2FNimg = []\n",
    "list_dict_topic2F1 = []\n",
    "\n",
    "for income_dict in tqdm.tqdm(list_income_score_dicts[:1]):\n",
    "    \n",
    "    dict_topic2FNimg = {}\n",
    "    dict_topic2F1 = {}\n",
    "    \n",
    "    for topic in tqdm.tqdm(list(income_dict.keys())):\n",
    "        dict_income_topic2img = next(item for item in list_of_income_dicts if topic in item.keys())\n",
    "        count_pos = len(dict_income_topic2img[topic])\n",
    "        \n",
    "        GT_pos_images = dict_income_topic2img[topic]\n",
    "        Pred_pos_images = [data[1] for data in income_dict[topic][:count_pos]]\n",
    "\n",
    "        GT_labels = [1 if img in GT_pos_images else 0 for img in all_images]\n",
    "        Pred_labels = [1 if img in Pred_pos_images else 0 for img in all_images]\n",
    "        \n",
    "        \n",
    "        accuracy = round(accuracy_score(GT_labels, Pred_labels) * 100, 2)\n",
    "        precision = round(precision_score(GT_labels, Pred_labels) * 100, 2)\n",
    "        recall = round(recall_score(GT_labels, Pred_labels) * 100, 2)\n",
    "        f1 = round(f1_score(GT_labels, Pred_labels) * 100, 2)\n",
    "        \n",
    "        print(f\"Acc: {accuracy}, Recall: {recall}, Precision: {precision}, F1: {f1}\")\n",
    "        \n",
    "        dict_topic2F1[topic] = f1 \n",
    "        list_dict_topic2F1.append(dict_topic2F1)\n",
    "        \n",
    "        \n",
    "        # What are the forgotten items (FN) \n",
    "        images_FN = []\n",
    "        for idx, img in enumerate(all_images):\n",
    "            label_GT = GT_labels[idx]\n",
    "            label_Pred = Pred_labels[idx]\n",
    "            #FN\n",
    "            if label_GT == 1 and label_Pred == 0:\n",
    "                images_FN.append(img) \n",
    "        \n",
    "        dict_topic2FNimg[topic] = images_FN\n",
    "        \n",
    "        list_dict_topic2FNimg.append(dict_topic2FNimg)\n",
    "        "
   ]
  },
  {
   "cell_type": "code",
   "execution_count": 74,
   "id": "892177f7",
   "metadata": {},
   "outputs": [],
   "source": [
    "#dict_topic2F1"
   ]
  },
  {
   "cell_type": "code",
   "execution_count": null,
   "id": "70936d47",
   "metadata": {},
   "outputs": [],
   "source": [
    "#len(dict_topic2FNimg['This is a photo of family snapshots from Peru'])"
   ]
  },
  {
   "cell_type": "code",
   "execution_count": 41,
   "id": "6cd18e50",
   "metadata": {},
   "outputs": [
    {
     "name": "stderr",
     "output_type": "stream",
     "text": [
      "100%|██████████| 36/36 [38:43<00:00, 64.53s/it]\n"
     ]
    }
   ],
   "source": [
    "from sklearn.metrics import accuracy_score, precision_score, recall_score, f1_score\n",
    "\n",
    "all_images = list(data['imageRelPath'])\n",
    "list_dict_topic2FNimg = []\n",
    "list_dict_topic2F1 = []\n",
    "\n",
    "for income_dict in tqdm.tqdm(list_income_score_dicts):\n",
    "    \n",
    "    dict_topic2FNimg = {}\n",
    "    dict_topic2F1 = {}\n",
    "    \n",
    "    for topic in list(income_dict.keys()):\n",
    "        dict_income_topic2img = next(item for item in list_of_income_dicts if topic in item.keys())\n",
    "        count_pos = len(dict_income_topic2img[topic])\n",
    "        \n",
    "        GT_pos_images = dict_income_topic2img[topic]\n",
    "        Pred_pos_images = [data[1] for data in income_dict[topic][:count_pos]]\n",
    "\n",
    "        GT_labels = [1 if img in GT_pos_images else 0 for img in all_images]\n",
    "        Pred_labels = [1 if img in Pred_pos_images else 0 for img in all_images]\n",
    "        \n",
    "        \n",
    "        accuracy = round(accuracy_score(GT_labels, Pred_labels) * 100, 2)\n",
    "        precision = round(precision_score(GT_labels, Pred_labels) * 100, 2)\n",
    "        recall = round(recall_score(GT_labels, Pred_labels) * 100, 2)\n",
    "        f1 = round(f1_score(GT_labels, Pred_labels) * 100, 2)\n",
    "        \n",
    "        #print(f\"Acc: {accuracy}, Recall: {recall}, Precision: {precision}, F1: {f1}\")\n",
    "        \n",
    "        dict_topic2F1[topic] = f1\n",
    "        \n",
    "        \n",
    "        \n",
    "        # What are the forgotten items (FN) \n",
    "        images_FN = []\n",
    "        for idx, img in enumerate(all_images):\n",
    "            label_GT = GT_labels[idx]\n",
    "            label_Pred = Pred_labels[idx]\n",
    "            #FN\n",
    "            if label_GT == 1 and label_Pred == 0:\n",
    "                images_FN.append(img) \n",
    "        \n",
    "        dict_topic2FNimg[topic] = images_FN\n",
    "        \n",
    "    list_dict_topic2FNimg.append(dict_topic2FNimg)\n",
    "    list_dict_topic2F1.append(dict_topic2F1)"
   ]
  },
  {
   "cell_type": "code",
   "execution_count": null,
   "id": "012f4d8e",
   "metadata": {},
   "outputs": [],
   "source": []
  },
  {
   "cell_type": "code",
   "execution_count": 44,
   "id": "17a0acc6",
   "metadata": {},
   "outputs": [
    {
     "data": {
      "text/plain": [
       "270"
      ]
     },
     "execution_count": 44,
     "metadata": {},
     "output_type": "execute_result"
    }
   ],
   "source": [
    "len(list_dict_topic2F1[0])"
   ]
  },
  {
   "cell_type": "code",
   "execution_count": 45,
   "id": "21b12b38",
   "metadata": {},
   "outputs": [
    {
     "data": {
      "text/plain": [
       "{'This is a photo of family snapshots from a low income country': 2.94,\n",
       " 'This is a photo of cutlery from a low income country': 4.32,\n",
       " 'This is a photo of family from a low income country': 52.7,\n",
       " 'This is a photo of place where eating dinner from a low income country': 13.23,\n",
       " 'This is a photo of plate of food from a low income country': 48.23,\n",
       " 'This is a photo of table with food from a low income country': 41.7,\n",
       " 'This is a photo of get water from a low income country': 23.71,\n",
       " 'This is a photo of stove/hob from a low income country': 41.4,\n",
       " 'This is a photo of light source in kitchen from a low income country': 32.36,\n",
       " 'This is a photo of drinking water from a low income country': 18.89,\n",
       " 'This is a photo of kitchen sink from a low income country': 37.5,\n",
       " 'This is a photo of bathroom privacy from a low income country': 17.34,\n",
       " 'This is a photo of backyard from a low income country': 22.67,\n",
       " 'This is a photo of front door from a low income country': 14.11,\n",
       " 'This is a photo of home from a low income country': 39.3,\n",
       " 'This is a photo of source of cool from a low income country': 12.96,\n",
       " 'This is a photo of street view from a low income country': 56.06,\n",
       " 'This is a photo of teeth from a low income country': 74.7,\n",
       " 'This is a photo of hand back from a low income country': 32.68,\n",
       " 'This is a photo of hand palm from a low income country': 52.24,\n",
       " 'This is a photo of pet from a low income country': 28.65,\n",
       " 'This is a photo of bedroom from a low income country': 31.58,\n",
       " 'This is a photo of grains from a low income country': 36.36,\n",
       " 'This is a photo of wardrobe from a low income country': 40.17,\n",
       " 'This is a photo of armchair from a low income country': 44.94,\n",
       " 'This is a photo of hallway from a low income country': 18.37,\n",
       " 'This is a photo of kitchen from a low income country': 47.9,\n",
       " 'This is a photo of books from a low income country': 43.77,\n",
       " 'This is a photo of everyday shoes from a low income country': 42.5,\n",
       " 'This is a photo of hand washing from a low income country': 37.76,\n",
       " 'This is a photo of trash/waste from a low income country': 19.34,\n",
       " 'This is a photo of tools from a low income country': 16.4,\n",
       " 'This is a photo of hair brush/comb from a low income country': 70.94,\n",
       " 'This is a photo of street detail from a low income country': 3.78,\n",
       " 'This is a photo of soap for hands and body from a low income country': 21.49,\n",
       " 'This is a photo of shampoo from a low income country': 53.39,\n",
       " 'This is a photo of vegetable plot from a low income country': 25.71,\n",
       " 'This is a photo of roof from a low income country': 45.54,\n",
       " 'This is a photo of toilet from a low income country': 31.03,\n",
       " 'This is a photo of spices from a low income country': 51.55,\n",
       " 'This is a photo of salt from a low income country': 40.41,\n",
       " 'This is a photo of jewelry from a low income country': 48.66,\n",
       " 'This is a photo of cooking utensils from a low income country': 5.98,\n",
       " 'This is a photo of dish washing brush/cloth from a low income country': 1.71,\n",
       " 'This is a photo of cooking pots from a low income country': 26.3,\n",
       " 'This is a photo of plates from a low income country': 20.23,\n",
       " 'This is a photo of cups/mugs/glasses from a low income country': 46.08,\n",
       " 'This is a photo of wall from a low income country': 19.23,\n",
       " 'This is a photo of cattle from a low income country': 45.45,\n",
       " 'This is a photo of ceiling from a low income country': 30.39,\n",
       " 'This is a photo of bed from a low income country': 33.49,\n",
       " 'This is a photo of storage room from a low income country': 6.22,\n",
       " 'This is a photo of refrigerator from a low income country': 48.26,\n",
       " 'This is a photo of floor from a low income country': 16.45,\n",
       " 'This is a photo of wall inside from a low income country': 7.84,\n",
       " 'This is a photo of tooth paste from a low income country': 49.78,\n",
       " 'This is a photo of toothbrush from a low income country': 32.97,\n",
       " 'This is a photo of goats from a low income country': 66.67,\n",
       " 'This is a photo of cleaning equipment from a low income country': 5.0,\n",
       " 'This is a photo of cleaning after toilet from a low income country': 1.43,\n",
       " 'This is a photo of visit from a low income country': 5.2,\n",
       " 'This is a photo of hand open to closed from a low income country': 6.12,\n",
       " 'This is a photo of brushing teeth from a low income country': 8.38,\n",
       " 'This is a photo of using toilet from a low income country': 4.08,\n",
       " 'This is a photo of doing dishes from a low income country': 2.78,\n",
       " 'This is a photo of pouring drinking water from a low income country': 15.33,\n",
       " 'This is a photo of pouring water from a low income country': 3.93,\n",
       " 'This is a photo of starting stove from a low income country': 20.3,\n",
       " 'This is a photo of cooking from a low income country': 13.94,\n",
       " 'This is a photo of preparing food from a low income country': 16.57,\n",
       " 'This is a photo of shoes from a low income country': 3.33,\n",
       " 'This is a photo of washing hands from a low income country': 27.72,\n",
       " 'This is a photo of walking to get water from a low income country': 17.95,\n",
       " 'This is a photo of washing clothes/cleaning from a low income country': 40.32,\n",
       " 'This is a photo of eating from a low income country': 6.45,\n",
       " 'This is a photo of family eating from a low income country': 29.91,\n",
       " 'This is a photo of vegetables from a low income country': 33.79,\n",
       " 'This is a photo of smoke and steam exit from a low income country': 4.29,\n",
       " 'This is a photo of fruits and vegetables from a low income country': 11.43,\n",
       " 'This is a photo of toys from a low income country': 19.41,\n",
       " 'This is a photo of nicest shoes from a low income country': 38.61,\n",
       " 'This is a photo of mosquito protection from a low income country': 28.83,\n",
       " 'This is a photo of wall decoration from a low income country': 24.34,\n",
       " 'This is a photo of living room from a low income country': 15.05,\n",
       " 'This is a photo of fruit trees from a low income country': 45.0,\n",
       " 'This is a photo of toilet paper from a low income country': 19.83,\n",
       " 'This is a photo of bathroom/toilet from a low income country': 28.57,\n",
       " 'This is a photo of shaving from a low income country': 30.28,\n",
       " 'This is a photo of lock on front door from a low income country': 68.1,\n",
       " 'This is a photo of couch from a low income country': 41.2,\n",
       " 'This is a photo of sofa from a low income country': 40.53,\n",
       " 'This is a photo of knifes from a low income country': 68.72,\n",
       " 'This is a photo of dish racks from a low income country': 37.8,\n",
       " 'This is a photo of play area from a low income country': 19.89,\n",
       " 'This is a photo of place where serving guests from a low income country': 6.8,\n",
       " 'This is a photo of photo guide images from a low income country': 14.67,\n",
       " 'This is a photo of agriculture land from a low income country': 26.42,\n",
       " 'This is a photo of sitting area from a low income country': 6.1,\n",
       " 'This is a photo of bed kids from a low income country': 15.79,\n",
       " 'This is a photo of drying from a low income country': 5.45,\n",
       " 'This is a photo of water outlet from a low income country': 4.25,\n",
       " 'This is a photo of drainage from a low income country': 25.16,\n",
       " 'This is a photo of shower from a low income country': 20.67,\n",
       " 'This is a photo of house overview from a low income country': 2.63,\n",
       " 'This is a photo of socializing from a low income country': 4.82,\n",
       " 'This is a photo of playing from a low income country': 4.32,\n",
       " 'This is a photo of kids playing outside from a low income country': 5.0,\n",
       " 'This is a photo of chopping food from a low income country': 8.11,\n",
       " 'This is a photo of chickens from a low income country': 61.43,\n",
       " 'This is a photo of bike from a low income country': 63.95,\n",
       " 'This is a photo of source of heat from a low income country': 30.43,\n",
       " 'This is a photo of phone from a low income country': 61.29,\n",
       " 'This is a photo of work area from a low income country': 1.78,\n",
       " 'This is a photo of children room from a low income country': 9.28,\n",
       " 'This is a photo of light source in livingroom from a low income country': 27.81,\n",
       " 'This is a photo of washing detergent from a low income country': 33.65,\n",
       " 'This is a photo of medication from a low income country': 40.41,\n",
       " 'This is a photo of dish washing soap from a low income country': 22.85,\n",
       " 'This is a photo of turning lights on and off from a low income country': 9.67,\n",
       " 'This is a photo of source of light from a low income country': 7.25,\n",
       " 'This is a photo of wall clock from a low income country': 70.11,\n",
       " 'This is a photo of guest bed from a low income country': 14.29,\n",
       " 'This is a photo of diapers (or baby-pants) from a low income country': 61.04,\n",
       " 'This is a photo of switch on/off from a low income country': 56.09,\n",
       " 'This is a photo of pen/pencils from a low income country': 47.57,\n",
       " 'This is a photo of paper from a low income country': 18.4,\n",
       " 'This is a photo of rug from a low income country': 35.42,\n",
       " 'This is a photo of bed_hq from a low income country': 0.0,\n",
       " 'This is a photo of social drink from a low income country': 23.9,\n",
       " 'This is a photo of carrying water from a low income country': 9.09,\n",
       " 'This is a photo of light sources from a low income country': 15.36,\n",
       " 'This is a photo of music equipment from a low income country': 18.58,\n",
       " 'This is a photo of frontdoor keys from a low income country': 42.86,\n",
       " 'This is a photo of lightsources by bed from a low income country': 3.6,\n",
       " 'This is a photo of reading light from a low income country': 1.8,\n",
       " 'This is a photo of necklaces from a low income country': 32.85,\n",
       " 'This is a photo of earings from a low income country': 44.85,\n",
       " 'This is a photo of cosmetics from a low income country': 20.33,\n",
       " 'This is a photo of cleaning floors from a low income country': 14.93,\n",
       " 'This is a photo of make up from a low income country': 1.35,\n",
       " 'This is a photo of putting on make up from a low income country': 1.67,\n",
       " 'This is a photo of chopping ingredients from a low income country': 8.33,\n",
       " 'This is a photo of brushing hair from a low income country': 5.75,\n",
       " 'This is a photo of taking a teaspoon of salt from a low income country': 6.25,\n",
       " 'This is a photo of drinking social drink from a low income country': 15.24,\n",
       " 'This is a photo of meat or fish from a low income country': 31.09,\n",
       " 'This is a photo of replaced from a low income country': 0.0,\n",
       " 'This is a photo of radio from a low income country': 55.77,\n",
       " 'This is a photo of listening to the radio from a low income country': 10.42,\n",
       " 'This is a photo of coins from a low income country': 0.0,\n",
       " 'This is a photo of pet foods from a low income country': 36.92,\n",
       " 'This is a photo of menstruation pads / tampax from a low income country': 40.0,\n",
       " 'This is a photo of dinner guests from a low income country': 2.08,\n",
       " 'This is a photo of nature sceneries from a low income country': 0.0,\n",
       " 'This is a photo of worship places from a low income country': 0.76,\n",
       " 'This is a photo of power outlet from a low income country': 69.92,\n",
       " 'This is a photo of glasses or lenses from a low income country': 92.52,\n",
       " 'This is a photo of adding spices to food while cooking from a low income country': 19.4,\n",
       " 'This is a photo of presenting dollar street from a low income country': 0.0,\n",
       " 'This is a photo of worshipping from a low income country': 0.0,\n",
       " 'This is a photo of writing from a low income country': 1.32,\n",
       " 'This is a photo of writing signature from a low income country': 17.28,\n",
       " 'This is a photo of tv from a low income country': 58.3,\n",
       " 'This is a photo of fishes from a low income country': 32.76,\n",
       " 'This is a photo of bowls from a low income country': 4.35,\n",
       " 'This is a photo of kids playing inside from a low income country': 7.04,\n",
       " 'This is a photo of bills of money from a low income country': 0.0,\n",
       " 'This is a photo of coats and jackets from a low income country': 23.08,\n",
       " 'This is a photo of surroundings from a low income country': 0.0,\n",
       " 'This is a photo of moped/motorcycle from a low income country': 49.38,\n",
       " 'This is a photo of parking lot from a low income country': 7.94,\n",
       " 'This is a photo of toothpaste on toothbrush from a low income country': 0.0,\n",
       " 'This is a photo of wheel barrow from a low income country': 37.78,\n",
       " 'This is a photo of waste dumps from a low income country': 6.3,\n",
       " 'This is a photo of wedding photos from a low income country': 20.48,\n",
       " 'This is a photo of ventilation from a low income country': 0.0,\n",
       " 'This is a photo of milk cows or bulls from a low income country': 0.0,\n",
       " 'This is a photo of answering the phone from a low income country': 1.96,\n",
       " 'This is a photo of closing the front door from a low income country': 2.86,\n",
       " 'This is a photo of hanging clothes to dry from a low income country': 0.0,\n",
       " 'This is a photo of opening the front door from a low income country': 1.14,\n",
       " 'This is a photo of reading from a low income country': 8.75,\n",
       " 'This is a photo of reading a book from a low income country': 6.98,\n",
       " 'This is a photo of seeing the back of book from a low income country': 0.0,\n",
       " 'This is a photo of sleeping from a low income country': 1.75,\n",
       " 'This is a photo of turning fan/ac on from a low income country': 0.0,\n",
       " 'This is a photo of turning heater on from a low income country': 3.12,\n",
       " 'This is a photo of walking towards front door from a low income country': 1.2,\n",
       " 'This is a photo of writing \"home\" from a low income country': 0.0,\n",
       " 'This is a photo of piercings from a low income country': 50.0,\n",
       " 'This is a photo of fishing equipment from a low income country': 0.0,\n",
       " 'This is a photo of arm watch from a low income country': 60.4,\n",
       " 'This is a photo of soccer balls from a low income country': 33.33,\n",
       " 'This is a photo of horse stables from a low income country': 0.0,\n",
       " 'This is a photo of playgrounds from a low income country': 14.29,\n",
       " 'This is a photo of drinks from a low income country': 0.0,\n",
       " 'This is a photo of other transport from a low income country': 0.0,\n",
       " 'This is a photo of car from a low income country': 21.88,\n",
       " 'This is a photo of car decorations from a low income country': 0.0,\n",
       " 'This is a photo of transport of heavy things from a low income country': 0.0,\n",
       " 'This is a photo of clothes from a low income country': 0.0,\n",
       " 'This is a photo of cigarettes from a low income country': 40.0,\n",
       " 'This is a photo of portraits from a low income country': 0.0,\n",
       " 'This is a photo of ingredients from a low income country': 0.0,\n",
       " 'This is a photo of fields from a low income country': 0.0,\n",
       " 'This is a photo of celebrity posters from a low income country': 0.0,\n",
       " 'This is a photo of freezer from a low income country': 37.97,\n",
       " 'This is a photo of boat from a low income country': 0.0,\n",
       " 'This is a photo of arm watches from a low income country': 23.33,\n",
       " 'This is a photo of sitting and watching tv from a low income country': 17.86,\n",
       " 'This is a photo of plugging into and out of power outlet from a low income country': 11.22,\n",
       " 'This is a photo of dishwasher from a low income country': 56.36,\n",
       " 'This is a photo of oven from a low income country': 24.83,\n",
       " 'This is a photo of baby powder from a low income country': 25.0,\n",
       " 'This is a photo of tattoos from a low income country': 52.94,\n",
       " 'This is a photo of sheep from a low income country': 25.0,\n",
       " 'This is a photo of preparing social drink from a low income country': 0.0,\n",
       " 'This is a photo of go through mail from a low income country': 0.0,\n",
       " 'This is a photo of smoking from a low income country': 0.0,\n",
       " 'This is a photo of walking through home from a low income country': 0.0,\n",
       " 'This is a photo of computer from a low income country': 36.46,\n",
       " 'This is a photo of contraceptives from a low income country': 28.0,\n",
       " 'This is a photo of instrument from a low income country': 8.51,\n",
       " 'This is a photo of rehabilitation technology from a low income country': 0.0,\n",
       " 'This is a photo of turn tv on from a low income country': 2.33,\n",
       " 'This is a photo of playing an instrument from a low income country': 8.82,\n",
       " 'This is a photo of bread ready from a low income country': 0.0,\n",
       " 'This is a photo of alcoholic drinks from a low income country': 10.53,\n",
       " 'This is a photo of snacks from a low income country': 9.09,\n",
       " 'This is a photo of alarm clock from a low income country': 12.24,\n",
       " 'This is a photo of throwing food trash away from a low income country': 2.56,\n",
       " 'This is a photo of car keys from a low income country': 68.97,\n",
       " 'This is a photo of tractors from a low income country': 100.0,\n",
       " 'This is a photo of opening and closing the refrigerator from a low income country': 6.0,\n",
       " 'This is a photo of water sources from a low income country': 0.0,\n",
       " 'This is a photo of opening and closing the freezer from a low income country': 7.23,\n",
       " 'This is a photo of horses from a low income country': 33.33,\n",
       " 'This is a photo of water sources for doing dishes from a low income country': 0.0,\n",
       " 'This is a photo of soccer supporter items from a low income country': 0.0,\n",
       " 'This is a photo of cooking food from a low income country': 0.0,\n",
       " 'This is a photo of snack stores from a low income country': 100.0,\n",
       " 'This is a photo of daylight ostructions from a low income country': 0.0,\n",
       " 'This is a photo of smog/bad air breathing protection from a low income country': 0.0,\n",
       " 'This is a photo of bad outdoor air obstructions from a low income country': 0.0,\n",
       " 'This is a photo of skies outside from a low income country': 0.0,\n",
       " 'This is a photo of sources of drinking water from a low income country': 0.0,\n",
       " 'This is a photo of laying in bed - pretend to sleep from a low income country': 0.0,\n",
       " 'This is a photo of newspapers from a low income country': 42.86,\n",
       " 'This is a photo of elevators from a low income country': 0.0,\n",
       " 'This is a photo of water purifier solutions from a low income country': 0.0,\n",
       " 'This is a photo of air fresheners (scents from a low income country': 100.0,\n",
       " 'This is a photo of smells) from a low income country': 0.0,\n",
       " 'This is a photo of air cleaning equipments from a low income country': 25.0,\n",
       " 'This is a photo of foodstores from a low income country': 0.0,\n",
       " 'This is a photo of markets from a low income country': 16.67,\n",
       " 'This is a photo of picking up the phone from a low income country': 0.0,\n",
       " 'This is a photo of bread - ready from a low income country': 25.0,\n",
       " 'This is a photo of opening mail from a low income country': 0.0,\n",
       " 'This is a photo of meat storages from a low income country': 0.0,\n",
       " 'This is a photo of bread bowls from a low income country': 0.0,\n",
       " 'This is a photo of disability aid from a low income country': 0.0,\n",
       " 'This is a photo of electric wires from a low income country': 0.0,\n",
       " 'This is a photo of tabloids from a low income country': 0.0,\n",
       " 'This is a photo of equipment from a low income country': 0.0,\n",
       " 'This is a photo of baking tools from a low income country': 0.0,\n",
       " 'This is a photo of baking sheets from a low income country': 0.0,\n",
       " 'This is a photo of baking tables from a low income country': 0.0,\n",
       " 'This is a photo of electricity wires from a low income country': 0.0,\n",
       " 'This is a photo of meat markets from a low income country': 0.0,\n",
       " 'This is a photo of vegetable markets from a low income country': 100.0}"
      ]
     },
     "execution_count": 45,
     "metadata": {},
     "output_type": "execute_result"
    }
   ],
   "source": [
    "list_dict_topic2F1[1]"
   ]
  },
  {
   "cell_type": "code",
   "execution_count": 42,
   "id": "a0dcfc6a",
   "metadata": {},
   "outputs": [],
   "source": [
    "f = open(\"data/income_list_dict_topic2FNimg.pkl\",\"wb\")\n",
    "\n",
    "# write the python object (dict) to pickle file\n",
    "pickle.dump(list_dict_topic2FNimg,f)\n",
    "\n",
    "# close file\n",
    "f.close()"
   ]
  },
  {
   "cell_type": "code",
   "execution_count": 43,
   "id": "c4988563",
   "metadata": {},
   "outputs": [],
   "source": [
    "f = open(\"data/income_list_dict_topic2F1.pkl\",\"wb\")\n",
    "\n",
    "# write the python object (dict) to pickle file\n",
    "pickle.dump(list_dict_topic2F1,f)\n",
    "\n",
    "# close file\n",
    "f.close()"
   ]
  },
  {
   "cell_type": "code",
   "execution_count": null,
   "id": "9609aaf4",
   "metadata": {},
   "outputs": [],
   "source": []
  },
  {
   "cell_type": "code",
   "execution_count": null,
   "id": "606decf0",
   "metadata": {},
   "outputs": [],
   "source": []
  },
  {
   "cell_type": "code",
   "execution_count": null,
   "id": "e1c90372",
   "metadata": {},
   "outputs": [],
   "source": []
  }
 ],
 "metadata": {
  "kernelspec": {
   "display_name": "Python 3 (ipykernel)",
   "language": "python",
   "name": "python3"
  },
  "language_info": {
   "codemirror_mode": {
    "name": "ipython",
    "version": 3
   },
   "file_extension": ".py",
   "mimetype": "text/x-python",
   "name": "python",
   "nbconvert_exporter": "python",
   "pygments_lexer": "ipython3",
   "version": "3.10.9"
  }
 },
 "nbformat": 4,
 "nbformat_minor": 5
}
