{
 "cells": [
  {
   "cell_type": "code",
   "execution_count": 1,
   "id": "ff43253d",
   "metadata": {},
   "outputs": [],
   "source": [
    "path_data = '/data'"
   ]
  },
  {
   "cell_type": "code",
   "execution_count": 2,
   "id": "fbb1c522",
   "metadata": {},
   "outputs": [
    {
     "name": "stdout",
     "output_type": "stream",
     "text": [
      "Torch version: 2.2.1+cu121\n"
     ]
    }
   ],
   "source": [
    "import numpy as np\n",
    "import pandas as pd\n",
    "import matplotlib.pyplot as plt\n",
    "import seaborn as sns \n",
    "import warnings\n",
    "warnings.filterwarnings(\"ignore\")\n",
    "import os\n",
    "\n",
    "import pandas as pd\n",
    "\n",
    "import torch\n",
    "from pkg_resources import packaging\n",
    "from PIL import Image\n",
    "import tqdm\n",
    "from pathlib import Path\n",
    "print(\"Torch version:\", torch.__version__)\n",
    "\n",
    "from PIL import ImageFile\n",
    "ImageFile.LOAD_TRUNCATED_IMAGES = True\n",
    "\n",
    "plt.style.use('ggplot')"
   ]
  },
  {
   "cell_type": "code",
   "execution_count": 3,
   "id": "4c14e84c",
   "metadata": {},
   "outputs": [],
   "source": [
    "data_unfiltered = pd.read_csv(\"/\".join([path_data, \"images_v2.csv\"]))\n",
    "#display(data_unfiltered)"
   ]
  },
  {
   "cell_type": "code",
   "execution_count": 4,
   "id": "f79fed69",
   "metadata": {},
   "outputs": [
    {
     "data": {
      "text/plain": [
       "38479"
      ]
     },
     "execution_count": 4,
     "metadata": {},
     "output_type": "execute_result"
    }
   ],
   "source": [
    "len(data_unfiltered)"
   ]
  },
  {
   "cell_type": "markdown",
   "id": "f7c8d061",
   "metadata": {},
   "source": [
    "### Remove subjective topics"
   ]
  },
  {
   "cell_type": "code",
   "execution_count": 5,
   "id": "e6c18806",
   "metadata": {},
   "outputs": [],
   "source": [
    "subjective_topics = ['Favorite home decorations', 'Favourite item in kitchen', 'Favourite sports clubs', 'How the most loved item is used', 'icons', 'Idols', 'Latest furniture bought', ' looking over the shoulder', 'Most loved item', 'Most loved toy', 'Most played songs on the radio', 'Music idol', 'Next big thing you are planning to buy', 'Playing with most loved toy', 'Thing I dream about having', 'Things I wish I had', 'Using most loved item', 'Youth culture', 'What I wish I could buy']"
   ]
  },
  {
   "cell_type": "code",
   "execution_count": 6,
   "id": "377f14b7",
   "metadata": {},
   "outputs": [],
   "source": [
    "unique_topics = data_unfiltered['topics'].unique()"
   ]
  },
  {
   "cell_type": "code",
   "execution_count": 7,
   "id": "ec2c83fa",
   "metadata": {},
   "outputs": [],
   "source": [
    "Subjective_topic_list = []\n",
    "\n",
    "for topic in unique_topics:\n",
    "    topic_ = topic.replace('/ ', ', ')\n",
    "    topic_split = topic_.split(',')\n",
    "    for split in topic_split:\n",
    "        if split in subjective_topics:\n",
    "            Subjective_topic_list.append(topic)"
   ]
  },
  {
   "cell_type": "code",
   "execution_count": 8,
   "id": "d4d490bb",
   "metadata": {},
   "outputs": [
    {
     "data": {
      "text/html": [
       "<div>\n",
       "<style scoped>\n",
       "    .dataframe tbody tr th:only-of-type {\n",
       "        vertical-align: middle;\n",
       "    }\n",
       "\n",
       "    .dataframe tbody tr th {\n",
       "        vertical-align: top;\n",
       "    }\n",
       "\n",
       "    .dataframe thead th {\n",
       "        text-align: right;\n",
       "    }\n",
       "</style>\n",
       "<table border=\"1\" class=\"dataframe\">\n",
       "  <thead>\n",
       "    <tr style=\"text-align: right;\">\n",
       "      <th></th>\n",
       "      <th>id</th>\n",
       "      <th>country.name</th>\n",
       "      <th>country.id</th>\n",
       "      <th>region.id</th>\n",
       "      <th>type</th>\n",
       "      <th>imageRelPath</th>\n",
       "      <th>topics</th>\n",
       "      <th>place</th>\n",
       "      <th>income</th>\n",
       "    </tr>\n",
       "  </thead>\n",
       "  <tbody>\n",
       "    <tr>\n",
       "      <th>1</th>\n",
       "      <td>5d4bf31ccf0b3a0f3f359814</td>\n",
       "      <td>Burundi</td>\n",
       "      <td>bi</td>\n",
       "      <td>af</td>\n",
       "      <td>image</td>\n",
       "      <td>assets/5d4bf31ccf0b3a0f3f359814/5d4bf31ccf0b3a...</td>\n",
       "      <td>Family snapshots</td>\n",
       "      <td>butoyi</td>\n",
       "      <td>26.994581</td>\n",
       "    </tr>\n",
       "    <tr>\n",
       "      <th>2</th>\n",
       "      <td>5d4bf31ccf0b3a0f3f35982a</td>\n",
       "      <td>Burundi</td>\n",
       "      <td>bi</td>\n",
       "      <td>af</td>\n",
       "      <td>image</td>\n",
       "      <td>assets/5d4bf31ccf0b3a0f3f35982a/5d4bf31ccf0b3a...</td>\n",
       "      <td>Cutlery</td>\n",
       "      <td>butoyi</td>\n",
       "      <td>26.994581</td>\n",
       "    </tr>\n",
       "    <tr>\n",
       "      <th>3</th>\n",
       "      <td>5d4bf31ccf0b3a0f3f35982e</td>\n",
       "      <td>Burundi</td>\n",
       "      <td>bi</td>\n",
       "      <td>af</td>\n",
       "      <td>image</td>\n",
       "      <td>assets/5d4bf31ccf0b3a0f3f35982e/5d4bf31ccf0b3a...</td>\n",
       "      <td>Family</td>\n",
       "      <td>butoyi</td>\n",
       "      <td>26.994581</td>\n",
       "    </tr>\n",
       "    <tr>\n",
       "      <th>4</th>\n",
       "      <td>5d4bf31ccf0b3a0f3f359830</td>\n",
       "      <td>Burundi</td>\n",
       "      <td>bi</td>\n",
       "      <td>af</td>\n",
       "      <td>image</td>\n",
       "      <td>assets/5d4bf31ccf0b3a0f3f359830/5d4bf31ccf0b3a...</td>\n",
       "      <td>Place where eating dinner</td>\n",
       "      <td>butoyi</td>\n",
       "      <td>26.994581</td>\n",
       "    </tr>\n",
       "    <tr>\n",
       "      <th>5</th>\n",
       "      <td>5d4bf31dcf0b3a0f3f35983c</td>\n",
       "      <td>Burundi</td>\n",
       "      <td>bi</td>\n",
       "      <td>af</td>\n",
       "      <td>image</td>\n",
       "      <td>assets/5d4bf31dcf0b3a0f3f35983c/5d4bf31dcf0b3a...</td>\n",
       "      <td>Plate of food</td>\n",
       "      <td>butoyi</td>\n",
       "      <td>26.994581</td>\n",
       "    </tr>\n",
       "    <tr>\n",
       "      <th>...</th>\n",
       "      <td>...</td>\n",
       "      <td>...</td>\n",
       "      <td>...</td>\n",
       "      <td>...</td>\n",
       "      <td>...</td>\n",
       "      <td>...</td>\n",
       "      <td>...</td>\n",
       "      <td>...</td>\n",
       "      <td>...</td>\n",
       "    </tr>\n",
       "    <tr>\n",
       "      <th>38474</th>\n",
       "      <td>5ec4f5513f62767d97a47324</td>\n",
       "      <td>France</td>\n",
       "      <td>fr</td>\n",
       "      <td>eu</td>\n",
       "      <td>image</td>\n",
       "      <td>assets/5ec4f5513f62767d97a47324/5ec4f5513f6276...</td>\n",
       "      <td>Bed</td>\n",
       "      <td>larriere</td>\n",
       "      <td>19671.000000</td>\n",
       "    </tr>\n",
       "    <tr>\n",
       "      <th>38475</th>\n",
       "      <td>5ec4f5513f62767d97a47325</td>\n",
       "      <td>France</td>\n",
       "      <td>fr</td>\n",
       "      <td>eu</td>\n",
       "      <td>image</td>\n",
       "      <td>assets/5ec4f5513f62767d97a47325/5ec4f5513f6276...</td>\n",
       "      <td>Bathroom/Toilet</td>\n",
       "      <td>larriere</td>\n",
       "      <td>19671.000000</td>\n",
       "    </tr>\n",
       "    <tr>\n",
       "      <th>38476</th>\n",
       "      <td>5ec4f5523f62767d97a47327</td>\n",
       "      <td>France</td>\n",
       "      <td>fr</td>\n",
       "      <td>eu</td>\n",
       "      <td>image</td>\n",
       "      <td>assets/5ec4f5523f62767d97a47327/5ec4f5523f6276...</td>\n",
       "      <td>Armchair</td>\n",
       "      <td>larriere</td>\n",
       "      <td>19671.000000</td>\n",
       "    </tr>\n",
       "    <tr>\n",
       "      <th>38477</th>\n",
       "      <td>5ec4f5523f62767d97a47328</td>\n",
       "      <td>France</td>\n",
       "      <td>fr</td>\n",
       "      <td>eu</td>\n",
       "      <td>image</td>\n",
       "      <td>assets/5ec4f5523f62767d97a47328/5ec4f5523f6276...</td>\n",
       "      <td>Armchair</td>\n",
       "      <td>larriere</td>\n",
       "      <td>19671.000000</td>\n",
       "    </tr>\n",
       "    <tr>\n",
       "      <th>38478</th>\n",
       "      <td>5ecfdf1f581a3d02cf7f8c05</td>\n",
       "      <td>France</td>\n",
       "      <td>fr</td>\n",
       "      <td>eu</td>\n",
       "      <td>image</td>\n",
       "      <td>assets/5ecfdf1f581a3d02cf7f8c05/5ecfdf1f581a3d...</td>\n",
       "      <td>Family</td>\n",
       "      <td>larriere</td>\n",
       "      <td>19671.000000</td>\n",
       "    </tr>\n",
       "  </tbody>\n",
       "</table>\n",
       "<p>36754 rows × 9 columns</p>\n",
       "</div>"
      ],
      "text/plain": [
       "                             id country.name country.id region.id   type  \\\n",
       "1      5d4bf31ccf0b3a0f3f359814      Burundi         bi        af  image   \n",
       "2      5d4bf31ccf0b3a0f3f35982a      Burundi         bi        af  image   \n",
       "3      5d4bf31ccf0b3a0f3f35982e      Burundi         bi        af  image   \n",
       "4      5d4bf31ccf0b3a0f3f359830      Burundi         bi        af  image   \n",
       "5      5d4bf31dcf0b3a0f3f35983c      Burundi         bi        af  image   \n",
       "...                         ...          ...        ...       ...    ...   \n",
       "38474  5ec4f5513f62767d97a47324       France         fr        eu  image   \n",
       "38475  5ec4f5513f62767d97a47325       France         fr        eu  image   \n",
       "38476  5ec4f5523f62767d97a47327       France         fr        eu  image   \n",
       "38477  5ec4f5523f62767d97a47328       France         fr        eu  image   \n",
       "38478  5ecfdf1f581a3d02cf7f8c05       France         fr        eu  image   \n",
       "\n",
       "                                            imageRelPath  \\\n",
       "1      assets/5d4bf31ccf0b3a0f3f359814/5d4bf31ccf0b3a...   \n",
       "2      assets/5d4bf31ccf0b3a0f3f35982a/5d4bf31ccf0b3a...   \n",
       "3      assets/5d4bf31ccf0b3a0f3f35982e/5d4bf31ccf0b3a...   \n",
       "4      assets/5d4bf31ccf0b3a0f3f359830/5d4bf31ccf0b3a...   \n",
       "5      assets/5d4bf31dcf0b3a0f3f35983c/5d4bf31dcf0b3a...   \n",
       "...                                                  ...   \n",
       "38474  assets/5ec4f5513f62767d97a47324/5ec4f5513f6276...   \n",
       "38475  assets/5ec4f5513f62767d97a47325/5ec4f5513f6276...   \n",
       "38476  assets/5ec4f5523f62767d97a47327/5ec4f5523f6276...   \n",
       "38477  assets/5ec4f5523f62767d97a47328/5ec4f5523f6276...   \n",
       "38478  assets/5ecfdf1f581a3d02cf7f8c05/5ecfdf1f581a3d...   \n",
       "\n",
       "                          topics     place        income  \n",
       "1               Family snapshots    butoyi     26.994581  \n",
       "2                        Cutlery    butoyi     26.994581  \n",
       "3                         Family    butoyi     26.994581  \n",
       "4      Place where eating dinner    butoyi     26.994581  \n",
       "5                  Plate of food    butoyi     26.994581  \n",
       "...                          ...       ...           ...  \n",
       "38474                        Bed  larriere  19671.000000  \n",
       "38475            Bathroom/Toilet  larriere  19671.000000  \n",
       "38476                   Armchair  larriere  19671.000000  \n",
       "38477                   Armchair  larriere  19671.000000  \n",
       "38478                     Family  larriere  19671.000000  \n",
       "\n",
       "[36754 rows x 9 columns]"
      ]
     },
     "metadata": {},
     "output_type": "display_data"
    }
   ],
   "source": [
    "data = data_unfiltered[~data_unfiltered['topics'].isin(Subjective_topic_list)]\n",
    "display(data)"
   ]
  },
  {
   "cell_type": "code",
   "execution_count": 9,
   "id": "964d0123",
   "metadata": {},
   "outputs": [
    {
     "data": {
      "text/plain": [
       "36754"
      ]
     },
     "execution_count": 9,
     "metadata": {},
     "output_type": "execute_result"
    }
   ],
   "source": [
    "len(data)"
   ]
  },
  {
   "cell_type": "markdown",
   "id": "eed9dd80",
   "metadata": {},
   "source": [
    "### Split topics"
   ]
  },
  {
   "cell_type": "code",
   "execution_count": 23,
   "id": "3903710d",
   "metadata": {
    "scrolled": true
   },
   "outputs": [
    {
     "name": "stdout",
     "output_type": "stream",
     "text": [
      "45692\n",
      "270\n"
     ]
    }
   ],
   "source": [
    "from collections import Counter\n",
    "list_topics = list(data['topics'])\n",
    "\n",
    "\n",
    "separate_topics = [t.lower().strip() for topic in list_topics for t in topic.split(\",\") ]\n",
    "\n",
    "\n",
    "print(len(separate_topics))\n",
    "#print(Counter(separate_topics))\n",
    "set_topics = list(set(separate_topics))\n",
    "print(len(set_topics))"
   ]
  },
  {
   "cell_type": "code",
   "execution_count": 24,
   "id": "ae6fbeeb",
   "metadata": {},
   "outputs": [
    {
     "name": "stdout",
     "output_type": "stream",
     "text": [
      "270\n"
     ]
    }
   ],
   "source": [
    "# map each topic to list of corresponding images\n",
    "dict_topic2img = {}\n",
    "for list_topics, image_path in zip(data['topics'], data['imageRelPath']):\n",
    "    for topic in list_topics.split(\",\"):\n",
    "        topic = topic.lower().strip()\n",
    "        if topic not in dict_topic2img:\n",
    "            dict_topic2img[topic] = set() #### here a set was used in place of list to avoid duplicate where keyword appears twice in a topic\n",
    "        dict_topic2img[topic].add(image_path)\n",
    "\n",
    "print(len(dict_topic2img))"
   ]
  },
  {
   "cell_type": "code",
   "execution_count": 25,
   "id": "58681a22",
   "metadata": {},
   "outputs": [
    {
     "name": "stdout",
     "output_type": "stream",
     "text": [
      "45616\n"
     ]
    }
   ],
   "source": [
    "#sanity checks \n",
    "\n",
    "ground_truth_counts = [len(dict_topic2img[i]) for i in dict_topic2img]\n",
    "print(sum(ground_truth_counts))"
   ]
  },
  {
   "cell_type": "code",
   "execution_count": 26,
   "id": "cd8f6afc",
   "metadata": {},
   "outputs": [],
   "source": [
    "topics = dict_topic2img.keys()"
   ]
  },
  {
   "cell_type": "code",
   "execution_count": null,
   "id": "d990669c",
   "metadata": {},
   "outputs": [],
   "source": []
  },
  {
   "cell_type": "markdown",
   "id": "20629a42",
   "metadata": {},
   "source": [
    "# Create prompts for the text encoder"
   ]
  },
  {
   "cell_type": "code",
   "execution_count": 14,
   "id": "e1f9b270",
   "metadata": {},
   "outputs": [],
   "source": [
    "temp = \"This is a photo of \"\n",
    "English_topics = [temp + topic for topic in topics]"
   ]
  },
  {
   "cell_type": "code",
   "execution_count": 15,
   "id": "ea685fd6",
   "metadata": {},
   "outputs": [],
   "source": [
    "#English_topics"
   ]
  },
  {
   "cell_type": "code",
   "execution_count": 16,
   "id": "4a3df851",
   "metadata": {},
   "outputs": [],
   "source": [
    "topic2english = {}\n",
    "for topic, prompt in zip(topics, English_topics):\n",
    "    topic2english[topic] = prompt"
   ]
  },
  {
   "cell_type": "code",
   "execution_count": 17,
   "id": "d217ca79",
   "metadata": {},
   "outputs": [
    {
     "data": {
      "text/plain": [
       "'This is a photo of family snapshots'"
      ]
     },
     "execution_count": 17,
     "metadata": {},
     "output_type": "execute_result"
    }
   ],
   "source": [
    "topic2english['family snapshots']"
   ]
  },
  {
   "cell_type": "code",
   "execution_count": 18,
   "id": "cdde580b",
   "metadata": {},
   "outputs": [
    {
     "name": "stdout",
     "output_type": "stream",
     "text": [
      "270\n"
     ]
    }
   ],
   "source": [
    "english_dict_topic2imgGT = {}\n",
    "\n",
    "for topic in topics:\n",
    "    key = topic2english[topic]\n",
    "    english_dict_topic2imgGT[key] = dict_topic2img[topic]\n",
    "print(len(english_dict_topic2imgGT))"
   ]
  },
  {
   "cell_type": "code",
   "execution_count": null,
   "id": "9feff791",
   "metadata": {
    "scrolled": true
   },
   "outputs": [],
   "source": []
  },
  {
   "cell_type": "markdown",
   "id": "fd2eccdb",
   "metadata": {},
   "source": [
    "### Make English-country prompts"
   ]
  },
  {
   "cell_type": "code",
   "execution_count": 19,
   "id": "cde319b5",
   "metadata": {},
   "outputs": [
    {
     "data": {
      "text/plain": [
       "63"
      ]
     },
     "execution_count": 19,
     "metadata": {},
     "output_type": "execute_result"
    }
   ],
   "source": [
    "Countries = set(data['country.name'])\n",
    "len(Countries)"
   ]
  },
  {
   "cell_type": "code",
   "execution_count": 23,
   "id": "8237a835",
   "metadata": {},
   "outputs": [],
   "source": [
    "list_of_country_dicts = []  # list of ground truth imgs and text prompt mapping for each country; list of dict_topic2img for each country\n",
    "list_of_topic2prompt_dict = []  # list of text prompt and topic mapping\n",
    "\n",
    "for country in Countries:\n",
    "    \n",
    "    country_topics = ['This is a photo of ' + topic + ' from ' + country for topic in topics]\n",
    "      \n",
    "    topic2country = {}\n",
    "    for topic, prompt in zip(topics, country_topics):\n",
    "        topic2country[topic] = prompt\n",
    "    list_of_topic2prompt_dict.append(topic2country)\n",
    "    \n",
    "    \n",
    "    dict_countrytopic2imgGT = {}\n",
    "\n",
    "    for topic in topics:\n",
    "        key = topic2country[topic]\n",
    "        dict_countrytopic2imgGT[key] = dict_topic2img[topic]\n",
    "        \n",
    "    list_of_country_dicts.append(dict_countrytopic2imgGT)"
   ]
  },
  {
   "cell_type": "code",
   "execution_count": 24,
   "id": "8e39f984",
   "metadata": {},
   "outputs": [
    {
     "data": {
      "text/plain": [
       "63"
      ]
     },
     "execution_count": 24,
     "metadata": {},
     "output_type": "execute_result"
    }
   ],
   "source": [
    "len(list_of_country_dicts)"
   ]
  },
  {
   "cell_type": "code",
   "execution_count": 25,
   "id": "7d4694c0",
   "metadata": {},
   "outputs": [],
   "source": [
    "#len(list_of_country_dicts[1]['This is a photo of family snapshots from Canada'])"
   ]
  },
  {
   "cell_type": "code",
   "execution_count": 26,
   "id": "5ad504ac",
   "metadata": {
    "scrolled": true
   },
   "outputs": [],
   "source": [
    "#list_of_country_dicts[1].keys()"
   ]
  },
  {
   "cell_type": "code",
   "execution_count": 27,
   "id": "bb088047",
   "metadata": {},
   "outputs": [],
   "source": [
    "#len(list_of_country_dicts[1][''])"
   ]
  },
  {
   "cell_type": "code",
   "execution_count": 28,
   "id": "8c7f6185",
   "metadata": {},
   "outputs": [
    {
     "data": {
      "text/plain": [
       "270"
      ]
     },
     "execution_count": 28,
     "metadata": {},
     "output_type": "execute_result"
    }
   ],
   "source": [
    "country_d = next(item for item in list_of_country_dicts if 'This is a photo of family snapshots from Burkina Faso' in item.keys())\n",
    "len(country_d)"
   ]
  },
  {
   "cell_type": "markdown",
   "id": "8a959379",
   "metadata": {},
   "source": [
    "### Load img embeddings"
   ]
  },
  {
   "cell_type": "code",
   "execution_count": 29,
   "id": "5fe2d7df",
   "metadata": {},
   "outputs": [],
   "source": [
    "import pickle\n",
    "with open(\"nllb_img_embedding.pkl\", 'rb') as f:\n",
    "    img_embedding = pickle.load(f)"
   ]
  },
  {
   "cell_type": "code",
   "execution_count": 30,
   "id": "adb02996",
   "metadata": {},
   "outputs": [
    {
     "data": {
      "text/plain": [
       "torch.Size([36754, 1152])"
      ]
     },
     "execution_count": 30,
     "metadata": {},
     "output_type": "execute_result"
    }
   ],
   "source": [
    "img_embedding.shape"
   ]
  },
  {
   "cell_type": "markdown",
   "id": "6370247f",
   "metadata": {},
   "source": [
    "## Cosine sim for country_prompts and imgs"
   ]
  },
  {
   "cell_type": "code",
   "execution_count": 31,
   "id": "5db263cb",
   "metadata": {},
   "outputs": [],
   "source": [
    "from sentence_transformers import SentenceTransformer, util\n",
    "from open_clip import get_tokenizer\n",
    "\n",
    "from open_clip import create_model_from_pretrained\n",
    "from PIL import Image, ImageFile\n",
    "import timm"
   ]
  },
  {
   "cell_type": "code",
   "execution_count": 32,
   "id": "745d6146",
   "metadata": {},
   "outputs": [],
   "source": [
    "# Load model directly\n",
    "from transformers import AutoProcessor, AutoModel\n",
    "\n",
    "model, transform = create_model_from_pretrained(\"nllb-clip-large-siglip\", \"v1\", device=\"cuda\")\n",
    "model = model.eval()\n"
   ]
  },
  {
   "cell_type": "code",
   "execution_count": 33,
   "id": "4b081499",
   "metadata": {},
   "outputs": [],
   "source": [
    "from open_clip import get_tokenizer\n",
    "\n",
    "tokenizer = get_tokenizer(\"nllb-clip-large-siglip\")"
   ]
  },
  {
   "cell_type": "code",
   "execution_count": 34,
   "id": "03d0346d",
   "metadata": {},
   "outputs": [
    {
     "name": "stderr",
     "output_type": "stream",
     "text": [
      "100%|██████████| 63/63 [09:51<00:00,  9.39s/it]\n"
     ]
    }
   ],
   "source": [
    "list_country_score_dicts = []\n",
    "for country_prompt in tqdm.tqdm(list_of_topic2prompt_dict):\n",
    "    text = list(country_prompt.values())\n",
    "    text_langs = 'eng_Latn'\n",
    "    text_inputs = []\n",
    "    for i in range(len(text)):\n",
    "        tokenizer.set_language(text_langs)\n",
    "        text_inputs.append(tokenizer(text[i]))\n",
    "        \n",
    "    text_inputs = torch.stack(text_inputs).squeeze(1)\n",
    "    text_inputs = text_inputs.to(\"cuda\")\n",
    "    \n",
    "    with torch.no_grad():\n",
    "        text_features = model.encode_text(text_inputs)\n",
    "        text_features /= text_features.norm(dim=-1, keepdim=True)\n",
    "\n",
    "    cossim = util.cos_sim(text_features, img_embedding)\n",
    "    cos_sim = cossim.cpu().numpy()\n",
    "\n",
    "    dict_topic2score = {}\n",
    "    for i, topic in enumerate(country_prompt.values()):\n",
    "        clip_scores = cos_sim[i] # clip scores between topic and images from data['imageRelPath']\n",
    "\n",
    "        list_scores_img = list(zip(clip_scores, data['imageRelPath'], data['topics'])) # ******\n",
    "        dict_topic2score[topic] = sorted(list_scores_img, key = lambda x: x[0], reverse=True)\n",
    "\n",
    "    list_country_score_dicts.append(dict_topic2score)"
   ]
  },
  {
   "cell_type": "code",
   "execution_count": 35,
   "id": "b0eba927",
   "metadata": {},
   "outputs": [
    {
     "data": {
      "text/plain": [
       "63"
      ]
     },
     "execution_count": 35,
     "metadata": {},
     "output_type": "execute_result"
    }
   ],
   "source": [
    "len(list_country_score_dicts)"
   ]
  },
  {
   "cell_type": "code",
   "execution_count": 36,
   "id": "9fceb057",
   "metadata": {},
   "outputs": [
    {
     "data": {
      "text/plain": [
       "270"
      ]
     },
     "execution_count": 36,
     "metadata": {},
     "output_type": "execute_result"
    }
   ],
   "source": [
    "len(list_country_score_dicts[0])"
   ]
  },
  {
   "cell_type": "code",
   "execution_count": null,
   "id": "9e453511",
   "metadata": {},
   "outputs": [],
   "source": [
    "# This runs FOREVER and takes so much space... BEWARE!\n",
    "\n",
    "# f = open(\"list_country_dicts.pkl\",\"wb\")\n",
    "\n",
    "# # write the python object (dict) to pickle file\n",
    "# pickle.dump(list_country_score_dicts,f)\n",
    "\n",
    "# # close file\n",
    "# f.close()"
   ]
  },
  {
   "cell_type": "code",
   "execution_count": null,
   "id": "28ef3561",
   "metadata": {},
   "outputs": [],
   "source": [
    "# import pickle\n",
    "# with open(\"list_country_dicts.pkl\", 'rb') as f:\n",
    "#     list_country_dicts = pickle.load(f)"
   ]
  },
  {
   "cell_type": "code",
   "execution_count": null,
   "id": "a2331dc2",
   "metadata": {},
   "outputs": [],
   "source": []
  },
  {
   "cell_type": "markdown",
   "id": "c0298fd6",
   "metadata": {},
   "source": [
    "### Score Processing"
   ]
  },
  {
   "cell_type": "code",
   "execution_count": 37,
   "id": "c312d1d5",
   "metadata": {},
   "outputs": [],
   "source": [
    "labels=[\"poor\", \"lower-middle\", \"upper-middle\", \"rich\"]\n",
    "\n",
    "#list_of_topic2prompt_dict[1]\n",
    "data[\"quartile\"] = pd.qcut(data[\"income\"], q=[0, 0.25, 0.5, 0.75, 1],    \n",
    "                         labels=labels)"
   ]
  },
  {
   "cell_type": "code",
   "execution_count": 38,
   "id": "4e45cd20",
   "metadata": {},
   "outputs": [
    {
     "name": "stdout",
     "output_type": "stream",
     "text": [
      "36754\n"
     ]
    }
   ],
   "source": [
    "# map each image to corresponding topics, countries, income level ... TODO\n",
    "dict_img2topic, dict_img2country, dict_img2incomelevel, dict_country2region = {}, {}, {}, {}\n",
    "for list_topics, image_path, country, incomelevel, region in zip(data['topics'], data['imageRelPath'], data['country.name'], data['quartile'], data['region.id']):\n",
    "    dict_img2topic[image_path] = list_topics\n",
    "    dict_img2country[image_path] = country\n",
    "    dict_img2incomelevel[image_path] = incomelevel\n",
    "    dict_country2region[country] = region\n",
    "\n",
    "print(len(dict_img2topic))\n",
    "# print(dict_img2country)"
   ]
  },
  {
   "cell_type": "code",
   "execution_count": 39,
   "id": "7bacdd4b",
   "metadata": {
    "scrolled": true
   },
   "outputs": [
    {
     "name": "stderr",
     "output_type": "stream",
     "text": [
      "  0%|          | 0/1 [00:00<?, ?it/s]\n",
      "  0%|          | 0/270 [00:00<?, ?it/s]\u001b[A\n",
      "  0%|          | 1/270 [00:00<00:54,  4.94it/s]\u001b[A"
     ]
    },
    {
     "name": "stdout",
     "output_type": "stream",
     "text": [
      "Acc: 99.54, Recall: 17.65, Precision: 17.65, F1: 17.65\n"
     ]
    },
    {
     "name": "stderr",
     "output_type": "stream",
     "text": [
      "\n",
      "  1%|          | 2/270 [00:00<01:11,  3.75it/s]\u001b[A"
     ]
    },
    {
     "name": "stdout",
     "output_type": "stream",
     "text": [
      "Acc: 98.72, Recall: 21.93, Precision: 21.93, F1: 21.93\n"
     ]
    },
    {
     "name": "stderr",
     "output_type": "stream",
     "text": [
      "\n",
      "  1%|          | 3/270 [00:00<01:32,  2.90it/s]\u001b[A"
     ]
    },
    {
     "name": "stdout",
     "output_type": "stream",
     "text": [
      "Acc: 98.92, Recall: 61.78, Precision: 61.78, F1: 61.78\n"
     ]
    },
    {
     "name": "stderr",
     "output_type": "stream",
     "text": [
      "\n",
      "  1%|▏         | 4/270 [00:01<01:33,  2.85it/s]\u001b[A"
     ]
    },
    {
     "name": "stdout",
     "output_type": "stream",
     "text": [
      "Acc: 98.22, Recall: 13.49, Precision: 13.49, F1: 13.49\n"
     ]
    },
    {
     "name": "stderr",
     "output_type": "stream",
     "text": [
      "\n",
      "  2%|▏         | 5/270 [00:01<01:34,  2.81it/s]\u001b[A"
     ]
    },
    {
     "name": "stdout",
     "output_type": "stream",
     "text": [
      "Acc: 98.8, Recall: 44.19, Precision: 44.19, F1: 44.19\n"
     ]
    },
    {
     "name": "stderr",
     "output_type": "stream",
     "text": [
      "\n",
      "  2%|▏         | 6/270 [00:01<01:26,  3.04it/s]\u001b[A"
     ]
    },
    {
     "name": "stdout",
     "output_type": "stream",
     "text": [
      "Acc: 99.15, Recall: 33.62, Precision: 33.62, F1: 33.62\n"
     ]
    },
    {
     "name": "stderr",
     "output_type": "stream",
     "text": [
      "\n",
      "  3%|▎         | 7/270 [00:02<01:21,  3.23it/s]\u001b[A"
     ]
    },
    {
     "name": "stdout",
     "output_type": "stream",
     "text": [
      "Acc: 98.86, Recall: 9.91, Precision: 9.91, F1: 9.91\n"
     ]
    },
    {
     "name": "stderr",
     "output_type": "stream",
     "text": [
      "\n",
      "  3%|▎         | 8/270 [00:02<01:29,  2.94it/s]\u001b[A"
     ]
    },
    {
     "name": "stdout",
     "output_type": "stream",
     "text": [
      "Acc: 98.57, Recall: 40.72, Precision: 40.72, F1: 40.72\n"
     ]
    },
    {
     "name": "stderr",
     "output_type": "stream",
     "text": [
      "\n",
      "  3%|▎         | 9/270 [00:02<01:27,  2.99it/s]\u001b[A"
     ]
    },
    {
     "name": "stdout",
     "output_type": "stream",
     "text": [
      "Acc: 98.66, Recall: 20.06, Precision: 20.06, F1: 20.06\n"
     ]
    },
    {
     "name": "stderr",
     "output_type": "stream",
     "text": [
      "\n",
      "  4%|▎         | 10/270 [00:03<01:33,  2.79it/s]\u001b[A"
     ]
    },
    {
     "name": "stdout",
     "output_type": "stream",
     "text": [
      "Acc: 98.01, Recall: 24.85, Precision: 24.85, F1: 24.85\n"
     ]
    },
    {
     "name": "stderr",
     "output_type": "stream",
     "text": [
      "\n",
      "  4%|▍         | 11/270 [00:03<01:37,  2.65it/s]\u001b[A"
     ]
    },
    {
     "name": "stdout",
     "output_type": "stream",
     "text": [
      "Acc: 98.22, Recall: 31.67, Precision: 31.67, F1: 31.67\n"
     ]
    },
    {
     "name": "stderr",
     "output_type": "stream",
     "text": [
      "\n",
      "  4%|▍         | 12/270 [00:04<01:34,  2.72it/s]\u001b[A"
     ]
    },
    {
     "name": "stdout",
     "output_type": "stream",
     "text": [
      "Acc: 98.29, Recall: 14.91, Precision: 14.91, F1: 14.91\n"
     ]
    },
    {
     "name": "stderr",
     "output_type": "stream",
     "text": [
      "\n",
      "  5%|▍         | 13/270 [00:04<01:27,  2.93it/s]\u001b[A"
     ]
    },
    {
     "name": "stdout",
     "output_type": "stream",
     "text": [
      "Acc: 98.96, Recall: 22.67, Precision: 22.67, F1: 22.67\n"
     ]
    },
    {
     "name": "stderr",
     "output_type": "stream",
     "text": [
      "\n",
      "  5%|▌         | 14/270 [00:04<01:29,  2.86it/s]\u001b[A"
     ]
    },
    {
     "name": "stdout",
     "output_type": "stream",
     "text": [
      "Acc: 98.69, Recall: 39.55, Precision: 39.55, F1: 39.55\n"
     ]
    },
    {
     "name": "stderr",
     "output_type": "stream",
     "text": [
      "\n",
      "  6%|▌         | 15/270 [00:05<01:37,  2.62it/s]\u001b[A"
     ]
    },
    {
     "name": "stdout",
     "output_type": "stream",
     "text": [
      "Acc: 97.78, Recall: 24.72, Precision: 24.72, F1: 24.72\n"
     ]
    },
    {
     "name": "stderr",
     "output_type": "stream",
     "text": [
      "\n",
      "  6%|▌         | 16/270 [00:05<01:31,  2.77it/s]\u001b[A"
     ]
    },
    {
     "name": "stdout",
     "output_type": "stream",
     "text": [
      "Acc: 98.67, Recall: 18.94, Precision: 18.94, F1: 18.94\n"
     ]
    },
    {
     "name": "stderr",
     "output_type": "stream",
     "text": [
      "\n",
      "  6%|▋         | 17/270 [00:05<01:38,  2.57it/s]\u001b[A"
     ]
    },
    {
     "name": "stdout",
     "output_type": "stream",
     "text": [
      "Acc: 98.37, Recall: 43.37, Precision: 43.37, F1: 43.37\n"
     ]
    },
    {
     "name": "stderr",
     "output_type": "stream",
     "text": [
      "\n",
      "  7%|▋         | 18/270 [00:06<01:32,  2.71it/s]\u001b[A"
     ]
    },
    {
     "name": "stdout",
     "output_type": "stream",
     "text": [
      "Acc: 99.16, Recall: 52.74, Precision: 52.74, F1: 52.74\n"
     ]
    },
    {
     "name": "stderr",
     "output_type": "stream",
     "text": [
      "\n",
      "  7%|▋         | 19/270 [00:06<01:30,  2.77it/s]\u001b[A"
     ]
    },
    {
     "name": "stdout",
     "output_type": "stream",
     "text": [
      "Acc: 98.53, Recall: 24.3, Precision: 24.3, F1: 24.3\n"
     ]
    },
    {
     "name": "stderr",
     "output_type": "stream",
     "text": [
      "\n",
      "  7%|▋         | 20/270 [00:07<01:35,  2.63it/s]\u001b[A"
     ]
    },
    {
     "name": "stdout",
     "output_type": "stream",
     "text": [
      "Acc: 98.82, Recall: 55.89, Precision: 55.89, F1: 55.89\n"
     ]
    },
    {
     "name": "stderr",
     "output_type": "stream",
     "text": [
      "\n",
      "  8%|▊         | 21/270 [00:07<01:24,  2.94it/s]\u001b[A"
     ]
    },
    {
     "name": "stdout",
     "output_type": "stream",
     "text": [
      "Acc: 99.28, Recall: 28.65, Precision: 28.65, F1: 28.65\n"
     ]
    },
    {
     "name": "stderr",
     "output_type": "stream",
     "text": [
      "\n",
      "  8%|▊         | 22/270 [00:07<01:26,  2.88it/s]\u001b[A"
     ]
    },
    {
     "name": "stdout",
     "output_type": "stream",
     "text": [
      "Acc: 98.51, Recall: 31.33, Precision: 31.33, F1: 31.33\n"
     ]
    },
    {
     "name": "stderr",
     "output_type": "stream",
     "text": [
      "\n",
      "  9%|▊         | 23/270 [00:08<01:23,  2.95it/s]\u001b[A"
     ]
    },
    {
     "name": "stdout",
     "output_type": "stream",
     "text": [
      "Acc: 98.84, Recall: 32.92, Precision: 32.92, F1: 32.92\n"
     ]
    },
    {
     "name": "stderr",
     "output_type": "stream",
     "text": [
      "\n",
      "  9%|▉         | 24/270 [00:08<01:23,  2.93it/s]\u001b[A"
     ]
    },
    {
     "name": "stdout",
     "output_type": "stream",
     "text": [
      "Acc: 99.11, Recall: 54.57, Precision: 54.57, F1: 54.57\n"
     ]
    },
    {
     "name": "stderr",
     "output_type": "stream",
     "text": [
      "\n",
      "  9%|▉         | 25/270 [00:08<01:22,  2.99it/s]\u001b[A\n",
      " 10%|▉         | 26/270 [00:08<01:09,  3.50it/s]\u001b[A"
     ]
    },
    {
     "name": "stdout",
     "output_type": "stream",
     "text": [
      "Acc: 99.12, Recall: 48.73, Precision: 48.73, F1: 48.73\n",
      "Acc: 99.79, Recall: 22.45, Precision: 22.45, F1: 22.45\n"
     ]
    },
    {
     "name": "stderr",
     "output_type": "stream",
     "text": [
      "\n",
      " 10%|█         | 27/270 [00:09<01:12,  3.34it/s]\u001b[A"
     ]
    },
    {
     "name": "stdout",
     "output_type": "stream",
     "text": [
      "Acc: 98.73, Recall: 30.24, Precision: 30.24, F1: 30.24\n"
     ]
    },
    {
     "name": "stderr",
     "output_type": "stream",
     "text": [
      "\n",
      " 10%|█         | 28/270 [00:09<01:13,  3.27it/s]\u001b[A"
     ]
    },
    {
     "name": "stdout",
     "output_type": "stream",
     "text": [
      "Acc: 99.28, Recall: 57.83, Precision: 57.83, F1: 57.83\n"
     ]
    },
    {
     "name": "stderr",
     "output_type": "stream",
     "text": [
      "\n",
      " 11%|█         | 29/270 [00:09<01:17,  3.09it/s]\u001b[A"
     ]
    },
    {
     "name": "stdout",
     "output_type": "stream",
     "text": [
      "Acc: 98.91, Recall: 50.0, Precision: 50.0, F1: 50.0\n"
     ]
    },
    {
     "name": "stderr",
     "output_type": "stream",
     "text": [
      "\n",
      " 11%|█         | 30/270 [00:10<01:26,  2.77it/s]\u001b[A"
     ]
    },
    {
     "name": "stdout",
     "output_type": "stream",
     "text": [
      "Acc: 98.02, Recall: 30.93, Precision: 30.93, F1: 30.93\n"
     ]
    },
    {
     "name": "stderr",
     "output_type": "stream",
     "text": [
      "\n",
      " 11%|█▏        | 31/270 [00:10<01:23,  2.85it/s]\u001b[A"
     ]
    },
    {
     "name": "stdout",
     "output_type": "stream",
     "text": [
      "Acc: 98.87, Recall: 37.16, Precision: 37.16, F1: 37.16\n"
     ]
    },
    {
     "name": "stderr",
     "output_type": "stream",
     "text": [
      "\n",
      " 12%|█▏        | 32/270 [00:10<01:18,  3.03it/s]\u001b[A"
     ]
    },
    {
     "name": "stdout",
     "output_type": "stream",
     "text": [
      "Acc: 99.22, Recall: 42.8, Precision: 42.8, F1: 42.8\n"
     ]
    },
    {
     "name": "stderr",
     "output_type": "stream",
     "text": [
      "\n",
      " 12%|█▏        | 33/270 [00:11<01:21,  2.92it/s]\u001b[A"
     ]
    },
    {
     "name": "stdout",
     "output_type": "stream",
     "text": [
      "Acc: 99.11, Recall: 60.29, Precision: 60.29, F1: 60.29\n"
     ]
    },
    {
     "name": "stderr",
     "output_type": "stream",
     "text": [
      "\n",
      " 13%|█▎        | 34/270 [00:11<01:18,  3.01it/s]\u001b[A"
     ]
    },
    {
     "name": "stdout",
     "output_type": "stream",
     "text": [
      "Acc: 98.54, Recall: 7.9, Precision: 7.9, F1: 7.9\n"
     ]
    },
    {
     "name": "stderr",
     "output_type": "stream",
     "text": [
      "\n",
      " 13%|█▎        | 35/270 [00:11<01:19,  2.96it/s]\u001b[A"
     ]
    },
    {
     "name": "stdout",
     "output_type": "stream",
     "text": [
      "Acc: 98.6, Recall: 28.93, Precision: 28.93, F1: 28.93\n"
     ]
    },
    {
     "name": "stderr",
     "output_type": "stream",
     "text": [
      "\n",
      " 13%|█▎        | 36/270 [00:12<01:18,  2.99it/s]\u001b[A\n",
      " 14%|█▎        | 37/270 [00:12<01:07,  3.45it/s]\u001b[A"
     ]
    },
    {
     "name": "stdout",
     "output_type": "stream",
     "text": [
      "Acc: 99.15, Recall: 53.98, Precision: 53.98, F1: 53.98\n",
      "Acc: 99.69, Recall: 18.57, Precision: 18.57, F1: 18.57\n"
     ]
    },
    {
     "name": "stderr",
     "output_type": "stream",
     "text": [
      "\n",
      " 14%|█▍        | 38/270 [00:12<01:08,  3.39it/s]\u001b[A"
     ]
    },
    {
     "name": "stdout",
     "output_type": "stream",
     "text": [
      "Acc: 99.15, Recall: 48.18, Precision: 48.18, F1: 48.18\n"
     ]
    },
    {
     "name": "stderr",
     "output_type": "stream",
     "text": [
      "\n",
      " 14%|█▍        | 39/270 [00:13<01:16,  3.01it/s]\u001b[A"
     ]
    },
    {
     "name": "stdout",
     "output_type": "stream",
     "text": [
      "Acc: 98.48, Recall: 43.41, Precision: 43.41, F1: 43.41\n"
     ]
    },
    {
     "name": "stderr",
     "output_type": "stream",
     "text": [
      "\n",
      " 15%|█▍        | 40/270 [00:13<01:19,  2.90it/s]\u001b[A"
     ]
    },
    {
     "name": "stdout",
     "output_type": "stream",
     "text": [
      "Acc: 98.61, Recall: 38.9, Precision: 38.9, F1: 38.9\n"
     ]
    },
    {
     "name": "stderr",
     "output_type": "stream",
     "text": [
      "\n",
      " 15%|█▌        | 41/270 [00:13<01:21,  2.80it/s]\u001b[A"
     ]
    },
    {
     "name": "stdout",
     "output_type": "stream",
     "text": [
      "Acc: 98.56, Recall: 39.73, Precision: 39.73, F1: 39.73\n"
     ]
    },
    {
     "name": "stderr",
     "output_type": "stream",
     "text": [
      "\n",
      " 16%|█▌        | 42/270 [00:14<01:13,  3.09it/s]\u001b[A"
     ]
    },
    {
     "name": "stdout",
     "output_type": "stream",
     "text": [
      "Acc: 99.56, Recall: 56.68, Precision: 56.68, F1: 56.68\n"
     ]
    },
    {
     "name": "stderr",
     "output_type": "stream",
     "text": [
      "\n",
      " 16%|█▌        | 43/270 [00:14<01:12,  3.11it/s]\u001b[A"
     ]
    },
    {
     "name": "stdout",
     "output_type": "stream",
     "text": [
      "Acc: 98.79, Recall: 25.91, Precision: 25.91, F1: 25.91\n"
     ]
    },
    {
     "name": "stderr",
     "output_type": "stream",
     "text": [
      "\n",
      " 16%|█▋        | 44/270 [00:14<01:14,  3.04it/s]\u001b[A"
     ]
    },
    {
     "name": "stdout",
     "output_type": "stream",
     "text": [
      "Acc: 98.36, Recall: 14.25, Precision: 14.25, F1: 14.25\n"
     ]
    },
    {
     "name": "stderr",
     "output_type": "stream",
     "text": [
      "\n",
      " 17%|█▋        | 45/270 [00:15<01:16,  2.95it/s]\u001b[A"
     ]
    },
    {
     "name": "stdout",
     "output_type": "stream",
     "text": [
      "Acc: 98.54, Recall: 29.95, Precision: 29.95, F1: 29.95\n"
     ]
    },
    {
     "name": "stderr",
     "output_type": "stream",
     "text": [
      "\n",
      " 17%|█▋        | 46/270 [00:15<01:15,  2.96it/s]\u001b[A"
     ]
    },
    {
     "name": "stdout",
     "output_type": "stream",
     "text": [
      "Acc: 98.78, Recall: 34.31, Precision: 34.31, F1: 34.31\n"
     ]
    },
    {
     "name": "stderr",
     "output_type": "stream",
     "text": [
      "\n",
      " 17%|█▋        | 47/270 [00:15<01:14,  2.98it/s]\u001b[A"
     ]
    },
    {
     "name": "stdout",
     "output_type": "stream",
     "text": [
      "Acc: 99.15, Recall: 52.71, Precision: 52.71, F1: 52.71\n"
     ]
    },
    {
     "name": "stderr",
     "output_type": "stream",
     "text": [
      "\n",
      " 18%|█▊        | 48/270 [00:16<01:12,  3.08it/s]\u001b[A\n",
      " 18%|█▊        | 49/270 [00:16<01:00,  3.66it/s]\u001b[A"
     ]
    },
    {
     "name": "stdout",
     "output_type": "stream",
     "text": [
      "Acc: 98.86, Recall: 26.92, Precision: 26.92, F1: 26.92\n",
      "Acc: 99.94, Recall: 0.0, Precision: 0.0, F1: 0.0\n"
     ]
    },
    {
     "name": "stderr",
     "output_type": "stream",
     "text": [
      "\n",
      " 19%|█▊        | 50/270 [00:16<01:04,  3.39it/s]\u001b[A"
     ]
    },
    {
     "name": "stdout",
     "output_type": "stream",
     "text": [
      "Acc: 98.89, Recall: 43.65, Precision: 43.65, F1: 43.65\n"
     ]
    },
    {
     "name": "stderr",
     "output_type": "stream",
     "text": [
      "\n",
      " 19%|█▉        | 51/270 [00:17<01:09,  3.14it/s]\u001b[A"
     ]
    },
    {
     "name": "stdout",
     "output_type": "stream",
     "text": [
      "Acc: 98.69, Recall: 43.4, Precision: 43.4, F1: 43.4\n"
     ]
    },
    {
     "name": "stderr",
     "output_type": "stream",
     "text": [
      "\n",
      " 19%|█▉        | 52/270 [00:17<01:06,  3.29it/s]\u001b[A"
     ]
    },
    {
     "name": "stdout",
     "output_type": "stream",
     "text": [
      "Acc: 98.92, Recall: 12.0, Precision: 12.0, F1: 12.0\n"
     ]
    },
    {
     "name": "stderr",
     "output_type": "stream",
     "text": [
      "\n",
      " 20%|█▉        | 53/270 [00:17<01:07,  3.20it/s]\u001b[A"
     ]
    },
    {
     "name": "stdout",
     "output_type": "stream",
     "text": [
      "Acc: 99.07, Recall: 50.29, Precision: 50.29, F1: 50.29\n"
     ]
    },
    {
     "name": "stderr",
     "output_type": "stream",
     "text": [
      "\n",
      " 20%|██        | 54/270 [00:18<01:10,  3.08it/s]\u001b[A"
     ]
    },
    {
     "name": "stdout",
     "output_type": "stream",
     "text": [
      "Acc: 98.93, Recall: 47.75, Precision: 47.75, F1: 47.75\n"
     ]
    },
    {
     "name": "stderr",
     "output_type": "stream",
     "text": [
      "\n",
      " 20%|██        | 55/270 [00:18<01:10,  3.04it/s]\u001b[A"
     ]
    },
    {
     "name": "stdout",
     "output_type": "stream",
     "text": [
      "Acc: 98.47, Recall: 21.29, Precision: 21.29, F1: 21.29\n"
     ]
    },
    {
     "name": "stderr",
     "output_type": "stream",
     "text": [
      "\n",
      " 21%|██        | 56/270 [00:18<01:15,  2.85it/s]\u001b[A"
     ]
    },
    {
     "name": "stdout",
     "output_type": "stream",
     "text": [
      "Acc: 98.78, Recall: 51.51, Precision: 51.51, F1: 51.51\n"
     ]
    },
    {
     "name": "stderr",
     "output_type": "stream",
     "text": [
      "\n",
      " 21%|██        | 57/270 [00:19<01:21,  2.61it/s]\u001b[A\n",
      " 21%|██▏       | 58/270 [00:19<01:06,  3.17it/s]\u001b[A"
     ]
    },
    {
     "name": "stdout",
     "output_type": "stream",
     "text": [
      "Acc: 98.01, Recall: 33.88, Precision: 33.88, F1: 33.88\n",
      "Acc: 99.93, Recall: 50.0, Precision: 50.0, F1: 50.0\n"
     ]
    },
    {
     "name": "stderr",
     "output_type": "stream",
     "text": [
      "\n",
      " 22%|██▏       | 59/270 [00:19<01:04,  3.30it/s]\u001b[A\n",
      " 22%|██▏       | 60/270 [00:19<00:56,  3.74it/s]\u001b[A"
     ]
    },
    {
     "name": "stdout",
     "output_type": "stream",
     "text": [
      "Acc: 98.84, Recall: 11.25, Precision: 11.25, F1: 11.25\n",
      "Acc: 99.62, Recall: 0.0, Precision: 0.0, F1: 0.0\n"
     ]
    },
    {
     "name": "stderr",
     "output_type": "stream",
     "text": [
      "\n",
      " 23%|██▎       | 61/270 [00:21<02:38,  1.32it/s]\u001b[A\n",
      " 23%|██▎       | 62/270 [00:21<02:00,  1.72it/s]\u001b[A"
     ]
    },
    {
     "name": "stdout",
     "output_type": "stream",
     "text": [
      "Acc: 84.44, Recall: 9.29, Precision: 9.29, F1: 9.29\n",
      "Acc: 99.73, Recall: 0.0, Precision: 0.0, F1: 0.0\n"
     ]
    },
    {
     "name": "stderr",
     "output_type": "stream",
     "text": [
      "\n",
      " 23%|██▎       | 63/270 [00:22<01:39,  2.08it/s]\u001b[A"
     ]
    },
    {
     "name": "stdout",
     "output_type": "stream",
     "text": [
      "Acc: 99.05, Recall: 2.79, Precision: 2.79, F1: 2.79\n",
      "Acc: 99.47, Recall: 0.0, Precision: 0.0, F1: 0.0\n"
     ]
    },
    {
     "name": "stderr",
     "output_type": "stream",
     "text": [
      "\n",
      " 24%|██▎       | 64/270 [00:22<01:21,  2.53it/s]\u001b[A\n",
      " 24%|██▍       | 65/270 [00:22<01:11,  2.87it/s]\u001b[A"
     ]
    },
    {
     "name": "stdout",
     "output_type": "stream",
     "text": [
      "Acc: 99.05, Recall: 3.33, Precision: 3.33, F1: 3.33\n"
     ]
    },
    {
     "name": "stderr",
     "output_type": "stream",
     "text": [
      "\n",
      " 24%|██▍       | 66/270 [00:22<01:02,  3.24it/s]\u001b[A"
     ]
    },
    {
     "name": "stdout",
     "output_type": "stream",
     "text": [
      "Acc: 99.28, Recall: 12.0, Precision: 12.0, F1: 12.0\n"
     ]
    },
    {
     "name": "stderr",
     "output_type": "stream",
     "text": [
      "\n",
      " 25%|██▍       | 67/270 [00:23<00:58,  3.50it/s]\u001b[A"
     ]
    },
    {
     "name": "stdout",
     "output_type": "stream",
     "text": [
      "Acc: 99.12, Recall: 8.99, Precision: 8.99, F1: 8.99\n"
     ]
    },
    {
     "name": "stderr",
     "output_type": "stream",
     "text": [
      "\n",
      " 25%|██▌       | 68/270 [00:23<00:55,  3.64it/s]\u001b[A"
     ]
    },
    {
     "name": "stdout",
     "output_type": "stream",
     "text": [
      "Acc: 99.15, Recall: 20.81, Precision: 20.81, F1: 20.81\n"
     ]
    },
    {
     "name": "stderr",
     "output_type": "stream",
     "text": [
      "\n",
      " 26%|██▌       | 69/270 [00:23<00:54,  3.70it/s]\u001b[A"
     ]
    },
    {
     "name": "stdout",
     "output_type": "stream",
     "text": [
      "Acc: 98.93, Recall: 5.77, Precision: 5.77, F1: 5.77\n"
     ]
    },
    {
     "name": "stderr",
     "output_type": "stream",
     "text": [
      "\n",
      " 26%|██▌       | 70/270 [00:23<00:51,  3.87it/s]\u001b[A"
     ]
    },
    {
     "name": "stdout",
     "output_type": "stream",
     "text": [
      "Acc: 99.16, Recall: 8.88, Precision: 8.88, F1: 8.88\n"
     ]
    },
    {
     "name": "stderr",
     "output_type": "stream",
     "text": [
      "\n",
      " 26%|██▋       | 71/270 [00:24<00:51,  3.86it/s]\u001b[A"
     ]
    },
    {
     "name": "stdout",
     "output_type": "stream",
     "text": [
      "Acc: 98.95, Recall: 8.1, Precision: 8.1, F1: 8.1\n"
     ]
    },
    {
     "name": "stderr",
     "output_type": "stream",
     "text": [
      "\n",
      " 27%|██▋       | 72/270 [00:24<00:50,  3.93it/s]\u001b[A\n",
      " 27%|██▋       | 73/270 [00:24<00:46,  4.28it/s]\u001b[A"
     ]
    },
    {
     "name": "stdout",
     "output_type": "stream",
     "text": [
      "Acc: 99.21, Recall: 21.2, Precision: 21.2, F1: 21.2\n",
      "Acc: 99.59, Recall: 2.56, Precision: 2.56, F1: 2.56\n"
     ]
    },
    {
     "name": "stderr",
     "output_type": "stream",
     "text": [
      "\n",
      " 27%|██▋       | 74/270 [00:24<00:57,  3.40it/s]\u001b[A"
     ]
    },
    {
     "name": "stdout",
     "output_type": "stream",
     "text": [
      "Acc: 98.32, Recall: 38.93, Precision: 38.93, F1: 38.93\n"
     ]
    },
    {
     "name": "stderr",
     "output_type": "stream",
     "text": [
      "\n",
      " 28%|██▊       | 75/270 [00:25<00:52,  3.70it/s]\u001b[A\n",
      " 28%|██▊       | 76/270 [00:25<00:48,  4.04it/s]\u001b[A"
     ]
    },
    {
     "name": "stdout",
     "output_type": "stream",
     "text": [
      "Acc: 99.35, Recall: 4.03, Precision: 4.03, F1: 4.03\n",
      "Acc: 99.64, Recall: 38.32, Precision: 38.32, F1: 38.32\n"
     ]
    },
    {
     "name": "stderr",
     "output_type": "stream",
     "text": [
      "\n",
      " 29%|██▊       | 77/270 [00:25<00:51,  3.75it/s]\u001b[A"
     ]
    },
    {
     "name": "stdout",
     "output_type": "stream",
     "text": [
      "Acc: 98.93, Recall: 33.11, Precision: 33.11, F1: 33.11\n"
     ]
    },
    {
     "name": "stderr",
     "output_type": "stream",
     "text": [
      "\n",
      " 29%|██▉       | 78/270 [00:25<00:51,  3.73it/s]\u001b[A"
     ]
    },
    {
     "name": "stdout",
     "output_type": "stream",
     "text": [
      "Acc: 98.83, Recall: 7.73, Precision: 7.73, F1: 7.73\n"
     ]
    },
    {
     "name": "stderr",
     "output_type": "stream",
     "text": [
      "\n",
      " 29%|██▉       | 79/270 [00:26<00:50,  3.75it/s]\u001b[A"
     ]
    },
    {
     "name": "stdout",
     "output_type": "stream",
     "text": [
      "Acc: 99.06, Recall: 18.1, Precision: 18.1, F1: 18.1\n"
     ]
    },
    {
     "name": "stderr",
     "output_type": "stream",
     "text": [
      "\n",
      " 30%|██▉       | 80/270 [00:26<00:54,  3.48it/s]\u001b[A"
     ]
    },
    {
     "name": "stdout",
     "output_type": "stream",
     "text": [
      "Acc: 98.71, Recall: 30.29, Precision: 30.29, F1: 30.29\n"
     ]
    },
    {
     "name": "stderr",
     "output_type": "stream",
     "text": [
      "\n",
      " 30%|███       | 81/270 [00:26<00:57,  3.26it/s]\u001b[A"
     ]
    },
    {
     "name": "stdout",
     "output_type": "stream",
     "text": [
      "Acc: 98.6, Recall: 30.83, Precision: 30.83, F1: 30.83\n"
     ]
    },
    {
     "name": "stderr",
     "output_type": "stream",
     "text": [
      "\n",
      " 30%|███       | 82/270 [00:27<00:53,  3.51it/s]\u001b[A"
     ]
    },
    {
     "name": "stdout",
     "output_type": "stream",
     "text": [
      "Acc: 99.42, Recall: 34.97, Precision: 34.97, F1: 34.97\n"
     ]
    },
    {
     "name": "stderr",
     "output_type": "stream",
     "text": [
      "\n",
      " 31%|███       | 83/270 [00:27<00:56,  3.34it/s]\u001b[A"
     ]
    },
    {
     "name": "stdout",
     "output_type": "stream",
     "text": [
      "Acc: 98.45, Recall: 16.72, Precision: 16.72, F1: 16.72\n"
     ]
    },
    {
     "name": "stderr",
     "output_type": "stream",
     "text": [
      "\n",
      " 31%|███       | 84/270 [00:27<00:55,  3.33it/s]\u001b[A"
     ]
    },
    {
     "name": "stdout",
     "output_type": "stream",
     "text": [
      "Acc: 98.86, Recall: 25.09, Precision: 25.09, F1: 25.09\n",
      "Acc: 99.74, Recall: 53.0, Precision: 53.0, F1: 53.0\n"
     ]
    },
    {
     "name": "stderr",
     "output_type": "stream",
     "text": [
      "\n",
      " 31%|███▏      | 85/270 [00:27<00:50,  3.70it/s]\u001b[A\n",
      " 32%|███▏      | 86/270 [00:28<00:53,  3.44it/s]\u001b[A"
     ]
    },
    {
     "name": "stdout",
     "output_type": "stream",
     "text": [
      "Acc: 98.75, Recall: 32.94, Precision: 32.94, F1: 32.94\n"
     ]
    },
    {
     "name": "stderr",
     "output_type": "stream",
     "text": [
      "\n",
      " 32%|███▏      | 87/270 [00:28<00:55,  3.27it/s]\u001b[A"
     ]
    },
    {
     "name": "stdout",
     "output_type": "stream",
     "text": [
      "Acc: 98.65, Recall: 29.14, Precision: 29.14, F1: 29.14\n"
     ]
    },
    {
     "name": "stderr",
     "output_type": "stream",
     "text": [
      "\n",
      " 33%|███▎      | 88/270 [00:28<00:53,  3.41it/s]\u001b[A"
     ]
    },
    {
     "name": "stdout",
     "output_type": "stream",
     "text": [
      "Acc: 99.46, Recall: 54.13, Precision: 54.13, F1: 54.13\n"
     ]
    },
    {
     "name": "stderr",
     "output_type": "stream",
     "text": [
      "\n",
      " 33%|███▎      | 89/270 [00:29<00:56,  3.21it/s]\u001b[A"
     ]
    },
    {
     "name": "stdout",
     "output_type": "stream",
     "text": [
      "Acc: 99.4, Recall: 70.24, Precision: 70.24, F1: 70.24\n"
     ]
    },
    {
     "name": "stderr",
     "output_type": "stream",
     "text": [
      "\n",
      " 33%|███▎      | 90/270 [00:29<00:56,  3.21it/s]\u001b[A"
     ]
    },
    {
     "name": "stdout",
     "output_type": "stream",
     "text": [
      "Acc: 99.17, Recall: 49.5, Precision: 49.5, F1: 49.5\n"
     ]
    },
    {
     "name": "stderr",
     "output_type": "stream",
     "text": [
      "\n",
      " 34%|███▎      | 91/270 [00:29<00:55,  3.22it/s]\u001b[A"
     ]
    },
    {
     "name": "stdout",
     "output_type": "stream",
     "text": [
      "Acc: 99.18, Recall: 50.17, Precision: 50.17, F1: 50.17\n"
     ]
    },
    {
     "name": "stderr",
     "output_type": "stream",
     "text": [
      "\n",
      " 34%|███▍      | 92/270 [00:30<00:51,  3.46it/s]\u001b[A"
     ]
    },
    {
     "name": "stdout",
     "output_type": "stream",
     "text": [
      "Acc: 99.74, Recall: 73.18, Precision: 73.18, F1: 73.18\n"
     ]
    },
    {
     "name": "stderr",
     "output_type": "stream",
     "text": [
      "\n",
      " 34%|███▍      | 93/270 [00:30<00:53,  3.32it/s]\u001b[A"
     ]
    },
    {
     "name": "stdout",
     "output_type": "stream",
     "text": [
      "Acc: 98.82, Recall: 35.42, Precision: 35.42, F1: 35.42\n"
     ]
    },
    {
     "name": "stderr",
     "output_type": "stream",
     "text": [
      "\n",
      " 35%|███▍      | 94/270 [00:30<00:54,  3.21it/s]\u001b[A"
     ]
    },
    {
     "name": "stdout",
     "output_type": "stream",
     "text": [
      "Acc: 98.58, Recall: 26.89, Precision: 26.89, F1: 26.89\n"
     ]
    },
    {
     "name": "stderr",
     "output_type": "stream",
     "text": [
      "\n",
      " 35%|███▌      | 95/270 [00:30<00:50,  3.50it/s]\u001b[A\n",
      " 36%|███▌      | 96/270 [00:31<00:44,  3.91it/s]\u001b[A"
     ]
    },
    {
     "name": "stdout",
     "output_type": "stream",
     "text": [
      "Acc: 99.23, Recall: 4.08, Precision: 4.08, F1: 4.08\n",
      "Acc: 99.62, Recall: 6.67, Precision: 6.67, F1: 6.67\n"
     ]
    },
    {
     "name": "stderr",
     "output_type": "stream",
     "text": [
      "\n",
      " 36%|███▌      | 97/270 [00:31<00:40,  4.32it/s]\u001b[A"
     ]
    },
    {
     "name": "stdout",
     "output_type": "stream",
     "text": [
      "Acc: 99.78, Recall: 22.64, Precision: 22.64, F1: 22.64\n"
     ]
    },
    {
     "name": "stderr",
     "output_type": "stream",
     "text": [
      "\n",
      " 36%|███▋      | 98/270 [00:31<00:43,  3.92it/s]\u001b[A"
     ]
    },
    {
     "name": "stdout",
     "output_type": "stream",
     "text": [
      "Acc: 98.64, Recall: 15.25, Precision: 15.25, F1: 15.25\n"
     ]
    },
    {
     "name": "stderr",
     "output_type": "stream",
     "text": [
      "\n",
      " 37%|███▋      | 99/270 [00:31<00:44,  3.80it/s]\u001b[A"
     ]
    },
    {
     "name": "stdout",
     "output_type": "stream",
     "text": [
      "Acc: 98.98, Recall: 24.29, Precision: 24.29, F1: 24.29\n"
     ]
    },
    {
     "name": "stderr",
     "output_type": "stream",
     "text": [
      "\n",
      " 37%|███▋      | 100/270 [00:32<00:47,  3.54it/s]\u001b[A"
     ]
    },
    {
     "name": "stdout",
     "output_type": "stream",
     "text": [
      "Acc: 98.32, Recall: 6.36, Precision: 6.36, F1: 6.36\n"
     ]
    },
    {
     "name": "stderr",
     "output_type": "stream",
     "text": [
      "\n",
      " 37%|███▋      | 101/270 [00:32<00:49,  3.42it/s]\u001b[A"
     ]
    },
    {
     "name": "stdout",
     "output_type": "stream",
     "text": [
      "Acc: 98.37, Recall: 2.29, Precision: 2.29, F1: 2.29\n"
     ]
    },
    {
     "name": "stderr",
     "output_type": "stream",
     "text": [
      "\n",
      " 38%|███▊      | 102/270 [00:32<00:50,  3.35it/s]\u001b[A"
     ]
    },
    {
     "name": "stdout",
     "output_type": "stream",
     "text": [
      "Acc: 99.21, Recall: 52.29, Precision: 52.29, F1: 52.29\n"
     ]
    },
    {
     "name": "stderr",
     "output_type": "stream",
     "text": [
      "\n",
      " 38%|███▊      | 103/270 [00:33<00:51,  3.27it/s]\u001b[A\n",
      " 39%|███▊      | 104/270 [00:33<00:43,  3.79it/s]\u001b[A"
     ]
    },
    {
     "name": "stdout",
     "output_type": "stream",
     "text": [
      "Acc: 98.95, Recall: 41.34, Precision: 41.34, F1: 41.34\n",
      "Acc: 99.8, Recall: 2.63, Precision: 2.63, F1: 2.63\n"
     ]
    },
    {
     "name": "stderr",
     "output_type": "stream",
     "text": [
      "\n",
      " 39%|███▉      | 105/270 [00:33<00:42,  3.91it/s]\u001b[A"
     ]
    },
    {
     "name": "stdout",
     "output_type": "stream",
     "text": [
      "Acc: 99.1, Recall: 0.6, Precision: 0.6, F1: 0.6\n"
     ]
    },
    {
     "name": "stderr",
     "output_type": "stream",
     "text": [
      "\n",
      " 39%|███▉      | 106/270 [00:33<00:39,  4.11it/s]\u001b[A\n",
      " 40%|███▉      | 107/270 [00:33<00:36,  4.49it/s]\u001b[A"
     ]
    },
    {
     "name": "stdout",
     "output_type": "stream",
     "text": [
      "Acc: 99.3, Recall: 7.19, Precision: 7.19, F1: 7.19\n",
      "Acc: 99.72, Recall: 15.0, Precision: 15.0, F1: 15.0\n"
     ]
    },
    {
     "name": "stderr",
     "output_type": "stream",
     "text": [
      "\n",
      " 40%|████      | 108/270 [00:34<00:35,  4.59it/s]\u001b[A\n",
      " 40%|████      | 109/270 [00:34<00:33,  4.82it/s]\u001b[A"
     ]
    },
    {
     "name": "stdout",
     "output_type": "stream",
     "text": [
      "Acc: 99.41, Recall: 2.7, Precision: 2.7, F1: 2.7\n",
      "Acc: 99.79, Recall: 44.29, Precision: 44.29, F1: 44.29\n"
     ]
    },
    {
     "name": "stderr",
     "output_type": "stream",
     "text": [
      "\n",
      " 41%|████      | 110/270 [00:34<00:34,  4.71it/s]\u001b[A"
     ]
    },
    {
     "name": "stdout",
     "output_type": "stream",
     "text": [
      "Acc: 99.83, Recall: 78.23, Precision: 78.23, F1: 78.23\n"
     ]
    },
    {
     "name": "stderr",
     "output_type": "stream",
     "text": [
      "\n",
      " 41%|████      | 111/270 [00:34<00:35,  4.47it/s]\u001b[A"
     ]
    },
    {
     "name": "stdout",
     "output_type": "stream",
     "text": [
      "Acc: 99.44, Recall: 44.57, Precision: 44.57, F1: 44.57\n"
     ]
    },
    {
     "name": "stderr",
     "output_type": "stream",
     "text": [
      "\n",
      " 41%|████▏     | 112/270 [00:35<00:41,  3.81it/s]\u001b[A"
     ]
    },
    {
     "name": "stdout",
     "output_type": "stream",
     "text": [
      "Acc: 99.47, Recall: 73.66, Precision: 73.66, F1: 73.66\n"
     ]
    },
    {
     "name": "stderr",
     "output_type": "stream",
     "text": [
      "\n",
      " 42%|████▏     | 113/270 [00:35<00:40,  3.92it/s]\u001b[A"
     ]
    },
    {
     "name": "stdout",
     "output_type": "stream",
     "text": [
      "Acc: 99.17, Recall: 10.06, Precision: 10.06, F1: 10.06\n"
     ]
    },
    {
     "name": "stderr",
     "output_type": "stream",
     "text": [
      "\n",
      " 42%|████▏     | 114/270 [00:35<00:39,  3.93it/s]\u001b[A"
     ]
    },
    {
     "name": "stdout",
     "output_type": "stream",
     "text": [
      "Acc: 99.17, Recall: 21.13, Precision: 21.13, F1: 21.13\n"
     ]
    },
    {
     "name": "stderr",
     "output_type": "stream",
     "text": [
      "\n",
      " 43%|████▎     | 115/270 [00:36<00:42,  3.63it/s]\u001b[A"
     ]
    },
    {
     "name": "stdout",
     "output_type": "stream",
     "text": [
      "Acc: 98.56, Recall: 17.19, Precision: 17.19, F1: 17.19\n"
     ]
    },
    {
     "name": "stderr",
     "output_type": "stream",
     "text": [
      "\n",
      " 43%|████▎     | 116/270 [00:36<00:44,  3.45it/s]\u001b[A"
     ]
    },
    {
     "name": "stdout",
     "output_type": "stream",
     "text": [
      "Acc: 98.87, Recall: 34.29, Precision: 34.29, F1: 34.29\n"
     ]
    },
    {
     "name": "stderr",
     "output_type": "stream",
     "text": [
      "\n",
      " 43%|████▎     | 117/270 [00:36<00:45,  3.40it/s]\u001b[A"
     ]
    },
    {
     "name": "stdout",
     "output_type": "stream",
     "text": [
      "Acc: 98.84, Recall: 26.71, Precision: 26.71, F1: 26.71\n"
     ]
    },
    {
     "name": "stderr",
     "output_type": "stream",
     "text": [
      "\n",
      " 44%|████▎     | 118/270 [00:36<00:46,  3.27it/s]\u001b[A"
     ]
    },
    {
     "name": "stdout",
     "output_type": "stream",
     "text": [
      "Acc: 98.67, Recall: 27.6, Precision: 27.6, F1: 27.6\n"
     ]
    },
    {
     "name": "stderr",
     "output_type": "stream",
     "text": [
      "\n",
      " 44%|████▍     | 119/270 [00:37<00:45,  3.32it/s]\u001b[A"
     ]
    },
    {
     "name": "stdout",
     "output_type": "stream",
     "text": [
      "Acc: 98.64, Recall: 7.06, Precision: 7.06, F1: 7.06\n"
     ]
    },
    {
     "name": "stderr",
     "output_type": "stream",
     "text": [
      "\n",
      " 44%|████▍     | 120/270 [00:37<00:41,  3.61it/s]\u001b[A"
     ]
    },
    {
     "name": "stdout",
     "output_type": "stream",
     "text": [
      "Acc: 99.26, Recall: 1.45, Precision: 1.45, F1: 1.45\n"
     ]
    },
    {
     "name": "stderr",
     "output_type": "stream",
     "text": [
      "\n",
      " 45%|████▍     | 121/270 [00:37<00:39,  3.74it/s]\u001b[A"
     ]
    },
    {
     "name": "stdout",
     "output_type": "stream",
     "text": [
      "Acc: 99.77, Recall: 77.17, Precision: 77.17, F1: 77.17\n"
     ]
    },
    {
     "name": "stderr",
     "output_type": "stream",
     "text": [
      "\n",
      " 45%|████▌     | 122/270 [00:37<00:37,  3.90it/s]\u001b[A\n",
      " 46%|████▌     | 123/270 [00:38<00:34,  4.25it/s]\u001b[A"
     ]
    },
    {
     "name": "stdout",
     "output_type": "stream",
     "text": [
      "Acc: 99.24, Recall: 13.04, Precision: 13.04, F1: 13.04\n",
      "Acc: 99.83, Recall: 59.74, Precision: 59.74, F1: 59.74\n"
     ]
    },
    {
     "name": "stderr",
     "output_type": "stream",
     "text": [
      "\n",
      " 46%|████▌     | 124/270 [00:38<00:38,  3.83it/s]\u001b[A"
     ]
    },
    {
     "name": "stdout",
     "output_type": "stream",
     "text": [
      "Acc: 99.29, Recall: 58.33, Precision: 58.33, F1: 58.33\n"
     ]
    },
    {
     "name": "stderr",
     "output_type": "stream",
     "text": [
      "\n",
      " 46%|████▋     | 125/270 [00:38<00:39,  3.64it/s]\u001b[A"
     ]
    },
    {
     "name": "stdout",
     "output_type": "stream",
     "text": [
      "Acc: 99.72, Recall: 82.29, Precision: 82.29, F1: 82.29\n"
     ]
    },
    {
     "name": "stderr",
     "output_type": "stream",
     "text": [
      "\n",
      " 47%|████▋     | 126/270 [00:39<00:38,  3.71it/s]\u001b[A"
     ]
    },
    {
     "name": "stdout",
     "output_type": "stream",
     "text": [
      "Acc: 99.07, Recall: 19.81, Precision: 19.81, F1: 19.81\n"
     ]
    },
    {
     "name": "stderr",
     "output_type": "stream",
     "text": [
      "\n",
      " 47%|████▋     | 127/270 [00:39<00:37,  3.80it/s]\u001b[A\n",
      " 47%|████▋     | 128/270 [00:39<00:32,  4.38it/s]\u001b[A"
     ]
    },
    {
     "name": "stdout",
     "output_type": "stream",
     "text": [
      "Acc: 99.58, Recall: 59.38, Precision: 59.38, F1: 59.38\n",
      "Acc: 99.98, Recall: 0.0, Precision: 0.0, F1: 0.0\n"
     ]
    },
    {
     "name": "stderr",
     "output_type": "stream",
     "text": [
      "\n",
      " 48%|████▊     | 129/270 [00:39<00:37,  3.72it/s]\u001b[A\n",
      " 48%|████▊     | 130/270 [00:39<00:32,  4.25it/s]\u001b[A"
     ]
    },
    {
     "name": "stdout",
     "output_type": "stream",
     "text": [
      "Acc: 98.49, Recall: 28.05, Precision: 28.05, F1: 28.05\n",
      "Acc: 99.88, Recall: 0.0, Precision: 0.0, F1: 0.0\n"
     ]
    },
    {
     "name": "stderr",
     "output_type": "stream",
     "text": [
      "\n",
      " 49%|████▊     | 131/270 [00:40<00:36,  3.78it/s]\u001b[A"
     ]
    },
    {
     "name": "stdout",
     "output_type": "stream",
     "text": [
      "Acc: 98.43, Recall: 12.95, Precision: 12.95, F1: 12.95\n"
     ]
    },
    {
     "name": "stderr",
     "output_type": "stream",
     "text": [
      "\n",
      " 49%|████▉     | 132/270 [00:40<00:37,  3.69it/s]\u001b[A"
     ]
    },
    {
     "name": "stdout",
     "output_type": "stream",
     "text": [
      "Acc: 99.07, Recall: 32.81, Precision: 32.81, F1: 32.81\n"
     ]
    },
    {
     "name": "stderr",
     "output_type": "stream",
     "text": [
      "\n",
      " 49%|████▉     | 133/270 [00:40<00:35,  3.89it/s]\u001b[A"
     ]
    },
    {
     "name": "stdout",
     "output_type": "stream",
     "text": [
      "Acc: 99.49, Recall: 36.73, Precision: 36.73, F1: 36.73\n",
      "Acc: 99.53, Recall: 21.62, Precision: 21.62, F1: 21.62\n"
     ]
    },
    {
     "name": "stderr",
     "output_type": "stream",
     "text": [
      "\n",
      " 50%|████▉     | 134/270 [00:40<00:32,  4.14it/s]\u001b[A\n",
      " 50%|█████     | 135/270 [00:41<00:30,  4.36it/s]\u001b[A"
     ]
    },
    {
     "name": "stdout",
     "output_type": "stream",
     "text": [
      "Acc: 99.48, Recall: 14.41, Precision: 14.41, F1: 14.41\n"
     ]
    },
    {
     "name": "stderr",
     "output_type": "stream",
     "text": [
      "\n",
      " 50%|█████     | 136/270 [00:41<00:30,  4.42it/s]\u001b[A"
     ]
    },
    {
     "name": "stdout",
     "output_type": "stream",
     "text": [
      "Acc: 99.72, Recall: 62.77, Precision: 62.77, F1: 62.77\n"
     ]
    },
    {
     "name": "stderr",
     "output_type": "stream",
     "text": [
      "\n",
      " 51%|█████     | 137/270 [00:41<00:29,  4.47it/s]\u001b[A"
     ]
    },
    {
     "name": "stdout",
     "output_type": "stream",
     "text": [
      "Acc: 99.77, Recall: 69.12, Precision: 69.12, F1: 69.12\n"
     ]
    },
    {
     "name": "stderr",
     "output_type": "stream",
     "text": [
      "\n",
      " 51%|█████     | 138/270 [00:41<00:29,  4.55it/s]\u001b[A"
     ]
    },
    {
     "name": "stdout",
     "output_type": "stream",
     "text": [
      "Acc: 99.47, Recall: 20.33, Precision: 20.33, F1: 20.33\n"
     ]
    },
    {
     "name": "stderr",
     "output_type": "stream",
     "text": [
      "\n",
      " 51%|█████▏    | 139/270 [00:42<00:28,  4.57it/s]\u001b[A"
     ]
    },
    {
     "name": "stdout",
     "output_type": "stream",
     "text": [
      "Acc: 99.54, Recall: 36.57, Precision: 36.57, F1: 36.57\n"
     ]
    },
    {
     "name": "stderr",
     "output_type": "stream",
     "text": [
      "\n",
      " 52%|█████▏    | 140/270 [00:42<00:28,  4.53it/s]\u001b[A\n",
      " 52%|█████▏    | 141/270 [00:42<00:26,  4.80it/s]\u001b[A"
     ]
    },
    {
     "name": "stdout",
     "output_type": "stream",
     "text": [
      "Acc: 99.34, Recall: 18.24, Precision: 18.24, F1: 18.24\n",
      "Acc: 99.7, Recall: 6.67, Precision: 6.67, F1: 6.67\n"
     ]
    },
    {
     "name": "stderr",
     "output_type": "stream",
     "text": [
      "\n",
      " 53%|█████▎    | 142/270 [00:42<00:25,  4.98it/s]\u001b[A\n",
      " 53%|█████▎    | 143/270 [00:42<00:25,  5.04it/s]\u001b[A"
     ]
    },
    {
     "name": "stdout",
     "output_type": "stream",
     "text": [
      "Acc: 99.62, Recall: 2.78, Precision: 2.78, F1: 2.78\n",
      "Acc: 99.57, Recall: 9.2, Precision: 9.2, F1: 9.2\n"
     ]
    },
    {
     "name": "stderr",
     "output_type": "stream",
     "text": [
      "\n",
      " 53%|█████▎    | 144/270 [00:43<00:24,  5.05it/s]\u001b[A"
     ]
    },
    {
     "name": "stdout",
     "output_type": "stream",
     "text": [
      "Acc: 99.55, Recall: 13.54, Precision: 13.54, F1: 13.54\n",
      "Acc: 99.52, Recall: 15.24, Precision: 15.24, F1: 15.24\n"
     ]
    },
    {
     "name": "stderr",
     "output_type": "stream",
     "text": [
      "\n",
      " 54%|█████▎    | 145/270 [00:43<00:24,  5.05it/s]\u001b[A\n",
      " 54%|█████▍    | 146/270 [00:43<00:26,  4.67it/s]\u001b[A\n",
      " 54%|█████▍    | 147/270 [00:43<00:23,  5.15it/s]\u001b[A"
     ]
    },
    {
     "name": "stdout",
     "output_type": "stream",
     "text": [
      "Acc: 99.3, Recall: 33.68, Precision: 33.68, F1: 33.68\n",
      "Acc: 99.98, Recall: 0.0, Precision: 0.0, F1: 0.0\n"
     ]
    },
    {
     "name": "stderr",
     "output_type": "stream",
     "text": [
      "\n",
      " 55%|█████▍    | 148/270 [00:43<00:26,  4.67it/s]\u001b[A\n",
      " 55%|█████▌    | 149/270 [00:44<00:24,  4.97it/s]\u001b[A"
     ]
    },
    {
     "name": "stdout",
     "output_type": "stream",
     "text": [
      "Acc: 99.52, Recall: 57.21, Precision: 57.21, F1: 57.21\n",
      "Acc: 99.78, Recall: 14.58, Precision: 14.58, F1: 14.58\n"
     ]
    },
    {
     "name": "stderr",
     "output_type": "stream",
     "text": [
      "\n",
      " 56%|█████▌    | 150/270 [00:44<00:22,  5.39it/s]\u001b[A\n",
      " 56%|█████▌    | 151/270 [00:44<00:21,  5.42it/s]\u001b[A"
     ]
    },
    {
     "name": "stdout",
     "output_type": "stream",
     "text": [
      "Acc: 99.99, Recall: 0.0, Precision: 0.0, F1: 0.0\n",
      "Acc: 99.77, Recall: 33.85, Precision: 33.85, F1: 33.85\n"
     ]
    },
    {
     "name": "stderr",
     "output_type": "stream",
     "text": [
      "\n",
      " 56%|█████▋    | 152/270 [00:44<00:22,  5.18it/s]\u001b[A\n",
      " 57%|█████▋    | 153/270 [00:44<00:21,  5.37it/s]\u001b[A"
     ]
    },
    {
     "name": "stdout",
     "output_type": "stream",
     "text": [
      "Acc: 99.69, Recall: 54.4, Precision: 54.4, F1: 54.4\n",
      "Acc: 99.74, Recall: 2.08, Precision: 2.08, F1: 2.08\n"
     ]
    },
    {
     "name": "stderr",
     "output_type": "stream",
     "text": [
      "\n",
      " 57%|█████▋    | 154/270 [00:44<00:20,  5.72it/s]\u001b[A"
     ]
    },
    {
     "name": "stdout",
     "output_type": "stream",
     "text": [
      "Acc: 99.98, Recall: 0.0, Precision: 0.0, F1: 0.0\n"
     ]
    },
    {
     "name": "stderr",
     "output_type": "stream",
     "text": [
      "\n",
      " 57%|█████▋    | 155/270 [00:45<00:21,  5.33it/s]\u001b[A"
     ]
    },
    {
     "name": "stdout",
     "output_type": "stream",
     "text": [
      "Acc: 99.33, Recall: 6.11, Precision: 6.11, F1: 6.11\n"
     ]
    },
    {
     "name": "stderr",
     "output_type": "stream",
     "text": [
      "\n",
      " 58%|█████▊    | 156/270 [00:45<00:27,  4.16it/s]\u001b[A"
     ]
    },
    {
     "name": "stdout",
     "output_type": "stream",
     "text": [
      "Acc: 99.39, Recall: 70.95, Precision: 70.95, F1: 70.95\n"
     ]
    },
    {
     "name": "stderr",
     "output_type": "stream",
     "text": [
      "\n",
      " 58%|█████▊    | 157/270 [00:45<00:26,  4.25it/s]\u001b[A\n",
      " 59%|█████▊    | 158/270 [00:45<00:24,  4.59it/s]\u001b[A"
     ]
    },
    {
     "name": "stdout",
     "output_type": "stream",
     "text": [
      "Acc: 99.96, Recall: 94.56, Precision: 94.56, F1: 94.56\n",
      "Acc: 99.74, Recall: 29.85, Precision: 29.85, F1: 29.85\n"
     ]
    },
    {
     "name": "stderr",
     "output_type": "stream",
     "text": [
      "\n",
      " 59%|█████▉    | 159/270 [00:46<00:22,  4.96it/s]\u001b[A\n",
      " 59%|█████▉    | 160/270 [00:46<00:21,  5.16it/s]\u001b[A"
     ]
    },
    {
     "name": "stdout",
     "output_type": "stream",
     "text": [
      "Acc: 99.8, Recall: 0.0, Precision: 0.0, F1: 0.0\n",
      "Acc: 99.71, Recall: 0.0, Precision: 0.0, F1: 0.0\n"
     ]
    },
    {
     "name": "stderr",
     "output_type": "stream",
     "text": [
      "\n",
      " 60%|█████▉    | 161/270 [00:46<00:20,  5.22it/s]\u001b[A\n",
      " 60%|██████    | 162/270 [00:46<00:20,  5.28it/s]\u001b[A"
     ]
    },
    {
     "name": "stdout",
     "output_type": "stream",
     "text": [
      "Acc: 99.61, Recall: 5.26, Precision: 5.26, F1: 5.26\n",
      "Acc: 99.64, Recall: 17.28, Precision: 17.28, F1: 17.28\n"
     ]
    },
    {
     "name": "stderr",
     "output_type": "stream",
     "text": [
      "\n",
      " 60%|██████    | 163/270 [00:47<00:27,  3.84it/s]\u001b[A\n",
      " 61%|██████    | 164/270 [00:47<00:24,  4.25it/s]\u001b[A"
     ]
    },
    {
     "name": "stdout",
     "output_type": "stream",
     "text": [
      "Acc: 99.17, Recall: 69.23, Precision: 69.23, F1: 69.23\n",
      "Acc: 99.85, Recall: 51.72, Precision: 51.72, F1: 51.72\n"
     ]
    },
    {
     "name": "stderr",
     "output_type": "stream",
     "text": [
      "\n",
      " 61%|██████    | 165/270 [00:47<00:22,  4.71it/s]\u001b[A\n",
      " 61%|██████▏   | 166/270 [00:47<00:21,  4.94it/s]\u001b[A"
     ]
    },
    {
     "name": "stdout",
     "output_type": "stream",
     "text": [
      "Acc: 99.87, Recall: 0.0, Precision: 0.0, F1: 0.0\n",
      "Acc: 99.65, Recall: 8.45, Precision: 8.45, F1: 8.45\n"
     ]
    },
    {
     "name": "stderr",
     "output_type": "stream",
     "text": [
      "\n",
      " 62%|██████▏   | 167/270 [00:47<00:19,  5.37it/s]\u001b[A\n",
      " 62%|██████▏   | 168/270 [00:47<00:18,  5.61it/s]\u001b[A"
     ]
    },
    {
     "name": "stdout",
     "output_type": "stream",
     "text": [
      "Acc: 99.99, Recall: 50.0, Precision: 50.0, F1: 50.0\n",
      "Acc: 99.91, Recall: 38.46, Precision: 38.46, F1: 38.46\n"
     ]
    },
    {
     "name": "stderr",
     "output_type": "stream",
     "text": [
      "\n",
      " 63%|██████▎   | 169/270 [00:48<00:17,  5.87it/s]\u001b[A\n",
      " 63%|██████▎   | 170/270 [00:48<00:17,  5.68it/s]\u001b[A"
     ]
    },
    {
     "name": "stdout",
     "output_type": "stream",
     "text": [
      "Acc: 99.93, Recall: 0.0, Precision: 0.0, F1: 0.0\n",
      "Acc: 99.83, Recall: 60.49, Precision: 60.49, F1: 60.49\n"
     ]
    },
    {
     "name": "stderr",
     "output_type": "stream",
     "text": [
      "\n",
      " 63%|██████▎   | 171/270 [00:48<00:18,  5.33it/s]\u001b[A\n",
      " 64%|██████▎   | 172/270 [00:48<00:17,  5.45it/s]\u001b[A"
     ]
    },
    {
     "name": "stdout",
     "output_type": "stream",
     "text": [
      "Acc: 99.47, Recall: 22.22, Precision: 22.22, F1: 22.22\n",
      "Acc: 99.72, Recall: 1.92, Precision: 1.92, F1: 1.92\n"
     ]
    },
    {
     "name": "stderr",
     "output_type": "stream",
     "text": [
      "\n",
      " 64%|██████▍   | 173/270 [00:48<00:17,  5.58it/s]\u001b[A"
     ]
    },
    {
     "name": "stdout",
     "output_type": "stream",
     "text": [
      "Acc: 99.87, Recall: 48.89, Precision: 48.89, F1: 48.89\n"
     ]
    },
    {
     "name": "stderr",
     "output_type": "stream",
     "text": [
      "\n",
      " 64%|██████▍   | 174/270 [00:48<00:18,  5.27it/s]\u001b[A\n",
      " 65%|██████▍   | 175/270 [00:49<00:18,  5.27it/s]\u001b[A"
     ]
    },
    {
     "name": "stdout",
     "output_type": "stream",
     "text": [
      "Acc: 99.49, Recall: 25.98, Precision: 25.98, F1: 25.98\n",
      "Acc: 99.81, Recall: 57.83, Precision: 57.83, F1: 57.83\n"
     ]
    },
    {
     "name": "stderr",
     "output_type": "stream",
     "text": [
      "\n",
      " 65%|██████▌   | 176/270 [00:49<00:16,  5.60it/s]\u001b[A\n",
      " 66%|██████▌   | 177/270 [00:49<00:15,  5.90it/s]\u001b[A"
     ]
    },
    {
     "name": "stdout",
     "output_type": "stream",
     "text": [
      "Acc: 99.96, Recall: 20.0, Precision: 20.0, F1: 20.0\n",
      "Acc: 99.97, Recall: 0.0, Precision: 0.0, F1: 0.0\n"
     ]
    },
    {
     "name": "stderr",
     "output_type": "stream",
     "text": [
      "\n",
      " 66%|██████▌   | 178/270 [00:49<00:15,  5.86it/s]\u001b[A\n",
      " 66%|██████▋   | 179/270 [00:49<00:15,  5.74it/s]\u001b[A"
     ]
    },
    {
     "name": "stdout",
     "output_type": "stream",
     "text": [
      "Acc: 99.73, Recall: 1.96, Precision: 1.96, F1: 1.96\n",
      "Acc: 99.63, Recall: 2.86, Precision: 2.86, F1: 2.86\n"
     ]
    },
    {
     "name": "stderr",
     "output_type": "stream",
     "text": [
      "\n",
      " 67%|██████▋   | 180/270 [00:49<00:15,  5.94it/s]\u001b[A\n",
      " 67%|██████▋   | 181/270 [00:50<00:15,  5.72it/s]\u001b[A"
     ]
    },
    {
     "name": "stdout",
     "output_type": "stream",
     "text": [
      "Acc: 99.91, Recall: 11.11, Precision: 11.11, F1: 11.11\n",
      "Acc: 99.55, Recall: 6.82, Precision: 6.82, F1: 6.82\n"
     ]
    },
    {
     "name": "stderr",
     "output_type": "stream",
     "text": [
      "\n",
      " 67%|██████▋   | 182/270 [00:50<00:15,  5.63it/s]\u001b[A\n",
      " 68%|██████▊   | 183/270 [00:50<00:15,  5.75it/s]\u001b[A"
     ]
    },
    {
     "name": "stdout",
     "output_type": "stream",
     "text": [
      "Acc: 99.67, Recall: 25.0, Precision: 25.0, F1: 25.0\n",
      "Acc: 99.82, Recall: 23.26, Precision: 23.26, F1: 23.26\n"
     ]
    },
    {
     "name": "stderr",
     "output_type": "stream",
     "text": [
      "\n",
      " 68%|██████▊   | 184/270 [00:50<00:14,  5.81it/s]\u001b[A\n",
      " 69%|██████▊   | 185/270 [00:50<00:14,  5.77it/s]\u001b[A"
     ]
    },
    {
     "name": "stdout",
     "output_type": "stream",
     "text": [
      "Acc: 99.78, Recall: 6.98, Precision: 6.98, F1: 6.98\n",
      "Acc: 99.75, Recall: 19.3, Precision: 19.3, F1: 19.3\n"
     ]
    },
    {
     "name": "stderr",
     "output_type": "stream",
     "text": [
      "\n",
      " 69%|██████▉   | 186/270 [00:51<00:14,  5.98it/s]\u001b[A\n",
      " 69%|██████▉   | 187/270 [00:51<00:13,  6.04it/s]\u001b[A"
     ]
    },
    {
     "name": "stdout",
     "output_type": "stream",
     "text": [
      "Acc: 99.93, Recall: 0.0, Precision: 0.0, F1: 0.0\n",
      "Acc: 99.85, Recall: 15.62, Precision: 15.62, F1: 15.62\n"
     ]
    },
    {
     "name": "stderr",
     "output_type": "stream",
     "text": [
      "\n",
      " 70%|██████▉   | 188/270 [00:51<00:14,  5.82it/s]\u001b[A\n",
      " 70%|███████   | 189/270 [00:51<00:13,  5.95it/s]\u001b[A"
     ]
    },
    {
     "name": "stdout",
     "output_type": "stream",
     "text": [
      "Acc: 99.59, Recall: 9.64, Precision: 9.64, F1: 9.64\n",
      "Acc: 99.85, Recall: 3.57, Precision: 3.57, F1: 3.57\n"
     ]
    },
    {
     "name": "stderr",
     "output_type": "stream",
     "text": [
      "\n",
      " 70%|███████   | 190/270 [00:51<00:13,  5.81it/s]\u001b[A\n",
      " 71%|███████   | 191/270 [00:51<00:12,  6.08it/s]\u001b[A"
     ]
    },
    {
     "name": "stdout",
     "output_type": "stream",
     "text": [
      "Acc: 99.84, Recall: 55.88, Precision: 55.88, F1: 55.88\n",
      "Acc: 99.99, Recall: 0.0, Precision: 0.0, F1: 0.0\n"
     ]
    },
    {
     "name": "stderr",
     "output_type": "stream",
     "text": [
      "\n",
      " 71%|███████   | 192/270 [00:52<00:13,  5.72it/s]\u001b[A\n",
      " 71%|███████▏  | 193/270 [00:52<00:12,  5.99it/s]\u001b[A"
     ]
    },
    {
     "name": "stdout",
     "output_type": "stream",
     "text": [
      "Acc: 99.84, Recall: 70.3, Precision: 70.3, F1: 70.3\n",
      "Acc: 99.99, Recall: 33.33, Precision: 33.33, F1: 33.33\n"
     ]
    },
    {
     "name": "stderr",
     "output_type": "stream",
     "text": [
      "\n",
      " 72%|███████▏  | 194/270 [00:52<00:12,  6.21it/s]\u001b[A\n",
      " 72%|███████▏  | 195/270 [00:52<00:11,  6.35it/s]\u001b[A"
     ]
    },
    {
     "name": "stdout",
     "output_type": "stream",
     "text": [
      "Acc: 99.99, Recall: 0.0, Precision: 0.0, F1: 0.0\n",
      "Acc: 99.97, Recall: 14.29, Precision: 14.29, F1: 14.29\n"
     ]
    },
    {
     "name": "stderr",
     "output_type": "stream",
     "text": [
      "\n",
      " 73%|███████▎  | 196/270 [00:52<00:11,  6.46it/s]\u001b[A\n",
      " 73%|███████▎  | 197/270 [00:52<00:11,  6.55it/s]\u001b[A"
     ]
    },
    {
     "name": "stdout",
     "output_type": "stream",
     "text": [
      "Acc: 99.98, Recall: 0.0, Precision: 0.0, F1: 0.0\n",
      "Acc: 99.97, Recall: 0.0, Precision: 0.0, F1: 0.0\n"
     ]
    },
    {
     "name": "stderr",
     "output_type": "stream",
     "text": [
      "\n",
      " 73%|███████▎  | 198/270 [00:52<00:11,  6.02it/s]\u001b[A\n",
      " 74%|███████▎  | 199/270 [00:53<00:11,  6.24it/s]\u001b[A"
     ]
    },
    {
     "name": "stdout",
     "output_type": "stream",
     "text": [
      "Acc: 99.77, Recall: 56.25, Precision: 56.25, F1: 56.25\n",
      "Acc: 99.99, Recall: 0.0, Precision: 0.0, F1: 0.0\n"
     ]
    },
    {
     "name": "stderr",
     "output_type": "stream",
     "text": [
      "\n",
      " 74%|███████▍  | 200/270 [00:53<00:11,  6.29it/s]\u001b[A\n",
      " 74%|███████▍  | 201/270 [00:53<00:10,  6.37it/s]\u001b[A"
     ]
    },
    {
     "name": "stdout",
     "output_type": "stream",
     "text": [
      "Acc: 99.89, Recall: 0.0, Precision: 0.0, F1: 0.0\n",
      "Acc: 99.93, Recall: 0.0, Precision: 0.0, F1: 0.0\n"
     ]
    },
    {
     "name": "stderr",
     "output_type": "stream",
     "text": [
      "\n",
      " 75%|███████▍  | 202/270 [00:53<00:10,  6.31it/s]\u001b[A\n",
      " 75%|███████▌  | 203/270 [00:53<00:10,  6.41it/s]\u001b[A"
     ]
    },
    {
     "name": "stdout",
     "output_type": "stream",
     "text": [
      "Acc: 99.92, Recall: 50.0, Precision: 50.0, F1: 50.0\n",
      "Acc: 99.95, Recall: 0.0, Precision: 0.0, F1: 0.0\n"
     ]
    },
    {
     "name": "stderr",
     "output_type": "stream",
     "text": [
      "\n",
      " 76%|███████▌  | 204/270 [00:53<00:10,  6.50it/s]\u001b[A\n",
      " 76%|███████▌  | 205/270 [00:54<00:09,  6.59it/s]\u001b[A"
     ]
    },
    {
     "name": "stdout",
     "output_type": "stream",
     "text": [
      "Acc: 99.98, Recall: 0.0, Precision: 0.0, F1: 0.0\n",
      "Acc: 99.99, Recall: 0.0, Precision: 0.0, F1: 0.0\n"
     ]
    },
    {
     "name": "stderr",
     "output_type": "stream",
     "text": [
      "\n",
      " 76%|███████▋  | 206/270 [00:54<00:09,  6.66it/s]\u001b[A"
     ]
    },
    {
     "name": "stdout",
     "output_type": "stream",
     "text": [
      "Acc: 99.99, Recall: 0.0, Precision: 0.0, F1: 0.0\n"
     ]
    },
    {
     "name": "stderr",
     "output_type": "stream",
     "text": [
      "\n",
      " 77%|███████▋  | 207/270 [00:54<00:11,  5.59it/s]\u001b[A\n",
      " 77%|███████▋  | 208/270 [00:54<00:10,  5.87it/s]\u001b[A"
     ]
    },
    {
     "name": "stdout",
     "output_type": "stream",
     "text": [
      "Acc: 99.33, Recall: 33.69, Precision: 33.69, F1: 33.69\n",
      "Acc: 99.98, Recall: 20.0, Precision: 20.0, F1: 20.0\n"
     ]
    },
    {
     "name": "stderr",
     "output_type": "stream",
     "text": [
      "\n",
      " 77%|███████▋  | 209/270 [00:54<00:10,  5.97it/s]\u001b[A\n",
      " 78%|███████▊  | 210/270 [00:54<00:10,  5.79it/s]\u001b[A"
     ]
    },
    {
     "name": "stdout",
     "output_type": "stream",
     "text": [
      "Acc: 99.87, Recall: 20.0, Precision: 20.0, F1: 20.0\n",
      "Acc: 99.7, Recall: 33.33, Precision: 33.33, F1: 33.33\n"
     ]
    },
    {
     "name": "stderr",
     "output_type": "stream",
     "text": [
      "\n",
      " 78%|███████▊  | 211/270 [00:55<00:10,  5.54it/s]\u001b[A\n",
      " 79%|███████▊  | 212/270 [00:55<00:10,  5.58it/s]\u001b[A"
     ]
    },
    {
     "name": "stdout",
     "output_type": "stream",
     "text": [
      "Acc: 99.58, Recall: 21.43, Precision: 21.43, F1: 21.43\n",
      "Acc: 99.88, Recall: 60.0, Precision: 60.0, F1: 60.0\n"
     ]
    },
    {
     "name": "stderr",
     "output_type": "stream",
     "text": [
      "\n",
      " 79%|███████▉  | 213/270 [00:55<00:11,  5.18it/s]\u001b[A\n",
      " 79%|███████▉  | 214/270 [00:55<00:10,  5.56it/s]\u001b[A"
     ]
    },
    {
     "name": "stdout",
     "output_type": "stream",
     "text": [
      "Acc: 99.69, Recall: 60.69, Precision: 60.69, F1: 60.69\n",
      "Acc: 99.98, Recall: 0.0, Precision: 0.0, F1: 0.0\n"
     ]
    },
    {
     "name": "stderr",
     "output_type": "stream",
     "text": [
      "\n",
      " 80%|███████▉  | 215/270 [00:55<00:09,  5.64it/s]\u001b[A\n",
      " 80%|████████  | 216/270 [00:56<00:09,  5.93it/s]\u001b[A"
     ]
    },
    {
     "name": "stdout",
     "output_type": "stream",
     "text": [
      "Acc: 99.9, Recall: 64.71, Precision: 64.71, F1: 64.71\n",
      "Acc: 99.98, Recall: 0.0, Precision: 0.0, F1: 0.0\n"
     ]
    },
    {
     "name": "stderr",
     "output_type": "stream",
     "text": [
      "\n",
      " 80%|████████  | 217/270 [00:56<00:08,  5.91it/s]\u001b[A\n",
      " 81%|████████  | 218/270 [00:56<00:08,  6.06it/s]\u001b[A"
     ]
    },
    {
     "name": "stdout",
     "output_type": "stream",
     "text": [
      "Acc: 99.75, Recall: 2.13, Precision: 2.13, F1: 2.13\n",
      "Acc: 99.89, Recall: 0.0, Precision: 0.0, F1: 0.0\n"
     ]
    },
    {
     "name": "stderr",
     "output_type": "stream",
     "text": [
      "\n",
      " 81%|████████  | 219/270 [00:56<00:08,  6.23it/s]\u001b[A\n",
      " 81%|████████▏ | 220/270 [00:56<00:07,  6.36it/s]\u001b[A"
     ]
    },
    {
     "name": "stdout",
     "output_type": "stream",
     "text": [
      "Acc: 99.96, Recall: 0.0, Precision: 0.0, F1: 0.0\n",
      "Acc: 99.97, Recall: 0.0, Precision: 0.0, F1: 0.0\n"
     ]
    },
    {
     "name": "stderr",
     "output_type": "stream",
     "text": [
      "\n",
      " 82%|████████▏ | 221/270 [00:56<00:09,  5.40it/s]\u001b[A\n",
      " 82%|████████▏ | 222/270 [00:57<00:08,  5.63it/s]\u001b[A"
     ]
    },
    {
     "name": "stdout",
     "output_type": "stream",
     "text": [
      "Acc: 99.43, Recall: 42.54, Precision: 42.54, F1: 42.54\n",
      "Acc: 99.91, Recall: 36.0, Precision: 36.0, F1: 36.0\n"
     ]
    },
    {
     "name": "stderr",
     "output_type": "stream",
     "text": [
      "\n",
      " 83%|████████▎ | 223/270 [00:57<00:08,  5.46it/s]\u001b[A\n",
      " 83%|████████▎ | 224/270 [00:57<00:07,  5.77it/s]\u001b[A"
     ]
    },
    {
     "name": "stdout",
     "output_type": "stream",
     "text": [
      "Acc: 99.66, Recall: 32.98, Precision: 32.98, F1: 32.98\n",
      "Acc: 99.96, Recall: 0.0, Precision: 0.0, F1: 0.0\n"
     ]
    },
    {
     "name": "stderr",
     "output_type": "stream",
     "text": [
      "\n",
      " 83%|████████▎ | 225/270 [00:57<00:07,  5.83it/s]\u001b[A\n",
      " 84%|████████▎ | 226/270 [00:57<00:07,  5.93it/s]\u001b[A"
     ]
    },
    {
     "name": "stdout",
     "output_type": "stream",
     "text": [
      "Acc: 99.79, Recall: 11.63, Precision: 11.63, F1: 11.63\n",
      "Acc: 99.86, Recall: 23.53, Precision: 23.53, F1: 23.53\n"
     ]
    },
    {
     "name": "stderr",
     "output_type": "stream",
     "text": [
      "\n",
      " 84%|████████▍ | 227/270 [00:57<00:06,  6.17it/s]\u001b[A\n",
      " 84%|████████▍ | 228/270 [00:58<00:07,  5.90it/s]\u001b[A"
     ]
    },
    {
     "name": "stdout",
     "output_type": "stream",
     "text": [
      "Acc: 99.99, Recall: 0.0, Precision: 0.0, F1: 0.0\n",
      "Acc: 99.7, Recall: 27.63, Precision: 27.63, F1: 27.63\n"
     ]
    },
    {
     "name": "stderr",
     "output_type": "stream",
     "text": [
      "\n",
      " 85%|████████▍ | 229/270 [00:58<00:06,  6.08it/s]\u001b[A\n",
      " 85%|████████▌ | 230/270 [00:58<00:06,  6.02it/s]\u001b[A"
     ]
    },
    {
     "name": "stdout",
     "output_type": "stream",
     "text": [
      "Acc: 99.94, Recall: 0.0, Precision: 0.0, F1: 0.0\n",
      "Acc: 99.77, Recall: 12.24, Precision: 12.24, F1: 12.24\n"
     ]
    },
    {
     "name": "stderr",
     "output_type": "stream",
     "text": [
      "\n",
      " 86%|████████▌ | 231/270 [00:58<00:06,  6.02it/s]\u001b[A\n",
      " 86%|████████▌ | 232/270 [00:58<00:06,  5.90it/s]\u001b[A"
     ]
    },
    {
     "name": "stdout",
     "output_type": "stream",
     "text": [
      "Acc: 99.8, Recall: 5.13, Precision: 5.13, F1: 5.13\n",
      "Acc: 99.89, Recall: 63.79, Precision: 63.79, F1: 63.79\n"
     ]
    },
    {
     "name": "stderr",
     "output_type": "stream",
     "text": [
      "\n",
      " 86%|████████▋ | 233/270 [00:58<00:06,  6.15it/s]\u001b[A\n",
      " 87%|████████▋ | 234/270 [00:59<00:05,  6.07it/s]\u001b[A"
     ]
    },
    {
     "name": "stdout",
     "output_type": "stream",
     "text": [
      "Acc: 100.0, Recall: 100.0, Precision: 100.0, F1: 100.0\n",
      "Acc: 99.77, Recall: 14.0, Precision: 14.0, F1: 14.0\n"
     ]
    },
    {
     "name": "stderr",
     "output_type": "stream",
     "text": [
      "\n",
      " 87%|████████▋ | 235/270 [00:59<00:05,  6.25it/s]\u001b[A\n",
      " 87%|████████▋ | 236/270 [00:59<00:05,  5.96it/s]\u001b[A"
     ]
    },
    {
     "name": "stdout",
     "output_type": "stream",
     "text": [
      "Acc: 99.97, Recall: 0.0, Precision: 0.0, F1: 0.0\n",
      "Acc: 99.61, Recall: 14.46, Precision: 14.46, F1: 14.46\n"
     ]
    },
    {
     "name": "stderr",
     "output_type": "stream",
     "text": [
      "\n",
      " 88%|████████▊ | 237/270 [00:59<00:05,  6.17it/s]\u001b[A\n",
      " 88%|████████▊ | 238/270 [00:59<00:05,  6.32it/s]\u001b[A"
     ]
    },
    {
     "name": "stdout",
     "output_type": "stream",
     "text": [
      "Acc: 99.98, Recall: 0.0, Precision: 0.0, F1: 0.0\n",
      "Acc: 99.96, Recall: 0.0, Precision: 0.0, F1: 0.0\n"
     ]
    },
    {
     "name": "stderr",
     "output_type": "stream",
     "text": [
      "\n",
      " 89%|████████▊ | 239/270 [00:59<00:04,  6.44it/s]\u001b[A\n",
      " 89%|████████▉ | 240/270 [00:59<00:04,  6.52it/s]\u001b[A"
     ]
    },
    {
     "name": "stdout",
     "output_type": "stream",
     "text": [
      "Acc: 99.98, Recall: 0.0, Precision: 0.0, F1: 0.0\n",
      "Acc: 99.97, Recall: 0.0, Precision: 0.0, F1: 0.0\n"
     ]
    },
    {
     "name": "stderr",
     "output_type": "stream",
     "text": [
      "\n",
      " 89%|████████▉ | 241/270 [01:00<00:04,  6.61it/s]\u001b[A\n",
      " 90%|████████▉ | 242/270 [01:00<00:04,  6.64it/s]\u001b[A"
     ]
    },
    {
     "name": "stdout",
     "output_type": "stream",
     "text": [
      "Acc: 99.99, Recall: 0.0, Precision: 0.0, F1: 0.0\n",
      "Acc: 99.97, Recall: 0.0, Precision: 0.0, F1: 0.0\n"
     ]
    },
    {
     "name": "stderr",
     "output_type": "stream",
     "text": [
      "\n",
      " 90%|█████████ | 243/270 [01:00<00:04,  6.69it/s]\u001b[A\n",
      " 90%|█████████ | 244/270 [01:00<00:03,  6.69it/s]\u001b[A"
     ]
    },
    {
     "name": "stdout",
     "output_type": "stream",
     "text": [
      "Acc: 99.99, Recall: 0.0, Precision: 0.0, F1: 0.0\n",
      "Acc: 99.97, Recall: 0.0, Precision: 0.0, F1: 0.0\n"
     ]
    },
    {
     "name": "stderr",
     "output_type": "stream",
     "text": [
      "\n",
      " 91%|█████████ | 245/270 [01:00<00:03,  6.69it/s]\u001b[A\n",
      " 91%|█████████ | 246/270 [01:00<00:03,  6.68it/s]\u001b[A"
     ]
    },
    {
     "name": "stdout",
     "output_type": "stream",
     "text": [
      "Acc: 99.96, Recall: 0.0, Precision: 0.0, F1: 0.0\n",
      "Acc: 99.95, Recall: 0.0, Precision: 0.0, F1: 0.0\n"
     ]
    },
    {
     "name": "stderr",
     "output_type": "stream",
     "text": [
      "\n",
      " 91%|█████████▏| 247/270 [01:01<00:03,  6.68it/s]\u001b[A\n",
      " 92%|█████████▏| 248/270 [01:01<00:03,  6.69it/s]\u001b[A"
     ]
    },
    {
     "name": "stdout",
     "output_type": "stream",
     "text": [
      "Acc: 99.96, Recall: 0.0, Precision: 0.0, F1: 0.0\n",
      "Acc: 99.98, Recall: 57.14, Precision: 57.14, F1: 57.14\n"
     ]
    },
    {
     "name": "stderr",
     "output_type": "stream",
     "text": [
      "\n",
      " 92%|█████████▏| 249/270 [01:01<00:03,  6.68it/s]\u001b[A\n",
      " 93%|█████████▎| 250/270 [01:01<00:02,  6.72it/s]\u001b[A"
     ]
    },
    {
     "name": "stdout",
     "output_type": "stream",
     "text": [
      "Acc: 99.99, Recall: 66.67, Precision: 66.67, F1: 66.67\n",
      "Acc: 99.99, Recall: 0.0, Precision: 0.0, F1: 0.0\n"
     ]
    },
    {
     "name": "stderr",
     "output_type": "stream",
     "text": [
      "\n",
      " 93%|█████████▎| 251/270 [01:01<00:02,  6.74it/s]\u001b[A\n",
      " 93%|█████████▎| 252/270 [01:01<00:02,  6.75it/s]\u001b[A"
     ]
    },
    {
     "name": "stdout",
     "output_type": "stream",
     "text": [
      "Acc: 99.99, Recall: 0.0, Precision: 0.0, F1: 0.0\n",
      "Acc: 99.99, Recall: 0.0, Precision: 0.0, F1: 0.0\n"
     ]
    },
    {
     "name": "stderr",
     "output_type": "stream",
     "text": [
      "\n",
      " 94%|█████████▎| 253/270 [01:01<00:02,  6.74it/s]\u001b[A\n",
      " 94%|█████████▍| 254/270 [01:02<00:02,  6.74it/s]\u001b[A"
     ]
    },
    {
     "name": "stdout",
     "output_type": "stream",
     "text": [
      "Acc: 99.98, Recall: 25.0, Precision: 25.0, F1: 25.0\n",
      "Acc: 99.98, Recall: 0.0, Precision: 0.0, F1: 0.0\n"
     ]
    },
    {
     "name": "stderr",
     "output_type": "stream",
     "text": [
      "\n",
      " 94%|█████████▍| 255/270 [01:02<00:02,  6.72it/s]\u001b[A\n",
      " 95%|█████████▍| 256/270 [01:02<00:02,  6.75it/s]\u001b[A"
     ]
    },
    {
     "name": "stdout",
     "output_type": "stream",
     "text": [
      "Acc: 99.97, Recall: 0.0, Precision: 0.0, F1: 0.0\n",
      "Acc: 99.99, Recall: 0.0, Precision: 0.0, F1: 0.0\n"
     ]
    },
    {
     "name": "stderr",
     "output_type": "stream",
     "text": [
      "\n",
      " 95%|█████████▌| 257/270 [01:02<00:01,  6.74it/s]\u001b[A\n",
      " 96%|█████████▌| 258/270 [01:02<00:01,  6.73it/s]\u001b[A"
     ]
    },
    {
     "name": "stdout",
     "output_type": "stream",
     "text": [
      "Acc: 99.98, Recall: 0.0, Precision: 0.0, F1: 0.0\n",
      "Acc: 99.98, Recall: 0.0, Precision: 0.0, F1: 0.0\n"
     ]
    },
    {
     "name": "stderr",
     "output_type": "stream",
     "text": [
      "\n",
      " 96%|█████████▌| 259/270 [01:02<00:01,  6.71it/s]\u001b[A\n",
      " 96%|█████████▋| 260/270 [01:02<00:01,  6.73it/s]\u001b[A"
     ]
    },
    {
     "name": "stdout",
     "output_type": "stream",
     "text": [
      "Acc: 99.99, Recall: 0.0, Precision: 0.0, F1: 0.0\n",
      "Acc: 99.99, Recall: 0.0, Precision: 0.0, F1: 0.0\n"
     ]
    },
    {
     "name": "stderr",
     "output_type": "stream",
     "text": [
      "\n",
      " 97%|█████████▋| 261/270 [01:03<00:01,  6.72it/s]\u001b[A\n",
      " 97%|█████████▋| 262/270 [01:03<00:01,  6.73it/s]\u001b[A"
     ]
    },
    {
     "name": "stdout",
     "output_type": "stream",
     "text": [
      "Acc: 99.98, Recall: 0.0, Precision: 0.0, F1: 0.0\n",
      "Acc: 99.99, Recall: 0.0, Precision: 0.0, F1: 0.0\n"
     ]
    },
    {
     "name": "stderr",
     "output_type": "stream",
     "text": [
      "\n",
      " 97%|█████████▋| 263/270 [01:03<00:01,  6.75it/s]\u001b[A\n",
      " 98%|█████████▊| 264/270 [01:03<00:00,  6.76it/s]\u001b[A"
     ]
    },
    {
     "name": "stdout",
     "output_type": "stream",
     "text": [
      "Acc: 99.99, Recall: 0.0, Precision: 0.0, F1: 0.0\n",
      "Acc: 99.99, Recall: 0.0, Precision: 0.0, F1: 0.0\n"
     ]
    },
    {
     "name": "stderr",
     "output_type": "stream",
     "text": [
      "\n",
      " 98%|█████████▊| 265/270 [01:03<00:00,  6.79it/s]\u001b[A\n",
      " 99%|█████████▊| 266/270 [01:03<00:00,  6.77it/s]\u001b[A"
     ]
    },
    {
     "name": "stdout",
     "output_type": "stream",
     "text": [
      "Acc: 99.99, Recall: 0.0, Precision: 0.0, F1: 0.0\n",
      "Acc: 99.99, Recall: 0.0, Precision: 0.0, F1: 0.0\n"
     ]
    },
    {
     "name": "stderr",
     "output_type": "stream",
     "text": [
      "\n",
      " 99%|█████████▉| 267/270 [01:03<00:00,  6.77it/s]\u001b[A\n",
      " 99%|█████████▉| 268/270 [01:04<00:00,  6.78it/s]\u001b[A"
     ]
    },
    {
     "name": "stdout",
     "output_type": "stream",
     "text": [
      "Acc: 99.99, Recall: 0.0, Precision: 0.0, F1: 0.0\n",
      "Acc: 99.99, Recall: 0.0, Precision: 0.0, F1: 0.0\n"
     ]
    },
    {
     "name": "stderr",
     "output_type": "stream",
     "text": [
      "\n",
      "100%|█████████▉| 269/270 [01:04<00:00,  6.78it/s]\u001b[A\n",
      "100%|██████████| 270/270 [01:04<00:00,  4.19it/s]\u001b[A\n",
      "100%|██████████| 1/1 [01:04<00:00, 64.43s/it]"
     ]
    },
    {
     "name": "stdout",
     "output_type": "stream",
     "text": [
      "Acc: 99.99, Recall: 0.0, Precision: 0.0, F1: 0.0\n",
      "Acc: 100.0, Recall: 100.0, Precision: 100.0, F1: 100.0\n"
     ]
    },
    {
     "name": "stderr",
     "output_type": "stream",
     "text": [
      "\n"
     ]
    }
   ],
   "source": [
    "## Trial for the first country_dict  (recall and precision and F1 scores are equal)\n",
    "\n",
    "from sklearn.metrics import accuracy_score, precision_score, recall_score, f1_score\n",
    "\n",
    "all_images = list(data['imageRelPath'])\n",
    "list_dict_topic2FNimg = []\n",
    "list_dict_topic2F1 = []\n",
    "\n",
    "for country_dict in tqdm.tqdm(list_country_score_dicts[:1]):\n",
    "    \n",
    "    dict_topic2FNimg = {}\n",
    "    dict_topic2F1 = {}\n",
    "    \n",
    "    for topic in tqdm.tqdm(list(country_dict.keys())):\n",
    "        dict_country_topic2img = next(item for item in list_of_country_dicts if topic in item.keys())\n",
    "        count_pos = len(dict_country_topic2img[topic])\n",
    "        \n",
    "        GT_pos_images = dict_country_topic2img[topic]\n",
    "        Pred_pos_images = [data[1] for data in country_dict[topic][:count_pos]]\n",
    "\n",
    "        GT_labels = [1 if img in GT_pos_images else 0 for img in all_images]\n",
    "        Pred_labels = [1 if img in Pred_pos_images else 0 for img in all_images]\n",
    "        \n",
    "        \n",
    "        accuracy = round(accuracy_score(GT_labels, Pred_labels) * 100, 2)\n",
    "        precision = round(precision_score(GT_labels, Pred_labels) * 100, 2)\n",
    "        recall = round(recall_score(GT_labels, Pred_labels) * 100, 2)\n",
    "        f1 = round(f1_score(GT_labels, Pred_labels) * 100, 2)\n",
    "        \n",
    "        print(f\"Acc: {accuracy}, Recall: {recall}, Precision: {precision}, F1: {f1}\")\n",
    "        \n",
    "        dict_topic2F1[topic] = f1 \n",
    "        list_dict_topic2F1.append(dict_topic2F1)\n",
    "        \n",
    "        \n",
    "        # What are the forgotten items (FN) \n",
    "        images_FN = []\n",
    "        for idx, img in enumerate(all_images):\n",
    "            label_GT = GT_labels[idx]\n",
    "            label_Pred = Pred_labels[idx]\n",
    "            #FN\n",
    "            if label_GT == 1 and label_Pred == 0:\n",
    "                images_FN.append(img) \n",
    "        \n",
    "        dict_topic2FNimg[topic] = images_FN\n",
    "        \n",
    "        list_dict_topic2FNimg.append(dict_topic2FNimg)\n",
    "        "
   ]
  },
  {
   "cell_type": "code",
   "execution_count": 40,
   "id": "6cd18e50",
   "metadata": {},
   "outputs": [
    {
     "name": "stderr",
     "output_type": "stream",
     "text": [
      "100%|██████████| 63/63 [1:07:05<00:00, 63.90s/it]\n"
     ]
    }
   ],
   "source": [
    "from sklearn.metrics import accuracy_score, precision_score, recall_score, f1_score\n",
    "\n",
    "all_images = list(data['imageRelPath'])\n",
    "list_dict_topic2FNimg = []\n",
    "list_dict_topic2F1 = []\n",
    "\n",
    "for country_dict in tqdm.tqdm(list_country_score_dicts):\n",
    "    \n",
    "    dict_topic2FNimg = {}\n",
    "    dict_topic2F1 = {}\n",
    "    \n",
    "    for topic in list(country_dict.keys()):\n",
    "        dict_country_topic2img = next(item for item in list_of_country_dicts if topic in item.keys())\n",
    "        count_pos = len(dict_country_topic2img[topic])\n",
    "        \n",
    "        GT_pos_images = dict_country_topic2img[topic]\n",
    "        Pred_pos_images = [data[1] for data in country_dict[topic][:count_pos]]\n",
    "\n",
    "        GT_labels = [1 if img in GT_pos_images else 0 for img in all_images]\n",
    "        Pred_labels = [1 if img in Pred_pos_images else 0 for img in all_images]\n",
    "        \n",
    "        \n",
    "        accuracy = round(accuracy_score(GT_labels, Pred_labels) * 100, 2)\n",
    "        precision = round(precision_score(GT_labels, Pred_labels) * 100, 2)\n",
    "        recall = round(recall_score(GT_labels, Pred_labels) * 100, 2)\n",
    "        f1 = round(f1_score(GT_labels, Pred_labels) * 100, 2)\n",
    "        \n",
    "        #print(f\"Acc: {accuracy}, Recall: {recall}, Precision: {precision}, F1: {f1}\")\n",
    "        \n",
    "        dict_topic2F1[topic] = f1\n",
    "        \n",
    "        \n",
    "        \n",
    "        # What are the forgotten items (FN) \n",
    "        images_FN = []\n",
    "        for idx, img in enumerate(all_images):\n",
    "            label_GT = GT_labels[idx]\n",
    "            label_Pred = Pred_labels[idx]\n",
    "            #FN\n",
    "            if label_GT == 1 and label_Pred == 0:\n",
    "                images_FN.append(img) \n",
    "        \n",
    "        dict_topic2FNimg[topic] = images_FN\n",
    "        \n",
    "    list_dict_topic2FNimg.append(dict_topic2FNimg)\n",
    "    list_dict_topic2F1.append(dict_topic2F1)"
   ]
  },
  {
   "cell_type": "code",
   "execution_count": null,
   "id": "012f4d8e",
   "metadata": {},
   "outputs": [],
   "source": []
  },
  {
   "cell_type": "code",
   "execution_count": 41,
   "id": "17a0acc6",
   "metadata": {},
   "outputs": [
    {
     "data": {
      "text/plain": [
       "270"
      ]
     },
     "execution_count": 41,
     "metadata": {},
     "output_type": "execute_result"
    }
   ],
   "source": [
    "len(list_dict_topic2F1[0])"
   ]
  },
  {
   "cell_type": "code",
   "execution_count": 45,
   "id": "21b12b38",
   "metadata": {},
   "outputs": [
    {
     "data": {
      "text/plain": [
       "{'This is a photo of family snapshots from Ghana': 7.84,\n",
       " 'This is a photo of cutlery from Ghana': 1.0,\n",
       " 'This is a photo of family from Ghana': 47.68,\n",
       " 'This is a photo of place where eating dinner from Ghana': 10.58,\n",
       " 'This is a photo of plate of food from Ghana': 45.96,\n",
       " 'This is a photo of table with food from Ghana': 35.74,\n",
       " 'This is a photo of get water from Ghana': 21.98,\n",
       " 'This is a photo of stove/hob from Ghana': 41.18,\n",
       " 'This is a photo of light source in kitchen from Ghana': 21.04,\n",
       " 'This is a photo of drinking water from Ghana': 20.12,\n",
       " 'This is a photo of kitchen sink from Ghana': 33.75,\n",
       " 'This is a photo of bathroom privacy from Ghana': 18.43,\n",
       " 'This is a photo of backyard from Ghana': 13.77,\n",
       " 'This is a photo of front door from Ghana': 34.26,\n",
       " 'This is a photo of home from Ghana': 38.38,\n",
       " 'This is a photo of source of cool from Ghana': 2.99,\n",
       " 'This is a photo of street view from Ghana': 44.89,\n",
       " 'This is a photo of teeth from Ghana': 64.94,\n",
       " 'This is a photo of hand back from Ghana': 37.43,\n",
       " 'This is a photo of hand palm from Ghana': 38.82,\n",
       " 'This is a photo of pet from Ghana': 24.86,\n",
       " 'This is a photo of bedroom from Ghana': 32.83,\n",
       " 'This is a photo of grains from Ghana': 27.27,\n",
       " 'This is a photo of wardrobe from Ghana': 41.55,\n",
       " 'This is a photo of armchair from Ghana': 42.72,\n",
       " 'This is a photo of hallway from Ghana': 18.37,\n",
       " 'This is a photo of kitchen from Ghana': 34.73,\n",
       " 'This is a photo of books from Ghana': 44.41,\n",
       " 'This is a photo of everyday shoes from Ghana': 45.5,\n",
       " 'This is a photo of hand washing from Ghana': 38.52,\n",
       " 'This is a photo of trash/waste from Ghana': 15.41,\n",
       " 'This is a photo of tools from Ghana': 27.2,\n",
       " 'This is a photo of hair brush/comb from Ghana': 67.55,\n",
       " 'This is a photo of street detail from Ghana': 0.69,\n",
       " 'This is a photo of soap for hands and body from Ghana': 18.46,\n",
       " 'This is a photo of shampoo from Ghana': 46.31,\n",
       " 'This is a photo of vegetable plot from Ghana': 22.86,\n",
       " 'This is a photo of roof from Ghana': 44.55,\n",
       " 'This is a photo of toilet from Ghana': 45.03,\n",
       " 'This is a photo of spices from Ghana': 41.05,\n",
       " 'This is a photo of salt from Ghana': 35.39,\n",
       " 'This is a photo of jewelry from Ghana': 43.85,\n",
       " 'This is a photo of cooking utensils from Ghana': 5.65,\n",
       " 'This is a photo of dish washing brush/cloth from Ghana': 17.38,\n",
       " 'This is a photo of cooking pots from Ghana': 22.66,\n",
       " 'This is a photo of plates from Ghana': 14.08,\n",
       " 'This is a photo of cups/mugs/glasses from Ghana': 43.67,\n",
       " 'This is a photo of wall from Ghana': 13.29,\n",
       " 'This is a photo of cattle from Ghana': 27.27,\n",
       " 'This is a photo of ceiling from Ghana': 31.22,\n",
       " 'This is a photo of bed from Ghana': 34.43,\n",
       " 'This is a photo of storage room from Ghana': 0.89,\n",
       " 'This is a photo of refrigerator from Ghana': 47.09,\n",
       " 'This is a photo of floor from Ghana': 23.61,\n",
       " 'This is a photo of wall inside from Ghana': 5.04,\n",
       " 'This is a photo of tooth paste from Ghana': 50.0,\n",
       " 'This is a photo of toothbrush from Ghana': 33.15,\n",
       " 'This is a photo of goats from Ghana': 70.83,\n",
       " 'This is a photo of cleaning equipment from Ghana': 16.25,\n",
       " 'This is a photo of cleaning after toilet from Ghana': 7.14,\n",
       " 'This is a photo of visit from Ghana': 6.85,\n",
       " 'This is a photo of hand open to closed from Ghana': 4.08,\n",
       " 'This is a photo of brushing teeth from Ghana': 15.08,\n",
       " 'This is a photo of using toilet from Ghana': 9.18,\n",
       " 'This is a photo of doing dishes from Ghana': 2.22,\n",
       " 'This is a photo of pouring drinking water from Ghana': 12.67,\n",
       " 'This is a photo of pouring water from Ghana': 7.87,\n",
       " 'This is a photo of starting stove from Ghana': 20.3,\n",
       " 'This is a photo of cooking from Ghana': 20.67,\n",
       " 'This is a photo of preparing food from Ghana': 20.12,\n",
       " 'This is a photo of shoes from Ghana': 4.76,\n",
       " 'This is a photo of washing hands from Ghana': 32.07,\n",
       " 'This is a photo of walking to get water from Ghana': 10.26,\n",
       " 'This is a photo of washing clothes/cleaning from Ghana': 44.86,\n",
       " 'This is a photo of eating from Ghana': 0.81,\n",
       " 'This is a photo of family eating from Ghana': 28.04,\n",
       " 'This is a photo of vegetables from Ghana': 23.21,\n",
       " 'This is a photo of smoke and steam exit from Ghana': 3.43,\n",
       " 'This is a photo of fruits and vegetables from Ghana': 16.19,\n",
       " 'This is a photo of toys from Ghana': 12.35,\n",
       " 'This is a photo of nicest shoes from Ghana': 37.53,\n",
       " 'This is a photo of mosquito protection from Ghana': 33.13,\n",
       " 'This is a photo of wall decoration from Ghana': 25.81,\n",
       " 'This is a photo of living room from Ghana': 21.51,\n",
       " 'This is a photo of fruit trees from Ghana': 53.0,\n",
       " 'This is a photo of toilet paper from Ghana': 43.73,\n",
       " 'This is a photo of bathroom/toilet from Ghana': 33.71,\n",
       " 'This is a photo of shaving from Ghana': 21.1,\n",
       " 'This is a photo of lock on front door from Ghana': 68.36,\n",
       " 'This is a photo of couch from Ghana': 48.5,\n",
       " 'This is a photo of sofa from Ghana': 47.51,\n",
       " 'This is a photo of knifes from Ghana': 54.19,\n",
       " 'This is a photo of dish racks from Ghana': 37.2,\n",
       " 'This is a photo of play area from Ghana': 18.21,\n",
       " 'This is a photo of place where serving guests from Ghana': 2.04,\n",
       " 'This is a photo of photo guide images from Ghana': 13.33,\n",
       " 'This is a photo of agriculture land from Ghana': 22.64,\n",
       " 'This is a photo of sitting area from Ghana': 10.51,\n",
       " 'This is a photo of bed kids from Ghana': 10.53,\n",
       " 'This is a photo of drying from Ghana': 6.06,\n",
       " 'This is a photo of water outlet from Ghana': 4.9,\n",
       " 'This is a photo of drainage from Ghana': 31.37,\n",
       " 'This is a photo of shower from Ghana': 41.64,\n",
       " 'This is a photo of house overview from Ghana': 0.0,\n",
       " 'This is a photo of socializing from Ghana': 8.43,\n",
       " 'This is a photo of playing from Ghana': 3.6,\n",
       " 'This is a photo of kids playing outside from Ghana': 6.67,\n",
       " 'This is a photo of chopping food from Ghana': 8.11,\n",
       " 'This is a photo of chickens from Ghana': 38.57,\n",
       " 'This is a photo of bike from Ghana': 63.27,\n",
       " 'This is a photo of source of heat from Ghana': 24.46,\n",
       " 'This is a photo of phone from Ghana': 65.59,\n",
       " 'This is a photo of work area from Ghana': 0.59,\n",
       " 'This is a photo of children room from Ghana': 8.25,\n",
       " 'This is a photo of light source in livingroom from Ghana': 19.06,\n",
       " 'This is a photo of washing detergent from Ghana': 19.68,\n",
       " 'This is a photo of medication from Ghana': 10.96,\n",
       " 'This is a photo of dish washing soap from Ghana': 19.29,\n",
       " 'This is a photo of turning lights on and off from Ghana': 7.81,\n",
       " 'This is a photo of source of light from Ghana': 7.97,\n",
       " 'This is a photo of wall clock from Ghana': 79.89,\n",
       " 'This is a photo of guest bed from Ghana': 12.42,\n",
       " 'This is a photo of diapers (or baby-pants) from Ghana': 49.35,\n",
       " 'This is a photo of switch on/off from Ghana': 53.21,\n",
       " 'This is a photo of pen/pencils from Ghana': 55.21,\n",
       " 'This is a photo of paper from Ghana': 9.43,\n",
       " 'This is a photo of rug from Ghana': 45.31,\n",
       " 'This is a photo of bed_hq from Ghana': 0.0,\n",
       " 'This is a photo of social drink from Ghana': 17.4,\n",
       " 'This is a photo of carrying water from Ghana': 4.55,\n",
       " 'This is a photo of light sources from Ghana': 10.84,\n",
       " 'This is a photo of music equipment from Ghana': 24.9,\n",
       " 'This is a photo of frontdoor keys from Ghana': 21.77,\n",
       " 'This is a photo of lightsources by bed from Ghana': 6.31,\n",
       " 'This is a photo of reading light from Ghana': 2.7,\n",
       " 'This is a photo of necklaces from Ghana': 37.96,\n",
       " 'This is a photo of earings from Ghana': 52.21,\n",
       " 'This is a photo of cosmetics from Ghana': 5.69,\n",
       " 'This is a photo of cleaning floors from Ghana': 32.09,\n",
       " 'This is a photo of make up from Ghana': 1.35,\n",
       " 'This is a photo of putting on make up from Ghana': 3.33,\n",
       " 'This is a photo of chopping ingredients from Ghana': 12.5,\n",
       " 'This is a photo of brushing hair from Ghana': 13.79,\n",
       " 'This is a photo of taking a teaspoon of salt from Ghana': 12.5,\n",
       " 'This is a photo of drinking social drink from Ghana': 18.1,\n",
       " 'This is a photo of meat or fish from Ghana': 14.51,\n",
       " 'This is a photo of replaced from Ghana': 0.0,\n",
       " 'This is a photo of radio from Ghana': 55.29,\n",
       " 'This is a photo of listening to the radio from Ghana': 12.5,\n",
       " 'This is a photo of coins from Ghana': 0.0,\n",
       " 'This is a photo of pet foods from Ghana': 23.08,\n",
       " 'This is a photo of menstruation pads / tampax from Ghana': 33.6,\n",
       " 'This is a photo of dinner guests from Ghana': 2.08,\n",
       " 'This is a photo of nature sceneries from Ghana': 0.0,\n",
       " 'This is a photo of worship places from Ghana': 3.05,\n",
       " 'This is a photo of power outlet from Ghana': 69.15,\n",
       " 'This is a photo of glasses or lenses from Ghana': 91.16,\n",
       " 'This is a photo of adding spices to food while cooking from Ghana': 26.87,\n",
       " 'This is a photo of presenting dollar street from Ghana': 0.0,\n",
       " 'This is a photo of worshipping from Ghana': 1.85,\n",
       " 'This is a photo of writing from Ghana': 6.58,\n",
       " 'This is a photo of writing signature from Ghana': 25.93,\n",
       " 'This is a photo of tv from Ghana': 66.6,\n",
       " 'This is a photo of fishes from Ghana': 29.31,\n",
       " 'This is a photo of bowls from Ghana': 0.0,\n",
       " 'This is a photo of kids playing inside from Ghana': 4.23,\n",
       " 'This is a photo of bills of money from Ghana': 0.0,\n",
       " 'This is a photo of coats and jackets from Ghana': 19.23,\n",
       " 'This is a photo of surroundings from Ghana': 0.0,\n",
       " 'This is a photo of moped/motorcycle from Ghana': 64.2,\n",
       " 'This is a photo of parking lot from Ghana': 7.14,\n",
       " 'This is a photo of toothpaste on toothbrush from Ghana': 5.77,\n",
       " 'This is a photo of wheel barrow from Ghana': 22.22,\n",
       " 'This is a photo of waste dumps from Ghana': 3.94,\n",
       " 'This is a photo of wedding photos from Ghana': 37.35,\n",
       " 'This is a photo of ventilation from Ghana': 0.0,\n",
       " 'This is a photo of milk cows or bulls from Ghana': 60.0,\n",
       " 'This is a photo of answering the phone from Ghana': 1.96,\n",
       " 'This is a photo of closing the front door from Ghana': 4.29,\n",
       " 'This is a photo of hanging clothes to dry from Ghana': 0.0,\n",
       " 'This is a photo of opening the front door from Ghana': 5.68,\n",
       " 'This is a photo of reading from Ghana': 13.75,\n",
       " 'This is a photo of reading a book from Ghana': 9.3,\n",
       " 'This is a photo of seeing the back of book from Ghana': 0.0,\n",
       " 'This is a photo of sleeping from Ghana': 8.77,\n",
       " 'This is a photo of turning fan/ac on from Ghana': 0.0,\n",
       " 'This is a photo of turning heater on from Ghana': 6.25,\n",
       " 'This is a photo of walking towards front door from Ghana': 6.02,\n",
       " 'This is a photo of writing \"home\" from Ghana': 0.0,\n",
       " 'This is a photo of piercings from Ghana': 41.18,\n",
       " 'This is a photo of fishing equipment from Ghana': 0.0,\n",
       " 'This is a photo of arm watch from Ghana': 54.46,\n",
       " 'This is a photo of soccer balls from Ghana': 33.33,\n",
       " 'This is a photo of horse stables from Ghana': 0.0,\n",
       " 'This is a photo of playgrounds from Ghana': 0.0,\n",
       " 'This is a photo of drinks from Ghana': 0.0,\n",
       " 'This is a photo of other transport from Ghana': 0.0,\n",
       " 'This is a photo of car from Ghana': 39.58,\n",
       " 'This is a photo of car decorations from Ghana': 0.0,\n",
       " 'This is a photo of transport of heavy things from Ghana': 9.52,\n",
       " 'This is a photo of clothes from Ghana': 0.0,\n",
       " 'This is a photo of cigarettes from Ghana': 13.33,\n",
       " 'This is a photo of portraits from Ghana': 0.0,\n",
       " 'This is a photo of ingredients from Ghana': 0.0,\n",
       " 'This is a photo of fields from Ghana': 0.0,\n",
       " 'This is a photo of celebrity posters from Ghana': 0.0,\n",
       " 'This is a photo of freezer from Ghana': 26.2,\n",
       " 'This is a photo of boat from Ghana': 20.0,\n",
       " 'This is a photo of arm watches from Ghana': 16.67,\n",
       " 'This is a photo of sitting and watching tv from Ghana': 28.57,\n",
       " 'This is a photo of plugging into and out of power outlet from Ghana': 13.27,\n",
       " 'This is a photo of dishwasher from Ghana': 47.27,\n",
       " 'This is a photo of oven from Ghana': 22.07,\n",
       " 'This is a photo of baby powder from Ghana': 25.0,\n",
       " 'This is a photo of tattoos from Ghana': 54.9,\n",
       " 'This is a photo of sheep from Ghana': 0.0,\n",
       " 'This is a photo of preparing social drink from Ghana': 2.13,\n",
       " 'This is a photo of go through mail from Ghana': 0.0,\n",
       " 'This is a photo of smoking from Ghana': 0.0,\n",
       " 'This is a photo of walking through home from Ghana': 0.0,\n",
       " 'This is a photo of computer from Ghana': 35.36,\n",
       " 'This is a photo of contraceptives from Ghana': 20.0,\n",
       " 'This is a photo of instrument from Ghana': 26.6,\n",
       " 'This is a photo of rehabilitation technology from Ghana': 0.0,\n",
       " 'This is a photo of turn tv on from Ghana': 4.65,\n",
       " 'This is a photo of playing an instrument from Ghana': 11.76,\n",
       " 'This is a photo of bread ready from Ghana': 0.0,\n",
       " 'This is a photo of alcoholic drinks from Ghana': 7.89,\n",
       " 'This is a photo of snacks from Ghana': 0.0,\n",
       " 'This is a photo of alarm clock from Ghana': 26.53,\n",
       " 'This is a photo of throwing food trash away from Ghana': 2.56,\n",
       " 'This is a photo of car keys from Ghana': 68.97,\n",
       " 'This is a photo of tractors from Ghana': 0.0,\n",
       " 'This is a photo of opening and closing the refrigerator from Ghana': 12.0,\n",
       " 'This is a photo of water sources from Ghana': 0.0,\n",
       " 'This is a photo of opening and closing the freezer from Ghana': 16.87,\n",
       " 'This is a photo of horses from Ghana': 33.33,\n",
       " 'This is a photo of water sources for doing dishes from Ghana': 0.0,\n",
       " 'This is a photo of soccer supporter items from Ghana': 0.0,\n",
       " 'This is a photo of cooking food from Ghana': 0.0,\n",
       " 'This is a photo of snack stores from Ghana': 0.0,\n",
       " 'This is a photo of daylight ostructions from Ghana': 0.0,\n",
       " 'This is a photo of smog/bad air breathing protection from Ghana': 0.0,\n",
       " 'This is a photo of bad outdoor air obstructions from Ghana': 0.0,\n",
       " 'This is a photo of skies outside from Ghana': 0.0,\n",
       " 'This is a photo of sources of drinking water from Ghana': 0.0,\n",
       " 'This is a photo of laying in bed - pretend to sleep from Ghana': 0.0,\n",
       " 'This is a photo of newspapers from Ghana': 42.86,\n",
       " 'This is a photo of elevators from Ghana': 0.0,\n",
       " 'This is a photo of water purifier solutions from Ghana': 0.0,\n",
       " 'This is a photo of air fresheners (scents from Ghana': 0.0,\n",
       " 'This is a photo of smells) from Ghana': 0.0,\n",
       " 'This is a photo of air cleaning equipments from Ghana': 0.0,\n",
       " 'This is a photo of foodstores from Ghana': 0.0,\n",
       " 'This is a photo of markets from Ghana': 0.0,\n",
       " 'This is a photo of picking up the phone from Ghana': 0.0,\n",
       " 'This is a photo of bread - ready from Ghana': 0.0,\n",
       " 'This is a photo of opening mail from Ghana': 0.0,\n",
       " 'This is a photo of meat storages from Ghana': 0.0,\n",
       " 'This is a photo of bread bowls from Ghana': 0.0,\n",
       " 'This is a photo of disability aid from Ghana': 0.0,\n",
       " 'This is a photo of electric wires from Ghana': 0.0,\n",
       " 'This is a photo of tabloids from Ghana': 0.0,\n",
       " 'This is a photo of equipment from Ghana': 0.0,\n",
       " 'This is a photo of baking tools from Ghana': 0.0,\n",
       " 'This is a photo of baking sheets from Ghana': 0.0,\n",
       " 'This is a photo of baking tables from Ghana': 0.0,\n",
       " 'This is a photo of electricity wires from Ghana': 0.0,\n",
       " 'This is a photo of meat markets from Ghana': 0.0,\n",
       " 'This is a photo of vegetable markets from Ghana': 0.0}"
      ]
     },
     "execution_count": 45,
     "metadata": {},
     "output_type": "execute_result"
    }
   ],
   "source": [
    "list_dict_topic2F1[9]"
   ]
  },
  {
   "cell_type": "code",
   "execution_count": 43,
   "id": "a0dcfc6a",
   "metadata": {},
   "outputs": [],
   "source": [
    "f = open(\"data/country_list_dict_topic2FNimg.pkl\",\"wb\")\n",
    "\n",
    "# write the python object (dict) to pickle file\n",
    "pickle.dump(list_dict_topic2FNimg,f)\n",
    "\n",
    "# close file\n",
    "f.close()"
   ]
  },
  {
   "cell_type": "code",
   "execution_count": 44,
   "id": "c4988563",
   "metadata": {},
   "outputs": [],
   "source": [
    "f = open(\"data/country_list_dict_topic2F1.pkl\",\"wb\")\n",
    "\n",
    "# write the python object (dict) to pickle file\n",
    "pickle.dump(list_dict_topic2F1,f)\n",
    "\n",
    "# close file\n",
    "f.close()"
   ]
  },
  {
   "cell_type": "code",
   "execution_count": null,
   "id": "08e5eb42",
   "metadata": {},
   "outputs": [],
   "source": []
  },
  {
   "cell_type": "code",
   "execution_count": null,
   "id": "078cd713",
   "metadata": {},
   "outputs": [],
   "source": []
  }
 ],
 "metadata": {
  "kernelspec": {
   "display_name": "Python 3 (ipykernel)",
   "language": "python",
   "name": "python3"
  },
  "language_info": {
   "codemirror_mode": {
    "name": "ipython",
    "version": 3
   },
   "file_extension": ".py",
   "mimetype": "text/x-python",
   "name": "python",
   "nbconvert_exporter": "python",
   "pygments_lexer": "ipython3",
   "version": "3.10.9"
  }
 },
 "nbformat": 4,
 "nbformat_minor": 5
}
