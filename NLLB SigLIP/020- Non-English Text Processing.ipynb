{
 "cells": [
  {
   "cell_type": "code",
   "execution_count": 1,
   "id": "ff43253d",
   "metadata": {},
   "outputs": [],
   "source": [
    "path_data = '/data'"
   ]
  },
  {
   "cell_type": "code",
   "execution_count": 2,
   "id": "fbb1c522",
   "metadata": {},
   "outputs": [
    {
     "name": "stdout",
     "output_type": "stream",
     "text": [
      "Torch version: 2.2.1+cu121\n"
     ]
    }
   ],
   "source": [
    "import numpy as np\n",
    "import pandas as pd\n",
    "import matplotlib.pyplot as plt\n",
    "import seaborn as sns \n",
    "import warnings\n",
    "warnings.filterwarnings(\"ignore\")\n",
    "import os\n",
    "\n",
    "import pandas as pd\n",
    "\n",
    "import torch\n",
    "from pkg_resources import packaging\n",
    "from PIL import Image\n",
    "import tqdm\n",
    "from pathlib import Path\n",
    "print(\"Torch version:\", torch.__version__)\n",
    "\n",
    "from PIL import ImageFile\n",
    "ImageFile.LOAD_TRUNCATED_IMAGES = True\n",
    "\n",
    "plt.style.use('ggplot')"
   ]
  },
  {
   "cell_type": "code",
   "execution_count": 3,
   "id": "4c14e84c",
   "metadata": {},
   "outputs": [],
   "source": [
    "data_unfiltered = pd.read_csv(\"/\".join([path_data, \"images_v2.csv\"]))\n",
    "#display(data_unfiltered)"
   ]
  },
  {
   "cell_type": "code",
   "execution_count": 4,
   "id": "f79fed69",
   "metadata": {},
   "outputs": [
    {
     "data": {
      "text/plain": [
       "38479"
      ]
     },
     "execution_count": 4,
     "metadata": {},
     "output_type": "execute_result"
    }
   ],
   "source": [
    "len(data_unfiltered)"
   ]
  },
  {
   "cell_type": "markdown",
   "id": "f7c8d061",
   "metadata": {},
   "source": [
    "### Remove subjective topics"
   ]
  },
  {
   "cell_type": "code",
   "execution_count": 5,
   "id": "e6c18806",
   "metadata": {},
   "outputs": [],
   "source": [
    "subjective_topics = ['Favorite home decorations', 'Favourite item in kitchen', 'Favourite sports clubs', 'How the most loved item is used', 'icons', 'Idols', 'Latest furniture bought', ' looking over the shoulder', 'Most loved item', 'Most loved toy', 'Most played songs on the radio', 'Music idol', 'Next big thing you are planning to buy', 'Playing with most loved toy', 'Thing I dream about having', 'Things I wish I had', 'Using most loved item', 'Youth culture', 'What I wish I could buy']"
   ]
  },
  {
   "cell_type": "code",
   "execution_count": 6,
   "id": "a0485cb3",
   "metadata": {},
   "outputs": [
    {
     "data": {
      "text/plain": [
       "19"
      ]
     },
     "execution_count": 6,
     "metadata": {},
     "output_type": "execute_result"
    }
   ],
   "source": [
    "len(subjective_topics)"
   ]
  },
  {
   "cell_type": "code",
   "execution_count": 7,
   "id": "377f14b7",
   "metadata": {},
   "outputs": [],
   "source": [
    "unique_topics = data_unfiltered['topics'].unique()"
   ]
  },
  {
   "cell_type": "code",
   "execution_count": 8,
   "id": "ec2c83fa",
   "metadata": {},
   "outputs": [],
   "source": [
    "Subjective_topic_list = []\n",
    "\n",
    "for topic in unique_topics:\n",
    "    topic_ = topic.replace('/ ', ', ')\n",
    "    topic_split = topic_.split(',')\n",
    "    for split in topic_split:\n",
    "        if split in subjective_topics:\n",
    "            Subjective_topic_list.append(topic)"
   ]
  },
  {
   "cell_type": "code",
   "execution_count": 9,
   "id": "d4d490bb",
   "metadata": {},
   "outputs": [
    {
     "data": {
      "text/html": [
       "<div>\n",
       "<style scoped>\n",
       "    .dataframe tbody tr th:only-of-type {\n",
       "        vertical-align: middle;\n",
       "    }\n",
       "\n",
       "    .dataframe tbody tr th {\n",
       "        vertical-align: top;\n",
       "    }\n",
       "\n",
       "    .dataframe thead th {\n",
       "        text-align: right;\n",
       "    }\n",
       "</style>\n",
       "<table border=\"1\" class=\"dataframe\">\n",
       "  <thead>\n",
       "    <tr style=\"text-align: right;\">\n",
       "      <th></th>\n",
       "      <th>id</th>\n",
       "      <th>country.name</th>\n",
       "      <th>country.id</th>\n",
       "      <th>region.id</th>\n",
       "      <th>type</th>\n",
       "      <th>imageRelPath</th>\n",
       "      <th>topics</th>\n",
       "      <th>place</th>\n",
       "      <th>income</th>\n",
       "    </tr>\n",
       "  </thead>\n",
       "  <tbody>\n",
       "    <tr>\n",
       "      <th>1</th>\n",
       "      <td>5d4bf31ccf0b3a0f3f359814</td>\n",
       "      <td>Burundi</td>\n",
       "      <td>bi</td>\n",
       "      <td>af</td>\n",
       "      <td>image</td>\n",
       "      <td>assets/5d4bf31ccf0b3a0f3f359814/5d4bf31ccf0b3a...</td>\n",
       "      <td>Family snapshots</td>\n",
       "      <td>butoyi</td>\n",
       "      <td>26.994581</td>\n",
       "    </tr>\n",
       "    <tr>\n",
       "      <th>2</th>\n",
       "      <td>5d4bf31ccf0b3a0f3f35982a</td>\n",
       "      <td>Burundi</td>\n",
       "      <td>bi</td>\n",
       "      <td>af</td>\n",
       "      <td>image</td>\n",
       "      <td>assets/5d4bf31ccf0b3a0f3f35982a/5d4bf31ccf0b3a...</td>\n",
       "      <td>Cutlery</td>\n",
       "      <td>butoyi</td>\n",
       "      <td>26.994581</td>\n",
       "    </tr>\n",
       "    <tr>\n",
       "      <th>3</th>\n",
       "      <td>5d4bf31ccf0b3a0f3f35982e</td>\n",
       "      <td>Burundi</td>\n",
       "      <td>bi</td>\n",
       "      <td>af</td>\n",
       "      <td>image</td>\n",
       "      <td>assets/5d4bf31ccf0b3a0f3f35982e/5d4bf31ccf0b3a...</td>\n",
       "      <td>Family</td>\n",
       "      <td>butoyi</td>\n",
       "      <td>26.994581</td>\n",
       "    </tr>\n",
       "    <tr>\n",
       "      <th>4</th>\n",
       "      <td>5d4bf31ccf0b3a0f3f359830</td>\n",
       "      <td>Burundi</td>\n",
       "      <td>bi</td>\n",
       "      <td>af</td>\n",
       "      <td>image</td>\n",
       "      <td>assets/5d4bf31ccf0b3a0f3f359830/5d4bf31ccf0b3a...</td>\n",
       "      <td>Place where eating dinner</td>\n",
       "      <td>butoyi</td>\n",
       "      <td>26.994581</td>\n",
       "    </tr>\n",
       "    <tr>\n",
       "      <th>5</th>\n",
       "      <td>5d4bf31dcf0b3a0f3f35983c</td>\n",
       "      <td>Burundi</td>\n",
       "      <td>bi</td>\n",
       "      <td>af</td>\n",
       "      <td>image</td>\n",
       "      <td>assets/5d4bf31dcf0b3a0f3f35983c/5d4bf31dcf0b3a...</td>\n",
       "      <td>Plate of food</td>\n",
       "      <td>butoyi</td>\n",
       "      <td>26.994581</td>\n",
       "    </tr>\n",
       "    <tr>\n",
       "      <th>...</th>\n",
       "      <td>...</td>\n",
       "      <td>...</td>\n",
       "      <td>...</td>\n",
       "      <td>...</td>\n",
       "      <td>...</td>\n",
       "      <td>...</td>\n",
       "      <td>...</td>\n",
       "      <td>...</td>\n",
       "      <td>...</td>\n",
       "    </tr>\n",
       "    <tr>\n",
       "      <th>38474</th>\n",
       "      <td>5ec4f5513f62767d97a47324</td>\n",
       "      <td>France</td>\n",
       "      <td>fr</td>\n",
       "      <td>eu</td>\n",
       "      <td>image</td>\n",
       "      <td>assets/5ec4f5513f62767d97a47324/5ec4f5513f6276...</td>\n",
       "      <td>Bed</td>\n",
       "      <td>larriere</td>\n",
       "      <td>19671.000000</td>\n",
       "    </tr>\n",
       "    <tr>\n",
       "      <th>38475</th>\n",
       "      <td>5ec4f5513f62767d97a47325</td>\n",
       "      <td>France</td>\n",
       "      <td>fr</td>\n",
       "      <td>eu</td>\n",
       "      <td>image</td>\n",
       "      <td>assets/5ec4f5513f62767d97a47325/5ec4f5513f6276...</td>\n",
       "      <td>Bathroom/Toilet</td>\n",
       "      <td>larriere</td>\n",
       "      <td>19671.000000</td>\n",
       "    </tr>\n",
       "    <tr>\n",
       "      <th>38476</th>\n",
       "      <td>5ec4f5523f62767d97a47327</td>\n",
       "      <td>France</td>\n",
       "      <td>fr</td>\n",
       "      <td>eu</td>\n",
       "      <td>image</td>\n",
       "      <td>assets/5ec4f5523f62767d97a47327/5ec4f5523f6276...</td>\n",
       "      <td>Armchair</td>\n",
       "      <td>larriere</td>\n",
       "      <td>19671.000000</td>\n",
       "    </tr>\n",
       "    <tr>\n",
       "      <th>38477</th>\n",
       "      <td>5ec4f5523f62767d97a47328</td>\n",
       "      <td>France</td>\n",
       "      <td>fr</td>\n",
       "      <td>eu</td>\n",
       "      <td>image</td>\n",
       "      <td>assets/5ec4f5523f62767d97a47328/5ec4f5523f6276...</td>\n",
       "      <td>Armchair</td>\n",
       "      <td>larriere</td>\n",
       "      <td>19671.000000</td>\n",
       "    </tr>\n",
       "    <tr>\n",
       "      <th>38478</th>\n",
       "      <td>5ecfdf1f581a3d02cf7f8c05</td>\n",
       "      <td>France</td>\n",
       "      <td>fr</td>\n",
       "      <td>eu</td>\n",
       "      <td>image</td>\n",
       "      <td>assets/5ecfdf1f581a3d02cf7f8c05/5ecfdf1f581a3d...</td>\n",
       "      <td>Family</td>\n",
       "      <td>larriere</td>\n",
       "      <td>19671.000000</td>\n",
       "    </tr>\n",
       "  </tbody>\n",
       "</table>\n",
       "<p>36754 rows × 9 columns</p>\n",
       "</div>"
      ],
      "text/plain": [
       "                             id country.name country.id region.id   type  \\\n",
       "1      5d4bf31ccf0b3a0f3f359814      Burundi         bi        af  image   \n",
       "2      5d4bf31ccf0b3a0f3f35982a      Burundi         bi        af  image   \n",
       "3      5d4bf31ccf0b3a0f3f35982e      Burundi         bi        af  image   \n",
       "4      5d4bf31ccf0b3a0f3f359830      Burundi         bi        af  image   \n",
       "5      5d4bf31dcf0b3a0f3f35983c      Burundi         bi        af  image   \n",
       "...                         ...          ...        ...       ...    ...   \n",
       "38474  5ec4f5513f62767d97a47324       France         fr        eu  image   \n",
       "38475  5ec4f5513f62767d97a47325       France         fr        eu  image   \n",
       "38476  5ec4f5523f62767d97a47327       France         fr        eu  image   \n",
       "38477  5ec4f5523f62767d97a47328       France         fr        eu  image   \n",
       "38478  5ecfdf1f581a3d02cf7f8c05       France         fr        eu  image   \n",
       "\n",
       "                                            imageRelPath  \\\n",
       "1      assets/5d4bf31ccf0b3a0f3f359814/5d4bf31ccf0b3a...   \n",
       "2      assets/5d4bf31ccf0b3a0f3f35982a/5d4bf31ccf0b3a...   \n",
       "3      assets/5d4bf31ccf0b3a0f3f35982e/5d4bf31ccf0b3a...   \n",
       "4      assets/5d4bf31ccf0b3a0f3f359830/5d4bf31ccf0b3a...   \n",
       "5      assets/5d4bf31dcf0b3a0f3f35983c/5d4bf31dcf0b3a...   \n",
       "...                                                  ...   \n",
       "38474  assets/5ec4f5513f62767d97a47324/5ec4f5513f6276...   \n",
       "38475  assets/5ec4f5513f62767d97a47325/5ec4f5513f6276...   \n",
       "38476  assets/5ec4f5523f62767d97a47327/5ec4f5523f6276...   \n",
       "38477  assets/5ec4f5523f62767d97a47328/5ec4f5523f6276...   \n",
       "38478  assets/5ecfdf1f581a3d02cf7f8c05/5ecfdf1f581a3d...   \n",
       "\n",
       "                          topics     place        income  \n",
       "1               Family snapshots    butoyi     26.994581  \n",
       "2                        Cutlery    butoyi     26.994581  \n",
       "3                         Family    butoyi     26.994581  \n",
       "4      Place where eating dinner    butoyi     26.994581  \n",
       "5                  Plate of food    butoyi     26.994581  \n",
       "...                          ...       ...           ...  \n",
       "38474                        Bed  larriere  19671.000000  \n",
       "38475            Bathroom/Toilet  larriere  19671.000000  \n",
       "38476                   Armchair  larriere  19671.000000  \n",
       "38477                   Armchair  larriere  19671.000000  \n",
       "38478                     Family  larriere  19671.000000  \n",
       "\n",
       "[36754 rows x 9 columns]"
      ]
     },
     "metadata": {},
     "output_type": "display_data"
    }
   ],
   "source": [
    "data = data_unfiltered[~data_unfiltered['topics'].isin(Subjective_topic_list)]\n",
    "display(data)"
   ]
  },
  {
   "cell_type": "code",
   "execution_count": 10,
   "id": "964d0123",
   "metadata": {},
   "outputs": [
    {
     "data": {
      "text/plain": [
       "36754"
      ]
     },
     "execution_count": 10,
     "metadata": {},
     "output_type": "execute_result"
    }
   ],
   "source": [
    "len(data)"
   ]
  },
  {
   "cell_type": "markdown",
   "id": "eed9dd80",
   "metadata": {},
   "source": [
    "### Split topics"
   ]
  },
  {
   "cell_type": "code",
   "execution_count": 11,
   "id": "3903710d",
   "metadata": {
    "scrolled": true
   },
   "outputs": [
    {
     "name": "stdout",
     "output_type": "stream",
     "text": [
      "45692\n",
      "270\n"
     ]
    }
   ],
   "source": [
    "from collections import Counter\n",
    "list_topics = list(data['topics'])\n",
    "\n",
    "\n",
    "separate_topics = [t.lower().strip() for topic in list_topics for t in topic.split(\",\") ]\n",
    "\n",
    "\n",
    "print(len(separate_topics))\n",
    "#print(Counter(separate_topics))\n",
    "set_topics = list(set(separate_topics))\n",
    "print(len(set_topics))"
   ]
  },
  {
   "cell_type": "code",
   "execution_count": 12,
   "id": "f074c106",
   "metadata": {},
   "outputs": [
    {
     "data": {
      "text/plain": [
       "45692"
      ]
     },
     "execution_count": 12,
     "metadata": {},
     "output_type": "execute_result"
    }
   ],
   "source": [
    "len(separate_topics)"
   ]
  },
  {
   "cell_type": "code",
   "execution_count": 13,
   "id": "ae6fbeeb",
   "metadata": {},
   "outputs": [
    {
     "name": "stdout",
     "output_type": "stream",
     "text": [
      "270\n"
     ]
    }
   ],
   "source": [
    "# map each topic to list of corresponding images\n",
    "dict_topic2img = {}\n",
    "for list_topics, image_path in zip(data['topics'], data['imageRelPath']):\n",
    "    for topic in list_topics.split(\",\"):\n",
    "        topic = topic.lower().strip()\n",
    "        if topic not in dict_topic2img:\n",
    "            dict_topic2img[topic] = set() #### here a set was used in place of list to avoid duplicate where keyword appears twice in a topic\n",
    "        dict_topic2img[topic].add(image_path)\n",
    "\n",
    "print(len(dict_topic2img))"
   ]
  },
  {
   "cell_type": "code",
   "execution_count": 14,
   "id": "58681a22",
   "metadata": {},
   "outputs": [
    {
     "name": "stdout",
     "output_type": "stream",
     "text": [
      "45616\n"
     ]
    }
   ],
   "source": [
    "#sanity checks \n",
    "\n",
    "ground_truth_counts = [len(dict_topic2img[i]) for i in dict_topic2img]\n",
    "print(sum(ground_truth_counts))"
   ]
  },
  {
   "cell_type": "code",
   "execution_count": 15,
   "id": "cd8f6afc",
   "metadata": {},
   "outputs": [],
   "source": [
    "topics = dict_topic2img.keys()"
   ]
  },
  {
   "cell_type": "code",
   "execution_count": null,
   "id": "d990669c",
   "metadata": {},
   "outputs": [],
   "source": []
  },
  {
   "cell_type": "markdown",
   "id": "20629a42",
   "metadata": {},
   "source": [
    "# Create prompts for the text encoder"
   ]
  },
  {
   "cell_type": "code",
   "execution_count": 16,
   "id": "e1f9b270",
   "metadata": {},
   "outputs": [],
   "source": [
    "temp = \"This is a photo of \"\n",
    "English_topics = [temp + topic for topic in topics]"
   ]
  },
  {
   "cell_type": "code",
   "execution_count": 17,
   "id": "ea685fd6",
   "metadata": {},
   "outputs": [],
   "source": [
    "#English_topics"
   ]
  },
  {
   "cell_type": "code",
   "execution_count": 18,
   "id": "581b1ff6",
   "metadata": {},
   "outputs": [
    {
     "data": {
      "text/plain": [
       "270"
      ]
     },
     "execution_count": 18,
     "metadata": {},
     "output_type": "execute_result"
    }
   ],
   "source": [
    "len(English_topics)"
   ]
  },
  {
   "cell_type": "code",
   "execution_count": 19,
   "id": "70d7f2ed",
   "metadata": {},
   "outputs": [
    {
     "data": {
      "text/plain": [
       "270"
      ]
     },
     "execution_count": 19,
     "metadata": {},
     "output_type": "execute_result"
    }
   ],
   "source": [
    "len(set(English_topics))"
   ]
  },
  {
   "cell_type": "code",
   "execution_count": 20,
   "id": "d165dccb",
   "metadata": {},
   "outputs": [],
   "source": [
    "topic2english = {}\n",
    "for topic, prompt in zip(topics, English_topics):\n",
    "    topic2english[topic] = prompt"
   ]
  },
  {
   "cell_type": "code",
   "execution_count": 21,
   "id": "ee79cd11",
   "metadata": {},
   "outputs": [
    {
     "name": "stdout",
     "output_type": "stream",
     "text": [
      "270\n"
     ]
    }
   ],
   "source": [
    "english_dict_topic2imgGT = {}\n",
    "\n",
    "for topic in topics:\n",
    "    key = topic2english[topic]\n",
    "    english_dict_topic2imgGT[key] = dict_topic2img[topic]\n",
    "print(len(english_dict_topic2imgGT))"
   ]
  },
  {
   "cell_type": "markdown",
   "id": "31bb4ead",
   "metadata": {},
   "source": [
    "### Make Language prompts"
   ]
  },
  {
   "cell_type": "code",
   "execution_count": 73,
   "id": "baf7cf03",
   "metadata": {},
   "outputs": [],
   "source": [
    "selected_languages = ['German', 'Spanish', 'Portuguese', 'French', 'Chinese', 'Czech', 'Danish', 'Arabic', 'Hindi', 'Indonesian', 'Farsi_Persian', 'Italian', 'Russian', 'Mongolian', 'Burmese', 'Dutch', 'Urdu', 'Romanian', 'Serbian', 'Korean', 'Swedish', 'Thai', 'Turkish', 'Ukrainian', 'Vietnamese', 'Bengali', 'Khmer', 'Oromo', 'Ewe', 'Creole', 'Swahili', 'Nepali', 'Hausa', 'Kyrgz', 'Tagalog', 'Kinyarwanda', 'Somali', 'Zulu', 'Sinhala', 'Shona']"
   ]
  },
  {
   "cell_type": "code",
   "execution_count": 70,
   "id": "f818b700",
   "metadata": {},
   "outputs": [],
   "source": [
    "selected_languages_code = ['deu_Latn', 'spa_Latn', 'por_Latn', 'fra_Latn', 'zho_Hans', 'ces_Latn', 'dan_Latn', 'arb_Arab', 'hin_Deva', 'ind_Latn', 'pes_Arab', 'ita_Latn', 'rus_Cyrl', 'khk_Cyrl', 'mya_Mymr', 'nld_Latn', 'urd_Arab', 'ron_Latn', 'srp_Cyrl', 'kor_Hang', 'swe_Latn', 'tha_Thai', 'tur_Latn', 'ukr_Cyrl', 'vie_Latn', 'ben_Beng', 'khm_Khmr', 'gaz_Latn', 'ewe_Latn', 'hat_Latn', 'swh_Latn', 'npi_Deva', 'hau_Latn', 'kir_Cyrl', 'tgl_Latn', 'kin_Latn', 'som_Latn', 'zul_Latn', 'sin_Sinh', 'sna_Latn']"
   ]
  },
  {
   "cell_type": "code",
   "execution_count": 74,
   "id": "84b149e1",
   "metadata": {},
   "outputs": [
    {
     "data": {
      "text/plain": [
       "40"
      ]
     },
     "execution_count": 74,
     "metadata": {},
     "output_type": "execute_result"
    }
   ],
   "source": [
    "len(selected_languages)"
   ]
  },
  {
   "cell_type": "code",
   "execution_count": 27,
   "id": "086f67c3",
   "metadata": {},
   "outputs": [],
   "source": [
    "from transformers import AutoModelForSeq2SeqLM, AutoTokenizer\n",
    "\n",
    "tokenizer = AutoTokenizer.from_pretrained(\"facebook/nllb-200-distilled-600M\")\n",
    "model = AutoModelForSeq2SeqLM.from_pretrained(\"facebook/nllb-200-distilled-600M\")\n"
   ]
  },
  {
   "cell_type": "code",
   "execution_count": 36,
   "id": "75cc939b",
   "metadata": {
    "scrolled": true
   },
   "outputs": [
    {
     "name": "stderr",
     "output_type": "stream",
     "text": [
      "\r",
      "0it [00:00, ?it/s]"
     ]
    },
    {
     "name": "stdout",
     "output_type": "stream",
     "text": [
      "German\n"
     ]
    },
    {
     "name": "stderr",
     "output_type": "stream",
     "text": [
      "\r",
      "1it [00:29, 29.62s/it]"
     ]
    },
    {
     "name": "stdout",
     "output_type": "stream",
     "text": [
      "Spanish\n"
     ]
    },
    {
     "name": "stderr",
     "output_type": "stream",
     "text": [
      "\r",
      "2it [00:55, 27.42s/it]"
     ]
    },
    {
     "name": "stdout",
     "output_type": "stream",
     "text": [
      "Portuguese\n"
     ]
    },
    {
     "name": "stderr",
     "output_type": "stream",
     "text": [
      "\r",
      "3it [01:22, 27.35s/it]"
     ]
    },
    {
     "name": "stdout",
     "output_type": "stream",
     "text": [
      "French\n"
     ]
    },
    {
     "name": "stderr",
     "output_type": "stream",
     "text": [
      "\r",
      "4it [01:53, 28.63s/it]"
     ]
    },
    {
     "name": "stdout",
     "output_type": "stream",
     "text": [
      "Chinese\n"
     ]
    },
    {
     "name": "stderr",
     "output_type": "stream",
     "text": [
      "\r",
      "5it [02:17, 27.08s/it]"
     ]
    },
    {
     "name": "stdout",
     "output_type": "stream",
     "text": [
      "Czech\n"
     ]
    },
    {
     "name": "stderr",
     "output_type": "stream",
     "text": [
      "\r",
      "6it [02:43, 26.72s/it]"
     ]
    },
    {
     "name": "stdout",
     "output_type": "stream",
     "text": [
      "Danish\n"
     ]
    },
    {
     "name": "stderr",
     "output_type": "stream",
     "text": [
      "\r",
      "7it [03:09, 26.46s/it]"
     ]
    },
    {
     "name": "stdout",
     "output_type": "stream",
     "text": [
      "Arabic\n"
     ]
    },
    {
     "name": "stderr",
     "output_type": "stream",
     "text": [
      "\r",
      "8it [03:34, 25.92s/it]"
     ]
    },
    {
     "name": "stdout",
     "output_type": "stream",
     "text": [
      "Hindi\n"
     ]
    },
    {
     "name": "stderr",
     "output_type": "stream",
     "text": [
      "\r",
      "9it [04:00, 25.94s/it]"
     ]
    },
    {
     "name": "stdout",
     "output_type": "stream",
     "text": [
      "Indonesian\n"
     ]
    },
    {
     "name": "stderr",
     "output_type": "stream",
     "text": [
      "\r",
      "10it [04:21, 24.49s/it]"
     ]
    },
    {
     "name": "stdout",
     "output_type": "stream",
     "text": [
      "Farsi_Persian\n"
     ]
    },
    {
     "name": "stderr",
     "output_type": "stream",
     "text": [
      "\r",
      "11it [04:48, 25.33s/it]"
     ]
    },
    {
     "name": "stdout",
     "output_type": "stream",
     "text": [
      "Italian\n"
     ]
    },
    {
     "name": "stderr",
     "output_type": "stream",
     "text": [
      "\r",
      "12it [05:14, 25.57s/it]"
     ]
    },
    {
     "name": "stdout",
     "output_type": "stream",
     "text": [
      "Russian\n"
     ]
    },
    {
     "name": "stderr",
     "output_type": "stream",
     "text": [
      "\r",
      "13it [05:40, 25.68s/it]"
     ]
    },
    {
     "name": "stdout",
     "output_type": "stream",
     "text": [
      "Mongolian\n"
     ]
    },
    {
     "name": "stderr",
     "output_type": "stream",
     "text": [
      "\r",
      "14it [11:16, 119.29s/it]"
     ]
    },
    {
     "name": "stdout",
     "output_type": "stream",
     "text": [
      "Burmese\n"
     ]
    },
    {
     "name": "stderr",
     "output_type": "stream",
     "text": [
      "\r",
      "15it [11:46, 92.44s/it] "
     ]
    },
    {
     "name": "stdout",
     "output_type": "stream",
     "text": [
      "Dutch\n"
     ]
    },
    {
     "name": "stderr",
     "output_type": "stream",
     "text": [
      "\r",
      "16it [12:14, 73.08s/it]"
     ]
    },
    {
     "name": "stdout",
     "output_type": "stream",
     "text": [
      "Urdu\n"
     ]
    },
    {
     "name": "stderr",
     "output_type": "stream",
     "text": [
      "\r",
      "17it [12:39, 58.56s/it]"
     ]
    },
    {
     "name": "stdout",
     "output_type": "stream",
     "text": [
      "Romanian\n"
     ]
    },
    {
     "name": "stderr",
     "output_type": "stream",
     "text": [
      "\r",
      "18it [13:10, 50.16s/it]"
     ]
    },
    {
     "name": "stdout",
     "output_type": "stream",
     "text": [
      "Serbian\n"
     ]
    },
    {
     "name": "stderr",
     "output_type": "stream",
     "text": [
      "\r",
      "19it [13:37, 43.29s/it]"
     ]
    },
    {
     "name": "stdout",
     "output_type": "stream",
     "text": [
      "Korean\n"
     ]
    },
    {
     "name": "stderr",
     "output_type": "stream",
     "text": [
      "\r",
      "20it [18:33, 119.23s/it]"
     ]
    },
    {
     "name": "stdout",
     "output_type": "stream",
     "text": [
      "Swedish\n"
     ]
    },
    {
     "name": "stderr",
     "output_type": "stream",
     "text": [
      "\r",
      "24it [20:15, 47.48s/it]"
     ]
    },
    {
     "name": "stdout",
     "output_type": "stream",
     "text": [
      "Vietnamese\n"
     ]
    },
    {
     "name": "stderr",
     "output_type": "stream",
     "text": [
      "\r",
      "25it [20:40, 40.65s/it]"
     ]
    },
    {
     "name": "stdout",
     "output_type": "stream",
     "text": [
      "Bengali\n"
     ]
    },
    {
     "name": "stderr",
     "output_type": "stream",
     "text": [
      "\r",
      "26it [21:04, 35.86s/it]"
     ]
    },
    {
     "name": "stdout",
     "output_type": "stream",
     "text": [
      "Khmer\n"
     ]
    },
    {
     "name": "stderr",
     "output_type": "stream",
     "text": [
      "\r",
      "27it [26:42, 126.46s/it]"
     ]
    },
    {
     "name": "stdout",
     "output_type": "stream",
     "text": [
      "Oromo\n"
     ]
    },
    {
     "name": "stderr",
     "output_type": "stream",
     "text": [
      "\r",
      "28it [32:25, 191.54s/it]"
     ]
    },
    {
     "name": "stdout",
     "output_type": "stream",
     "text": [
      "Ewe\n"
     ]
    },
    {
     "name": "stderr",
     "output_type": "stream",
     "text": [
      "\r",
      "29it [38:06, 236.15s/it]"
     ]
    },
    {
     "name": "stdout",
     "output_type": "stream",
     "text": [
      "Creole\n"
     ]
    },
    {
     "name": "stderr",
     "output_type": "stream",
     "text": [
      "\r",
      "30it [38:31, 172.80s/it]"
     ]
    },
    {
     "name": "stdout",
     "output_type": "stream",
     "text": [
      "Swahili\n"
     ]
    },
    {
     "name": "stderr",
     "output_type": "stream",
     "text": [
      "\r",
      "31it [38:56, 128.44s/it]"
     ]
    },
    {
     "name": "stdout",
     "output_type": "stream",
     "text": [
      "Nepali\n"
     ]
    },
    {
     "name": "stderr",
     "output_type": "stream",
     "text": [
      "\r",
      "32it [39:20, 97.34s/it] "
     ]
    },
    {
     "name": "stdout",
     "output_type": "stream",
     "text": [
      "Hausa\n"
     ]
    },
    {
     "name": "stderr",
     "output_type": "stream",
     "text": [
      "\r",
      "33it [44:59, 169.67s/it]"
     ]
    },
    {
     "name": "stdout",
     "output_type": "stream",
     "text": [
      "Kyrgz\n"
     ]
    },
    {
     "name": "stderr",
     "output_type": "stream",
     "text": [
      "\r",
      "34it [45:27, 127.29s/it]"
     ]
    },
    {
     "name": "stdout",
     "output_type": "stream",
     "text": [
      "Tagalog\n"
     ]
    },
    {
     "name": "stderr",
     "output_type": "stream",
     "text": [
      "\r",
      "35it [45:54, 97.16s/it] "
     ]
    },
    {
     "name": "stdout",
     "output_type": "stream",
     "text": [
      "Kinyarwanda\n"
     ]
    },
    {
     "name": "stderr",
     "output_type": "stream",
     "text": [
      "\r",
      "36it [51:32, 169.44s/it]"
     ]
    },
    {
     "name": "stdout",
     "output_type": "stream",
     "text": [
      "Somali\n"
     ]
    },
    {
     "name": "stderr",
     "output_type": "stream",
     "text": [
      "\r",
      "37it [52:00, 126.86s/it]"
     ]
    },
    {
     "name": "stdout",
     "output_type": "stream",
     "text": [
      "Zulu\n"
     ]
    },
    {
     "name": "stderr",
     "output_type": "stream",
     "text": [
      "\r",
      "38it [57:39, 190.61s/it]"
     ]
    },
    {
     "name": "stdout",
     "output_type": "stream",
     "text": [
      "Sinhala\n"
     ]
    },
    {
     "name": "stderr",
     "output_type": "stream",
     "text": [
      "\r",
      "39it [1:03:19, 235.28s/it]"
     ]
    },
    {
     "name": "stdout",
     "output_type": "stream",
     "text": [
      "Swahili\n"
     ]
    },
    {
     "name": "stderr",
     "output_type": "stream",
     "text": [
      "40it [1:03:47, 95.69s/it] \n"
     ]
    }
   ],
   "source": [
    "list_eng2translated_text_dicts = []\n",
    "list_eng2translated_text_dicts_merged = []\n",
    "list_dict_lang2translation = []\n",
    "#dict_lang2translation\n",
    "\n",
    "\n",
    "#list_lang2translated_list = []\n",
    "\n",
    "\n",
    "for lang_code, lang in tqdm.tqdm(zip(selected_languages_code, selected_languages)):\n",
    "    print(lang)\n",
    "    \n",
    "    dict_eng2translation = {}\n",
    "    dict_lang2translation = {}\n",
    "    dict_eng2translation_merged = {}\n",
    "\n",
    "    txt_list = English_topics\n",
    "    inputs = tokenizer(txt_list, return_tensors=\"pt\", padding=True)\n",
    "    translated_tokens = model.generate(\n",
    "    **inputs, forced_bos_token_id=tokenizer.lang_code_to_id[lang_code])\n",
    "    \n",
    "    translations = tokenizer.batch_decode(translated_tokens, skip_special_tokens=True)\n",
    "    dict_lang2translation[lang] = translations\n",
    "    \n",
    "    for eng, trans in zip(English_topics, translations):\n",
    "        dict_eng2translation[eng] = trans\n",
    "        dict_eng2translation_merged[eng]= lang_code + ' ; ' + eng + ' ; ' + trans\n",
    "    \n",
    "    list_dict_lang2translation.append(dict_lang2translation)\n",
    "    list_eng2translated_text_dicts.append(dict_eng2translation)\n",
    "    list_eng2translated_text_dicts_merged.append(dict_eng2translation_merged)"
   ]
  },
  {
   "cell_type": "code",
   "execution_count": 37,
   "id": "e6fa2806",
   "metadata": {},
   "outputs": [
    {
     "data": {
      "text/plain": [
       "40"
      ]
     },
     "execution_count": 37,
     "metadata": {},
     "output_type": "execute_result"
    }
   ],
   "source": [
    "len(list_dict_lang2translation)"
   ]
  },
  {
   "cell_type": "code",
   "execution_count": 81,
   "id": "94ff7c21",
   "metadata": {},
   "outputs": [],
   "source": [
    "import pickle\n",
    "f = open(\"list_eng2translated_text_dicts.pkl\",\"wb\")\n",
    "\n",
    "# write the python object (dict) to pickle file\n",
    "pickle.dump(list_eng2translated_text_dicts,f)\n",
    "\n",
    "# close file\n",
    "f.close()"
   ]
  },
  {
   "cell_type": "code",
   "execution_count": 100,
   "id": "c1bed384",
   "metadata": {},
   "outputs": [],
   "source": [
    "f = open(\"list_dict_lang2translation.pkl\",\"wb\")\n",
    "\n",
    "# write the python object (dict) to pickle file\n",
    "pickle.dump(list_dict_lang2translation,f)\n",
    "\n",
    "# close file\n",
    "f.close()"
   ]
  },
  {
   "cell_type": "code",
   "execution_count": 83,
   "id": "73ba436f",
   "metadata": {},
   "outputs": [],
   "source": [
    "f = open(\"list_eng2translated_text_dicts_merged.pkl\",\"wb\")\n",
    "\n",
    "# write the python object (dict) to pickle file\n",
    "pickle.dump(list_eng2translated_text_dicts_merged,f)\n",
    "\n",
    "# close file\n",
    "f.close()"
   ]
  },
  {
   "cell_type": "code",
   "execution_count": 99,
   "id": "9a170d54",
   "metadata": {},
   "outputs": [
    {
     "data": {
      "text/plain": [
       "['Mufananidzo uyu unoratidza mhuri',\n",
       " 'Uyu mufananidzo wemidziyo',\n",
       " 'Uyu mufananidzo wemhuri',\n",
       " 'Uyu mufananidzo wenzvimbo apo kudya kwemanheru',\n",
       " 'Uyu mufananidzo wezvokudya',\n",
       " 'Uyu mufananidzo patafura ine zvokudya',\n",
       " 'Uyu mufananidzo wokutora mvura',\n",
       " 'Uyu mufananidzo wechitofu / hob',\n",
       " 'Uyu mufananidzo wechiedza chiri mukicheni',\n",
       " 'Uyu mufananidzo wemvura yokunwa',\n",
       " 'Uyu mufananidzo wetsvina yekicheni',\n",
       " 'Uyu mufananidzo wokugara wega mumba mokuchera',\n",
       " 'Uyu mufananidzo weimba yapashure',\n",
       " 'Uyu mufananidzo pamukova wokutanga',\n",
       " 'Uyu mufananidzo wemba',\n",
       " 'Uyu mufananidzo tsime Cool',\n",
       " 'Uyu mufananidzo wemugwagwa',\n",
       " 'Uyu mufananidzo wemeno',\n",
       " 'Uyu mufananidzo ruoko shure',\n",
       " 'Uyu mufananidzo woruoko rwemaoko',\n",
       " 'Uyu mufananidzo wemhuka',\n",
       " 'Uyu mufananidzo wokurara',\n",
       " 'Uyu mufananidzo wezviyo',\n",
       " 'Ichi chifananidzo chemucheka',\n",
       " 'Uyu mufananidzo wechigaro',\n",
       " 'Uyu mufananidzo wepamberi',\n",
       " 'Uyu mufananidzo wekicheni',\n",
       " 'Ichi chifananidzo chemabhuku',\n",
       " 'Uyu mufananidzo wezvishuwo zvezuva nezuva',\n",
       " 'Uyu mufananidzo wokushambidza maoko',\n",
       " 'Ichi chifananidzo chemarara/marara',\n",
       " 'Uyu mufananidzo wematurusi',\n",
       " 'Uyu mufananidzo bvudzi bhurasho / combos',\n",
       " 'Uyu mufananidzo wemugwagwa',\n",
       " 'Mufananidzo uyu wemasabuni emaoko nemuviri',\n",
       " 'Uyu mufananidzo weshampu',\n",
       " 'Mufananidzo uyu unoratidza nzvimbo yemiriwo',\n",
       " 'Uyu mufananidzo weimba',\n",
       " 'Uyu mufananidzo wetsvina',\n",
       " 'Mufananidzo uyu wemidziyo',\n",
       " 'Uyu mufananidzo wemunyu',\n",
       " 'Uyu mufananidzo wezvinhu zvinoshongedzwa',\n",
       " 'Mufananidzo uyu wemidziyo yekubikira',\n",
       " 'Uyu mufananidzo wekugeza ndiro / jira',\n",
       " 'Mufananidzo uyu wemidziyo yekubikira',\n",
       " 'Uyu mufananidzo wemapuleti',\n",
       " 'Uyu mufananidzo wemikombe/mugs/girazi',\n",
       " 'Uyu mufananidzo wemadziro',\n",
       " 'Uyu mufananidzo wemombe',\n",
       " 'Uyu mufananidzo wepamusoro',\n",
       " 'Uyu mufananidzo wemubhedha',\n",
       " 'Uyu mufananidzo weimba yokuchengetera zvinhu',\n",
       " 'Uyu mufananidzo firiji',\n",
       " 'Uyu mufananidzo wepasi',\n",
       " 'Uyu mufananidzo weimwe rusvingo mukati',\n",
       " 'Uyu mufananidzo wemapaipi emazino',\n",
       " 'Uyu mufananidzo webhurasho remazino',\n",
       " 'Uyu mufananidzo wembudzi',\n",
       " 'Mufananidzo uyu wemidziyo yokuchenesa',\n",
       " 'Mufananidzo uyu unoratidza kuchenesa kwaiitwa vanhu pavaiva paimba yokugezera',\n",
       " 'Uyu mufananidzo wekushanya',\n",
       " 'Uyu mufananidzo ruoko rakavhurika kusvika rakavharwa',\n",
       " 'Mufananidzo uyu wemeno ari kubviswa',\n",
       " 'Uyu mufananidzo wokushandisa chimbuzi',\n",
       " 'Uyu mufananidzo wokugeza ndiro',\n",
       " 'Uyu mufananidzo wemvura yekunwa iri kudururwa',\n",
       " 'Uyu mufananidzo wemvura iri kudururwa',\n",
       " 'Uyu mufananidzo wokutanga chitofu',\n",
       " 'Uyu mufananidzo wokubika',\n",
       " 'Uyu mufananidzo wokugadzira zvokudya',\n",
       " 'Uyu mufananidzo wesapato',\n",
       " 'Mufananidzo uyu unoratidza vanhu vachigeza maoko avo',\n",
       " 'Uyu mufananidzo wokufamba achienda kunotora mvura',\n",
       " 'Uyu mufananidzo wokushambidza nguo/kuchenesa',\n",
       " 'Uyu mufananidzo wokudya',\n",
       " 'Uyu mufananidzo wemhuri iri kudya',\n",
       " 'Uyu mufananidzo wemiriwo',\n",
       " 'Uyu mufananidzo utsi uye hwemvura kubuda',\n",
       " 'Mufananidzo uyu wemichero nemiriwo',\n",
       " 'Uyu mufananidzo wematoyi',\n",
       " 'Uyu mufananidzo wezvishuwo zvakanaka kwazvo',\n",
       " 'Mufananidzo uyu unodzivirira makonzo',\n",
       " 'Uyu mufananidzo wekushongedza madziro',\n",
       " 'Uyu mufananidzo wekamuri rokugara',\n",
       " 'Mufananidzo uyu wemiti yemichero',\n",
       " 'Uyu mufananidzo wemapepa ekuchimbidza',\n",
       " 'Uyu mufananidzo wemba yokugezera/tamborosi',\n",
       " 'Uyu mufananidzo wokubvarura',\n",
       " 'Uyu mufananidzo wokukiya pasuo rokutanga',\n",
       " 'Uyu mufananidzo wesofa',\n",
       " 'Uyu mufananidzo wesofa',\n",
       " 'Uyu mufananidzo wemakumbo',\n",
       " 'Uyu mufananidzo wemashiripiti emidziyo',\n",
       " 'Uyu mufananidzo wenzvimbo yekutamba',\n",
       " 'Iyi ndiyo pikicha yenzvimbo inoshumira vaenzi',\n",
       " 'Uyu mufananidzo wemapikicha anotungamira mapikicha',\n",
       " 'Uyu mufananidzo weminda yekurima',\n",
       " 'Uyu mufananidzo weimba yokugara',\n",
       " 'Uyu mufananidzo wevana vari pamubhedha',\n",
       " 'Uyu mufananidzo wokumedza',\n",
       " 'Uyu mufananidzo wemvura yemvura',\n",
       " 'Uyu mufananidzo wekutsvaira mvura',\n",
       " 'Uyu mufananidzo wemvura',\n",
       " 'Mufananidzo uyu unoratidza imba yacho',\n",
       " 'Uyu mufananidzo wokushamwaridzana',\n",
       " 'Uyu mufananidzo wokutamba',\n",
       " 'Uyu mufananidzo wevana vari kutamba panze',\n",
       " 'Uyu mufananidzo wokubika zvokudya',\n",
       " 'Uyu mufananidzo wemakoko',\n",
       " 'Uyu mufananidzo bhasikoro',\n",
       " 'Uyu mufananidzo wekupisa',\n",
       " 'Uyu mufananidzo foni',\n",
       " 'Uyu mufananidzo webasa',\n",
       " 'Uyu mufananidzo wevana mumba',\n",
       " 'Uyu mufananidzo wechiedza chiri mumba yekutandarira',\n",
       " 'Uyu mufananidzo wezvokugeza',\n",
       " 'Uyu mufananidzo wemishonga',\n",
       " 'Uyu mufananidzo weimwe sopo yekugeza ndiro',\n",
       " 'Mufananidzo uyu unoratidza vanhu vachivhenekera uye vachidzima mwenje',\n",
       " 'Ichi chifananidzo chechiedza',\n",
       " 'Uyu mufananidzo wewachi yemadziro',\n",
       " 'Uyu mufananidzo wemubhedha wevaeni',\n",
       " 'Mufananidzo wemadhayi (kana kuti mahembe emwana)',\n",
       " 'Uyu mufananidzo wokumisa / kudzima',\n",
       " 'Ichi chifananidzo chepeni/peni',\n",
       " 'Ichi chifananidzo chepepa',\n",
       " 'Uyu mufananidzo wekapu',\n",
       " 'Uyu mufananidzo bed_hq',\n",
       " 'Uyu mufananidzo wokunwa',\n",
       " 'Uyu mufananidzo wokutakura mvura',\n",
       " 'Ichi chifananidzo chemvura yakajeka',\n",
       " 'Ichi chifananidzo chemidziyo yemimhanzi',\n",
       " 'Uyu mufananidzo wekaki dzesuo rokutanga',\n",
       " 'Uyu mufananidzo wemvura yakajeka pedyo nemubhedha',\n",
       " 'Uyu mufananidzo wokuverenga chiedza',\n",
       " 'Uyu mufananidzo wemaketani',\n",
       " 'Uyu mufananidzo wetsanga dzokutanga',\n",
       " 'Ichi chifananidzo chemashongedzo',\n",
       " 'Uyu mufananidzo wokutsvaira pasi',\n",
       " 'Uyu mufananidzo wokugadzira',\n",
       " 'Uyu mufananidzo wokupfeka zvipfeko',\n",
       " 'Uyu mufananidzo wokucheka zvinhu',\n",
       " 'Uyu mufananidzo waBhurashi bvudzi',\n",
       " 'Uyu mufananidzo wokutora chishipi chemunyu',\n",
       " 'Uyu mufananidzo wokunwa doro',\n",
       " 'Ichi chifananidzo chenyama kana hove',\n",
       " 'Uyu mufananidzo wokutsiviwa',\n",
       " 'Ichi chifananidzo redhiyo',\n",
       " 'Uyu mufananidzo wokuteerera redhiyo',\n",
       " 'Ichi chifananidzo chemari',\n",
       " 'Ichi chifananidzo chezvokudya zvepamba',\n",
       " 'Uyu mufananidzo wemapedhi emwedzi / tampax',\n",
       " 'Mufananidzo uyu wevaenzi vekudya kwemanheru',\n",
       " 'Mufananidzo uyu unoratidza nzvimbo dzinoshamisa dzomusikirwo',\n",
       " 'Mufananidzo uyu unoratidza nzvimbo dzekunamata',\n",
       " 'Uyu mufananidzo wemagetsi ekupedzisira',\n",
       " 'Mufananidzo uyu wemagirazi kana kuti lenzi',\n",
       " 'Mufananidzo uyu unoratidza munhu achiwedzera zvinonhuhwirira pakudya paanenge achiita kubika',\n",
       " 'Uyu mufananidzo wekuratidzira Dollar Street',\n",
       " 'Uyu mufananidzo wekunamata',\n",
       " 'Uyu mufananidzo kunyora',\n",
       " 'Uyu mufananidzo wekunyora siginecha',\n",
       " 'Ichi chifananidzo cheTV',\n",
       " 'Uyu mufananidzo wehove',\n",
       " 'Uyu mufananidzo wemidziyo',\n",
       " 'Mufananidzo uyu wevana vari kutamba vari mukati',\n",
       " 'Uyu mufananidzo wemari',\n",
       " 'Uyu mufananidzo wemabhachi nemabhachi',\n",
       " 'Mufananidzo uyu unoratidza nzvimbo dzakapoteredza',\n",
       " 'Ichi chifananidzo chechimoto/moto',\n",
       " 'Uyu mufananidzo wemapaki',\n",
       " 'Mufananidzo uyu wemazino akaiswa pabhurasho remazino',\n",
       " 'Uyu mufananidzo wevhiri rebhari',\n",
       " 'Mufananidzo uyu wemarara ari mumatope',\n",
       " 'Iyi pikicha yemifananidzo yemuchato',\n",
       " 'Uyu mufananidzo wokupisa mhepo',\n",
       " 'Ichi chifananidzo chemombe dzine mukaka kana kuti nzombe dzine mukaka',\n",
       " 'Uyu mufananidzo wekupindura foni',\n",
       " 'Uyu mufananidzo wokuvhara suo rokutanga',\n",
       " 'Uyu mufananidzo wekurembera mbatya kuti dzishiswe',\n",
       " 'Uyu mufananidzo wokuvhura suo rokutanga',\n",
       " 'Uyu mufananidzo wokuverenga',\n",
       " 'Uyu mufananidzo wokuverenga bhuku',\n",
       " 'Uyu mufananidzo kuona shure bhuku',\n",
       " 'Uyu mufananidzo wokurara',\n",
       " 'Mufananidzo uyu unoratidza kuti mhepo iri kupisa',\n",
       " 'Uyu mufananidzo wokupisa moto',\n",
       " 'Uyu mufananidzo wokufamba achienda pasuo rokutanga',\n",
       " 'Uyu mufananidzo wokunyora \"imba\"',\n",
       " 'Uyu mufananidzo wemapiritsi',\n",
       " 'Mufananidzo uyu wemidziyo yekuredza',\n",
       " 'Uyu mufananidzo wewachi yechiuno',\n",
       " 'Uyu mufananidzo wemabhora ebhora',\n",
       " 'Uyu mufananidzo wetsanga dzemabhiza',\n",
       " 'Mufananidzo uyu weminda yemitambo',\n",
       " 'Uyu mufananidzo wezvinwiwa',\n",
       " 'Uyu mufananidzo mumwe chokufambisa',\n",
       " 'Uyu mufananidzo wemotokari',\n",
       " 'Uyu mufananidzo wemotokari dzokushongedza',\n",
       " 'Mufananidzo uyu unoratidza zvinhu zvinorema zvaifamba',\n",
       " 'Uyu mufananidzo wemapfekero',\n",
       " 'Uyu mufananidzo wemashiga',\n",
       " 'Uyu mufananidzo wemapikicha',\n",
       " 'Ichi chifananidzo chemishonga yacho',\n",
       " 'Uyu mufananidzo weminda',\n",
       " 'Mufananidzo uyu wemapepa emukurumbira',\n",
       " 'Uyu mufananidzo wefiriji',\n",
       " 'Uyu mufananidzo wengarava',\n",
       " 'Mufananidzo uyu wemaoko emaawa',\n",
       " 'Uyu mufananidzo wokugara uye kuona TV',\n",
       " 'Uyu mufananidzo wokuisa kana kuti kubvisa magetsi',\n",
       " 'Uyu mufananidzo wemushambadzi wemidziyo',\n",
       " 'Uyu mufananidzo weovheni',\n",
       " 'Uyu mufananidzo wevacheche powder',\n",
       " 'Uyu mufananidzo wemabhiza',\n",
       " 'Uyu mufananidzo wemakwai',\n",
       " 'Uyu mufananidzo wokugadzirira chinwiwa chevanhu vose',\n",
       " 'Uyu mufananidzo kuenda kuburikidza tsamba',\n",
       " 'Uyu mufananidzo wokuputa',\n",
       " 'Uyu mufananidzo wokufamba nemusha',\n",
       " 'Uyu mufananidzo kombiyuta',\n",
       " 'Ichi chifananidzo chemishonga inorwisa pamuviri',\n",
       " 'Ichi chifananidzo chokushandisa',\n",
       " 'Uyu mufananidzo wekugadzirisa zvinhu',\n",
       " 'Uyu mufananidzo wokupinza TV pa',\n",
       " 'Mufananidzo uyu unoratidza munhu achiridza chiridzwa',\n",
       " 'Uyu mufananidzo wechingwa chakagadzirira',\n",
       " 'Ichi chifananidzo chemvura ine doro',\n",
       " 'Uyu mufananidzo wezvokudya',\n",
       " 'Ichi chifananidzo chenguva yokumuka',\n",
       " 'Uyu mufananidzo wokurasa marara ezvokudya',\n",
       " 'Uyu mufananidzo wemakiyi emota',\n",
       " 'Uyu mufananidzo wetrakita',\n",
       " 'Uyu mufananidzo wokuvhura nokuvhara firiji',\n",
       " 'Ichi chifananidzo chemvura',\n",
       " 'Uyu mufananidzo wokuvhura nokuvhara firiji',\n",
       " 'Uyu mufananidzo wemabhiza',\n",
       " 'Mufananidzo uyu wemvura inowanika pakuchenesa ndiro',\n",
       " 'Ichi chifananidzo chevatsigiri venhabvu',\n",
       " 'Uyu mufananidzo wekubika chikafu',\n",
       " 'Mufananidzo uyu wezvitoro zvekutengesa zvokudya',\n",
       " 'Mufananidzo uyu unoratidza masikati achibudisa mvura',\n",
       " 'Uyu mufananidzo we smog / mweya wakaipa wekufema',\n",
       " 'Mufananidzo uyu unoratidza zvinhu zvakaipa zvinovhiringidza mhepo panze',\n",
       " 'Uyu mufananidzo wokudenga kunze',\n",
       " 'Mufananidzo uyu wemvura yokunwa',\n",
       " 'Uyu mufananidzo wokurara pamubhedha - fungidzira kurara',\n",
       " 'Ichi chifananidzo chemapepanhau',\n",
       " 'Uyu mufananidzo wemagetsi',\n",
       " 'Uyu mufananidzo wemvura purifier mhinduro',\n",
       " 'Uyu mufananidzo mhepo fresheners (kunhuwirira)',\n",
       " 'Uyu mufananidzo hwokunhuwirira)',\n",
       " 'Mufananidzo uyu wemidziyo yokuchenesa mhepo',\n",
       " 'Mufananidzo uyu wezvitoro zvekuchengetera zvokudya',\n",
       " 'Uyu mufananidzo wemisika',\n",
       " 'Uyu mufananidzo wekutora foni',\n",
       " 'Mufananidzo uyu wechingwa - chakagadzirira',\n",
       " 'Uyu mufananidzo wokuvhura tsamba',\n",
       " 'Mufananidzo uyu wemidziyo yokuchengetera nyama',\n",
       " 'Uyu mufananidzo wemidziyo yechingwa',\n",
       " 'Mufananidzo uyu wemari inobatsira vanhu vakaremara',\n",
       " 'Uyu mufananidzo wematambo emagetsi',\n",
       " 'Ichi chifananidzo chemapepanhau',\n",
       " 'Ichi chifananidzo michina',\n",
       " 'Mufananidzo uyu wemidziyo yokubika',\n",
       " 'Uyu mufananidzo wemapepa ekubika',\n",
       " 'Uyu mufananidzo wematafura ekubika',\n",
       " 'Uyu mufananidzo wematambo emagetsi',\n",
       " 'Mufananidzo uyu wemisika yenyama',\n",
       " 'Mufananidzo uyu wemisika yemiriwo']"
      ]
     },
     "execution_count": 99,
     "metadata": {},
     "output_type": "execute_result"
    }
   ],
   "source": [
    "#list_dict_lang2translation[39]['Shona']"
   ]
  },
  {
   "cell_type": "code",
   "execution_count": 41,
   "id": "1d64edfb",
   "metadata": {},
   "outputs": [
    {
     "data": {
      "text/plain": [
       "270"
      ]
     },
     "execution_count": 41,
     "metadata": {},
     "output_type": "execute_result"
    }
   ],
   "source": [
    "len(list_eng2translated_text_dicts_merged[5].values())"
   ]
  },
  {
   "cell_type": "markdown",
   "id": "e947133d",
   "metadata": {},
   "source": [
    "### Load translated topics"
   ]
  },
  {
   "cell_type": "code",
   "execution_count": 43,
   "id": "e12548cf",
   "metadata": {},
   "outputs": [],
   "source": [
    "import pickle\n",
    "with open(\"list_eng2translated_text_dicts.pkl\", 'rb') as f:\n",
    "    list_eng2translated_text_dicts = pickle.load(f)"
   ]
  },
  {
   "cell_type": "code",
   "execution_count": 44,
   "id": "4d1176d3",
   "metadata": {},
   "outputs": [],
   "source": [
    "with open(\"list_dict_lang2translation.pkl\", 'rb') as f:\n",
    "    dict_lang2translation = pickle.load(f)"
   ]
  },
  {
   "cell_type": "code",
   "execution_count": 45,
   "id": "8e349c8e",
   "metadata": {},
   "outputs": [
    {
     "data": {
      "text/plain": [
       "{'French': [\"C'est une photo de photos de famille.\",\n",
       "  \"C' est une photo de la cuisine.\",\n",
       "  \"C'est une photo de famille.\",\n",
       "  \"C'est une photo d'un endroit où on mange le dîner.\",\n",
       "  \"C'est une photo de la assiette de nourriture.\",\n",
       "  \"C'est une photo de table avec de la nourriture.\",\n",
       "  \"C'est une photo de l'eau\",\n",
       "  \"C'est une photo du four/hô\",\n",
       "  \"C'est une photo de la source lumineuse dans la cuisine.\",\n",
       "  \"C'est une photo d'eau potable.\",\n",
       "  \"C'est une photo du lavabo de cuisine.\",\n",
       "  \"C'est une photo de la vie privée de la salle de bain.\",\n",
       "  \"C'est une photo de la cour.\",\n",
       "  \"C'est une photo de la porte d'entrée.\",\n",
       "  \"C'est une photo de chez moi.\",\n",
       "  \"C'est une photo de source de cool\",\n",
       "  \"C'est une photo de la vue de la rue.\",\n",
       "  \"C'est une photo de dents.\",\n",
       "  \"C'est une photo de la main en arrière.\",\n",
       "  \"C'est une photo de la paume de main.\",\n",
       "  \"C'est une photo d'animal de compagnie.\",\n",
       "  \"C'est une photo de la chambre.\",\n",
       "  \"C'est une photo de grains.\",\n",
       "  \"C' est une photo de l' armoire.\",\n",
       "  \"C'est une photo de fauteuil.\",\n",
       "  \"C'est une photo du couloir.\",\n",
       "  \"C'est une photo de la cuisine.\",\n",
       "  \"C'est une photo de livres.\",\n",
       "  \"C'est une photo de chaussures de tous les jours.\",\n",
       "  \"C'est une photo de lavage des mains.\",\n",
       "  \"C'est une photo de déchets.\",\n",
       "  \"C'est une photo des outils.\",\n",
       "  \"C'est une photo de la brosse à cheveux / la crème\",\n",
       "  \"C'est une photo de la rue.\",\n",
       "  \"C'est une photo de savon pour les mains et le corps.\",\n",
       "  \"C'est une photo de shampooing.\",\n",
       "  \"C'est une photo de parcelle de légumes.\",\n",
       "  \"C'est une photo du toit.\",\n",
       "  \"C'est une photo de la salle de bain.\",\n",
       "  \"C'est une photo des épices.\",\n",
       "  \"C'est une photo de sel.\",\n",
       "  \"C'est une photo de bijoux.\",\n",
       "  \"C'est une photo des ustensiles de cuisine.\",\n",
       "  \"C'est une photo de la brosse à laver des plats / du tissu\",\n",
       "  \"C'est une photo de pots de cuisine.\",\n",
       "  \"C'est une photo de plaques.\",\n",
       "  \"C'est une photo de tasses/muggles/verres\",\n",
       "  \"C'est une photo du mur.\",\n",
       "  \"C'est une photo de bétail.\",\n",
       "  \"C'est une photo du plafond.\",\n",
       "  \"C' est une photo du lit.\",\n",
       "  \"C'est une photo de la salle de stockage.\",\n",
       "  \"C'est une photo du réfrigérateur.\",\n",
       "  \"C'est une photo du sol.\",\n",
       "  \"C'est une photo du mur à l'intérieur.\",\n",
       "  \"C'est une photo de la pâte à dents.\",\n",
       "  \"C'est une photo de brosse à dents.\",\n",
       "  \"C'est une photo de chèvres.\",\n",
       "  \"C'est une photo de l'équipement de nettoyage.\",\n",
       "  \"C'est une photo de nettoyage après les toilettes.\",\n",
       "  \"C' est une photo de la visite.\",\n",
       "  \"C'est une photo de la main ouverte à fermée.\",\n",
       "  \"C'est une photo de brossage des dents.\",\n",
       "  \"C'est une photo d'utilisation des toilettes.\",\n",
       "  \"C'est une photo de lavé de plats.\",\n",
       "  \"C'est une photo d'eau potable versée.\",\n",
       "  \"C'est une photo d'eau qui coule.\",\n",
       "  \"C'est une photo du four à combustion.\",\n",
       "  \"C'est une photo de cuisine.\",\n",
       "  \"C'est une photo de la cuisine.\",\n",
       "  \"C'est une photo de chaussures.\",\n",
       "  \"C'est une photo de mains lavées.\",\n",
       "  \"C'est une photo de marche pour trouver de l'eau.\",\n",
       "  \"C'est une photo de la lessive / nettoyage\",\n",
       "  \"C'est une photo de manger.\",\n",
       "  \"C'est une photo de famille mangeant\",\n",
       "  \"C'est une photo de légumes.\",\n",
       "  \"C'est une photo de fumée et de vapeur.\",\n",
       "  \"C'est une photo de fruits et légumes.\",\n",
       "  \"C'est une photo de jouets.\",\n",
       "  \"C'est une photo des chaussures les plus belles.\",\n",
       "  \"C'est une photo de protection contre les moustiques.\",\n",
       "  \"C'est une photo de décoration murale.\",\n",
       "  \"C'est une photo du salon.\",\n",
       "  \"C'est une photo des arbres fruitiers.\",\n",
       "  \"C'est une photo de papier toilette.\",\n",
       "  \"C'est une photo de la salle de bain / toilette\",\n",
       "  \"C'est une photo de rasage.\",\n",
       "  \"C'est une photo de la serrure de la porte d'entrée.\",\n",
       "  \"C'est une photo du canapé.\",\n",
       "  \"C'est une photo du canapé.\",\n",
       "  \"C'est une photo de couteaux.\",\n",
       "  \"C'est une photo de racks de plats\",\n",
       "  \"C'est une photo de la zone de jeu.\",\n",
       "  \"C'est une photo d'un endroit où les clients sont servis.\",\n",
       "  \"C'est une photo de photos de guides\",\n",
       "  \"C'est une photo de terres agricoles.\",\n",
       "  \"C'est une photo de la salle de séjour.\",\n",
       "  \"C'est une photo de enfants au lit.\",\n",
       "  \"C'est une photo de séchage.\",\n",
       "  \"C'est une photo de la prise d'eau.\",\n",
       "  \"C'est une photo du drainage.\",\n",
       "  \"C'est une photo de la douche.\",\n",
       "  \"C'est une photo de la maison.\",\n",
       "  \"C'est une photo de socialisation.\",\n",
       "  \"C'est une photo de jeu.\",\n",
       "  \"C'est une photo de gamins qui jouent dehors.\",\n",
       "  \"C'est une photo de couper la nourriture.\",\n",
       "  \"C'est une photo de poulets.\",\n",
       "  \"C'est une photo de vélo.\",\n",
       "  \"C'est une photo de la source de chaleur.\",\n",
       "  \"C'est une photo du téléphone.\",\n",
       "  \"C'est une photo de la zone de travail.\",\n",
       "  \"C'est une photo de la chambre des enfants.\",\n",
       "  \"C'est une photo de la source lumineuse dans le salon.\",\n",
       "  \"C'est une photo du détergent de lavage.\",\n",
       "  \"C' est une photo de médicament.\",\n",
       "  \"C'est une photo de savon à laver les plats.\",\n",
       "  \"C'est une photo de l'allumage et de l'éteinte des lumières.\",\n",
       "  \"C'est une photo de source lumineuse.\",\n",
       "  \"C'est une photo de l'horloge murale.\",\n",
       "  \"C' est une photo du lit des invités.\",\n",
       "  \"C'est une photo de couches (ou de pantalon pour bébé)\",\n",
       "  \"C'est une photo de l'allumage / désactivation\",\n",
       "  \"C'est une photo de crayon / crayon\",\n",
       "  \"C' est une photo de papier.\",\n",
       "  \"C' est une photo du tapis.\",\n",
       "  \"C' est une photo de bed_hq\",\n",
       "  \"C' est une photo de boisson sociale.\",\n",
       "  \"C'est une photo de porter de l'eau.\",\n",
       "  \"C'est une photo de sources lumineuses.\",\n",
       "  \"C'est une photo de l'équipement musical.\",\n",
       "  \"C' est une photo des clés de la porte d'entrée.\",\n",
       "  \"C'est une photo de sources lumineuses près du lit.\",\n",
       "  \"C'est une photo de la lumière de lecture\",\n",
       "  \"C'est une photo de colliers.\",\n",
       "  \"C'est une photo des oreilles.\",\n",
       "  \"C'est une photo de cosmétiques.\",\n",
       "  \"C'est une photo de nettoyage des étages.\",\n",
       "  \"C'est une photo de maquillage.\",\n",
       "  \"C'est une photo de maquillage.\",\n",
       "  \"C'est une photo de coupe des ingrédients\",\n",
       "  \"C'est une photo de cheveux brossés\",\n",
       "  \"C'est une photo de prendre une cuillère à café de sel.\",\n",
       "  \"C'est une photo de boire une boisson sociale.\",\n",
       "  \"C'est une photo de viande ou de poisson.\",\n",
       "  \"C'est une photo de remplacé\",\n",
       "  \"C' est une photo de la radio.\",\n",
       "  \"C'est une photo d'écoute de la radio.\",\n",
       "  \"C'est une photo de pièces.\",\n",
       "  \"C'est une photo de nourriture pour animaux de compagnie.\",\n",
       "  \"C' est une photo des tampons menstruels / tampax\",\n",
       "  \"C'est une photo des invités au dîner.\",\n",
       "  \"C'est une photo de paysages naturels.\",\n",
       "  \"C'est une photo des lieux de culte.\",\n",
       "  \"C'est une photo de prise de courant.\",\n",
       "  \"C'est une photo de lunettes ou de lentilles.\",\n",
       "  \"C'est une photo d'ajouter des épices à la nourriture pendant la cuisson.\",\n",
       "  \"C'est une photo de la présentation de la rue Dollar\",\n",
       "  \"C' est une photo de culte.\",\n",
       "  \"C'est une photo de l'écriture\",\n",
       "  \"C'est une photo de signature écrite\",\n",
       "  \"C' est une photo de la télé.\",\n",
       "  \"C'est une photo de poissons.\",\n",
       "  \"C'est une photo de bols.\",\n",
       "  \"C'est une photo de gamins qui jouent à l'intérieur.\",\n",
       "  \"C'est une photo de billets d'argent.\",\n",
       "  \"C'est une photo de manteaux et de gilets.\",\n",
       "  \"C'est une photo de l'environnement.\",\n",
       "  \"C'est une photo de motocycle.\",\n",
       "  \"C'est une photo du parking.\",\n",
       "  \"C'est une photo de dentifrice sur une brosse à dents.\",\n",
       "  \"C'est une photo de la roue de la barrow\",\n",
       "  \"C'est une photo des décharges de déchets.\",\n",
       "  \"C'est une photo de mariage.\",\n",
       "  \"C'est une photo de la ventilation.\",\n",
       "  \"C'est une photo de vaches laitières ou de taureaux.\",\n",
       "  \"C'est une photo de répondre au téléphone.\",\n",
       "  \"C'est une photo de la porte d'entrée fermée.\",\n",
       "  \"C'est une photo de vêtements suspendus à sécher\",\n",
       "  \"C'est une photo de l'ouverture de la porte d'entrée.\",\n",
       "  \"C'est une photo de lecture.\",\n",
       "  \"C'est une photo de lire un livre.\",\n",
       "  \"C'est une photo de voir le fond du livre\",\n",
       "  \"C'est une photo de dormir.\",\n",
       "  \"C'est une photo de l'allumage du ventilateur\",\n",
       "  \"C'est une photo de l'allumage du chauffeur\",\n",
       "  \"C'est une photo de marche vers la porte d'entrée\",\n",
       "  'C\\'est une photo de l\\'écriture \"à la maison\"',\n",
       "  \"C'est une photo de piercings.\",\n",
       "  \"C'est une photo de l'équipement de pêche.\",\n",
       "  \"C'est une photo de mon horloge.\",\n",
       "  \"C'est une photo de balles de football.\",\n",
       "  \"C'est une photo des écuries de chevaux.\",\n",
       "  \"C'est une photo des terrains de jeux.\",\n",
       "  \"C' est une photo de boissons.\",\n",
       "  \"C'est une photo d'un autre transport.\",\n",
       "  \"C' est une photo de voiture.\",\n",
       "  \"C'est une photo de décorations de voiture.\",\n",
       "  \"C'est une photo de transport de lourdes choses.\",\n",
       "  \"C'est une photo de vêtements.\",\n",
       "  \"C'est une photo de cigarettes.\",\n",
       "  \"C'est une photo de portraits.\",\n",
       "  \"C'est une photo des ingrédients.\",\n",
       "  \"C'est une photo des champs.\",\n",
       "  \"C'est une photo de posters de célébrités.\",\n",
       "  \"C' est une photo du congélateur.\",\n",
       "  \"C' est une photo du bateau.\",\n",
       "  \"C'est une photo de montres de bras.\",\n",
       "  \"C'est une photo de assis et de regarder la télévision\",\n",
       "  \"C'est une photo de connexion et de sortie de prise électrique\",\n",
       "  \"C'est une photo de la machine à laver les plats.\",\n",
       "  \"C'est une photo du four.\",\n",
       "  \"C'est une photo de poudre de bébé.\",\n",
       "  \"C'est une photo de tatouages.\",\n",
       "  \"C'est une photo de moutons.\",\n",
       "  \"C'est une photo de préparer une boisson sociale.\",\n",
       "  \"C'est une photo de passer par la poste.\",\n",
       "  \"C'est une photo de fumer.\",\n",
       "  \"C'est une photo de la marche à travers la maison\",\n",
       "  \"C'est une photo de l'ordinateur.\",\n",
       "  \"C'est une photo de contraceptifs.\",\n",
       "  \"C'est une photo de l'instrument.\",\n",
       "  \"C'est une photo de la technologie de réhabilitation.\",\n",
       "  \"C'est une photo de la télé en marche.\",\n",
       "  \"C'est une photo de jouer d'un instrument.\",\n",
       "  \"C'est une photo du pain prêt.\",\n",
       "  \"C' est une photo de boissons alcoolisées.\",\n",
       "  \"C'est une photo de collations.\",\n",
       "  \"C'est une photo de l'horloge de réveil.\",\n",
       "  \"C'est une photo de jeter la poubelle de nourriture\",\n",
       "  \"C' est une photo de clés de voiture.\",\n",
       "  \"C'est une photo de tracteurs.\",\n",
       "  \"C'est une photo de l'ouverture et de la fermeture du réfrigérateur.\",\n",
       "  \"C'est une photo de sources d'eau.\",\n",
       "  \"C'est une photo de l'ouverture et de la fermeture du congélateur.\",\n",
       "  \"C'est une photo de chevaux.\",\n",
       "  \"C'est une photo des sources d'eau pour laver les plats.\",\n",
       "  \"C'est une photo de supporters de football.\",\n",
       "  \"C'est une photo de cuisine.\",\n",
       "  \"C'est une photo des cafés.\",\n",
       "  \"C'est une photo de la lumière du jour.\",\n",
       "  \"C'est une photo de protection contre le smog et la mauvaise respiration.\",\n",
       "  \"C'est une photo de mauvaises obstructions de l'air extérieur.\",\n",
       "  \"C'est une photo du ciel dehors.\",\n",
       "  \"C'est une photo de sources d'eau potable.\",\n",
       "  \"C' est une photo de couché dans le lit - prétendre dormir\",\n",
       "  \"C'est une photo de journaux.\",\n",
       "  \"C'est une photo des ascenseurs.\",\n",
       "  \"C'est une photo de solutions de purificateur d'eau\",\n",
       "  \"C'est une photo de rafraîchissants d'air (parfums)\",\n",
       "  \"C'est une photo des odeurs)\",\n",
       "  \"C'est une photo des équipements de nettoyage de l'air.\",\n",
       "  \"C'est une photo des magasins de nourriture.\",\n",
       "  \"C'est une photo des marchés.\",\n",
       "  \"C'est une photo de la prise du téléphone.\",\n",
       "  \"C' est une photo du pain.\",\n",
       "  \"C'est une photo de l'ouverture du courrier.\",\n",
       "  \"C'est une photo des entrepôts de viande.\",\n",
       "  \"C'est une photo de bols de pain.\",\n",
       "  \"C'est une photo de l'aide aux handicapés.\",\n",
       "  \"C'est une photo de câbles électriques.\",\n",
       "  \"C'est une photo de tabloïdes.\",\n",
       "  \"C'est une photo de l'équipement.\",\n",
       "  \"C'est une photo des outils de cuisson.\",\n",
       "  \"C'est une photo de la cuisine.\",\n",
       "  \"C'est une photo de tables de cuisine.\",\n",
       "  \"C'est une photo de câbles électriques.\",\n",
       "  \"C'est une photo des marchés de viande.\",\n",
       "  \"C'est une photo des marchés de légumes.\"]}"
      ]
     },
     "execution_count": 45,
     "metadata": {},
     "output_type": "execute_result"
    }
   ],
   "source": [
    "dict_lang2translation[3]"
   ]
  },
  {
   "cell_type": "code",
   "execution_count": 46,
   "id": "188b5608",
   "metadata": {},
   "outputs": [
    {
     "data": {
      "text/plain": [
       "40"
      ]
     },
     "execution_count": 46,
     "metadata": {},
     "output_type": "execute_result"
    }
   ],
   "source": [
    "len(list_eng2translated_text_dicts)"
   ]
  },
  {
   "cell_type": "code",
   "execution_count": 47,
   "id": "d3d2126a",
   "metadata": {},
   "outputs": [
    {
     "data": {
      "text/plain": [
       "270"
      ]
     },
     "execution_count": 47,
     "metadata": {},
     "output_type": "execute_result"
    }
   ],
   "source": [
    "len(list_eng2translated_text_dicts[0].values())"
   ]
  },
  {
   "cell_type": "code",
   "execution_count": 48,
   "id": "7849deaf",
   "metadata": {},
   "outputs": [
    {
     "data": {
      "text/plain": [
       "270"
      ]
     },
     "execution_count": 48,
     "metadata": {},
     "output_type": "execute_result"
    }
   ],
   "source": [
    "len(set(list_eng2translated_text_dicts_merged[0].values()))"
   ]
  },
  {
   "cell_type": "markdown",
   "id": "8b3160eb",
   "metadata": {},
   "source": [
    "### Get ground truth"
   ]
  },
  {
   "cell_type": "code",
   "execution_count": 49,
   "id": "4a3df851",
   "metadata": {},
   "outputs": [],
   "source": [
    "topic2english = {}\n",
    "for topic, prompt in zip(topics, English_topics):\n",
    "    topic2english[topic] = prompt"
   ]
  },
  {
   "cell_type": "code",
   "execution_count": 50,
   "id": "d217ca79",
   "metadata": {},
   "outputs": [],
   "source": [
    "#topic2english"
   ]
  },
  {
   "cell_type": "code",
   "execution_count": 51,
   "id": "cdde580b",
   "metadata": {},
   "outputs": [
    {
     "name": "stdout",
     "output_type": "stream",
     "text": [
      "270\n"
     ]
    }
   ],
   "source": [
    "english_dict_topic2imgGT = {}\n",
    "\n",
    "for topic in topics:\n",
    "    key = topic2english[topic]\n",
    "    english_dict_topic2imgGT[key] = dict_topic2img[topic]\n",
    "print(len(english_dict_topic2imgGT))"
   ]
  },
  {
   "cell_type": "code",
   "execution_count": 52,
   "id": "9feff791",
   "metadata": {
    "scrolled": true
   },
   "outputs": [
    {
     "data": {
      "text/plain": [
       "419"
      ]
     },
     "execution_count": 52,
     "metadata": {},
     "output_type": "execute_result"
    }
   ],
   "source": [
    "len(english_dict_topic2imgGT['This is a photo of spices'])"
   ]
  },
  {
   "cell_type": "code",
   "execution_count": 53,
   "id": "0798a8ff",
   "metadata": {},
   "outputs": [],
   "source": [
    "with open(\"list_eng2translated_text_dicts_merged.pkl\", 'rb') as f:\n",
    "    list_eng2translated_text_dicts_merged = pickle.load(f)"
   ]
  },
  {
   "cell_type": "code",
   "execution_count": 54,
   "id": "60266eb8",
   "metadata": {},
   "outputs": [
    {
     "name": "stderr",
     "output_type": "stream",
     "text": [
      "100%|██████████| 40/40 [00:00<00:00, 11953.84it/s]\n"
     ]
    }
   ],
   "source": [
    "list_dict_trans_prompt2img = []\n",
    "\n",
    "for lang_dict in tqdm.tqdm(list_eng2translated_text_dicts_merged):\n",
    "    dict_trans_prompt2img = {}\n",
    "    for eng_prompt in lang_dict.keys():\n",
    "        trans = lang_dict[eng_prompt]\n",
    "        dict_trans_prompt2img[trans] = english_dict_topic2imgGT[eng_prompt]\n",
    "        \n",
    "    list_dict_trans_prompt2img.append(dict_trans_prompt2img)"
   ]
  },
  {
   "cell_type": "code",
   "execution_count": 76,
   "id": "42aa4ae9",
   "metadata": {},
   "outputs": [
    {
     "data": {
      "text/plain": [
       "'sna_Latn'"
      ]
     },
     "execution_count": 76,
     "metadata": {},
     "output_type": "execute_result"
    }
   ],
   "source": [
    "list(list_eng2translated_text_dicts_merged[39].values())[0].split(';')[0].strip()"
   ]
  },
  {
   "cell_type": "code",
   "execution_count": 77,
   "id": "ca879544",
   "metadata": {},
   "outputs": [
    {
     "data": {
      "text/plain": [
       "270"
      ]
     },
     "execution_count": 77,
     "metadata": {},
     "output_type": "execute_result"
    }
   ],
   "source": [
    "len([t.split(';')[-1].strip() for t in list_eng2translated_text_dicts_merged[0].values()])"
   ]
  },
  {
   "cell_type": "markdown",
   "id": "86a91350",
   "metadata": {},
   "source": [
    "### Load img embeddings"
   ]
  },
  {
   "cell_type": "code",
   "execution_count": 60,
   "id": "6020f13f",
   "metadata": {},
   "outputs": [],
   "source": [
    "import pickle\n",
    "with open(\"nllb_img_embedding.pkl\", 'rb') as f:\n",
    "    img_embedding = pickle.load(f)"
   ]
  },
  {
   "cell_type": "code",
   "execution_count": 61,
   "id": "0820563d",
   "metadata": {},
   "outputs": [
    {
     "data": {
      "text/plain": [
       "torch.Size([36754, 1152])"
      ]
     },
     "execution_count": 61,
     "metadata": {},
     "output_type": "execute_result"
    }
   ],
   "source": [
    "img_embedding.shape"
   ]
  },
  {
   "cell_type": "markdown",
   "id": "5688cf33",
   "metadata": {},
   "source": [
    "## Cosine sim for lang_prompts and imgs"
   ]
  },
  {
   "cell_type": "code",
   "execution_count": 62,
   "id": "39a35e74",
   "metadata": {},
   "outputs": [],
   "source": [
    "from sentence_transformers import SentenceTransformer, util\n",
    "from open_clip import get_tokenizer\n",
    "\n",
    "from open_clip import create_model_from_pretrained\n",
    "from PIL import Image, ImageFile\n",
    "import timm\n",
    "#vit_so400m_p"
   ]
  },
  {
   "cell_type": "code",
   "execution_count": 63,
   "id": "306e3f12",
   "metadata": {},
   "outputs": [],
   "source": [
    "# Load model directly\n",
    "from transformers import AutoProcessor, AutoModel\n",
    "\n",
    "model, transform = create_model_from_pretrained(\"nllb-clip-large-siglip\", \"v1\", device=\"cuda\")\n",
    "model = model.eval()"
   ]
  },
  {
   "cell_type": "code",
   "execution_count": 64,
   "id": "6d674fc6",
   "metadata": {},
   "outputs": [],
   "source": [
    "from open_clip import get_tokenizer\n",
    "\n",
    "tokenizer = get_tokenizer(\"nllb-clip-large-siglip\")"
   ]
  },
  {
   "cell_type": "code",
   "execution_count": 66,
   "id": "c5967e6b",
   "metadata": {
    "scrolled": true
   },
   "outputs": [
    {
     "name": "stderr",
     "output_type": "stream",
     "text": [
      "  2%|▎         | 1/40 [00:12<07:55, 12.19s/it]"
     ]
    },
    {
     "name": "stdout",
     "output_type": "stream",
     "text": [
      "270\n"
     ]
    },
    {
     "name": "stderr",
     "output_type": "stream",
     "text": [
      "\r",
      "  5%|▌         | 2/40 [00:19<05:43,  9.03s/it]"
     ]
    },
    {
     "name": "stdout",
     "output_type": "stream",
     "text": [
      "270\n"
     ]
    },
    {
     "name": "stderr",
     "output_type": "stream",
     "text": [
      "\r",
      "  8%|▊         | 3/40 [00:25<04:56,  8.02s/it]"
     ]
    },
    {
     "name": "stdout",
     "output_type": "stream",
     "text": [
      "270\n"
     ]
    },
    {
     "name": "stderr",
     "output_type": "stream",
     "text": [
      "\r",
      " 10%|█         | 4/40 [00:32<04:31,  7.55s/it]"
     ]
    },
    {
     "name": "stdout",
     "output_type": "stream",
     "text": [
      "270\n"
     ]
    },
    {
     "name": "stderr",
     "output_type": "stream",
     "text": [
      "\r",
      " 12%|█▎        | 5/40 [00:39<04:14,  7.28s/it]"
     ]
    },
    {
     "name": "stdout",
     "output_type": "stream",
     "text": [
      "270\n"
     ]
    },
    {
     "name": "stderr",
     "output_type": "stream",
     "text": [
      "\r",
      " 15%|█▌        | 6/40 [00:46<04:02,  7.13s/it]"
     ]
    },
    {
     "name": "stdout",
     "output_type": "stream",
     "text": [
      "270\n"
     ]
    },
    {
     "name": "stderr",
     "output_type": "stream",
     "text": [
      "\r",
      " 18%|█▊        | 7/40 [00:53<03:52,  7.03s/it]"
     ]
    },
    {
     "name": "stdout",
     "output_type": "stream",
     "text": [
      "270\n"
     ]
    },
    {
     "name": "stderr",
     "output_type": "stream",
     "text": [
      "\r",
      " 20%|██        | 8/40 [00:59<03:42,  6.96s/it]"
     ]
    },
    {
     "name": "stdout",
     "output_type": "stream",
     "text": [
      "270\n"
     ]
    },
    {
     "name": "stderr",
     "output_type": "stream",
     "text": [
      "\r",
      " 22%|██▎       | 9/40 [01:06<03:34,  6.92s/it]"
     ]
    },
    {
     "name": "stdout",
     "output_type": "stream",
     "text": [
      "270\n"
     ]
    },
    {
     "name": "stderr",
     "output_type": "stream",
     "text": [
      "\r",
      " 25%|██▌       | 10/40 [01:13<03:26,  6.90s/it]"
     ]
    },
    {
     "name": "stdout",
     "output_type": "stream",
     "text": [
      "270\n"
     ]
    },
    {
     "name": "stderr",
     "output_type": "stream",
     "text": [
      "\r",
      " 28%|██▊       | 11/40 [01:20<03:19,  6.88s/it]"
     ]
    },
    {
     "name": "stdout",
     "output_type": "stream",
     "text": [
      "270\n"
     ]
    },
    {
     "name": "stderr",
     "output_type": "stream",
     "text": [
      "\r",
      " 30%|███       | 12/40 [01:27<03:12,  6.86s/it]"
     ]
    },
    {
     "name": "stdout",
     "output_type": "stream",
     "text": [
      "270\n"
     ]
    },
    {
     "name": "stderr",
     "output_type": "stream",
     "text": [
      "\r",
      " 32%|███▎      | 13/40 [01:34<03:04,  6.85s/it]"
     ]
    },
    {
     "name": "stdout",
     "output_type": "stream",
     "text": [
      "270\n"
     ]
    },
    {
     "name": "stderr",
     "output_type": "stream",
     "text": [
      "\r",
      " 35%|███▌      | 14/40 [01:40<02:58,  6.85s/it]"
     ]
    },
    {
     "name": "stdout",
     "output_type": "stream",
     "text": [
      "270\n"
     ]
    },
    {
     "name": "stderr",
     "output_type": "stream",
     "text": [
      "\r",
      " 38%|███▊      | 15/40 [01:47<02:51,  6.85s/it]"
     ]
    },
    {
     "name": "stdout",
     "output_type": "stream",
     "text": [
      "270\n"
     ]
    },
    {
     "name": "stderr",
     "output_type": "stream",
     "text": [
      "\r",
      " 40%|████      | 16/40 [01:54<02:44,  6.84s/it]"
     ]
    },
    {
     "name": "stdout",
     "output_type": "stream",
     "text": [
      "270\n"
     ]
    },
    {
     "name": "stderr",
     "output_type": "stream",
     "text": [
      "\r",
      " 42%|████▎     | 17/40 [02:01<02:37,  6.84s/it]"
     ]
    },
    {
     "name": "stdout",
     "output_type": "stream",
     "text": [
      "270\n"
     ]
    },
    {
     "name": "stderr",
     "output_type": "stream",
     "text": [
      "\r",
      " 45%|████▌     | 18/40 [02:08<02:31,  6.88s/it]"
     ]
    },
    {
     "name": "stdout",
     "output_type": "stream",
     "text": [
      "270\n"
     ]
    },
    {
     "name": "stderr",
     "output_type": "stream",
     "text": [
      "\r",
      " 48%|████▊     | 19/40 [02:15<02:24,  6.88s/it]"
     ]
    },
    {
     "name": "stdout",
     "output_type": "stream",
     "text": [
      "270\n"
     ]
    },
    {
     "name": "stderr",
     "output_type": "stream",
     "text": [
      "\r",
      " 50%|█████     | 20/40 [02:22<02:17,  6.87s/it]"
     ]
    },
    {
     "name": "stdout",
     "output_type": "stream",
     "text": [
      "270\n"
     ]
    },
    {
     "name": "stderr",
     "output_type": "stream",
     "text": [
      "\r",
      " 52%|█████▎    | 21/40 [02:29<02:10,  6.87s/it]"
     ]
    },
    {
     "name": "stdout",
     "output_type": "stream",
     "text": [
      "270\n"
     ]
    },
    {
     "name": "stderr",
     "output_type": "stream",
     "text": [
      "\r",
      " 55%|█████▌    | 22/40 [02:35<02:03,  6.87s/it]"
     ]
    },
    {
     "name": "stdout",
     "output_type": "stream",
     "text": [
      "270\n"
     ]
    },
    {
     "name": "stderr",
     "output_type": "stream",
     "text": [
      "\r",
      " 57%|█████▊    | 23/40 [02:42<01:56,  6.87s/it]"
     ]
    },
    {
     "name": "stdout",
     "output_type": "stream",
     "text": [
      "270\n"
     ]
    },
    {
     "name": "stderr",
     "output_type": "stream",
     "text": [
      "\r",
      " 60%|██████    | 24/40 [02:49<01:49,  6.87s/it]"
     ]
    },
    {
     "name": "stdout",
     "output_type": "stream",
     "text": [
      "270\n"
     ]
    },
    {
     "name": "stderr",
     "output_type": "stream",
     "text": [
      "\r",
      " 62%|██████▎   | 25/40 [02:56<01:42,  6.87s/it]"
     ]
    },
    {
     "name": "stdout",
     "output_type": "stream",
     "text": [
      "270\n"
     ]
    },
    {
     "name": "stderr",
     "output_type": "stream",
     "text": [
      "\r",
      " 65%|██████▌   | 26/40 [03:03<01:36,  6.87s/it]"
     ]
    },
    {
     "name": "stdout",
     "output_type": "stream",
     "text": [
      "270\n"
     ]
    },
    {
     "name": "stderr",
     "output_type": "stream",
     "text": [
      "\r",
      " 68%|██████▊   | 27/40 [03:10<01:29,  6.87s/it]"
     ]
    },
    {
     "name": "stdout",
     "output_type": "stream",
     "text": [
      "270\n"
     ]
    },
    {
     "name": "stderr",
     "output_type": "stream",
     "text": [
      "\r",
      " 70%|███████   | 28/40 [03:17<01:22,  6.87s/it]"
     ]
    },
    {
     "name": "stdout",
     "output_type": "stream",
     "text": [
      "270\n"
     ]
    },
    {
     "name": "stderr",
     "output_type": "stream",
     "text": [
      "\r",
      " 72%|███████▎  | 29/40 [03:23<01:15,  6.86s/it]"
     ]
    },
    {
     "name": "stdout",
     "output_type": "stream",
     "text": [
      "270\n"
     ]
    },
    {
     "name": "stderr",
     "output_type": "stream",
     "text": [
      "\r",
      " 75%|███████▌  | 30/40 [03:30<01:08,  6.86s/it]"
     ]
    },
    {
     "name": "stdout",
     "output_type": "stream",
     "text": [
      "270\n"
     ]
    },
    {
     "name": "stderr",
     "output_type": "stream",
     "text": [
      "\r",
      " 78%|███████▊  | 31/40 [03:37<01:01,  6.86s/it]"
     ]
    },
    {
     "name": "stdout",
     "output_type": "stream",
     "text": [
      "270\n"
     ]
    },
    {
     "name": "stderr",
     "output_type": "stream",
     "text": [
      "\r",
      " 80%|████████  | 32/40 [03:55<01:21, 10.23s/it]"
     ]
    },
    {
     "name": "stdout",
     "output_type": "stream",
     "text": [
      "270\n"
     ]
    },
    {
     "name": "stderr",
     "output_type": "stream",
     "text": [
      "\r",
      " 82%|████████▎ | 33/40 [04:02<01:04,  9.22s/it]"
     ]
    },
    {
     "name": "stdout",
     "output_type": "stream",
     "text": [
      "270\n"
     ]
    },
    {
     "name": "stderr",
     "output_type": "stream",
     "text": [
      "\r",
      " 85%|████████▌ | 34/40 [04:09<00:51,  8.51s/it]"
     ]
    },
    {
     "name": "stdout",
     "output_type": "stream",
     "text": [
      "270\n"
     ]
    },
    {
     "name": "stderr",
     "output_type": "stream",
     "text": [
      "\r",
      " 88%|████████▊ | 35/40 [04:16<00:40,  8.02s/it]"
     ]
    },
    {
     "name": "stdout",
     "output_type": "stream",
     "text": [
      "270\n"
     ]
    },
    {
     "name": "stderr",
     "output_type": "stream",
     "text": [
      "\r",
      " 90%|█████████ | 36/40 [04:23<00:30,  7.68s/it]"
     ]
    },
    {
     "name": "stdout",
     "output_type": "stream",
     "text": [
      "270\n"
     ]
    },
    {
     "name": "stderr",
     "output_type": "stream",
     "text": [
      "\r",
      " 92%|█████████▎| 37/40 [04:30<00:22,  7.43s/it]"
     ]
    },
    {
     "name": "stdout",
     "output_type": "stream",
     "text": [
      "270\n"
     ]
    },
    {
     "name": "stderr",
     "output_type": "stream",
     "text": [
      "\r",
      " 95%|█████████▌| 38/40 [04:36<00:14,  7.26s/it]"
     ]
    },
    {
     "name": "stdout",
     "output_type": "stream",
     "text": [
      "270\n"
     ]
    },
    {
     "name": "stderr",
     "output_type": "stream",
     "text": [
      "\r",
      " 98%|█████████▊| 39/40 [04:43<00:07,  7.15s/it]"
     ]
    },
    {
     "name": "stdout",
     "output_type": "stream",
     "text": [
      "270\n"
     ]
    },
    {
     "name": "stderr",
     "output_type": "stream",
     "text": [
      "100%|██████████| 40/40 [04:50<00:00,  7.27s/it]"
     ]
    },
    {
     "name": "stdout",
     "output_type": "stream",
     "text": [
      "270\n"
     ]
    },
    {
     "name": "stderr",
     "output_type": "stream",
     "text": [
      "\n"
     ]
    }
   ],
   "source": [
    "list_language_score_dicts = []\n",
    "for lang_prompt in tqdm.tqdm(list_eng2translated_text_dicts_merged):\n",
    "    text = [t.split(';')[-1].strip() for t in lang_prompt.values()]\n",
    "    #text = list(lang_prompt.values())\n",
    "    text_langs = [t.split(';')[0].strip() for t in lang_prompt.values()] \n",
    "    \n",
    "    text_inputs = []\n",
    "    for i in range(len(text)):\n",
    "        tokenizer.set_language(text_langs[0])\n",
    "        text_inputs.append(tokenizer(text[i]))\n",
    "\n",
    "    text_inputs = torch.stack(text_inputs).squeeze(1)\n",
    "    text_inputs = text_inputs.to(\"cuda\")\n",
    "    \n",
    "    with torch.no_grad():\n",
    "        text_features = model.encode_text(text_inputs)\n",
    "        text_features /= text_features.norm(dim=-1, keepdim=True)\n",
    "    \n",
    "    #lang_text_emb = text_model.encode(text, convert_to_tensor=True, show_progress_bar=False)\n",
    "    cossim = util.cos_sim(text_features, img_embedding)\n",
    "    cos_sim = cossim.cpu().numpy()\n",
    "    \n",
    "    dict_trans_topic2score = {}\n",
    "    for i, topic in enumerate(lang_prompt.values()):\n",
    "        #print(i, topic)\n",
    "        clip_scores = cos_sim[i] # clip scores between topic and images from data['imageRelPath']\n",
    "        \n",
    "        list_scores_img = list(zip(clip_scores, data['imageRelPath'])) # ******\n",
    "        dict_trans_topic2score[topic] = sorted(list_scores_img, key = lambda x: x[0], reverse=True)\n",
    "        \n",
    "        \n",
    "    list_language_score_dicts.append(dict_trans_topic2score)\n",
    "    print(len(dict_trans_topic2score))"
   ]
  },
  {
   "cell_type": "code",
   "execution_count": null,
   "id": "37442b59",
   "metadata": {},
   "outputs": [],
   "source": []
  },
  {
   "cell_type": "markdown",
   "id": "c278ea78",
   "metadata": {},
   "source": [
    "### Score Processing"
   ]
  },
  {
   "cell_type": "code",
   "execution_count": null,
   "id": "3cf48f7c",
   "metadata": {},
   "outputs": [],
   "source": []
  },
  {
   "cell_type": "code",
   "execution_count": 105,
   "id": "40b7a001",
   "metadata": {
    "scrolled": true
   },
   "outputs": [
    {
     "name": "stderr",
     "output_type": "stream",
     "text": [
      "  0%|          | 0/1 [00:00<?, ?it/s]\n",
      "  0%|          | 0/270 [00:00<?, ?it/s]\u001b[A\n",
      "  0%|          | 1/270 [00:00<00:56,  4.80it/s]\u001b[A"
     ]
    },
    {
     "name": "stdout",
     "output_type": "stream",
     "text": [
      "deu_Latn ; This is a photo of family snapshots ; Das ist ein Foto von Familienbildern.\n",
      "102\n",
      "102\n",
      "Acc: 99.58, Recall: 24.51, Precision: 24.51, F1: 24.51\n",
      "deu_Latn ; This is a photo of cutlery ; Das ist ein Foto von der Kühlerei.\n",
      "301\n",
      "301\n"
     ]
    },
    {
     "name": "stderr",
     "output_type": "stream",
     "text": [
      "\n",
      "  1%|          | 2/270 [00:00<01:12,  3.71it/s]\u001b[A"
     ]
    },
    {
     "name": "stdout",
     "output_type": "stream",
     "text": [
      "Acc: 98.36, Recall: 0.0, Precision: 0.0, F1: 0.0\n",
      "deu_Latn ; This is a photo of family ; Das ist ein Foto von der Familie.\n",
      "518\n",
      "518\n"
     ]
    },
    {
     "name": "stderr",
     "output_type": "stream",
     "text": [
      "\n",
      "  1%|          | 3/270 [00:00<01:33,  2.86it/s]\u001b[A"
     ]
    },
    {
     "name": "stdout",
     "output_type": "stream",
     "text": [
      "Acc: 98.88, Recall: 60.42, Precision: 60.42, F1: 60.42\n",
      "deu_Latn ; This is a photo of place where eating dinner ; Das ist ein Foto von einem Ort, wo ich Abendessen esse.\n",
      "378\n",
      "378\n"
     ]
    },
    {
     "name": "stderr",
     "output_type": "stream",
     "text": [
      "\n",
      "  1%|▏         | 4/270 [00:01<01:34,  2.82it/s]\u001b[A"
     ]
    },
    {
     "name": "stdout",
     "output_type": "stream",
     "text": [
      "Acc: 98.32, Recall: 18.25, Precision: 18.25, F1: 18.25\n",
      "deu_Latn ; This is a photo of plate of food ; Das ist ein Foto von einem Speisenbett.\n",
      "396\n",
      "396\n"
     ]
    },
    {
     "name": "stderr",
     "output_type": "stream",
     "text": [
      "\n",
      "  2%|▏         | 5/270 [00:01<01:34,  2.80it/s]\u001b[A"
     ]
    },
    {
     "name": "stdout",
     "output_type": "stream",
     "text": [
      "Acc: 97.9, Recall: 2.53, Precision: 2.53, F1: 2.53\n",
      "deu_Latn ; This is a photo of table with food ; Das ist ein Foto von einem Tisch mit Essen.\n",
      "235\n",
      "235\n"
     ]
    },
    {
     "name": "stderr",
     "output_type": "stream",
     "text": [
      "\n",
      "  2%|▏         | 6/270 [00:01<01:27,  3.02it/s]\u001b[A"
     ]
    },
    {
     "name": "stdout",
     "output_type": "stream",
     "text": [
      "Acc: 99.25, Recall: 41.7, Precision: 41.7, F1: 41.7\n",
      "deu_Latn ; This is a photo of get water ; Das ist ein Foto von Get Water.\n",
      "232\n",
      "232\n"
     ]
    },
    {
     "name": "stderr",
     "output_type": "stream",
     "text": [
      "\n",
      "  3%|▎         | 7/270 [00:02<01:21,  3.23it/s]\u001b[A"
     ]
    },
    {
     "name": "stdout",
     "output_type": "stream",
     "text": [
      "Acc: 98.95, Recall: 16.81, Precision: 16.81, F1: 16.81\n",
      "deu_Latn ; This is a photo of stove/hob ; Das ist ein Foto von Herd/Hob\n",
      "442\n",
      "442\n"
     ]
    },
    {
     "name": "stderr",
     "output_type": "stream",
     "text": [
      "\n",
      "  3%|▎         | 8/270 [00:02<01:28,  2.97it/s]\u001b[A"
     ]
    },
    {
     "name": "stdout",
     "output_type": "stream",
     "text": [
      "Acc: 97.66, Recall: 2.71, Precision: 2.71, F1: 2.71\n",
      "deu_Latn ; This is a photo of light source in kitchen ; Das ist ein Foto von Lichtquelle in der Küche.\n",
      "309\n",
      "309\n"
     ]
    },
    {
     "name": "stderr",
     "output_type": "stream",
     "text": [
      "\n",
      "  3%|▎         | 9/270 [00:02<01:26,  3.01it/s]\u001b[A"
     ]
    },
    {
     "name": "stdout",
     "output_type": "stream",
     "text": [
      "Acc: 98.82, Recall: 30.1, Precision: 30.1, F1: 30.1\n",
      "deu_Latn ; This is a photo of drinking water ; Das ist ein Foto von Trinkwasser.\n",
      "487\n",
      "487\n"
     ]
    },
    {
     "name": "stderr",
     "output_type": "stream",
     "text": [
      "\n",
      "  4%|▎         | 10/270 [00:03<01:33,  2.79it/s]\u001b[A"
     ]
    },
    {
     "name": "stdout",
     "output_type": "stream",
     "text": [
      "Acc: 98.3, Recall: 35.93, Precision: 35.93, F1: 35.93\n",
      "deu_Latn ; This is a photo of kitchen sink ; Das ist ein Foto von der Küchenspüle.\n",
      "480\n",
      "480\n"
     ]
    },
    {
     "name": "stderr",
     "output_type": "stream",
     "text": [
      "\n",
      "  4%|▍         | 11/270 [00:03<01:38,  2.63it/s]\u001b[A"
     ]
    },
    {
     "name": "stdout",
     "output_type": "stream",
     "text": [
      "Acc: 98.27, Recall: 33.75, Precision: 33.75, F1: 33.75\n",
      "deu_Latn ; This is a photo of bathroom privacy ; Das ist ein Foto von der Privatheit im Bad.\n",
      "369\n",
      "369\n"
     ]
    },
    {
     "name": "stderr",
     "output_type": "stream",
     "text": [
      "\n",
      "  4%|▍         | 12/270 [00:04<01:35,  2.70it/s]\u001b[A"
     ]
    },
    {
     "name": "stdout",
     "output_type": "stream",
     "text": [
      "Acc: 98.4, Recall: 20.33, Precision: 20.33, F1: 20.33\n",
      "deu_Latn ; This is a photo of backyard ; Das ist ein Foto vom Hinterhof.\n",
      "247\n",
      "247\n"
     ]
    },
    {
     "name": "stderr",
     "output_type": "stream",
     "text": [
      "\n",
      "  5%|▍         | 13/270 [00:04<01:28,  2.90it/s]\u001b[A"
     ]
    },
    {
     "name": "stdout",
     "output_type": "stream",
     "text": [
      "Acc: 99.0, Recall: 25.91, Precision: 25.91, F1: 25.91\n",
      "deu_Latn ; This is a photo of front door ; Das ist ein Foto der Haustür.\n",
      "397\n",
      "397\n"
     ]
    },
    {
     "name": "stderr",
     "output_type": "stream",
     "text": [
      "\n",
      "  5%|▌         | 14/270 [00:04<01:30,  2.82it/s]\u001b[A"
     ]
    },
    {
     "name": "stdout",
     "output_type": "stream",
     "text": [
      "Acc: 98.66, Recall: 38.04, Precision: 38.04, F1: 38.04\n",
      "deu_Latn ; This is a photo of home ; Das ist ein Foto von zu Hause.\n",
      "542\n",
      "542\n"
     ]
    },
    {
     "name": "stderr",
     "output_type": "stream",
     "text": [
      "\n",
      "  6%|▌         | 15/270 [00:05<01:38,  2.58it/s]\u001b[A"
     ]
    },
    {
     "name": "stdout",
     "output_type": "stream",
     "text": [
      "Acc: 98.22, Recall: 39.67, Precision: 39.67, F1: 39.67\n",
      "deu_Latn ; This is a photo of source of cool ; Das ist ein Foto von Quelle Cool\n",
      "301\n",
      "301\n"
     ]
    },
    {
     "name": "stderr",
     "output_type": "stream",
     "text": [
      "\n",
      "  6%|▌         | 16/270 [00:05<01:32,  2.74it/s]\u001b[A"
     ]
    },
    {
     "name": "stdout",
     "output_type": "stream",
     "text": [
      "Acc: 98.53, Recall: 10.3, Precision: 10.3, F1: 10.3\n",
      "deu_Latn ; This is a photo of street view ; Das ist ein Straßenblick.\n",
      "528\n",
      "528\n"
     ]
    },
    {
     "name": "stderr",
     "output_type": "stream",
     "text": [
      "\n",
      "  6%|▋         | 17/270 [00:06<01:38,  2.56it/s]\u001b[A"
     ]
    },
    {
     "name": "stdout",
     "output_type": "stream",
     "text": [
      "Acc: 98.45, Recall: 46.02, Precision: 46.02, F1: 46.02\n",
      "deu_Latn ; This is a photo of teeth ; Das ist ein Foto von Zähnen.\n",
      "328\n",
      "328\n"
     ]
    },
    {
     "name": "stderr",
     "output_type": "stream",
     "text": [
      "\n",
      "  7%|▋         | 18/270 [00:06<01:33,  2.70it/s]\u001b[A"
     ]
    },
    {
     "name": "stdout",
     "output_type": "stream",
     "text": [
      "Acc: 99.36, Recall: 64.02, Precision: 64.02, F1: 64.02\n",
      "deu_Latn ; This is a photo of hand back ; Das ist ein Foto von der Hand zurück.\n",
      "358\n",
      "358\n"
     ]
    },
    {
     "name": "stderr",
     "output_type": "stream",
     "text": [
      "\n",
      "  7%|▋         | 19/270 [00:06<01:31,  2.75it/s]\u001b[A"
     ]
    },
    {
     "name": "stdout",
     "output_type": "stream",
     "text": [
      "Acc: 98.84, Recall: 40.22, Precision: 40.22, F1: 40.22\n",
      "deu_Latn ; This is a photo of hand palm ; Das ist ein Foto von Handpalme.\n",
      "492\n",
      "492\n"
     ]
    },
    {
     "name": "stderr",
     "output_type": "stream",
     "text": [
      "\n",
      "  7%|▋         | 20/270 [00:07<01:35,  2.61it/s]\u001b[A"
     ]
    },
    {
     "name": "stdout",
     "output_type": "stream",
     "text": [
      "Acc: 98.93, Recall: 60.16, Precision: 60.16, F1: 60.16\n",
      "deu_Latn ; This is a photo of pet ; Das ist ein Foto von einem Haustier.\n",
      "185\n",
      "185\n"
     ]
    },
    {
     "name": "stderr",
     "output_type": "stream",
     "text": [
      "\n",
      "  8%|▊         | 21/270 [00:07<01:25,  2.92it/s]\u001b[A"
     ]
    },
    {
     "name": "stdout",
     "output_type": "stream",
     "text": [
      "Acc: 99.36, Recall: 36.76, Precision: 36.76, F1: 36.76\n",
      "deu_Latn ; This is a photo of bedroom ; Das ist ein Foto vom Schlafzimmer.\n",
      "399\n",
      "399\n"
     ]
    },
    {
     "name": "stderr",
     "output_type": "stream",
     "text": [
      "\n",
      "  8%|▊         | 22/270 [00:07<01:26,  2.88it/s]\u001b[A"
     ]
    },
    {
     "name": "stdout",
     "output_type": "stream",
     "text": [
      "Acc: 98.64, Recall: 37.34, Precision: 37.34, F1: 37.34\n",
      "deu_Latn ; This is a photo of grains ; Das ist ein Foto von Getreide.\n",
      "319\n",
      "319\n"
     ]
    },
    {
     "name": "stderr",
     "output_type": "stream",
     "text": [
      "\n",
      "  9%|▊         | 23/270 [00:08<01:23,  2.94it/s]\u001b[A"
     ]
    },
    {
     "name": "stdout",
     "output_type": "stream",
     "text": [
      "Acc: 98.79, Recall: 30.09, Precision: 30.09, F1: 30.09\n",
      "deu_Latn ; This is a photo of wardrobe ; Das ist ein Foto von der Garderobe.\n",
      "361\n",
      "361\n"
     ]
    },
    {
     "name": "stderr",
     "output_type": "stream",
     "text": [
      "\n",
      "  9%|▉         | 24/270 [00:08<01:23,  2.93it/s]\u001b[A"
     ]
    },
    {
     "name": "stdout",
     "output_type": "stream",
     "text": [
      "Acc: 99.21, Recall: 59.56, Precision: 59.56, F1: 59.56\n",
      "deu_Latn ; This is a photo of armchair ; Das ist ein Foto von einem Sessel.\n",
      "316\n",
      "316\n"
     ]
    },
    {
     "name": "stderr",
     "output_type": "stream",
     "text": [
      "\n",
      "  9%|▉         | 25/270 [00:08<01:21,  3.00it/s]\u001b[A\n",
      " 10%|▉         | 26/270 [00:08<01:09,  3.51it/s]\u001b[A"
     ]
    },
    {
     "name": "stdout",
     "output_type": "stream",
     "text": [
      "Acc: 99.18, Recall: 52.53, Precision: 52.53, F1: 52.53\n",
      "deu_Latn ; This is a photo of hallway ; Das ist ein Foto des Fluges.\n",
      "49\n",
      "49\n",
      "Acc: 99.73, Recall: 0.0, Precision: 0.0, F1: 0.0\n",
      "deu_Latn ; This is a photo of kitchen ; Das ist ein Foto von der Küche.\n",
      "334\n",
      "334\n"
     ]
    },
    {
     "name": "stderr",
     "output_type": "stream",
     "text": [
      "\n",
      " 10%|█         | 27/270 [00:09<01:12,  3.35it/s]\u001b[A"
     ]
    },
    {
     "name": "stdout",
     "output_type": "stream",
     "text": [
      "Acc: 98.95, Recall: 42.22, Precision: 42.22, F1: 42.22\n",
      "deu_Latn ; This is a photo of books ; Das ist ein Foto von Büchern.\n",
      "313\n",
      "313\n"
     ]
    },
    {
     "name": "stderr",
     "output_type": "stream",
     "text": [
      "\n",
      " 10%|█         | 28/270 [00:09<01:13,  3.30it/s]\u001b[A"
     ]
    },
    {
     "name": "stdout",
     "output_type": "stream",
     "text": [
      "Acc: 99.54, Recall: 72.84, Precision: 72.84, F1: 72.84\n",
      "deu_Latn ; This is a photo of everyday shoes ; Das ist ein Foto von alltäglichen Schuhen.\n",
      "400\n",
      "400\n"
     ]
    },
    {
     "name": "stderr",
     "output_type": "stream",
     "text": [
      "\n",
      " 11%|█         | 29/270 [00:09<01:17,  3.10it/s]\u001b[A"
     ]
    },
    {
     "name": "stdout",
     "output_type": "stream",
     "text": [
      "Acc: 98.85, Recall: 47.0, Precision: 47.0, F1: 47.0\n",
      "deu_Latn ; This is a photo of hand washing ; Das ist ein Foto von Handwäsche.\n",
      "527\n",
      "527\n"
     ]
    },
    {
     "name": "stderr",
     "output_type": "stream",
     "text": [
      "\n",
      " 11%|█         | 30/270 [00:10<01:27,  2.76it/s]\u001b[A"
     ]
    },
    {
     "name": "stdout",
     "output_type": "stream",
     "text": [
      "Acc: 98.21, Recall: 37.57, Precision: 37.57, F1: 37.57\n",
      "deu_Latn ; This is a photo of trash/waste ; Das ist ein Foto von Müll/Abfall.\n",
      "331\n",
      "331\n"
     ]
    },
    {
     "name": "stderr",
     "output_type": "stream",
     "text": [
      "\n",
      " 11%|█▏        | 31/270 [00:10<01:24,  2.83it/s]\u001b[A"
     ]
    },
    {
     "name": "stdout",
     "output_type": "stream",
     "text": [
      "Acc: 98.85, Recall: 36.25, Precision: 36.25, F1: 36.25\n",
      "deu_Latn ; This is a photo of tools ; Das ist ein Foto von Werkzeugen.\n",
      "250\n",
      "250\n"
     ]
    },
    {
     "name": "stderr",
     "output_type": "stream",
     "text": [
      "\n",
      " 12%|█▏        | 32/270 [00:10<01:18,  3.02it/s]\u001b[A"
     ]
    },
    {
     "name": "stdout",
     "output_type": "stream",
     "text": [
      "Acc: 99.41, Recall: 56.4, Precision: 56.4, F1: 56.4\n",
      "deu_Latn ; This is a photo of hair brush/comb ; Das ist ein Foto von Haarbürste/Kamm\n",
      "413\n",
      "413\n"
     ]
    },
    {
     "name": "stderr",
     "output_type": "stream",
     "text": [
      "\n",
      " 12%|█▏        | 33/270 [00:11<01:21,  2.91it/s]\u001b[A"
     ]
    },
    {
     "name": "stdout",
     "output_type": "stream",
     "text": [
      "Acc: 99.58, Recall: 81.36, Precision: 81.36, F1: 81.36\n",
      "deu_Latn ; This is a photo of street detail ; Das ist ein Foto von Straßeneinheiten.\n",
      "291\n",
      "291\n"
     ]
    },
    {
     "name": "stderr",
     "output_type": "stream",
     "text": [
      "\n",
      " 13%|█▎        | 34/270 [00:11<01:18,  2.99it/s]\u001b[A"
     ]
    },
    {
     "name": "stdout",
     "output_type": "stream",
     "text": [
      "Acc: 98.52, Recall: 6.53, Precision: 6.53, F1: 6.53\n",
      "deu_Latn ; This is a photo of soap for hands and body ; Das ist ein Foto von Seife für Hände und Körper.\n",
      "363\n",
      "363\n"
     ]
    },
    {
     "name": "stderr",
     "output_type": "stream",
     "text": [
      "\n",
      " 13%|█▎        | 35/270 [00:12<01:20,  2.93it/s]\u001b[A"
     ]
    },
    {
     "name": "stdout",
     "output_type": "stream",
     "text": [
      "Acc: 98.59, Recall: 28.65, Precision: 28.65, F1: 28.65\n",
      "deu_Latn ; This is a photo of shampoo ; Das ist ein Foto von Shampoo.\n",
      "339\n",
      "339\n"
     ]
    },
    {
     "name": "stderr",
     "output_type": "stream",
     "text": [
      "\n",
      " 13%|█▎        | 36/270 [00:12<01:19,  2.95it/s]\u001b[A\n",
      " 14%|█▎        | 37/270 [00:12<01:08,  3.42it/s]\u001b[A"
     ]
    },
    {
     "name": "stdout",
     "output_type": "stream",
     "text": [
      "Acc: 99.12, Recall: 52.51, Precision: 52.51, F1: 52.51\n",
      "deu_Latn ; This is a photo of vegetable plot ; Das ist ein Foto von Gemüse-Platz.\n",
      "70\n",
      "70\n",
      "Acc: 99.64, Recall: 4.29, Precision: 4.29, F1: 4.29\n",
      "deu_Latn ; This is a photo of roof ; Das ist ein Foto von einem Dach.\n",
      "303\n",
      "303\n"
     ]
    },
    {
     "name": "stderr",
     "output_type": "stream",
     "text": [
      "\n",
      " 14%|█▍        | 38/270 [00:12<01:08,  3.37it/s]\u001b[A"
     ]
    },
    {
     "name": "stdout",
     "output_type": "stream",
     "text": [
      "Acc: 99.21, Recall: 52.15, Precision: 52.15, F1: 52.15\n",
      "deu_Latn ; This is a photo of toilet ; Das ist ein Foto von der Toilette.\n",
      "493\n",
      "493\n"
     ]
    },
    {
     "name": "stderr",
     "output_type": "stream",
     "text": [
      "\n",
      " 14%|█▍        | 39/270 [00:13<01:17,  2.99it/s]\u001b[A"
     ]
    },
    {
     "name": "stdout",
     "output_type": "stream",
     "text": [
      "Acc: 98.73, Recall: 52.54, Precision: 52.54, F1: 52.54\n",
      "deu_Latn ; This is a photo of spices ; Das ist ein Foto von Gewürzen.\n",
      "419\n",
      "419\n"
     ]
    },
    {
     "name": "stderr",
     "output_type": "stream",
     "text": [
      "\n",
      " 15%|█▍        | 40/270 [00:13<01:20,  2.87it/s]\u001b[A"
     ]
    },
    {
     "name": "stdout",
     "output_type": "stream",
     "text": [
      "Acc: 98.85, Recall: 49.4, Precision: 49.4, F1: 49.4\n",
      "deu_Latn ; This is a photo of salt ; Das ist ein Foto von Salz.\n",
      "438\n",
      "438\n"
     ]
    },
    {
     "name": "stderr",
     "output_type": "stream",
     "text": [
      "\n",
      " 15%|█▌        | 41/270 [00:14<01:22,  2.78it/s]\u001b[A"
     ]
    },
    {
     "name": "stdout",
     "output_type": "stream",
     "text": [
      "Acc: 98.8, Recall: 49.77, Precision: 49.77, F1: 49.77\n",
      "deu_Latn ; This is a photo of jewelry ; Das ist ein Foto von Schmuck.\n",
      "187\n",
      "187\n"
     ]
    },
    {
     "name": "stderr",
     "output_type": "stream",
     "text": [
      "\n",
      " 16%|█▌        | 42/270 [00:14<01:14,  3.06it/s]\u001b[A"
     ]
    },
    {
     "name": "stdout",
     "output_type": "stream",
     "text": [
      "Acc: 99.54, Recall: 54.55, Precision: 54.55, F1: 54.55\n",
      "deu_Latn ; This is a photo of cooking utensils ; Das ist ein Foto von Kochgeräten.\n",
      "301\n",
      "301\n"
     ]
    },
    {
     "name": "stderr",
     "output_type": "stream",
     "text": [
      "\n",
      " 16%|█▌        | 43/270 [00:14<01:13,  3.10it/s]\u001b[A"
     ]
    },
    {
     "name": "stdout",
     "output_type": "stream",
     "text": [
      "Acc: 98.6, Recall: 14.29, Precision: 14.29, F1: 14.29\n",
      "deu_Latn ; This is a photo of dish washing brush/cloth ; Das ist ein Foto von Geschirrspülbrush/Kleidung\n",
      "351\n",
      "351\n"
     ]
    },
    {
     "name": "stderr",
     "output_type": "stream",
     "text": [
      "\n",
      " 16%|█▋        | 44/270 [00:14<01:14,  3.05it/s]\u001b[A"
     ]
    },
    {
     "name": "stdout",
     "output_type": "stream",
     "text": [
      "Acc: 98.57, Recall: 25.36, Precision: 25.36, F1: 25.36\n",
      "deu_Latn ; This is a photo of cooking pots ; Das ist ein Foto von Kochkrügen.\n",
      "384\n",
      "384\n"
     ]
    },
    {
     "name": "stderr",
     "output_type": "stream",
     "text": [
      "\n",
      " 17%|█▋        | 45/270 [00:15<01:16,  2.96it/s]\u001b[A"
     ]
    },
    {
     "name": "stdout",
     "output_type": "stream",
     "text": [
      "Acc: 98.68, Recall: 36.98, Precision: 36.98, F1: 36.98\n",
      "deu_Latn ; This is a photo of plates ; Das ist ein Foto von Tellern.\n",
      "341\n",
      "341\n"
     ]
    },
    {
     "name": "stderr",
     "output_type": "stream",
     "text": [
      "\n",
      " 17%|█▋        | 46/270 [00:15<01:15,  2.97it/s]\u001b[A"
     ]
    },
    {
     "name": "stdout",
     "output_type": "stream",
     "text": [
      "Acc: 98.87, Recall: 39.3, Precision: 39.3, F1: 39.3\n",
      "deu_Latn ; This is a photo of cups/mugs/glasses ; Das ist ein Foto von Tassen/Mugs/Gläsern.\n",
      "332\n",
      "332\n"
     ]
    },
    {
     "name": "stderr",
     "output_type": "stream",
     "text": [
      "\n",
      " 17%|█▋        | 47/270 [00:15<01:14,  2.99it/s]\u001b[A"
     ]
    },
    {
     "name": "stdout",
     "output_type": "stream",
     "text": [
      "Acc: 99.15, Recall: 53.01, Precision: 53.01, F1: 53.01\n",
      "deu_Latn ; This is a photo of wall ; Das ist ein Foto von der Wand.\n",
      "286\n",
      "286\n"
     ]
    },
    {
     "name": "stderr",
     "output_type": "stream",
     "text": [
      "\n",
      " 18%|█▊        | 48/270 [00:16<01:11,  3.08it/s]\u001b[A\n",
      " 18%|█▊        | 49/270 [00:16<01:00,  3.67it/s]\u001b[A"
     ]
    },
    {
     "name": "stdout",
     "output_type": "stream",
     "text": [
      "Acc: 98.68, Recall: 15.03, Precision: 15.03, F1: 15.03\n",
      "deu_Latn ; This is a photo of cattle ; Das ist ein Foto von Rindern.\n",
      "11\n",
      "11\n",
      "Acc: 99.95, Recall: 18.18, Precision: 18.18, F1: 18.18\n",
      "deu_Latn ; This is a photo of ceiling ; Das ist ein Foto der Decke.\n",
      "362\n",
      "362\n"
     ]
    },
    {
     "name": "stderr",
     "output_type": "stream",
     "text": [
      "\n",
      " 19%|█▊        | 50/270 [00:16<01:04,  3.42it/s]\u001b[A"
     ]
    },
    {
     "name": "stdout",
     "output_type": "stream",
     "text": [
      "Acc: 98.69, Recall: 33.7, Precision: 33.7, F1: 33.7\n",
      "deu_Latn ; This is a photo of bed ; Das ist ein Foto vom Bett.\n",
      "424\n",
      "424\n"
     ]
    },
    {
     "name": "stderr",
     "output_type": "stream",
     "text": [
      "\n",
      " 19%|█▉        | 51/270 [00:17<01:09,  3.16it/s]\u001b[A"
     ]
    },
    {
     "name": "stdout",
     "output_type": "stream",
     "text": [
      "Acc: 98.75, Recall: 45.75, Precision: 45.75, F1: 45.75\n",
      "deu_Latn ; This is a photo of storage room ; Das ist ein Foto von einem Lager.\n",
      "225\n",
      "225\n"
     ]
    },
    {
     "name": "stderr",
     "output_type": "stream",
     "text": [
      "\n",
      " 19%|█▉        | 52/270 [00:17<01:05,  3.31it/s]\u001b[A"
     ]
    },
    {
     "name": "stdout",
     "output_type": "stream",
     "text": [
      "Acc: 98.8, Recall: 2.22, Precision: 2.22, F1: 2.22\n",
      "deu_Latn ; This is a photo of refrigerator ; Das ist ein Foto vom Kühlschrank.\n",
      "344\n",
      "344\n"
     ]
    },
    {
     "name": "stderr",
     "output_type": "stream",
     "text": [
      "\n",
      " 20%|█▉        | 53/270 [00:17<01:07,  3.20it/s]\u001b[A"
     ]
    },
    {
     "name": "stdout",
     "output_type": "stream",
     "text": [
      "Acc: 99.03, Recall: 47.97, Precision: 47.97, F1: 47.97\n",
      "deu_Latn ; This is a photo of floor ; Das ist ein Foto von dem Boden.\n",
      "377\n",
      "377\n"
     ]
    },
    {
     "name": "stderr",
     "output_type": "stream",
     "text": [
      "\n",
      " 20%|██        | 54/270 [00:18<01:10,  3.08it/s]\u001b[A"
     ]
    },
    {
     "name": "stdout",
     "output_type": "stream",
     "text": [
      "Acc: 98.85, Recall: 43.77, Precision: 43.77, F1: 43.77\n",
      "deu_Latn ; This is a photo of wall inside ; Das ist ein Foto der Wand im Inneren.\n",
      "357\n",
      "357\n"
     ]
    },
    {
     "name": "stderr",
     "output_type": "stream",
     "text": [
      "\n",
      " 20%|██        | 55/270 [00:18<01:10,  3.03it/s]\u001b[A"
     ]
    },
    {
     "name": "stdout",
     "output_type": "stream",
     "text": [
      "Acc: 98.47, Recall: 21.01, Precision: 21.01, F1: 21.01\n",
      "deu_Latn ; This is a photo of tooth paste ; Das ist ein Foto von Zahnpasta.\n",
      "464\n",
      "464\n"
     ]
    },
    {
     "name": "stderr",
     "output_type": "stream",
     "text": [
      "\n",
      " 21%|██        | 56/270 [00:18<01:15,  2.83it/s]\u001b[A"
     ]
    },
    {
     "name": "stdout",
     "output_type": "stream",
     "text": [
      "Acc: 99.03, Recall: 61.42, Precision: 61.42, F1: 61.42\n",
      "deu_Latn ; This is a photo of toothbrush ; Das ist ein Foto von einer Zahnbürste.\n",
      "552\n",
      "552\n"
     ]
    },
    {
     "name": "stderr",
     "output_type": "stream",
     "text": [
      "\n",
      " 21%|██        | 57/270 [00:19<01:22,  2.58it/s]\u001b[A\n",
      " 21%|██▏       | 58/270 [00:19<01:07,  3.14it/s]\u001b[A"
     ]
    },
    {
     "name": "stdout",
     "output_type": "stream",
     "text": [
      "Acc: 98.06, Recall: 35.51, Precision: 35.51, F1: 35.51\n",
      "deu_Latn ; This is a photo of goats ; Das ist ein Bild von Ziegen.\n",
      "24\n",
      "24\n",
      "Acc: 99.95, Recall: 62.5, Precision: 62.5, F1: 62.5\n",
      "deu_Latn ; This is a photo of cleaning equipment ; Das ist ein Foto von Reinigungsanlagen.\n",
      "240\n",
      "240\n"
     ]
    },
    {
     "name": "stderr",
     "output_type": "stream",
     "text": [
      "\n",
      " 22%|██▏       | 59/270 [00:19<01:04,  3.26it/s]\u001b[A\n",
      " 22%|██▏       | 60/270 [00:19<00:56,  3.70it/s]\u001b[A"
     ]
    },
    {
     "name": "stdout",
     "output_type": "stream",
     "text": [
      "Acc: 98.83, Recall: 10.42, Precision: 10.42, F1: 10.42\n",
      "deu_Latn ; This is a photo of cleaning after toilet ; Das ist ein Foto von der Reinigung nach der Toilette.\n",
      "70\n",
      "70\n",
      "Acc: 99.63, Recall: 2.86, Precision: 2.86, F1: 2.86\n",
      "deu_Latn ; This is a photo of visit ; Das ist ein Foto von einem Besuch.\n",
      "3153\n",
      "3153\n"
     ]
    },
    {
     "name": "stderr",
     "output_type": "stream",
     "text": [
      "\n",
      " 23%|██▎       | 61/270 [00:21<02:37,  1.33it/s]\u001b[A\n",
      " 23%|██▎       | 62/270 [00:21<02:00,  1.73it/s]\u001b[A"
     ]
    },
    {
     "name": "stdout",
     "output_type": "stream",
     "text": [
      "Acc: 84.16, Recall: 7.68, Precision: 7.68, F1: 7.68\n",
      "deu_Latn ; This is a photo of hand open to closed ; Das ist ein Foto von einer Hand offen oder geschlossen.\n",
      "49\n",
      "49\n",
      "Acc: 99.74, Recall: 4.08, Precision: 4.08, F1: 4.08\n",
      "deu_Latn ; This is a photo of brushing teeth ; Das ist ein Foto von Zahnputzungen.\n",
      "179\n",
      "179\n"
     ]
    },
    {
     "name": "stderr",
     "output_type": "stream",
     "text": [
      "\n",
      " 23%|██▎       | 63/270 [00:22<01:38,  2.09it/s]\u001b[A"
     ]
    },
    {
     "name": "stdout",
     "output_type": "stream",
     "text": [
      "Acc: 99.09, Recall: 6.15, Precision: 6.15, F1: 6.15\n",
      "deu_Latn ; This is a photo of using toilet ; Das ist ein Foto von der Toilette.\n",
      "98\n",
      "98\n",
      "Acc: 99.48, Recall: 3.06, Precision: 3.06, F1: 3.06\n"
     ]
    },
    {
     "name": "stderr",
     "output_type": "stream",
     "text": [
      "\n",
      " 24%|██▎       | 64/270 [00:22<01:21,  2.54it/s]\u001b[A"
     ]
    },
    {
     "name": "stdout",
     "output_type": "stream",
     "text": [
      "deu_Latn ; This is a photo of doing dishes ; Das ist ein Foto von einem Geschirrspüler.\n",
      "180\n",
      "180\n"
     ]
    },
    {
     "name": "stderr",
     "output_type": "stream",
     "text": [
      "\n",
      " 24%|██▍       | 65/270 [00:22<01:11,  2.86it/s]\u001b[A"
     ]
    },
    {
     "name": "stdout",
     "output_type": "stream",
     "text": [
      "Acc: 99.09, Recall: 7.22, Precision: 7.22, F1: 7.22\n",
      "deu_Latn ; This is a photo of pouring drinking water ; Das ist ein Foto von Trinkwasser.\n",
      "150\n",
      "150\n"
     ]
    },
    {
     "name": "stderr",
     "output_type": "stream",
     "text": [
      "\n",
      " 24%|██▍       | 66/270 [00:22<01:03,  3.22it/s]\u001b[A"
     ]
    },
    {
     "name": "stdout",
     "output_type": "stream",
     "text": [
      "Acc: 99.23, Recall: 5.33, Precision: 5.33, F1: 5.33\n",
      "deu_Latn ; This is a photo of pouring water ; Das ist ein Foto von Wasser, das sich ausgießt.\n",
      "178\n",
      "178\n"
     ]
    },
    {
     "name": "stderr",
     "output_type": "stream",
     "text": [
      "\n",
      " 25%|██▍       | 67/270 [00:23<00:59,  3.44it/s]\u001b[A"
     ]
    },
    {
     "name": "stdout",
     "output_type": "stream",
     "text": [
      "Acc: 99.09, Recall: 5.62, Precision: 5.62, F1: 5.62\n",
      "deu_Latn ; This is a photo of starting stove ; Das ist ein Foto von einem Startkocher.\n",
      "197\n",
      "197\n"
     ]
    },
    {
     "name": "stderr",
     "output_type": "stream",
     "text": [
      "\n",
      " 25%|██▌       | 68/270 [00:23<00:56,  3.60it/s]\u001b[A"
     ]
    },
    {
     "name": "stdout",
     "output_type": "stream",
     "text": [
      "Acc: 99.03, Recall: 9.64, Precision: 9.64, F1: 9.64\n",
      "deu_Latn ; This is a photo of cooking ; Das ist ein Foto von Kochen.\n",
      "208\n",
      "208\n"
     ]
    },
    {
     "name": "stderr",
     "output_type": "stream",
     "text": [
      "\n",
      " 26%|██▌       | 69/270 [00:23<00:54,  3.68it/s]\u001b[A"
     ]
    },
    {
     "name": "stdout",
     "output_type": "stream",
     "text": [
      "Acc: 98.96, Recall: 7.69, Precision: 7.69, F1: 7.69\n",
      "deu_Latn ; This is a photo of preparing food ; Das ist ein Foto von Essen.\n",
      "169\n",
      "169\n"
     ]
    },
    {
     "name": "stderr",
     "output_type": "stream",
     "text": [
      "\n",
      " 26%|██▌       | 70/270 [00:23<00:52,  3.82it/s]\u001b[A"
     ]
    },
    {
     "name": "stdout",
     "output_type": "stream",
     "text": [
      "Acc: 99.1, Recall: 1.78, Precision: 1.78, F1: 1.78\n",
      "deu_Latn ; This is a photo of shoes ; Das ist ein Foto von Schuhe.\n",
      "210\n",
      "210\n"
     ]
    },
    {
     "name": "stderr",
     "output_type": "stream",
     "text": [
      "\n",
      " 26%|██▋       | 71/270 [00:24<00:52,  3.82it/s]\u001b[A"
     ]
    },
    {
     "name": "stdout",
     "output_type": "stream",
     "text": [
      "Acc: 98.93, Recall: 6.67, Precision: 6.67, F1: 6.67\n",
      "deu_Latn ; This is a photo of washing hands ; Das ist ein Foto von Händenwaschen.\n",
      "184\n",
      "184\n"
     ]
    },
    {
     "name": "stderr",
     "output_type": "stream",
     "text": [
      "\n",
      " 27%|██▋       | 72/270 [00:24<00:50,  3.89it/s]\u001b[A\n",
      " 27%|██▋       | 73/270 [00:24<00:46,  4.24it/s]\u001b[A"
     ]
    },
    {
     "name": "stdout",
     "output_type": "stream",
     "text": [
      "Acc: 99.29, Recall: 28.8, Precision: 28.8, F1: 28.8\n",
      "deu_Latn ; This is a photo of walking to get water ; Das ist ein Foto von einem Fuß zum Wasser.\n",
      "78\n",
      "78\n",
      "Acc: 99.58, Recall: 1.28, Precision: 1.28, F1: 1.28\n",
      "deu_Latn ; This is a photo of washing clothes/cleaning ; Das ist ein Foto von der Wasch- und Reinigung.\n",
      "506\n",
      "506\n"
     ]
    },
    {
     "name": "stderr",
     "output_type": "stream",
     "text": [
      "\n",
      " 27%|██▋       | 74/270 [00:24<00:58,  3.37it/s]\u001b[A"
     ]
    },
    {
     "name": "stdout",
     "output_type": "stream",
     "text": [
      "Acc: 98.31, Recall: 38.74, Precision: 38.74, F1: 38.74\n",
      "deu_Latn ; This is a photo of eating ; Das ist ein Foto von Essen.\n",
      "124\n",
      "124\n"
     ]
    },
    {
     "name": "stderr",
     "output_type": "stream",
     "text": [
      "\n",
      " 28%|██▊       | 75/270 [00:25<00:52,  3.68it/s]\u001b[A"
     ]
    },
    {
     "name": "stdout",
     "output_type": "stream",
     "text": [
      "Acc: 99.33, Recall: 0.0, Precision: 0.0, F1: 0.0\n",
      "deu_Latn ; This is a photo of family eating ; Das ist ein Foto von einem Familienessen.\n",
      "107\n",
      "107\n",
      "Acc: 99.58, Recall: 27.1, Precision: 27.1, F1: 27.1\n"
     ]
    },
    {
     "name": "stderr",
     "output_type": "stream",
     "text": [
      "\n",
      " 28%|██▊       | 76/270 [00:25<00:48,  4.01it/s]\u001b[A"
     ]
    },
    {
     "name": "stdout",
     "output_type": "stream",
     "text": [
      "deu_Latn ; This is a photo of vegetables ; Das ist ein Foto von Gemüse.\n",
      "293\n",
      "293\n"
     ]
    },
    {
     "name": "stderr",
     "output_type": "stream",
     "text": [
      "\n",
      " 29%|██▊       | 77/270 [00:25<00:51,  3.72it/s]\u001b[A"
     ]
    },
    {
     "name": "stdout",
     "output_type": "stream",
     "text": [
      "Acc: 98.9, Recall: 31.06, Precision: 31.06, F1: 31.06\n",
      "deu_Latn ; This is a photo of smoke and steam exit ; Das ist ein Foto von Rauch und Dampf-Ausgang.\n",
      "233\n",
      "233\n"
     ]
    },
    {
     "name": "stderr",
     "output_type": "stream",
     "text": [
      "\n",
      " 29%|██▉       | 78/270 [00:25<00:52,  3.68it/s]\u001b[A"
     ]
    },
    {
     "name": "stdout",
     "output_type": "stream",
     "text": [
      "Acc: 98.83, Recall: 7.73, Precision: 7.73, F1: 7.73\n",
      "deu_Latn ; This is a photo of fruits and vegetables ; Das ist ein Foto von Obst und Gemüse.\n",
      "210\n",
      "210\n"
     ]
    },
    {
     "name": "stderr",
     "output_type": "stream",
     "text": [
      "\n",
      " 29%|██▉       | 79/270 [00:26<00:51,  3.73it/s]\u001b[A"
     ]
    },
    {
     "name": "stdout",
     "output_type": "stream",
     "text": [
      "Acc: 99.19, Recall: 29.52, Precision: 29.52, F1: 29.52\n",
      "deu_Latn ; This is a photo of toys ; Das ist ein Foto von Spielzeugen.\n",
      "340\n",
      "340\n"
     ]
    },
    {
     "name": "stderr",
     "output_type": "stream",
     "text": [
      "\n",
      " 30%|██▉       | 80/270 [00:26<00:54,  3.47it/s]\u001b[A"
     ]
    },
    {
     "name": "stdout",
     "output_type": "stream",
     "text": [
      "Acc: 98.88, Recall: 39.71, Precision: 39.71, F1: 39.71\n",
      "deu_Latn ; This is a photo of nicest shoes ; Das ist ein Foto der schönsten Schuhe.\n",
      "373\n",
      "373\n"
     ]
    },
    {
     "name": "stderr",
     "output_type": "stream",
     "text": [
      "\n",
      " 30%|███       | 81/270 [00:26<00:57,  3.26it/s]\u001b[A"
     ]
    },
    {
     "name": "stdout",
     "output_type": "stream",
     "text": [
      "Acc: 99.05, Recall: 53.35, Precision: 53.35, F1: 53.35\n",
      "deu_Latn ; This is a photo of mosquito protection ; Das ist ein Foto von einem Schutz vor Moskitos.\n",
      "163\n",
      "163\n"
     ]
    },
    {
     "name": "stderr",
     "output_type": "stream",
     "text": [
      "\n",
      " 30%|███       | 82/270 [00:27<00:53,  3.51it/s]\u001b[A"
     ]
    },
    {
     "name": "stdout",
     "output_type": "stream",
     "text": [
      "Acc: 99.51, Recall: 44.79, Precision: 44.79, F1: 44.79\n",
      "deu_Latn ; This is a photo of wall decoration ; Das ist ein Foto von Wanddekoration.\n",
      "341\n",
      "341\n"
     ]
    },
    {
     "name": "stderr",
     "output_type": "stream",
     "text": [
      "\n",
      " 31%|███       | 83/270 [00:27<00:55,  3.34it/s]\u001b[A"
     ]
    },
    {
     "name": "stdout",
     "output_type": "stream",
     "text": [
      "Acc: 98.6, Recall: 24.63, Precision: 24.63, F1: 24.63\n",
      "deu_Latn ; This is a photo of living room ; Das ist ein Foto vom Wohnzimmer.\n",
      "279\n",
      "279\n"
     ]
    },
    {
     "name": "stderr",
     "output_type": "stream",
     "text": [
      "\n",
      " 31%|███       | 84/270 [00:27<00:55,  3.33it/s]\u001b[A"
     ]
    },
    {
     "name": "stdout",
     "output_type": "stream",
     "text": [
      "Acc: 99.01, Recall: 34.77, Precision: 34.77, F1: 34.77\n",
      "deu_Latn ; This is a photo of fruit trees ; Das ist ein Foto von Obstbäumen.\n",
      "100\n",
      "100\n",
      "Acc: 99.81, Recall: 65.0, Precision: 65.0, F1: 65.0\n"
     ]
    },
    {
     "name": "stderr",
     "output_type": "stream",
     "text": [
      "\n",
      " 31%|███▏      | 85/270 [00:28<00:50,  3.70it/s]\u001b[A"
     ]
    },
    {
     "name": "stdout",
     "output_type": "stream",
     "text": [
      "deu_Latn ; This is a photo of toilet paper ; Das ist ein Foto von Toilettenpapier.\n",
      "343\n",
      "343\n"
     ]
    },
    {
     "name": "stderr",
     "output_type": "stream",
     "text": [
      "\n",
      " 32%|███▏      | 86/270 [00:28<00:53,  3.43it/s]\u001b[A"
     ]
    },
    {
     "name": "stdout",
     "output_type": "stream",
     "text": [
      "Acc: 99.13, Recall: 53.35, Precision: 53.35, F1: 53.35\n",
      "deu_Latn ; This is a photo of bathroom/toilet ; Das ist ein Foto von Bad/Toilette.\n",
      "350\n",
      "350\n"
     ]
    },
    {
     "name": "stderr",
     "output_type": "stream",
     "text": [
      "\n",
      " 32%|███▏      | 87/270 [00:28<00:55,  3.27it/s]\u001b[A"
     ]
    },
    {
     "name": "stdout",
     "output_type": "stream",
     "text": [
      "Acc: 98.86, Recall: 40.0, Precision: 40.0, F1: 40.0\n",
      "deu_Latn ; This is a photo of shaving ; Das ist ein Foto von der Rasierung.\n",
      "218\n",
      "218\n"
     ]
    },
    {
     "name": "stderr",
     "output_type": "stream",
     "text": [
      "\n",
      " 33%|███▎      | 88/270 [00:28<00:53,  3.41it/s]\u001b[A"
     ]
    },
    {
     "name": "stdout",
     "output_type": "stream",
     "text": [
      "Acc: 99.52, Recall: 59.63, Precision: 59.63, F1: 59.63\n",
      "deu_Latn ; This is a photo of lock on front door ; Das ist ein Foto von einem Schloss an der Haustür.\n",
      "373\n",
      "373\n"
     ]
    },
    {
     "name": "stderr",
     "output_type": "stream",
     "text": [
      "\n",
      " 33%|███▎      | 89/270 [00:29<00:56,  3.21it/s]\u001b[A"
     ]
    },
    {
     "name": "stdout",
     "output_type": "stream",
     "text": [
      "Acc: 99.42, Recall: 71.31, Precision: 71.31, F1: 71.31\n",
      "deu_Latn ; This is a photo of couch ; Das ist ein Foto von der Couch.\n",
      "301\n",
      "301\n"
     ]
    },
    {
     "name": "stderr",
     "output_type": "stream",
     "text": [
      "\n",
      " 33%|███▎      | 90/270 [00:29<00:56,  3.21it/s]\u001b[A"
     ]
    },
    {
     "name": "stdout",
     "output_type": "stream",
     "text": [
      "Acc: 99.17, Recall: 49.5, Precision: 49.5, F1: 49.5\n",
      "deu_Latn ; This is a photo of sofa ; Das ist ein Foto von einem Sofa.\n",
      "301\n",
      "301\n"
     ]
    },
    {
     "name": "stderr",
     "output_type": "stream",
     "text": [
      "\n",
      " 34%|███▎      | 91/270 [00:29<00:55,  3.21it/s]\u001b[A"
     ]
    },
    {
     "name": "stdout",
     "output_type": "stream",
     "text": [
      "Acc: 99.14, Recall: 47.51, Precision: 47.51, F1: 47.51\n",
      "deu_Latn ; This is a photo of knifes ; Das ist ein Foto von Messer.\n",
      "179\n",
      "179\n"
     ]
    },
    {
     "name": "stderr",
     "output_type": "stream",
     "text": [
      "\n",
      " 34%|███▍      | 92/270 [00:30<00:51,  3.44it/s]\u001b[A"
     ]
    },
    {
     "name": "stdout",
     "output_type": "stream",
     "text": [
      "Acc: 99.76, Recall: 75.42, Precision: 75.42, F1: 75.42\n",
      "deu_Latn ; This is a photo of dish racks ; Das ist ein Foto von Geschirrständen.\n",
      "336\n",
      "336\n"
     ]
    },
    {
     "name": "stderr",
     "output_type": "stream",
     "text": [
      "\n",
      " 34%|███▍      | 93/270 [00:30<00:53,  3.32it/s]\u001b[A"
     ]
    },
    {
     "name": "stdout",
     "output_type": "stream",
     "text": [
      "Acc: 98.75, Recall: 31.85, Precision: 31.85, F1: 31.85\n",
      "deu_Latn ; This is a photo of play area ; Das ist ein Foto von einem Spielplatz.\n",
      "357\n",
      "357\n"
     ]
    },
    {
     "name": "stderr",
     "output_type": "stream",
     "text": [
      "\n",
      " 35%|███▍      | 94/270 [00:30<00:55,  3.18it/s]\u001b[A"
     ]
    },
    {
     "name": "stdout",
     "output_type": "stream",
     "text": [
      "Acc: 98.53, Recall: 24.37, Precision: 24.37, F1: 24.37\n",
      "deu_Latn ; This is a photo of place where serving guests ; Das ist ein Foto von einem Ort, wo Gäste serviert werden.\n",
      "147\n",
      "147\n"
     ]
    },
    {
     "name": "stderr",
     "output_type": "stream",
     "text": [
      "\n",
      " 35%|███▌      | 95/270 [00:31<00:50,  3.47it/s]\u001b[A\n",
      " 36%|███▌      | 96/270 [00:31<00:44,  3.88it/s]\u001b[A"
     ]
    },
    {
     "name": "stdout",
     "output_type": "stream",
     "text": [
      "Acc: 99.25, Recall: 6.12, Precision: 6.12, F1: 6.12\n",
      "deu_Latn ; This is a photo of photo guide images ; Das ist ein Foto von Foto-Guide-Bilder\n",
      "75\n",
      "75\n",
      "Acc: 99.62, Recall: 6.67, Precision: 6.67, F1: 6.67\n",
      "deu_Latn ; This is a photo of agriculture land ; Das ist ein Foto von Landwirtschaft.\n",
      "53\n",
      "53\n"
     ]
    },
    {
     "name": "stderr",
     "output_type": "stream",
     "text": [
      "\n",
      " 36%|███▌      | 97/270 [00:31<00:40,  4.29it/s]\u001b[A"
     ]
    },
    {
     "name": "stdout",
     "output_type": "stream",
     "text": [
      "Acc: 99.77, Recall: 18.87, Precision: 18.87, F1: 18.87\n",
      "deu_Latn ; This is a photo of sitting area ; Das ist ein Foto von Sitzbereich.\n",
      "295\n",
      "295\n"
     ]
    },
    {
     "name": "stderr",
     "output_type": "stream",
     "text": [
      "\n",
      " 36%|███▋      | 98/270 [00:31<00:44,  3.90it/s]\u001b[A"
     ]
    },
    {
     "name": "stdout",
     "output_type": "stream",
     "text": [
      "Acc: 98.56, Recall: 10.51, Precision: 10.51, F1: 10.51\n",
      "deu_Latn ; This is a photo of bed kids ; Das ist ein Foto von Bettkinder.\n",
      "247\n",
      "247\n"
     ]
    },
    {
     "name": "stderr",
     "output_type": "stream",
     "text": [
      "\n",
      " 37%|███▋      | 99/270 [00:32<00:44,  3.80it/s]\u001b[A"
     ]
    },
    {
     "name": "stdout",
     "output_type": "stream",
     "text": [
      "Acc: 98.88, Recall: 17.0, Precision: 17.0, F1: 17.0\n",
      "deu_Latn ; This is a photo of drying ; Das ist ein Foto von Trocknung.\n",
      "330\n",
      "330\n"
     ]
    },
    {
     "name": "stderr",
     "output_type": "stream",
     "text": [
      "\n",
      " 37%|███▋      | 100/270 [00:32<00:48,  3.53it/s]\u001b[A"
     ]
    },
    {
     "name": "stdout",
     "output_type": "stream",
     "text": [
      "Acc: 98.35, Recall: 8.18, Precision: 8.18, F1: 8.18\n",
      "deu_Latn ; This is a photo of water outlet ; Das ist ein Foto von der Wasserversorgung.\n",
      "306\n",
      "306\n"
     ]
    },
    {
     "name": "stderr",
     "output_type": "stream",
     "text": [
      "\n",
      " 37%|███▋      | 101/270 [00:32<00:49,  3.39it/s]\u001b[A"
     ]
    },
    {
     "name": "stdout",
     "output_type": "stream",
     "text": [
      "Acc: 98.35, Recall: 0.65, Precision: 0.65, F1: 0.65\n",
      "deu_Latn ; This is a photo of drainage ; Das ist ein Bild von einer Abwässerung.\n",
      "306\n",
      "306\n"
     ]
    },
    {
     "name": "stderr",
     "output_type": "stream",
     "text": [
      "\n",
      " 38%|███▊      | 102/270 [00:32<00:50,  3.33it/s]\u001b[A"
     ]
    },
    {
     "name": "stdout",
     "output_type": "stream",
     "text": [
      "Acc: 98.9, Recall: 33.99, Precision: 33.99, F1: 33.99\n",
      "deu_Latn ; This is a photo of shower ; Das ist ein Foto von der Dusche.\n",
      "329\n",
      "329\n"
     ]
    },
    {
     "name": "stderr",
     "output_type": "stream",
     "text": [
      "\n",
      " 38%|███▊      | 103/270 [00:33<00:51,  3.26it/s]\u001b[A\n",
      " 39%|███▊      | 104/270 [00:33<00:43,  3.78it/s]\u001b[A"
     ]
    },
    {
     "name": "stdout",
     "output_type": "stream",
     "text": [
      "Acc: 99.03, Recall: 45.9, Precision: 45.9, F1: 45.9\n",
      "deu_Latn ; This is a photo of house overview ; Das ist ein Bild von der Hausübersicht.\n",
      "38\n",
      "38\n",
      "Acc: 99.79, Recall: 0.0, Precision: 0.0, F1: 0.0\n",
      "deu_Latn ; This is a photo of socializing ; Das ist ein Foto von einem Gesellschaftsverhältnis.\n",
      "166\n",
      "166\n"
     ]
    },
    {
     "name": "stderr",
     "output_type": "stream",
     "text": [
      "\n",
      " 39%|███▉      | 105/270 [00:33<00:42,  3.90it/s]\u001b[A"
     ]
    },
    {
     "name": "stdout",
     "output_type": "stream",
     "text": [
      "Acc: 99.1, Recall: 0.0, Precision: 0.0, F1: 0.0\n",
      "deu_Latn ; This is a photo of playing ; Das ist ein Foto von einem Spiel.\n",
      "139\n",
      "139\n"
     ]
    },
    {
     "name": "stderr",
     "output_type": "stream",
     "text": [
      "\n",
      " 39%|███▉      | 106/270 [00:33<00:40,  4.07it/s]\u001b[A\n",
      " 40%|███▉      | 107/270 [00:34<00:36,  4.46it/s]\u001b[A"
     ]
    },
    {
     "name": "stdout",
     "output_type": "stream",
     "text": [
      "Acc: 99.27, Recall: 3.6, Precision: 3.6, F1: 3.6\n",
      "deu_Latn ; This is a photo of kids playing outside ; Das ist ein Foto von Kindern, die draußen spielen.\n",
      "60\n",
      "60\n",
      "Acc: 99.73, Recall: 18.33, Precision: 18.33, F1: 18.33\n",
      "deu_Latn ; This is a photo of chopping food ; Das ist ein Foto von dem Schneiden von Essen.\n",
      "111\n",
      "111\n"
     ]
    },
    {
     "name": "stderr",
     "output_type": "stream",
     "text": [
      "\n",
      " 40%|████      | 108/270 [00:34<00:35,  4.62it/s]\u001b[A\n",
      " 40%|████      | 109/270 [00:34<00:33,  4.84it/s]\u001b[A"
     ]
    },
    {
     "name": "stdout",
     "output_type": "stream",
     "text": [
      "Acc: 99.53, Recall: 22.52, Precision: 22.52, F1: 22.52\n",
      "deu_Latn ; This is a photo of chickens ; Das ist ein Foto von Hühnern.\n",
      "70\n",
      "70\n",
      "Acc: 99.83, Recall: 54.29, Precision: 54.29, F1: 54.29\n",
      "deu_Latn ; This is a photo of bike ; Das ist ein Foto von einem Fahrrad.\n",
      "147\n",
      "147\n"
     ]
    },
    {
     "name": "stderr",
     "output_type": "stream",
     "text": [
      "\n",
      " 41%|████      | 110/270 [00:34<00:33,  4.72it/s]\u001b[A"
     ]
    },
    {
     "name": "stdout",
     "output_type": "stream",
     "text": [
      "Acc: 99.73, Recall: 66.67, Precision: 66.67, F1: 66.67\n",
      "deu_Latn ; This is a photo of source of heat ; Das ist ein Foto von der Wärmequelle.\n",
      "184\n",
      "184\n"
     ]
    },
    {
     "name": "stderr",
     "output_type": "stream",
     "text": [
      "\n",
      " 41%|████      | 111/270 [00:34<00:35,  4.48it/s]\u001b[A"
     ]
    },
    {
     "name": "stdout",
     "output_type": "stream",
     "text": [
      "Acc: 99.44, Recall: 44.57, Precision: 44.57, F1: 44.57\n",
      "deu_Latn ; This is a photo of phone ; Das ist ein Foto von einem Telefon.\n",
      "372\n",
      "372\n"
     ]
    },
    {
     "name": "stderr",
     "output_type": "stream",
     "text": [
      "\n",
      " 41%|████▏     | 112/270 [00:35<00:41,  3.81it/s]\u001b[A"
     ]
    },
    {
     "name": "stdout",
     "output_type": "stream",
     "text": [
      "Acc: 99.47, Recall: 73.92, Precision: 73.92, F1: 73.92\n",
      "deu_Latn ; This is a photo of work area ; Das ist ein Foto von der Arbeitsfläche.\n",
      "169\n",
      "169\n"
     ]
    },
    {
     "name": "stderr",
     "output_type": "stream",
     "text": [
      "\n",
      " 42%|████▏     | 113/270 [00:35<00:39,  3.93it/s]\u001b[A"
     ]
    },
    {
     "name": "stdout",
     "output_type": "stream",
     "text": [
      "Acc: 99.29, Recall: 22.49, Precision: 22.49, F1: 22.49\n",
      "deu_Latn ; This is a photo of children room ; Das ist ein Foto von Kinderzimmer.\n",
      "194\n",
      "194\n"
     ]
    },
    {
     "name": "stderr",
     "output_type": "stream",
     "text": [
      "\n",
      " 42%|████▏     | 114/270 [00:35<00:39,  3.92it/s]\u001b[A"
     ]
    },
    {
     "name": "stdout",
     "output_type": "stream",
     "text": [
      "Acc: 99.17, Recall: 21.13, Precision: 21.13, F1: 21.13\n",
      "deu_Latn ; This is a photo of light source in livingroom ; Das ist ein Foto von Lichtquelle im Wohnzimmer.\n",
      "320\n",
      "320\n"
     ]
    },
    {
     "name": "stderr",
     "output_type": "stream",
     "text": [
      "\n",
      " 43%|████▎     | 115/270 [00:36<00:42,  3.61it/s]\u001b[A"
     ]
    },
    {
     "name": "stdout",
     "output_type": "stream",
     "text": [
      "Acc: 98.74, Recall: 27.5, Precision: 27.5, F1: 27.5\n",
      "deu_Latn ; This is a photo of washing detergent ; Das ist ein Foto von Waschmittel.\n",
      "315\n",
      "315\n"
     ]
    },
    {
     "name": "stderr",
     "output_type": "stream",
     "text": [
      "\n",
      " 43%|████▎     | 116/270 [00:36<00:44,  3.44it/s]\u001b[A"
     ]
    },
    {
     "name": "stdout",
     "output_type": "stream",
     "text": [
      "Acc: 98.82, Recall: 31.11, Precision: 31.11, F1: 31.11\n",
      "deu_Latn ; This is a photo of medication ; Das ist ein Foto von Medikamenten.\n",
      "292\n",
      "292\n"
     ]
    },
    {
     "name": "stderr",
     "output_type": "stream",
     "text": [
      "\n",
      " 43%|████▎     | 117/270 [00:36<00:44,  3.41it/s]\u001b[A"
     ]
    },
    {
     "name": "stdout",
     "output_type": "stream",
     "text": [
      "Acc: 99.66, Recall: 78.77, Precision: 78.77, F1: 78.77\n",
      "deu_Latn ; This is a photo of dish washing soap ; Das ist ein Foto von Tellerwaschseifen.\n",
      "337\n",
      "337\n"
     ]
    },
    {
     "name": "stderr",
     "output_type": "stream",
     "text": [
      "\n",
      " 44%|████▎     | 118/270 [00:37<00:46,  3.27it/s]\u001b[A"
     ]
    },
    {
     "name": "stdout",
     "output_type": "stream",
     "text": [
      "Acc: 98.47, Recall: 16.62, Precision: 16.62, F1: 16.62\n",
      "deu_Latn ; This is a photo of turning lights on and off ; Das ist ein Foto von Licht- und Auslichtung.\n",
      "269\n",
      "269\n"
     ]
    },
    {
     "name": "stderr",
     "output_type": "stream",
     "text": [
      "\n",
      " 44%|████▍     | 119/270 [00:37<00:45,  3.29it/s]\u001b[A"
     ]
    },
    {
     "name": "stdout",
     "output_type": "stream",
     "text": [
      "Acc: 98.7, Recall: 11.15, Precision: 11.15, F1: 11.15\n",
      "deu_Latn ; This is a photo of source of light ; Das ist ein Foto von Lichtquelle.\n",
      "138\n",
      "138\n"
     ]
    },
    {
     "name": "stderr",
     "output_type": "stream",
     "text": [
      "\n",
      " 44%|████▍     | 120/270 [00:37<00:41,  3.58it/s]\u001b[A"
     ]
    },
    {
     "name": "stdout",
     "output_type": "stream",
     "text": [
      "Acc: 99.33, Recall: 10.14, Precision: 10.14, F1: 10.14\n",
      "deu_Latn ; This is a photo of wall clock ; Das ist ein Foto von einer Wanduhr.\n",
      "184\n",
      "184\n"
     ]
    },
    {
     "name": "stderr",
     "output_type": "stream",
     "text": [
      "\n",
      " 45%|████▍     | 121/270 [00:37<00:40,  3.72it/s]\u001b[A"
     ]
    },
    {
     "name": "stdout",
     "output_type": "stream",
     "text": [
      "Acc: 99.9, Recall: 90.22, Precision: 90.22, F1: 90.22\n",
      "deu_Latn ; This is a photo of guest bed ; Das ist ein Foto des Gästebettes.\n",
      "161\n",
      "161\n"
     ]
    },
    {
     "name": "stderr",
     "output_type": "stream",
     "text": [
      "\n",
      " 45%|████▌     | 122/270 [00:38<00:38,  3.89it/s]\u001b[A\n",
      " 46%|████▌     | 123/270 [00:38<00:34,  4.24it/s]\u001b[A"
     ]
    },
    {
     "name": "stdout",
     "output_type": "stream",
     "text": [
      "Acc: 99.23, Recall: 12.42, Precision: 12.42, F1: 12.42\n",
      "deu_Latn ; This is a photo of diapers (or baby-pants) ; Das ist ein Foto von Windeln (oder Baby-Pants)\n",
      "77\n",
      "77\n",
      "Acc: 99.86, Recall: 67.53, Precision: 67.53, F1: 67.53\n",
      "deu_Latn ; This is a photo of switch on/off ; Das ist ein Foto von Schalt- und Ausschalt-\n",
      "312\n",
      "312\n"
     ]
    },
    {
     "name": "stderr",
     "output_type": "stream",
     "text": [
      "\n",
      " 46%|████▌     | 124/270 [00:38<00:38,  3.83it/s]\u001b[A"
     ]
    },
    {
     "name": "stdout",
     "output_type": "stream",
     "text": [
      "Acc: 99.43, Recall: 66.35, Precision: 66.35, F1: 66.35\n",
      "deu_Latn ; This is a photo of pen/pencils ; Das ist ein Foto von Stift/Folien.\n",
      "288\n",
      "288\n"
     ]
    },
    {
     "name": "stderr",
     "output_type": "stream",
     "text": [
      "\n",
      " 46%|████▋     | 125/270 [00:38<00:39,  3.65it/s]\u001b[A"
     ]
    },
    {
     "name": "stdout",
     "output_type": "stream",
     "text": [
      "Acc: 99.68, Recall: 79.51, Precision: 79.51, F1: 79.51\n",
      "deu_Latn ; This is a photo of paper ; Das ist ein Foto von Papier.\n",
      "212\n",
      "212\n"
     ]
    },
    {
     "name": "stderr",
     "output_type": "stream",
     "text": [
      "\n",
      " 47%|████▋     | 126/270 [00:39<00:38,  3.71it/s]\u001b[A"
     ]
    },
    {
     "name": "stdout",
     "output_type": "stream",
     "text": [
      "Acc: 99.19, Recall: 30.19, Precision: 30.19, F1: 30.19\n",
      "deu_Latn ; This is a photo of rug ; Das ist ein Foto von Teppich.\n",
      "192\n",
      "192\n"
     ]
    },
    {
     "name": "stderr",
     "output_type": "stream",
     "text": [
      "\n",
      " 47%|████▋     | 127/270 [00:39<00:37,  3.79it/s]\u001b[A\n",
      " 47%|████▋     | 128/270 [00:39<00:32,  4.36it/s]\u001b[A"
     ]
    },
    {
     "name": "stdout",
     "output_type": "stream",
     "text": [
      "Acc: 99.61, Recall: 62.5, Precision: 62.5, F1: 62.5\n",
      "deu_Latn ; This is a photo of bed_hq ; Das ist ein Foto von bed_hq\n",
      "4\n",
      "4\n",
      "Acc: 99.98, Recall: 0.0, Precision: 0.0, F1: 0.0\n",
      "deu_Latn ; This is a photo of social drink ; Das ist ein Foto von einem Gesellschaftsgetränk.\n",
      "385\n",
      "385\n"
     ]
    },
    {
     "name": "stderr",
     "output_type": "stream",
     "text": [
      "\n",
      " 48%|████▊     | 129/270 [00:39<00:37,  3.71it/s]\u001b[A\n",
      " 48%|████▊     | 130/270 [00:40<00:33,  4.24it/s]\u001b[A"
     ]
    },
    {
     "name": "stdout",
     "output_type": "stream",
     "text": [
      "Acc: 98.68, Recall: 36.88, Precision: 36.88, F1: 36.88\n",
      "deu_Latn ; This is a photo of carrying water ; Das ist ein Foto von einem Wasserträger.\n",
      "22\n",
      "22\n",
      "Acc: 99.88, Recall: 0.0, Precision: 0.0, F1: 0.0\n",
      "deu_Latn ; This is a photo of light sources ; Das ist ein Foto von Lichtquellen.\n",
      "332\n",
      "332\n"
     ]
    },
    {
     "name": "stderr",
     "output_type": "stream",
     "text": [
      "\n",
      " 49%|████▊     | 131/270 [00:40<00:36,  3.78it/s]\u001b[A"
     ]
    },
    {
     "name": "stdout",
     "output_type": "stream",
     "text": [
      "Acc: 98.57, Recall: 20.78, Precision: 20.78, F1: 20.78\n",
      "deu_Latn ; This is a photo of music equipment ; Das ist ein Foto von Musikgeräten.\n",
      "253\n",
      "253\n"
     ]
    },
    {
     "name": "stderr",
     "output_type": "stream",
     "text": [
      "\n",
      " 49%|████▉     | 132/270 [00:40<00:37,  3.69it/s]\u001b[A"
     ]
    },
    {
     "name": "stdout",
     "output_type": "stream",
     "text": [
      "Acc: 99.04, Recall: 30.43, Precision: 30.43, F1: 30.43\n",
      "deu_Latn ; This is a photo of frontdoor keys ; Das ist ein Foto von den Haustürschlüsseln.\n",
      "147\n",
      "147\n"
     ]
    },
    {
     "name": "stderr",
     "output_type": "stream",
     "text": [
      "\n",
      " 49%|████▉     | 133/270 [00:40<00:35,  3.88it/s]\u001b[A"
     ]
    },
    {
     "name": "stdout",
     "output_type": "stream",
     "text": [
      "Acc: 99.7, Recall: 61.9, Precision: 61.9, F1: 61.9\n",
      "deu_Latn ; This is a photo of lightsources by bed ; Das ist ein Foto von Lichtquellen am Bett.\n",
      "111\n",
      "111\n",
      "Acc: 99.49, Recall: 15.32, Precision: 15.32, F1: 15.32\n"
     ]
    },
    {
     "name": "stderr",
     "output_type": "stream",
     "text": [
      "\n",
      " 50%|████▉     | 134/270 [00:41<00:32,  4.13it/s]\u001b[A\n",
      " 50%|█████     | 135/270 [00:41<00:31,  4.33it/s]\u001b[A"
     ]
    },
    {
     "name": "stdout",
     "output_type": "stream",
     "text": [
      "deu_Latn ; This is a photo of reading light ; Das ist ein Foto von Lichtlesen.\n",
      "111\n",
      "111\n",
      "Acc: 99.48, Recall: 13.51, Precision: 13.51, F1: 13.51\n",
      "deu_Latn ; This is a photo of necklaces ; Das ist ein Foto von Halsketten.\n",
      "137\n",
      "137\n"
     ]
    },
    {
     "name": "stderr",
     "output_type": "stream",
     "text": [
      "\n",
      " 50%|█████     | 136/270 [00:41<00:30,  4.40it/s]\u001b[A"
     ]
    },
    {
     "name": "stdout",
     "output_type": "stream",
     "text": [
      "Acc: 99.76, Recall: 67.88, Precision: 67.88, F1: 67.88\n",
      "deu_Latn ; This is a photo of earings ; Das ist ein Foto von Ehren.\n",
      "136\n",
      "136\n"
     ]
    },
    {
     "name": "stderr",
     "output_type": "stream",
     "text": [
      "\n",
      " 51%|█████     | 137/270 [00:41<00:29,  4.45it/s]\u001b[A"
     ]
    },
    {
     "name": "stdout",
     "output_type": "stream",
     "text": [
      "Acc: 99.26, Recall: 0.0, Precision: 0.0, F1: 0.0\n",
      "deu_Latn ; This is a photo of cosmetics ; Das ist ein Foto von Kosmetik.\n",
      "123\n",
      "123\n"
     ]
    },
    {
     "name": "stderr",
     "output_type": "stream",
     "text": [
      "\n",
      " 51%|█████     | 138/270 [00:41<00:29,  4.52it/s]\u001b[A"
     ]
    },
    {
     "name": "stdout",
     "output_type": "stream",
     "text": [
      "Acc: 99.68, Recall: 52.85, Precision: 52.85, F1: 52.85\n",
      "deu_Latn ; This is a photo of cleaning floors ; Das ist ein Foto von der Reinigung der Böden.\n",
      "134\n",
      "134\n"
     ]
    },
    {
     "name": "stderr",
     "output_type": "stream",
     "text": [
      "\n",
      " 51%|█████▏    | 139/270 [00:42<00:28,  4.53it/s]\u001b[A"
     ]
    },
    {
     "name": "stdout",
     "output_type": "stream",
     "text": [
      "Acc: 99.55, Recall: 38.81, Precision: 38.81, F1: 38.81\n",
      "deu_Latn ; This is a photo of make up ; Das ist ein Foto von Make-up.\n",
      "148\n",
      "148\n"
     ]
    },
    {
     "name": "stderr",
     "output_type": "stream",
     "text": [
      "\n",
      " 52%|█████▏    | 140/270 [00:42<00:28,  4.50it/s]\u001b[A\n",
      " 52%|█████▏    | 141/270 [00:42<00:26,  4.78it/s]\u001b[A"
     ]
    },
    {
     "name": "stdout",
     "output_type": "stream",
     "text": [
      "Acc: 99.49, Recall: 36.49, Precision: 36.49, F1: 36.49\n",
      "deu_Latn ; This is a photo of putting on make up ; Das ist ein Foto von Make-up.\n",
      "60\n",
      "60\n",
      "Acc: 99.71, Recall: 11.67, Precision: 11.67, F1: 11.67\n",
      "deu_Latn ; This is a photo of chopping ingredients ; Das ist ein Foto von Schnitting Zutaten\n",
      "72\n",
      "72\n"
     ]
    },
    {
     "name": "stderr",
     "output_type": "stream",
     "text": [
      "\n",
      " 53%|█████▎    | 142/270 [00:42<00:25,  4.97it/s]\u001b[A\n",
      " 53%|█████▎    | 143/270 [00:42<00:25,  5.02it/s]\u001b[A"
     ]
    },
    {
     "name": "stdout",
     "output_type": "stream",
     "text": [
      "Acc: 99.66, Recall: 13.89, Precision: 13.89, F1: 13.89\n",
      "deu_Latn ; This is a photo of brushing hair ; Das ist ein Foto von einem Haarbrush.\n",
      "87\n",
      "87\n",
      "Acc: 99.53, Recall: 1.15, Precision: 1.15, F1: 1.15\n",
      "deu_Latn ; This is a photo of taking a teaspoon of salt ; Das ist ein Foto von einem Teelöffel Salz.\n",
      "96\n",
      "96\n"
     ]
    },
    {
     "name": "stderr",
     "output_type": "stream",
     "text": [
      "\n",
      " 53%|█████▎    | 144/270 [00:43<00:25,  5.03it/s]\u001b[A"
     ]
    },
    {
     "name": "stdout",
     "output_type": "stream",
     "text": [
      "Acc: 99.55, Recall: 14.58, Precision: 14.58, F1: 14.58\n",
      "deu_Latn ; This is a photo of drinking social drink ; Das ist ein Foto von einem Sozialabetrink.\n",
      "105\n",
      "105\n",
      "Acc: 99.47, Recall: 7.62, Precision: 7.62, F1: 7.62\n"
     ]
    },
    {
     "name": "stderr",
     "output_type": "stream",
     "text": [
      "\n",
      " 54%|█████▎    | 145/270 [00:43<00:24,  5.01it/s]\u001b[A"
     ]
    },
    {
     "name": "stdout",
     "output_type": "stream",
     "text": [
      "deu_Latn ; This is a photo of meat or fish ; Das ist ein Foto von Fleisch oder Fisch.\n",
      "193\n",
      "193\n"
     ]
    },
    {
     "name": "stderr",
     "output_type": "stream",
     "text": [
      "\n",
      " 54%|█████▍    | 146/270 [00:43<00:26,  4.64it/s]\u001b[A\n",
      " 54%|█████▍    | 147/270 [00:43<00:24,  5.12it/s]\u001b[A"
     ]
    },
    {
     "name": "stdout",
     "output_type": "stream",
     "text": [
      "Acc: 99.24, Recall: 27.98, Precision: 27.98, F1: 27.98\n",
      "deu_Latn ; This is a photo of replaced ; Das ist ein Foto von ersetzt\n",
      "3\n",
      "3\n",
      "Acc: 99.98, Recall: 0.0, Precision: 0.0, F1: 0.0\n",
      "deu_Latn ; This is a photo of radio ; Das ist ein Foto von Radio.\n",
      "208\n",
      "208\n"
     ]
    },
    {
     "name": "stderr",
     "output_type": "stream",
     "text": [
      "\n",
      " 55%|█████▍    | 148/270 [00:44<00:26,  4.63it/s]\u001b[A\n",
      " 55%|█████▌    | 149/270 [00:44<00:24,  4.93it/s]\u001b[A"
     ]
    },
    {
     "name": "stdout",
     "output_type": "stream",
     "text": [
      "Acc: 99.58, Recall: 62.98, Precision: 62.98, F1: 62.98\n",
      "deu_Latn ; This is a photo of listening to the radio ; Das ist ein Foto von dem Radio hören.\n",
      "48\n",
      "48\n",
      "Acc: 99.75, Recall: 4.17, Precision: 4.17, F1: 4.17\n",
      "deu_Latn ; This is a photo of coins ; Das ist ein Bild von Münzen.\n",
      "1\n",
      "1\n"
     ]
    },
    {
     "name": "stderr",
     "output_type": "stream",
     "text": [
      "\n",
      " 56%|█████▌    | 150/270 [00:44<00:22,  5.36it/s]\u001b[A\n",
      " 56%|█████▌    | 151/270 [00:44<00:21,  5.41it/s]\u001b[A"
     ]
    },
    {
     "name": "stdout",
     "output_type": "stream",
     "text": [
      "Acc: 99.99, Recall: 0.0, Precision: 0.0, F1: 0.0\n",
      "deu_Latn ; This is a photo of pet foods ; Das ist ein Foto von Haustierfutter.\n",
      "65\n",
      "65\n",
      "Acc: 99.83, Recall: 52.31, Precision: 52.31, F1: 52.31\n",
      "deu_Latn ; This is a photo of menstruation pads / tampax ; Das ist ein Foto von Menstruationspads / Tampax\n",
      "125\n",
      "125\n"
     ]
    },
    {
     "name": "stderr",
     "output_type": "stream",
     "text": [
      "\n",
      " 56%|█████▋    | 152/270 [00:44<00:22,  5.17it/s]\u001b[A\n",
      " 57%|█████▋    | 153/270 [00:44<00:21,  5.35it/s]\u001b[A"
     ]
    },
    {
     "name": "stdout",
     "output_type": "stream",
     "text": [
      "Acc: 99.62, Recall: 44.0, Precision: 44.0, F1: 44.0\n",
      "deu_Latn ; This is a photo of dinner guests ; Das ist ein Foto von Gästen zum Abendessen.\n",
      "48\n",
      "48\n",
      "Acc: 99.75, Recall: 4.17, Precision: 4.17, F1: 4.17\n",
      "deu_Latn ; This is a photo of nature sceneries ; Das ist ein Foto von Naturlandschaften.\n",
      "3\n",
      "3\n"
     ]
    },
    {
     "name": "stderr",
     "output_type": "stream",
     "text": [
      "\n",
      " 57%|█████▋    | 154/270 [00:45<00:20,  5.70it/s]\u001b[A"
     ]
    },
    {
     "name": "stdout",
     "output_type": "stream",
     "text": [
      "Acc: 99.98, Recall: 0.0, Precision: 0.0, F1: 0.0\n",
      "deu_Latn ; This is a photo of worship places ; Das ist ein Foto von Gottesdiensten.\n",
      "131\n",
      "131\n"
     ]
    },
    {
     "name": "stderr",
     "output_type": "stream",
     "text": [
      "\n",
      " 57%|█████▋    | 155/270 [00:45<00:21,  5.31it/s]\u001b[A"
     ]
    },
    {
     "name": "stdout",
     "output_type": "stream",
     "text": [
      "Acc: 99.59, Recall: 41.98, Precision: 41.98, F1: 41.98\n",
      "deu_Latn ; This is a photo of power outlet ; Das ist ein Foto von einer Stromausnahme.\n",
      "389\n",
      "389\n"
     ]
    },
    {
     "name": "stderr",
     "output_type": "stream",
     "text": [
      "\n",
      " 58%|█████▊    | 156/270 [00:45<00:27,  4.14it/s]\u001b[A"
     ]
    },
    {
     "name": "stdout",
     "output_type": "stream",
     "text": [
      "Acc: 99.31, Recall: 67.35, Precision: 67.35, F1: 67.35\n",
      "deu_Latn ; This is a photo of glasses or lenses ; Das ist ein Foto von Brillen oder Objektiven.\n",
      "147\n",
      "147\n"
     ]
    },
    {
     "name": "stderr",
     "output_type": "stream",
     "text": [
      "\n",
      " 58%|█████▊    | 157/270 [00:45<00:26,  4.23it/s]\u001b[A\n",
      " 59%|█████▊    | 158/270 [00:46<00:24,  4.57it/s]\u001b[A"
     ]
    },
    {
     "name": "stdout",
     "output_type": "stream",
     "text": [
      "Acc: 99.96, Recall: 94.56, Precision: 94.56, F1: 94.56\n",
      "deu_Latn ; This is a photo of adding spices to food while cooking ; Das ist ein Foto von der Zugabe von Gewürzen zu Essen während der Kochen\n",
      "67\n",
      "67\n",
      "Acc: 99.74, Recall: 29.85, Precision: 29.85, F1: 29.85\n",
      "deu_Latn ; This is a photo of presenting dollar street ; Das ist ein Foto der Präsentation der Dollarstraße.\n",
      "36\n",
      "36\n"
     ]
    },
    {
     "name": "stderr",
     "output_type": "stream",
     "text": [
      "\n",
      " 59%|█████▉    | 159/270 [00:46<00:22,  4.94it/s]\u001b[A\n",
      " 59%|█████▉    | 160/270 [00:46<00:21,  5.15it/s]\u001b[A"
     ]
    },
    {
     "name": "stdout",
     "output_type": "stream",
     "text": [
      "Acc: 99.8, Recall: 0.0, Precision: 0.0, F1: 0.0\n",
      "deu_Latn ; This is a photo of worshipping ; Das ist ein Foto von der Verehrung.\n",
      "54\n",
      "54\n",
      "Acc: 99.71, Recall: 1.85, Precision: 1.85, F1: 1.85\n",
      "deu_Latn ; This is a photo of writing ; Das ist ein Foto von einem Schreiben.\n",
      "76\n",
      "76\n"
     ]
    },
    {
     "name": "stderr",
     "output_type": "stream",
     "text": [
      "\n",
      " 60%|█████▉    | 161/270 [00:46<00:21,  5.18it/s]\u001b[A\n",
      " 60%|██████    | 162/270 [00:46<00:20,  5.27it/s]\u001b[A"
     ]
    },
    {
     "name": "stdout",
     "output_type": "stream",
     "text": [
      "Acc: 99.6, Recall: 2.63, Precision: 2.63, F1: 2.63\n",
      "deu_Latn ; This is a photo of writing signature ; Das ist ein Foto der Schriftunterzeichnung.\n",
      "81\n",
      "81\n",
      "Acc: 99.72, Recall: 35.8, Precision: 35.8, F1: 35.8\n",
      "deu_Latn ; This is a photo of tv ; Das ist ein Bild von einem Fernseher.\n",
      "494\n",
      "494\n"
     ]
    },
    {
     "name": "stderr",
     "output_type": "stream",
     "text": [
      "\n",
      " 60%|██████    | 163/270 [00:47<00:28,  3.82it/s]\u001b[A\n",
      " 61%|██████    | 164/270 [00:47<00:25,  4.22it/s]\u001b[A"
     ]
    },
    {
     "name": "stdout",
     "output_type": "stream",
     "text": [
      "Acc: 98.99, Recall: 62.55, Precision: 62.55, F1: 62.55\n",
      "deu_Latn ; This is a photo of fishes ; Das ist ein Foto von Fischen.\n",
      "58\n",
      "58\n",
      "Acc: 99.8, Recall: 36.21, Precision: 36.21, F1: 36.21\n",
      "deu_Latn ; This is a photo of bowls ; Das ist ein Foto von Schüsseln.\n",
      "23\n",
      "23\n"
     ]
    },
    {
     "name": "stderr",
     "output_type": "stream",
     "text": [
      "\n",
      " 61%|██████    | 165/270 [00:47<00:22,  4.67it/s]\u001b[A\n",
      " 61%|██████▏   | 166/270 [00:47<00:21,  4.89it/s]\u001b[A"
     ]
    },
    {
     "name": "stdout",
     "output_type": "stream",
     "text": [
      "Acc: 99.88, Recall: 4.35, Precision: 4.35, F1: 4.35\n",
      "deu_Latn ; This is a photo of kids playing inside ; Das ist ein Foto von Kindern, die im Inneren spielen.\n",
      "71\n",
      "71\n",
      "Acc: 99.65, Recall: 8.45, Precision: 8.45, F1: 8.45\n",
      "deu_Latn ; This is a photo of bills of money ; Das ist ein Foto von Geldscheinen.\n",
      "2\n",
      "2\n"
     ]
    },
    {
     "name": "stderr",
     "output_type": "stream",
     "text": [
      "\n",
      " 62%|██████▏   | 167/270 [00:47<00:19,  5.32it/s]\u001b[A\n",
      " 62%|██████▏   | 168/270 [00:48<00:18,  5.56it/s]\u001b[A"
     ]
    },
    {
     "name": "stdout",
     "output_type": "stream",
     "text": [
      "Acc: 99.99, Recall: 0.0, Precision: 0.0, F1: 0.0\n",
      "deu_Latn ; This is a photo of coats and jackets ; Das ist ein Foto von Jacken und Jacken.\n",
      "26\n",
      "26\n",
      "Acc: 99.92, Recall: 42.31, Precision: 42.31, F1: 42.31\n",
      "deu_Latn ; This is a photo of surroundings ; Das ist ein Foto der Umgebung.\n",
      "13\n",
      "13\n"
     ]
    },
    {
     "name": "stderr",
     "output_type": "stream",
     "text": [
      "\n",
      " 63%|██████▎   | 169/270 [00:48<00:17,  5.80it/s]\u001b[A\n",
      " 63%|██████▎   | 170/270 [00:48<00:17,  5.63it/s]\u001b[A"
     ]
    },
    {
     "name": "stdout",
     "output_type": "stream",
     "text": [
      "Acc: 99.93, Recall: 0.0, Precision: 0.0, F1: 0.0\n",
      "deu_Latn ; This is a photo of moped/motorcycle ; Das ist ein Foto von einem Motorrad.\n",
      "81\n",
      "81\n",
      "Acc: 99.87, Recall: 71.6, Precision: 71.6, F1: 71.6\n",
      "deu_Latn ; This is a photo of parking lot ; Das ist ein Foto von einem Parkplatz.\n",
      "126\n",
      "126\n"
     ]
    },
    {
     "name": "stderr",
     "output_type": "stream",
     "text": [
      "\n",
      " 63%|██████▎   | 171/270 [00:48<00:18,  5.31it/s]\u001b[A\n",
      " 64%|██████▎   | 172/270 [00:48<00:18,  5.43it/s]\u001b[A"
     ]
    },
    {
     "name": "stdout",
     "output_type": "stream",
     "text": [
      "Acc: 99.46, Recall: 21.43, Precision: 21.43, F1: 21.43\n",
      "deu_Latn ; This is a photo of toothpaste on toothbrush ; Das ist ein Foto von Zahnpasta auf der Zahnbürste.\n",
      "52\n",
      "52\n",
      "Acc: 99.72, Recall: 1.92, Precision: 1.92, F1: 1.92\n",
      "deu_Latn ; This is a photo of wheel barrow ; Das ist ein Foto von Rädern.\n",
      "45\n",
      "45\n"
     ]
    },
    {
     "name": "stderr",
     "output_type": "stream",
     "text": [
      "\n",
      " 64%|██████▍   | 173/270 [00:48<00:17,  5.55it/s]\u001b[A"
     ]
    },
    {
     "name": "stdout",
     "output_type": "stream",
     "text": [
      "Acc: 99.77, Recall: 6.67, Precision: 6.67, F1: 6.67\n",
      "deu_Latn ; This is a photo of waste dumps ; Das ist ein Foto von Abfalldeponien.\n",
      "127\n",
      "127\n"
     ]
    },
    {
     "name": "stderr",
     "output_type": "stream",
     "text": [
      "\n",
      " 64%|██████▍   | 174/270 [00:49<00:18,  5.25it/s]\u001b[A\n",
      " 65%|██████▍   | 175/270 [00:49<00:18,  5.25it/s]\u001b[A"
     ]
    },
    {
     "name": "stdout",
     "output_type": "stream",
     "text": [
      "Acc: 99.43, Recall: 18.11, Precision: 18.11, F1: 18.11\n",
      "deu_Latn ; This is a photo of wedding photos ; Das ist ein Foto von Hochzeitsfotos.\n",
      "83\n",
      "83\n",
      "Acc: 99.79, Recall: 54.22, Precision: 54.22, F1: 54.22\n",
      "deu_Latn ; This is a photo of ventilation ; Das ist ein Foto von der Lüftung.\n",
      "10\n",
      "10\n"
     ]
    },
    {
     "name": "stderr",
     "output_type": "stream",
     "text": [
      "\n",
      " 65%|██████▌   | 176/270 [00:49<00:16,  5.58it/s]\u001b[A\n",
      " 66%|██████▌   | 177/270 [00:49<00:15,  5.88it/s]\u001b[A"
     ]
    },
    {
     "name": "stdout",
     "output_type": "stream",
     "text": [
      "Acc: 99.95, Recall: 10.0, Precision: 10.0, F1: 10.0\n",
      "deu_Latn ; This is a photo of milk cows or bulls ; Das ist ein Foto von Milchkühen oder Stieren.\n",
      "5\n",
      "5\n",
      "Acc: 99.98, Recall: 40.0, Precision: 40.0, F1: 40.0\n",
      "deu_Latn ; This is a photo of answering the phone ; Das ist ein Foto von einem Ansprechenden.\n",
      "51\n",
      "51\n"
     ]
    },
    {
     "name": "stderr",
     "output_type": "stream",
     "text": [
      "\n",
      " 66%|██████▌   | 178/270 [00:49<00:15,  5.85it/s]\u001b[A\n",
      " 66%|██████▋   | 179/270 [00:50<00:15,  5.73it/s]\u001b[A"
     ]
    },
    {
     "name": "stdout",
     "output_type": "stream",
     "text": [
      "Acc: 99.72, Recall: 0.0, Precision: 0.0, F1: 0.0\n",
      "deu_Latn ; This is a photo of closing the front door ; Das ist ein Foto von der Schließung der Haustür.\n",
      "70\n",
      "70\n",
      "Acc: 99.62, Recall: 1.43, Precision: 1.43, F1: 1.43\n",
      "deu_Latn ; This is a photo of hanging clothes to dry ; Das ist ein Foto von Kleider, die aufgehängt werden.\n",
      "18\n",
      "18\n"
     ]
    },
    {
     "name": "stderr",
     "output_type": "stream",
     "text": [
      "\n",
      " 67%|██████▋   | 180/270 [00:50<00:15,  5.90it/s]\u001b[A\n",
      " 67%|██████▋   | 181/270 [00:50<00:15,  5.68it/s]\u001b[A"
     ]
    },
    {
     "name": "stdout",
     "output_type": "stream",
     "text": [
      "Acc: 99.91, Recall: 5.56, Precision: 5.56, F1: 5.56\n",
      "deu_Latn ; This is a photo of opening the front door ; Das ist ein Foto von der Öffnung der Haustür.\n",
      "88\n",
      "88\n",
      "Acc: 99.54, Recall: 3.41, Precision: 3.41, F1: 3.41\n",
      "deu_Latn ; This is a photo of reading ; Das ist ein Foto von einem Lesen.\n",
      "80\n",
      "80\n"
     ]
    },
    {
     "name": "stderr",
     "output_type": "stream",
     "text": [
      "\n",
      " 67%|██████▋   | 182/270 [00:50<00:15,  5.61it/s]\u001b[A\n",
      " 68%|██████▊   | 183/270 [00:50<00:15,  5.70it/s]\u001b[A"
     ]
    },
    {
     "name": "stdout",
     "output_type": "stream",
     "text": [
      "Acc: 99.8, Recall: 55.0, Precision: 55.0, F1: 55.0\n",
      "deu_Latn ; This is a photo of reading a book ; Das ist ein Foto von einem Buch.\n",
      "43\n",
      "43\n",
      "Acc: 99.78, Recall: 6.98, Precision: 6.98, F1: 6.98\n",
      "deu_Latn ; This is a photo of seeing the back of book ; Das ist ein Foto von der Rückseite des Buches.\n",
      "43\n",
      "43\n"
     ]
    },
    {
     "name": "stderr",
     "output_type": "stream",
     "text": [
      "\n",
      " 68%|██████▊   | 184/270 [00:50<00:14,  5.76it/s]\u001b[A\n",
      " 69%|██████▊   | 185/270 [00:51<00:14,  5.73it/s]\u001b[A"
     ]
    },
    {
     "name": "stdout",
     "output_type": "stream",
     "text": [
      "Acc: 99.78, Recall: 4.65, Precision: 4.65, F1: 4.65\n",
      "deu_Latn ; This is a photo of sleeping ; Das ist ein Foto von einem Schlaf.\n",
      "57\n",
      "57\n",
      "Acc: 99.7, Recall: 1.75, Precision: 1.75, F1: 1.75\n",
      "deu_Latn ; This is a photo of turning fan/ac on ; Das ist ein Foto von einem Anklopf-/Aktionsschalter\n",
      "13\n",
      "13\n"
     ]
    },
    {
     "name": "stderr",
     "output_type": "stream",
     "text": [
      "\n",
      " 69%|██████▉   | 186/270 [00:51<00:14,  5.95it/s]\u001b[A\n",
      " 69%|██████▉   | 187/270 [00:51<00:13,  6.00it/s]\u001b[A"
     ]
    },
    {
     "name": "stdout",
     "output_type": "stream",
     "text": [
      "Acc: 99.93, Recall: 0.0, Precision: 0.0, F1: 0.0\n",
      "deu_Latn ; This is a photo of turning heater on ; Das ist ein Foto von einem Heizungsschalter\n",
      "32\n",
      "32\n",
      "Acc: 99.84, Recall: 6.25, Precision: 6.25, F1: 6.25\n",
      "deu_Latn ; This is a photo of walking towards front door ; Das ist ein Foto von einem Gehen in Richtung Haustür.\n",
      "83\n",
      "83\n"
     ]
    },
    {
     "name": "stderr",
     "output_type": "stream",
     "text": [
      "\n",
      " 70%|██████▉   | 188/270 [00:51<00:14,  5.77it/s]\u001b[A\n",
      " 70%|███████   | 189/270 [00:51<00:13,  5.91it/s]\u001b[A"
     ]
    },
    {
     "name": "stdout",
     "output_type": "stream",
     "text": [
      "Acc: 99.59, Recall: 8.43, Precision: 8.43, F1: 8.43\n",
      "deu_Latn ; This is a photo of writing \"home\" ; Das ist ein Foto von \"Heim\"\n",
      "28\n",
      "28\n",
      "Acc: 99.85, Recall: 0.0, Precision: 0.0, F1: 0.0\n",
      "deu_Latn ; This is a photo of piercings ; Das ist ein Foto von Piercings.\n",
      "68\n",
      "68\n"
     ]
    },
    {
     "name": "stderr",
     "output_type": "stream",
     "text": [
      "\n",
      " 70%|███████   | 190/270 [00:51<00:13,  5.78it/s]\u001b[A\n",
      " 71%|███████   | 191/270 [00:52<00:13,  6.05it/s]\u001b[A"
     ]
    },
    {
     "name": "stdout",
     "output_type": "stream",
     "text": [
      "Acc: 99.83, Recall: 52.94, Precision: 52.94, F1: 52.94\n",
      "deu_Latn ; This is a photo of fishing equipment ; Das ist ein Foto von Fischerei-Geräten.\n",
      "1\n",
      "1\n",
      "Acc: 99.99, Recall: 0.0, Precision: 0.0, F1: 0.0\n",
      "deu_Latn ; This is a photo of arm watch ; Das ist ein Foto von einer Armbanduhr.\n",
      "101\n",
      "101\n"
     ]
    },
    {
     "name": "stderr",
     "output_type": "stream",
     "text": [
      "\n",
      " 71%|███████   | 192/270 [00:52<00:13,  5.69it/s]\u001b[A\n",
      " 71%|███████▏  | 193/270 [00:52<00:12,  5.96it/s]\u001b[A"
     ]
    },
    {
     "name": "stdout",
     "output_type": "stream",
     "text": [
      "Acc: 99.85, Recall: 73.27, Precision: 73.27, F1: 73.27\n",
      "deu_Latn ; This is a photo of soccer balls ; Das ist ein Foto von Fußballbälle.\n",
      "3\n",
      "3\n",
      "Acc: 99.99, Recall: 33.33, Precision: 33.33, F1: 33.33\n",
      "deu_Latn ; This is a photo of horse stables ; Das ist ein Foto von Pferdestählen.\n",
      "1\n",
      "1\n"
     ]
    },
    {
     "name": "stderr",
     "output_type": "stream",
     "text": [
      "\n",
      " 72%|███████▏  | 194/270 [00:52<00:12,  6.19it/s]\u001b[A\n",
      " 72%|███████▏  | 195/270 [00:52<00:11,  6.31it/s]\u001b[A"
     ]
    },
    {
     "name": "stdout",
     "output_type": "stream",
     "text": [
      "Acc: 99.99, Recall: 0.0, Precision: 0.0, F1: 0.0\n",
      "deu_Latn ; This is a photo of playgrounds ; Das ist ein Foto von Spielplätzen.\n",
      "7\n",
      "7\n",
      "Acc: 99.96, Recall: 0.0, Precision: 0.0, F1: 0.0\n",
      "deu_Latn ; This is a photo of drinks ; Das ist ein Foto von Getränken.\n",
      "3\n",
      "3\n"
     ]
    },
    {
     "name": "stderr",
     "output_type": "stream",
     "text": [
      "\n",
      " 73%|███████▎  | 196/270 [00:52<00:11,  6.44it/s]\u001b[A\n",
      " 73%|███████▎  | 197/270 [00:53<00:11,  6.52it/s]\u001b[A"
     ]
    },
    {
     "name": "stdout",
     "output_type": "stream",
     "text": [
      "Acc: 99.98, Recall: 0.0, Precision: 0.0, F1: 0.0\n",
      "deu_Latn ; This is a photo of other transport ; Das ist ein Foto von einem anderen Transport.\n",
      "5\n",
      "5\n",
      "Acc: 99.97, Recall: 0.0, Precision: 0.0, F1: 0.0\n",
      "deu_Latn ; This is a photo of car ; Das ist ein Foto von einem Auto.\n",
      "96\n",
      "96\n"
     ]
    },
    {
     "name": "stderr",
     "output_type": "stream",
     "text": [
      "\n",
      " 73%|███████▎  | 198/270 [00:53<00:12,  6.00it/s]\u001b[A\n",
      " 74%|███████▎  | 199/270 [00:53<00:11,  6.21it/s]\u001b[A"
     ]
    },
    {
     "name": "stdout",
     "output_type": "stream",
     "text": [
      "Acc: 99.76, Recall: 54.17, Precision: 54.17, F1: 54.17\n",
      "deu_Latn ; This is a photo of car decorations ; Das ist ein Foto von Autodekorationen.\n",
      "1\n",
      "1\n",
      "Acc: 99.99, Recall: 0.0, Precision: 0.0, F1: 0.0\n",
      "deu_Latn ; This is a photo of transport of heavy things ; Das ist ein Foto von schweren Dingen.\n",
      "21\n",
      "21\n"
     ]
    },
    {
     "name": "stderr",
     "output_type": "stream",
     "text": [
      "\n",
      " 74%|███████▍  | 200/270 [00:53<00:11,  6.26it/s]\u001b[A\n",
      " 74%|███████▍  | 201/270 [00:53<00:10,  6.34it/s]\u001b[A"
     ]
    },
    {
     "name": "stdout",
     "output_type": "stream",
     "text": [
      "Acc: 99.89, Recall: 0.0, Precision: 0.0, F1: 0.0\n",
      "deu_Latn ; This is a photo of clothes ; Das ist ein Foto von Kleidung.\n",
      "12\n",
      "12\n",
      "Acc: 99.93, Recall: 0.0, Precision: 0.0, F1: 0.0\n",
      "deu_Latn ; This is a photo of cigarettes ; Das ist ein Foto von Zigaretten.\n",
      "30\n",
      "30\n"
     ]
    },
    {
     "name": "stderr",
     "output_type": "stream",
     "text": [
      "\n",
      " 75%|███████▍  | 202/270 [00:53<00:10,  6.27it/s]\u001b[A\n",
      " 75%|███████▌  | 203/270 [00:53<00:10,  6.37it/s]\u001b[A"
     ]
    },
    {
     "name": "stdout",
     "output_type": "stream",
     "text": [
      "Acc: 99.95, Recall: 66.67, Precision: 66.67, F1: 66.67\n",
      "deu_Latn ; This is a photo of portraits ; Das ist ein Foto von Porträts.\n",
      "9\n",
      "9\n",
      "Acc: 99.95, Recall: 0.0, Precision: 0.0, F1: 0.0\n",
      "deu_Latn ; This is a photo of ingredients ; Das ist ein Foto der Zutaten.\n",
      "3\n",
      "3\n"
     ]
    },
    {
     "name": "stderr",
     "output_type": "stream",
     "text": [
      "\n",
      " 76%|███████▌  | 204/270 [00:54<00:10,  6.47it/s]\u001b[A\n",
      " 76%|███████▌  | 205/270 [00:54<00:09,  6.56it/s]\u001b[A"
     ]
    },
    {
     "name": "stdout",
     "output_type": "stream",
     "text": [
      "Acc: 99.98, Recall: 0.0, Precision: 0.0, F1: 0.0\n",
      "deu_Latn ; This is a photo of fields ; Das ist ein Foto von Feldern.\n",
      "1\n",
      "1\n",
      "Acc: 99.99, Recall: 0.0, Precision: 0.0, F1: 0.0\n",
      "deu_Latn ; This is a photo of celebrity posters ; Das ist ein Foto von Prominenten-Plakaten.\n",
      "1\n",
      "1\n"
     ]
    },
    {
     "name": "stderr",
     "output_type": "stream",
     "text": [
      "\n",
      " 76%|███████▋  | 206/270 [00:54<00:09,  6.63it/s]\u001b[A"
     ]
    },
    {
     "name": "stdout",
     "output_type": "stream",
     "text": [
      "Acc: 99.99, Recall: 0.0, Precision: 0.0, F1: 0.0\n",
      "deu_Latn ; This is a photo of freezer ; Das ist ein Foto vom Gefrierschrank.\n",
      "187\n",
      "187\n"
     ]
    },
    {
     "name": "stderr",
     "output_type": "stream",
     "text": [
      "\n",
      " 77%|███████▋  | 207/270 [00:54<00:11,  5.55it/s]\u001b[A\n",
      " 77%|███████▋  | 208/270 [00:54<00:10,  5.86it/s]\u001b[A"
     ]
    },
    {
     "name": "stdout",
     "output_type": "stream",
     "text": [
      "Acc: 99.31, Recall: 32.09, Precision: 32.09, F1: 32.09\n",
      "deu_Latn ; This is a photo of boat ; Das ist ein Bootfoto.\n",
      "5\n",
      "5\n",
      "Acc: 99.98, Recall: 20.0, Precision: 20.0, F1: 20.0\n",
      "deu_Latn ; This is a photo of arm watches ; Das ist ein Foto von Armblättern.\n",
      "30\n",
      "30\n"
     ]
    },
    {
     "name": "stderr",
     "output_type": "stream",
     "text": [
      "\n",
      " 77%|███████▋  | 209/270 [00:54<00:10,  5.95it/s]\u001b[A\n",
      " 78%|███████▊  | 210/270 [00:55<00:10,  5.73it/s]\u001b[A"
     ]
    },
    {
     "name": "stdout",
     "output_type": "stream",
     "text": [
      "Acc: 99.84, Recall: 0.0, Precision: 0.0, F1: 0.0\n",
      "deu_Latn ; This is a photo of sitting and watching tv ; Das ist ein Foto von Sitzen und Fernsehen.\n",
      "84\n",
      "84\n",
      "Acc: 99.61, Recall: 15.48, Precision: 15.48, F1: 15.48\n",
      "deu_Latn ; This is a photo of plugging into and out of power outlet ; Das ist ein Foto von der Ein- und Aussteckung von Stromausfällen.\n",
      "98\n",
      "98\n"
     ]
    },
    {
     "name": "stderr",
     "output_type": "stream",
     "text": [
      "\n",
      " 78%|███████▊  | 211/270 [00:55<00:10,  5.50it/s]\u001b[A\n",
      " 79%|███████▊  | 212/270 [00:55<00:10,  5.57it/s]\u001b[A"
     ]
    },
    {
     "name": "stdout",
     "output_type": "stream",
     "text": [
      "Acc: 99.49, Recall: 5.1, Precision: 5.1, F1: 5.1\n",
      "deu_Latn ; This is a photo of dishwasher ; Das ist ein Foto von der Spülmaschine.\n",
      "55\n",
      "55\n",
      "Acc: 99.71, Recall: 3.64, Precision: 3.64, F1: 3.64\n",
      "deu_Latn ; This is a photo of oven ; Das ist ein Foto von einem Ofen.\n",
      "145\n",
      "145\n"
     ]
    },
    {
     "name": "stderr",
     "output_type": "stream",
     "text": [
      "\n",
      " 79%|███████▉  | 213/270 [00:55<00:11,  5.18it/s]\u001b[A\n",
      " 79%|███████▉  | 214/270 [00:55<00:10,  5.56it/s]\u001b[A"
     ]
    },
    {
     "name": "stdout",
     "output_type": "stream",
     "text": [
      "Acc: 99.6, Recall: 48.97, Precision: 48.97, F1: 48.97\n",
      "deu_Latn ; This is a photo of baby powder ; Das ist ein Foto von Babypulver.\n",
      "4\n",
      "4\n",
      "Acc: 99.98, Recall: 25.0, Precision: 25.0, F1: 25.0\n",
      "deu_Latn ; This is a photo of tattoos ; Das ist ein Foto von Tätowierungen.\n",
      "51\n",
      "51\n"
     ]
    },
    {
     "name": "stderr",
     "output_type": "stream",
     "text": [
      "\n",
      " 80%|███████▉  | 215/270 [00:56<00:09,  5.62it/s]\u001b[A\n",
      " 80%|████████  | 216/270 [00:56<00:09,  5.90it/s]\u001b[A"
     ]
    },
    {
     "name": "stdout",
     "output_type": "stream",
     "text": [
      "Acc: 99.92, Recall: 70.59, Precision: 70.59, F1: 70.59\n",
      "deu_Latn ; This is a photo of sheep ; Das ist ein Bild von Schafen.\n",
      "4\n",
      "4\n",
      "Acc: 99.99, Recall: 50.0, Precision: 50.0, F1: 50.0\n",
      "deu_Latn ; This is a photo of preparing social drink ; Das ist ein Foto von einem Sozialabend.\n",
      "47\n",
      "47\n"
     ]
    },
    {
     "name": "stderr",
     "output_type": "stream",
     "text": [
      "\n",
      " 80%|████████  | 217/270 [00:56<00:08,  5.90it/s]\u001b[A\n",
      " 81%|████████  | 218/270 [00:56<00:08,  6.04it/s]\u001b[A"
     ]
    },
    {
     "name": "stdout",
     "output_type": "stream",
     "text": [
      "Acc: 99.74, Recall: 0.0, Precision: 0.0, F1: 0.0\n",
      "deu_Latn ; This is a photo of go through mail ; Das ist ein Foto von gehen durch die Post\n",
      "21\n",
      "21\n",
      "Acc: 99.89, Recall: 0.0, Precision: 0.0, F1: 0.0\n",
      "deu_Latn ; This is a photo of smoking ; Das ist ein Foto von Rauchen.\n",
      "7\n",
      "7\n"
     ]
    },
    {
     "name": "stderr",
     "output_type": "stream",
     "text": [
      "\n",
      " 81%|████████  | 219/270 [00:56<00:08,  6.22it/s]\u001b[A\n",
      " 81%|████████▏ | 220/270 [00:56<00:07,  6.35it/s]\u001b[A"
     ]
    },
    {
     "name": "stdout",
     "output_type": "stream",
     "text": [
      "Acc: 99.96, Recall: 0.0, Precision: 0.0, F1: 0.0\n",
      "deu_Latn ; This is a photo of walking through home ; Das ist ein Foto von einem Durchgang durch das Haus.\n",
      "6\n",
      "6\n",
      "Acc: 99.97, Recall: 0.0, Precision: 0.0, F1: 0.0\n",
      "deu_Latn ; This is a photo of computer ; Das ist ein Foto von einem Computer.\n",
      "181\n",
      "181\n"
     ]
    },
    {
     "name": "stderr",
     "output_type": "stream",
     "text": [
      "\n",
      " 82%|████████▏ | 221/270 [00:57<00:09,  5.43it/s]\u001b[A\n",
      " 82%|████████▏ | 222/270 [00:57<00:08,  5.66it/s]\u001b[A"
     ]
    },
    {
     "name": "stdout",
     "output_type": "stream",
     "text": [
      "Acc: 99.44, Recall: 43.65, Precision: 43.65, F1: 43.65\n",
      "deu_Latn ; This is a photo of contraceptives ; Das ist ein Foto von Verhütungsmitteln.\n",
      "25\n",
      "25\n",
      "Acc: 99.86, Recall: 0.0, Precision: 0.0, F1: 0.0\n",
      "deu_Latn ; This is a photo of instrument ; Das ist ein Foto von Instrument.\n",
      "94\n",
      "94\n"
     ]
    },
    {
     "name": "stderr",
     "output_type": "stream",
     "text": [
      "\n",
      " 83%|████████▎ | 223/270 [00:57<00:08,  5.45it/s]\u001b[A\n",
      " 83%|████████▎ | 224/270 [00:57<00:07,  5.76it/s]\u001b[A"
     ]
    },
    {
     "name": "stdout",
     "output_type": "stream",
     "text": [
      "Acc: 99.71, Recall: 43.62, Precision: 43.62, F1: 43.62\n",
      "deu_Latn ; This is a photo of rehabilitation technology ; Das ist ein Foto von Rehabilitationstechnologie.\n",
      "8\n",
      "8\n",
      "Acc: 99.96, Recall: 12.5, Precision: 12.5, F1: 12.5\n",
      "deu_Latn ; This is a photo of turn tv on ; Das ist ein Foto von Turn TV on\n",
      "43\n",
      "43\n"
     ]
    },
    {
     "name": "stderr",
     "output_type": "stream",
     "text": [
      "\n",
      " 83%|████████▎ | 225/270 [00:57<00:07,  5.81it/s]\u001b[A\n",
      " 84%|████████▎ | 226/270 [00:57<00:07,  5.89it/s]\u001b[A"
     ]
    },
    {
     "name": "stdout",
     "output_type": "stream",
     "text": [
      "Acc: 99.78, Recall: 6.98, Precision: 6.98, F1: 6.98\n",
      "deu_Latn ; This is a photo of playing an instrument ; Das ist ein Foto von einem Instrument spielen\n",
      "34\n",
      "34\n",
      "Acc: 99.84, Recall: 14.71, Precision: 14.71, F1: 14.71\n",
      "deu_Latn ; This is a photo of bread ready ; Das ist ein Foto von Brot bereit\n",
      "1\n",
      "1\n"
     ]
    },
    {
     "name": "stderr",
     "output_type": "stream",
     "text": [
      "\n",
      " 84%|████████▍ | 227/270 [00:58<00:07,  6.13it/s]\u001b[A\n",
      " 84%|████████▍ | 228/270 [00:58<00:07,  5.88it/s]\u001b[A"
     ]
    },
    {
     "name": "stdout",
     "output_type": "stream",
     "text": [
      "Acc: 99.99, Recall: 0.0, Precision: 0.0, F1: 0.0\n",
      "deu_Latn ; This is a photo of alcoholic drinks ; Das ist ein Foto von alkoholischen Getränken.\n",
      "76\n",
      "76\n",
      "Acc: 99.73, Recall: 35.53, Precision: 35.53, F1: 35.53\n",
      "deu_Latn ; This is a photo of snacks ; Das ist ein Foto von Snacks.\n",
      "11\n",
      "11\n"
     ]
    },
    {
     "name": "stderr",
     "output_type": "stream",
     "text": [
      "\n",
      " 85%|████████▍ | 229/270 [00:58<00:06,  6.07it/s]\u001b[A\n",
      " 85%|████████▌ | 230/270 [00:58<00:06,  6.02it/s]\u001b[A"
     ]
    },
    {
     "name": "stdout",
     "output_type": "stream",
     "text": [
      "Acc: 99.95, Recall: 9.09, Precision: 9.09, F1: 9.09\n",
      "deu_Latn ; This is a photo of alarm clock ; Das ist ein Foto von der Weckeruhr.\n",
      "49\n",
      "49\n",
      "Acc: 99.8, Recall: 26.53, Precision: 26.53, F1: 26.53\n",
      "deu_Latn ; This is a photo of throwing food trash away ; Das ist ein Foto von einem Essen-Abfall wegwerfen.\n",
      "39\n",
      "39\n"
     ]
    },
    {
     "name": "stderr",
     "output_type": "stream",
     "text": [
      "\n",
      " 86%|████████▌ | 231/270 [00:58<00:06,  6.01it/s]\u001b[A\n",
      " 86%|████████▌ | 232/270 [00:58<00:06,  5.89it/s]\u001b[A"
     ]
    },
    {
     "name": "stdout",
     "output_type": "stream",
     "text": [
      "Acc: 99.79, Recall: 2.56, Precision: 2.56, F1: 2.56\n",
      "deu_Latn ; This is a photo of car keys ; Das ist ein Foto von Autoschlüsseln.\n",
      "58\n",
      "58\n",
      "Acc: 99.92, Recall: 75.86, Precision: 75.86, F1: 75.86\n",
      "deu_Latn ; This is a photo of tractors ; Das ist ein Foto von Traktoren.\n",
      "1\n",
      "1\n"
     ]
    },
    {
     "name": "stderr",
     "output_type": "stream",
     "text": [
      "\n",
      " 86%|████████▋ | 233/270 [00:59<00:06,  6.14it/s]\u001b[A\n",
      " 87%|████████▋ | 234/270 [00:59<00:05,  6.06it/s]\u001b[A"
     ]
    },
    {
     "name": "stdout",
     "output_type": "stream",
     "text": [
      "Acc: 100.0, Recall: 100.0, Precision: 100.0, F1: 100.0\n",
      "deu_Latn ; This is a photo of opening and closing the refrigerator ; Das ist ein Foto von dem Öffnen und Schließen des Kühlschranks.\n",
      "50\n",
      "50\n",
      "Acc: 99.76, Recall: 12.0, Precision: 12.0, F1: 12.0\n",
      "deu_Latn ; This is a photo of water sources ; Das ist ein Foto von Wasserquellen.\n",
      "5\n",
      "5\n"
     ]
    },
    {
     "name": "stderr",
     "output_type": "stream",
     "text": [
      "\n",
      " 87%|████████▋ | 235/270 [00:59<00:05,  6.24it/s]\u001b[A\n",
      " 87%|████████▋ | 236/270 [00:59<00:05,  5.91it/s]\u001b[A"
     ]
    },
    {
     "name": "stdout",
     "output_type": "stream",
     "text": [
      "Acc: 99.97, Recall: 0.0, Precision: 0.0, F1: 0.0\n",
      "deu_Latn ; This is a photo of opening and closing the freezer ; Das ist ein Foto von dem Öffnen und Schließen des Gefriers.\n",
      "83\n",
      "83\n",
      "Acc: 99.6, Recall: 10.84, Precision: 10.84, F1: 10.84\n",
      "deu_Latn ; This is a photo of horses ; Das ist ein Foto von Pferden.\n",
      "3\n",
      "3\n"
     ]
    },
    {
     "name": "stderr",
     "output_type": "stream",
     "text": [
      "\n",
      " 88%|████████▊ | 237/270 [00:59<00:05,  6.13it/s]\u001b[A\n",
      " 88%|████████▊ | 238/270 [00:59<00:05,  6.28it/s]\u001b[A"
     ]
    },
    {
     "name": "stdout",
     "output_type": "stream",
     "text": [
      "Acc: 99.98, Recall: 0.0, Precision: 0.0, F1: 0.0\n",
      "deu_Latn ; This is a photo of water sources for doing dishes ; Das ist ein Foto von Wasserquellen für das Abwaschen.\n",
      "7\n",
      "7\n",
      "Acc: 99.96, Recall: 0.0, Precision: 0.0, F1: 0.0\n",
      "deu_Latn ; This is a photo of soccer supporter items ; Das ist ein Foto von Fußball-Fans-Elemente\n",
      "3\n",
      "3\n"
     ]
    },
    {
     "name": "stderr",
     "output_type": "stream",
     "text": [
      "\n",
      " 89%|████████▊ | 239/270 [01:00<00:04,  6.41it/s]\u001b[A\n",
      " 89%|████████▉ | 240/270 [01:00<00:04,  6.50it/s]\u001b[A"
     ]
    },
    {
     "name": "stdout",
     "output_type": "stream",
     "text": [
      "Acc: 99.98, Recall: 0.0, Precision: 0.0, F1: 0.0\n",
      "deu_Latn ; This is a photo of cooking food ; Das ist ein Foto von Kochen.\n",
      "5\n",
      "5\n",
      "Acc: 99.97, Recall: 0.0, Precision: 0.0, F1: 0.0\n",
      "deu_Latn ; This is a photo of snack stores ; Das ist ein Foto von Snackgeschäften.\n",
      "1\n",
      "1\n"
     ]
    },
    {
     "name": "stderr",
     "output_type": "stream",
     "text": [
      "\n",
      " 89%|████████▉ | 241/270 [01:00<00:04,  6.58it/s]\u001b[A\n",
      " 90%|████████▉ | 242/270 [01:00<00:04,  6.62it/s]\u001b[A"
     ]
    },
    {
     "name": "stdout",
     "output_type": "stream",
     "text": [
      "Acc: 100.0, Recall: 100.0, Precision: 100.0, F1: 100.0\n",
      "deu_Latn ; This is a photo of daylight ostructions ; Das ist ein Foto von Tageslicht-Ostruktionen.\n",
      "6\n",
      "6\n",
      "Acc: 99.97, Recall: 0.0, Precision: 0.0, F1: 0.0\n",
      "deu_Latn ; This is a photo of smog/bad air breathing protection ; Das ist ein Foto von Smog/schlechten Luftatmungsschutz.\n",
      "2\n",
      "2\n"
     ]
    },
    {
     "name": "stderr",
     "output_type": "stream",
     "text": [
      "\n",
      " 90%|█████████ | 243/270 [01:00<00:04,  6.66it/s]\u001b[A\n",
      " 90%|█████████ | 244/270 [01:00<00:03,  6.66it/s]\u001b[A"
     ]
    },
    {
     "name": "stdout",
     "output_type": "stream",
     "text": [
      "Acc: 99.99, Recall: 0.0, Precision: 0.0, F1: 0.0\n",
      "deu_Latn ; This is a photo of bad outdoor air obstructions ; Das ist ein Foto von schlechten Außenluftobstruktionen.\n",
      "6\n",
      "6\n",
      "Acc: 99.97, Recall: 0.0, Precision: 0.0, F1: 0.0\n",
      "deu_Latn ; This is a photo of skies outside ; Das ist ein Foto des Himmels draußen.\n",
      "7\n",
      "7\n"
     ]
    },
    {
     "name": "stderr",
     "output_type": "stream",
     "text": [
      "\n",
      " 91%|█████████ | 245/270 [01:00<00:03,  6.64it/s]\u001b[A\n",
      " 91%|█████████ | 246/270 [01:01<00:03,  6.63it/s]\u001b[A"
     ]
    },
    {
     "name": "stdout",
     "output_type": "stream",
     "text": [
      "Acc: 99.96, Recall: 0.0, Precision: 0.0, F1: 0.0\n",
      "deu_Latn ; This is a photo of sources of drinking water ; Das ist ein Foto von Trinkwasserquellen.\n",
      "9\n",
      "9\n",
      "Acc: 99.95, Recall: 0.0, Precision: 0.0, F1: 0.0\n",
      "deu_Latn ; This is a photo of laying in bed - pretend to sleep ; Das ist ein Foto von einem Leichten im Bett - so tun, als würde er schlafen.\n",
      "7\n",
      "7\n"
     ]
    },
    {
     "name": "stderr",
     "output_type": "stream",
     "text": [
      "\n",
      " 91%|█████████▏| 247/270 [01:01<00:03,  6.63it/s]\u001b[A\n",
      " 92%|█████████▏| 248/270 [01:01<00:03,  6.64it/s]\u001b[A"
     ]
    },
    {
     "name": "stdout",
     "output_type": "stream",
     "text": [
      "Acc: 99.96, Recall: 0.0, Precision: 0.0, F1: 0.0\n",
      "deu_Latn ; This is a photo of newspapers ; Das ist ein Foto von Zeitungen.\n",
      "7\n",
      "7\n",
      "Acc: 99.98, Recall: 42.86, Precision: 42.86, F1: 42.86\n",
      "deu_Latn ; This is a photo of elevators ; Das ist ein Foto von Aufzügen.\n",
      "3\n",
      "3\n"
     ]
    },
    {
     "name": "stderr",
     "output_type": "stream",
     "text": [
      "\n",
      " 92%|█████████▏| 249/270 [01:01<00:03,  6.67it/s]\u001b[A\n",
      " 93%|█████████▎| 250/270 [01:01<00:02,  6.70it/s]\u001b[A"
     ]
    },
    {
     "name": "stdout",
     "output_type": "stream",
     "text": [
      "Acc: 99.99, Recall: 66.67, Precision: 66.67, F1: 66.67\n",
      "deu_Latn ; This is a photo of water purifier solutions ; Das ist ein Foto von Wasserreinigungslösungen.\n",
      "2\n",
      "2\n",
      "Acc: 99.99, Recall: 0.0, Precision: 0.0, F1: 0.0\n",
      "deu_Latn ; This is a photo of air fresheners (scents ; Das ist ein Foto von Luftfrischern (Geruch)\n",
      "1\n",
      "1\n"
     ]
    },
    {
     "name": "stderr",
     "output_type": "stream",
     "text": [
      "\n",
      " 93%|█████████▎| 251/270 [01:01<00:02,  6.72it/s]\u001b[A\n",
      " 93%|█████████▎| 252/270 [01:01<00:02,  6.75it/s]\u001b[A"
     ]
    },
    {
     "name": "stdout",
     "output_type": "stream",
     "text": [
      "Acc: 100.0, Recall: 100.0, Precision: 100.0, F1: 100.0\n",
      "deu_Latn ; This is a photo of smells) ; Das ist ein Foto von Geruchen)\n",
      "1\n",
      "1\n",
      "Acc: 100.0, Recall: 100.0, Precision: 100.0, F1: 100.0\n",
      "deu_Latn ; This is a photo of air cleaning equipments ; Das ist ein Foto von Luftreinigungsanlagen.\n",
      "4\n",
      "4\n"
     ]
    },
    {
     "name": "stderr",
     "output_type": "stream",
     "text": [
      "\n",
      " 94%|█████████▎| 253/270 [01:02<00:02,  6.73it/s]\u001b[A\n",
      " 94%|█████████▍| 254/270 [01:02<00:02,  6.73it/s]\u001b[A"
     ]
    },
    {
     "name": "stdout",
     "output_type": "stream",
     "text": [
      "Acc: 99.98, Recall: 25.0, Precision: 25.0, F1: 25.0\n",
      "deu_Latn ; This is a photo of foodstores ; Das ist ein Foto von Lebensmittelgeschäften.\n",
      "3\n",
      "3\n",
      "Acc: 99.99, Recall: 33.33, Precision: 33.33, F1: 33.33\n",
      "deu_Latn ; This is a photo of markets ; Das ist ein Foto von Märkten.\n",
      "6\n",
      "6\n"
     ]
    },
    {
     "name": "stderr",
     "output_type": "stream",
     "text": [
      "\n",
      " 94%|█████████▍| 255/270 [01:02<00:02,  6.72it/s]\u001b[A\n",
      " 95%|█████████▍| 256/270 [01:02<00:02,  6.73it/s]\u001b[A"
     ]
    },
    {
     "name": "stdout",
     "output_type": "stream",
     "text": [
      "Acc: 99.97, Recall: 16.67, Precision: 16.67, F1: 16.67\n",
      "deu_Latn ; This is a photo of picking up the phone ; Das ist ein Foto von dem Telefon aufnehmen.\n",
      "1\n",
      "1\n",
      "Acc: 99.99, Recall: 0.0, Precision: 0.0, F1: 0.0\n",
      "deu_Latn ; This is a photo of bread - ready ; Das ist ein Foto von Brot - bereit\n",
      "4\n",
      "4\n"
     ]
    },
    {
     "name": "stderr",
     "output_type": "stream",
     "text": [
      "\n",
      " 95%|█████████▌| 257/270 [01:02<00:01,  6.72it/s]\u001b[A\n",
      " 96%|█████████▌| 258/270 [01:02<00:01,  6.72it/s]\u001b[A"
     ]
    },
    {
     "name": "stdout",
     "output_type": "stream",
     "text": [
      "Acc: 99.98, Recall: 0.0, Precision: 0.0, F1: 0.0\n",
      "deu_Latn ; This is a photo of opening mail ; Das ist ein Foto der Postöffnung.\n",
      "4\n",
      "4\n",
      "Acc: 99.98, Recall: 0.0, Precision: 0.0, F1: 0.0\n",
      "deu_Latn ; This is a photo of meat storages ; Das ist ein Foto von Fleischlagern.\n",
      "2\n",
      "2\n"
     ]
    },
    {
     "name": "stderr",
     "output_type": "stream",
     "text": [
      "\n",
      " 96%|█████████▌| 259/270 [01:03<00:01,  6.72it/s]\u001b[A\n",
      " 96%|█████████▋| 260/270 [01:03<00:01,  6.74it/s]\u001b[A"
     ]
    },
    {
     "name": "stdout",
     "output_type": "stream",
     "text": [
      "Acc: 99.99, Recall: 0.0, Precision: 0.0, F1: 0.0\n",
      "deu_Latn ; This is a photo of bread bowls ; Das ist ein Foto von Brotschüsseln.\n",
      "1\n",
      "1\n",
      "Acc: 99.99, Recall: 0.0, Precision: 0.0, F1: 0.0\n",
      "deu_Latn ; This is a photo of disability aid ; Das ist ein Foto von Behinderungshilfe.\n",
      "3\n",
      "3\n"
     ]
    },
    {
     "name": "stderr",
     "output_type": "stream",
     "text": [
      "\n",
      " 97%|█████████▋| 261/270 [01:03<00:01,  6.72it/s]\u001b[A\n",
      " 97%|█████████▋| 262/270 [01:03<00:01,  6.74it/s]\u001b[A"
     ]
    },
    {
     "name": "stdout",
     "output_type": "stream",
     "text": [
      "Acc: 99.98, Recall: 0.0, Precision: 0.0, F1: 0.0\n",
      "deu_Latn ; This is a photo of electric wires ; Das ist ein Foto von Elektroleitungen.\n",
      "2\n",
      "2\n",
      "Acc: 99.99, Recall: 0.0, Precision: 0.0, F1: 0.0\n",
      "deu_Latn ; This is a photo of tabloids ; Das ist ein Bild von tabloiden.\n",
      "2\n",
      "2\n"
     ]
    },
    {
     "name": "stderr",
     "output_type": "stream",
     "text": [
      "\n",
      " 97%|█████████▋| 263/270 [01:03<00:01,  6.74it/s]\u001b[A\n",
      " 98%|█████████▊| 264/270 [01:03<00:00,  6.75it/s]\u001b[A"
     ]
    },
    {
     "name": "stdout",
     "output_type": "stream",
     "text": [
      "Acc: 99.99, Recall: 0.0, Precision: 0.0, F1: 0.0\n",
      "deu_Latn ; This is a photo of equipment ; Das ist ein Foto von der Ausrüstung.\n",
      "1\n",
      "1\n",
      "Acc: 99.99, Recall: 0.0, Precision: 0.0, F1: 0.0\n",
      "deu_Latn ; This is a photo of baking tools ; Das ist ein Foto von Backwerkzeugen.\n",
      "1\n",
      "1\n"
     ]
    },
    {
     "name": "stderr",
     "output_type": "stream",
     "text": [
      "\n",
      " 98%|█████████▊| 265/270 [01:03<00:00,  6.76it/s]\u001b[A\n",
      " 99%|█████████▊| 266/270 [01:04<00:00,  6.77it/s]\u001b[A"
     ]
    },
    {
     "name": "stdout",
     "output_type": "stream",
     "text": [
      "Acc: 99.99, Recall: 0.0, Precision: 0.0, F1: 0.0\n",
      "deu_Latn ; This is a photo of baking sheets ; Das ist ein Foto von Bäckchen.\n",
      "1\n",
      "1\n",
      "Acc: 99.99, Recall: 0.0, Precision: 0.0, F1: 0.0\n",
      "deu_Latn ; This is a photo of baking tables ; Das ist ein Foto von Backtischen.\n",
      "1\n",
      "1\n"
     ]
    },
    {
     "name": "stderr",
     "output_type": "stream",
     "text": [
      "\n",
      " 99%|█████████▉| 267/270 [01:04<00:00,  6.77it/s]\u001b[A\n",
      " 99%|█████████▉| 268/270 [01:04<00:00,  6.78it/s]\u001b[A"
     ]
    },
    {
     "name": "stdout",
     "output_type": "stream",
     "text": [
      "Acc: 99.99, Recall: 0.0, Precision: 0.0, F1: 0.0\n",
      "deu_Latn ; This is a photo of electricity wires ; Das ist ein Foto von Stromleitungen.\n",
      "1\n",
      "1\n",
      "Acc: 99.99, Recall: 0.0, Precision: 0.0, F1: 0.0\n",
      "deu_Latn ; This is a photo of meat markets ; Das ist ein Foto von Fleischmärkten.\n",
      "1\n",
      "1\n"
     ]
    },
    {
     "name": "stderr",
     "output_type": "stream",
     "text": [
      "\n",
      "100%|█████████▉| 269/270 [01:04<00:00,  6.77it/s]\u001b[A\n",
      "100%|██████████| 270/270 [01:04<00:00,  4.18it/s]\u001b[A\n",
      "100%|██████████| 1/1 [01:04<00:00, 64.66s/it]"
     ]
    },
    {
     "name": "stdout",
     "output_type": "stream",
     "text": [
      "Acc: 99.99, Recall: 0.0, Precision: 0.0, F1: 0.0\n",
      "deu_Latn ; This is a photo of vegetable markets ; Das ist ein Foto von Gemüsemärkten.\n",
      "1\n",
      "1\n",
      "Acc: 99.99, Recall: 0.0, Precision: 0.0, F1: 0.0\n"
     ]
    },
    {
     "name": "stderr",
     "output_type": "stream",
     "text": [
      "\n"
     ]
    }
   ],
   "source": [
    "## Trial for the first _dict  (recall and precision and F1 scores are equal)\n",
    "\n",
    "from sklearn.metrics import accuracy_score, precision_score, recall_score, f1_score\n",
    "\n",
    "all_images = list(data['imageRelPath'])\n",
    "list_dict_topic2FNimg = []\n",
    "list_dict_topic2F1 = []\n",
    "\n",
    "for lang_dict in tqdm.tqdm(list_language_score_dicts[:1]):\n",
    "    \n",
    "    dict_topic2FNimg = {}\n",
    "    dict_topic2F1 = {}\n",
    "    \n",
    "    for topic in tqdm.tqdm(list(lang_dict.keys())):\n",
    "        print(topic)\n",
    "        dict_lang_topic2img = next(item for item in list_dict_trans_prompt2img if topic in item.keys())\n",
    "        count_pos = len(dict_lang_topic2img[topic])\n",
    "        print(count_pos)\n",
    "        \n",
    "        GT_pos_images = dict_lang_topic2img[topic]\n",
    "        Pred_pos_images = [data[1] for data in lang_dict[topic][:count_pos]]\n",
    "        print(len(Pred_pos_images))\n",
    "\n",
    "        GT_labels = [1 if img in GT_pos_images else 0 for img in all_images]\n",
    "        Pred_labels = [1 if img in Pred_pos_images else 0 for img in all_images]\n",
    "        \n",
    "        \n",
    "        accuracy = round(accuracy_score(GT_labels, Pred_labels) * 100, 2)\n",
    "        precision = round(precision_score(GT_labels, Pred_labels) * 100, 2)\n",
    "        recall = round(recall_score(GT_labels, Pred_labels) * 100, 2)\n",
    "        f1 = round(f1_score(GT_labels, Pred_labels) * 100, 2)\n",
    "        \n",
    "        print(f\"Acc: {accuracy}, Recall: {recall}, Precision: {precision}, F1: {f1}\")\n",
    "        \n",
    "        dict_topic2F1[topic] = f1 \n",
    "        list_dict_topic2F1.append(dict_topic2F1)\n",
    "        \n",
    "        \n",
    "        # What are the forgotten items (FN) \n",
    "        images_FN = []\n",
    "        for idx, img in enumerate(all_images):\n",
    "            label_GT = GT_labels[idx]\n",
    "            label_Pred = Pred_labels[idx]\n",
    "            #FN\n",
    "            if label_GT == 1 and label_Pred == 0:\n",
    "                images_FN.append(img) \n",
    "        \n",
    "        dict_topic2FNimg[topic] = images_FN\n",
    "        \n",
    "        list_dict_topic2FNimg.append(dict_topic2FNimg)\n",
    "        "
   ]
  },
  {
   "cell_type": "code",
   "execution_count": 67,
   "id": "c40d3d49",
   "metadata": {},
   "outputs": [
    {
     "name": "stderr",
     "output_type": "stream",
     "text": [
      "100%|██████████| 40/40 [36:45<00:00, 55.15s/it]\n"
     ]
    }
   ],
   "source": [
    "from sklearn.metrics import accuracy_score, precision_score, recall_score, f1_score\n",
    "\n",
    "all_images = list(data['imageRelPath'])\n",
    "list_dict_topic2FNimg = []\n",
    "list_dict_topic2F1 = []\n",
    "\n",
    "for lang_dict in tqdm.tqdm(list_language_score_dicts):\n",
    "    \n",
    "    dict_topic2FNimg = {}\n",
    "    dict_topic2F1 = {}\n",
    "    \n",
    "    for topic in list(lang_dict.keys()):\n",
    "        #print(topic)\n",
    "        dict_lang_topic2img = next(item for item in list_dict_trans_prompt2img if topic in item.keys())\n",
    "        count_pos = len(dict_lang_topic2img[topic])\n",
    "        #print(count_pos)\n",
    "        \n",
    "        GT_pos_images = dict_lang_topic2img[topic]\n",
    "        Pred_pos_images = [data[1] for data in lang_dict[topic][:count_pos]]\n",
    "        #print(len(Pred_pos_images))\n",
    "\n",
    "        GT_labels = [1 if img in GT_pos_images else 0 for img in all_images]\n",
    "        Pred_labels = [1 if img in Pred_pos_images else 0 for img in all_images]\n",
    "        \n",
    "        \n",
    "        accuracy = round(accuracy_score(GT_labels, Pred_labels) * 100, 2)\n",
    "        precision = round(precision_score(GT_labels, Pred_labels) * 100, 2)\n",
    "        recall = round(recall_score(GT_labels, Pred_labels) * 100, 2)\n",
    "        f1 = round(f1_score(GT_labels, Pred_labels) * 100, 2)\n",
    "        \n",
    "        #print(f\"Acc: {accuracy}, Recall: {recall}, Precision: {precision}, F1: {f1}\")\n",
    "        \n",
    "        dict_topic2F1[topic] = f1 \n",
    "    \n",
    "        \n",
    "        \n",
    "        # What are the forgotten items (FN) \n",
    "        images_FN = []\n",
    "        for idx, img in enumerate(all_images):\n",
    "            label_GT = GT_labels[idx]\n",
    "            label_Pred = Pred_labels[idx]\n",
    "            #FN\n",
    "            if label_GT == 1 and label_Pred == 0:\n",
    "                images_FN.append(img) \n",
    "        \n",
    "        dict_topic2FNimg[topic] = images_FN\n",
    "        \n",
    "    list_dict_topic2FNimg.append(dict_topic2FNimg)\n",
    "    list_dict_topic2F1.append(dict_topic2F1)\n",
    "        "
   ]
  },
  {
   "cell_type": "code",
   "execution_count": 68,
   "id": "64a2728f",
   "metadata": {},
   "outputs": [],
   "source": [
    "f = open(\"data/lang_list_dict_topic2FNimg.pkl\",\"wb\")\n",
    "\n",
    "# write the python object (dict) to pickle file\n",
    "pickle.dump(list_dict_topic2FNimg,f)\n",
    "\n",
    "# close file\n",
    "f.close()"
   ]
  },
  {
   "cell_type": "code",
   "execution_count": 69,
   "id": "6df4ddc8",
   "metadata": {},
   "outputs": [],
   "source": [
    "f = open(\"data/lang_list_dict_topic2F1.pkl\",\"wb\")\n",
    "\n",
    "# write the python object (dict) to pickle file\n",
    "pickle.dump(list_dict_topic2F1,f)\n",
    "\n",
    "# close file\n",
    "f.close()"
   ]
  },
  {
   "cell_type": "code",
   "execution_count": null,
   "id": "12628219",
   "metadata": {},
   "outputs": [],
   "source": []
  },
  {
   "cell_type": "code",
   "execution_count": null,
   "id": "e5e2b227",
   "metadata": {},
   "outputs": [],
   "source": []
  },
  {
   "cell_type": "code",
   "execution_count": null,
   "id": "f1ee1052",
   "metadata": {},
   "outputs": [],
   "source": []
  }
 ],
 "metadata": {
  "kernelspec": {
   "display_name": "Python 3 (ipykernel)",
   "language": "python",
   "name": "python3"
  },
  "language_info": {
   "codemirror_mode": {
    "name": "ipython",
    "version": 3
   },
   "file_extension": ".py",
   "mimetype": "text/x-python",
   "name": "python",
   "nbconvert_exporter": "python",
   "pygments_lexer": "ipython3",
   "version": "3.10.9"
  }
 },
 "nbformat": 4,
 "nbformat_minor": 5
}
