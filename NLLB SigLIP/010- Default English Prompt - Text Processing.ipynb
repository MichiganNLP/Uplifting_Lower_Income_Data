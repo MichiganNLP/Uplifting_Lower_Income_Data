{
 "cells": [
  {
   "cell_type": "code",
   "execution_count": 1,
   "id": "ff43253d",
   "metadata": {},
   "outputs": [],
   "source": [
    "path_data = '/data'"
   ]
  },
  {
   "cell_type": "code",
   "execution_count": 2,
   "id": "fbb1c522",
   "metadata": {},
   "outputs": [
    {
     "name": "stdout",
     "output_type": "stream",
     "text": [
      "Torch version: 2.2.1+cu121\n"
     ]
    }
   ],
   "source": [
    "import numpy as np\n",
    "import pandas as pd\n",
    "import matplotlib.pyplot as plt\n",
    "import seaborn as sns \n",
    "import warnings\n",
    "warnings.filterwarnings(\"ignore\")\n",
    "import os\n",
    "\n",
    "import pandas as pd\n",
    "\n",
    "import torch\n",
    "from pkg_resources import packaging\n",
    "from PIL import Image\n",
    "import tqdm\n",
    "from pathlib import Path\n",
    "print(\"Torch version:\", torch.__version__)\n",
    "\n",
    "from PIL import ImageFile\n",
    "ImageFile.LOAD_TRUNCATED_IMAGES = True\n",
    "\n",
    "plt.style.use('ggplot')"
   ]
  },
  {
   "cell_type": "code",
   "execution_count": 3,
   "id": "4c14e84c",
   "metadata": {},
   "outputs": [],
   "source": [
    "data_unfiltered = pd.read_csv(\"/\".join([path_data, \"images_v2.csv\"]))\n",
    "#display(data_unfiltered)"
   ]
  },
  {
   "cell_type": "code",
   "execution_count": 4,
   "id": "f79fed69",
   "metadata": {},
   "outputs": [
    {
     "data": {
      "text/plain": [
       "38479"
      ]
     },
     "execution_count": 4,
     "metadata": {},
     "output_type": "execute_result"
    }
   ],
   "source": [
    "len(data_unfiltered)"
   ]
  },
  {
   "cell_type": "markdown",
   "id": "f7c8d061",
   "metadata": {},
   "source": [
    "### Remove subjective topics"
   ]
  },
  {
   "cell_type": "code",
   "execution_count": 5,
   "id": "e6c18806",
   "metadata": {},
   "outputs": [],
   "source": [
    "subjective_topics = ['Favorite home decorations', 'Favourite item in kitchen', 'Favourite sports clubs', 'How the most loved item is used', 'icons', 'Idols', 'Latest furniture bought', ' looking over the shoulder', 'Most loved item', 'Most loved toy', 'Most played songs on the radio', 'Music idol', 'Next big thing you are planning to buy', 'Playing with most loved toy', 'Thing I dream about having', 'Things I wish I had', 'Using most loved item', 'Youth culture', 'What I wish I could buy']"
   ]
  },
  {
   "cell_type": "code",
   "execution_count": 6,
   "id": "377f14b7",
   "metadata": {},
   "outputs": [],
   "source": [
    "unique_topics = data_unfiltered['topics'].unique()"
   ]
  },
  {
   "cell_type": "code",
   "execution_count": 7,
   "id": "ec2c83fa",
   "metadata": {},
   "outputs": [],
   "source": [
    "Subjective_topic_list = []\n",
    "\n",
    "for topic in unique_topics:\n",
    "    topic_ = topic.replace('/ ', ', ')\n",
    "    topic_split = topic_.split(',')\n",
    "    for split in topic_split:\n",
    "        if split in subjective_topics:\n",
    "            Subjective_topic_list.append(topic)"
   ]
  },
  {
   "cell_type": "code",
   "execution_count": 8,
   "id": "d4d490bb",
   "metadata": {},
   "outputs": [
    {
     "data": {
      "text/html": [
       "<div>\n",
       "<style scoped>\n",
       "    .dataframe tbody tr th:only-of-type {\n",
       "        vertical-align: middle;\n",
       "    }\n",
       "\n",
       "    .dataframe tbody tr th {\n",
       "        vertical-align: top;\n",
       "    }\n",
       "\n",
       "    .dataframe thead th {\n",
       "        text-align: right;\n",
       "    }\n",
       "</style>\n",
       "<table border=\"1\" class=\"dataframe\">\n",
       "  <thead>\n",
       "    <tr style=\"text-align: right;\">\n",
       "      <th></th>\n",
       "      <th>id</th>\n",
       "      <th>country.name</th>\n",
       "      <th>country.id</th>\n",
       "      <th>region.id</th>\n",
       "      <th>type</th>\n",
       "      <th>imageRelPath</th>\n",
       "      <th>topics</th>\n",
       "      <th>place</th>\n",
       "      <th>income</th>\n",
       "    </tr>\n",
       "  </thead>\n",
       "  <tbody>\n",
       "    <tr>\n",
       "      <th>1</th>\n",
       "      <td>5d4bf31ccf0b3a0f3f359814</td>\n",
       "      <td>Burundi</td>\n",
       "      <td>bi</td>\n",
       "      <td>af</td>\n",
       "      <td>image</td>\n",
       "      <td>assets/5d4bf31ccf0b3a0f3f359814/5d4bf31ccf0b3a...</td>\n",
       "      <td>Family snapshots</td>\n",
       "      <td>butoyi</td>\n",
       "      <td>26.994581</td>\n",
       "    </tr>\n",
       "    <tr>\n",
       "      <th>2</th>\n",
       "      <td>5d4bf31ccf0b3a0f3f35982a</td>\n",
       "      <td>Burundi</td>\n",
       "      <td>bi</td>\n",
       "      <td>af</td>\n",
       "      <td>image</td>\n",
       "      <td>assets/5d4bf31ccf0b3a0f3f35982a/5d4bf31ccf0b3a...</td>\n",
       "      <td>Cutlery</td>\n",
       "      <td>butoyi</td>\n",
       "      <td>26.994581</td>\n",
       "    </tr>\n",
       "    <tr>\n",
       "      <th>3</th>\n",
       "      <td>5d4bf31ccf0b3a0f3f35982e</td>\n",
       "      <td>Burundi</td>\n",
       "      <td>bi</td>\n",
       "      <td>af</td>\n",
       "      <td>image</td>\n",
       "      <td>assets/5d4bf31ccf0b3a0f3f35982e/5d4bf31ccf0b3a...</td>\n",
       "      <td>Family</td>\n",
       "      <td>butoyi</td>\n",
       "      <td>26.994581</td>\n",
       "    </tr>\n",
       "    <tr>\n",
       "      <th>4</th>\n",
       "      <td>5d4bf31ccf0b3a0f3f359830</td>\n",
       "      <td>Burundi</td>\n",
       "      <td>bi</td>\n",
       "      <td>af</td>\n",
       "      <td>image</td>\n",
       "      <td>assets/5d4bf31ccf0b3a0f3f359830/5d4bf31ccf0b3a...</td>\n",
       "      <td>Place where eating dinner</td>\n",
       "      <td>butoyi</td>\n",
       "      <td>26.994581</td>\n",
       "    </tr>\n",
       "    <tr>\n",
       "      <th>5</th>\n",
       "      <td>5d4bf31dcf0b3a0f3f35983c</td>\n",
       "      <td>Burundi</td>\n",
       "      <td>bi</td>\n",
       "      <td>af</td>\n",
       "      <td>image</td>\n",
       "      <td>assets/5d4bf31dcf0b3a0f3f35983c/5d4bf31dcf0b3a...</td>\n",
       "      <td>Plate of food</td>\n",
       "      <td>butoyi</td>\n",
       "      <td>26.994581</td>\n",
       "    </tr>\n",
       "    <tr>\n",
       "      <th>...</th>\n",
       "      <td>...</td>\n",
       "      <td>...</td>\n",
       "      <td>...</td>\n",
       "      <td>...</td>\n",
       "      <td>...</td>\n",
       "      <td>...</td>\n",
       "      <td>...</td>\n",
       "      <td>...</td>\n",
       "      <td>...</td>\n",
       "    </tr>\n",
       "    <tr>\n",
       "      <th>38474</th>\n",
       "      <td>5ec4f5513f62767d97a47324</td>\n",
       "      <td>France</td>\n",
       "      <td>fr</td>\n",
       "      <td>eu</td>\n",
       "      <td>image</td>\n",
       "      <td>assets/5ec4f5513f62767d97a47324/5ec4f5513f6276...</td>\n",
       "      <td>Bed</td>\n",
       "      <td>larriere</td>\n",
       "      <td>19671.000000</td>\n",
       "    </tr>\n",
       "    <tr>\n",
       "      <th>38475</th>\n",
       "      <td>5ec4f5513f62767d97a47325</td>\n",
       "      <td>France</td>\n",
       "      <td>fr</td>\n",
       "      <td>eu</td>\n",
       "      <td>image</td>\n",
       "      <td>assets/5ec4f5513f62767d97a47325/5ec4f5513f6276...</td>\n",
       "      <td>Bathroom/Toilet</td>\n",
       "      <td>larriere</td>\n",
       "      <td>19671.000000</td>\n",
       "    </tr>\n",
       "    <tr>\n",
       "      <th>38476</th>\n",
       "      <td>5ec4f5523f62767d97a47327</td>\n",
       "      <td>France</td>\n",
       "      <td>fr</td>\n",
       "      <td>eu</td>\n",
       "      <td>image</td>\n",
       "      <td>assets/5ec4f5523f62767d97a47327/5ec4f5523f6276...</td>\n",
       "      <td>Armchair</td>\n",
       "      <td>larriere</td>\n",
       "      <td>19671.000000</td>\n",
       "    </tr>\n",
       "    <tr>\n",
       "      <th>38477</th>\n",
       "      <td>5ec4f5523f62767d97a47328</td>\n",
       "      <td>France</td>\n",
       "      <td>fr</td>\n",
       "      <td>eu</td>\n",
       "      <td>image</td>\n",
       "      <td>assets/5ec4f5523f62767d97a47328/5ec4f5523f6276...</td>\n",
       "      <td>Armchair</td>\n",
       "      <td>larriere</td>\n",
       "      <td>19671.000000</td>\n",
       "    </tr>\n",
       "    <tr>\n",
       "      <th>38478</th>\n",
       "      <td>5ecfdf1f581a3d02cf7f8c05</td>\n",
       "      <td>France</td>\n",
       "      <td>fr</td>\n",
       "      <td>eu</td>\n",
       "      <td>image</td>\n",
       "      <td>assets/5ecfdf1f581a3d02cf7f8c05/5ecfdf1f581a3d...</td>\n",
       "      <td>Family</td>\n",
       "      <td>larriere</td>\n",
       "      <td>19671.000000</td>\n",
       "    </tr>\n",
       "  </tbody>\n",
       "</table>\n",
       "<p>36754 rows × 9 columns</p>\n",
       "</div>"
      ],
      "text/plain": [
       "                             id country.name country.id region.id   type  \\\n",
       "1      5d4bf31ccf0b3a0f3f359814      Burundi         bi        af  image   \n",
       "2      5d4bf31ccf0b3a0f3f35982a      Burundi         bi        af  image   \n",
       "3      5d4bf31ccf0b3a0f3f35982e      Burundi         bi        af  image   \n",
       "4      5d4bf31ccf0b3a0f3f359830      Burundi         bi        af  image   \n",
       "5      5d4bf31dcf0b3a0f3f35983c      Burundi         bi        af  image   \n",
       "...                         ...          ...        ...       ...    ...   \n",
       "38474  5ec4f5513f62767d97a47324       France         fr        eu  image   \n",
       "38475  5ec4f5513f62767d97a47325       France         fr        eu  image   \n",
       "38476  5ec4f5523f62767d97a47327       France         fr        eu  image   \n",
       "38477  5ec4f5523f62767d97a47328       France         fr        eu  image   \n",
       "38478  5ecfdf1f581a3d02cf7f8c05       France         fr        eu  image   \n",
       "\n",
       "                                            imageRelPath  \\\n",
       "1      assets/5d4bf31ccf0b3a0f3f359814/5d4bf31ccf0b3a...   \n",
       "2      assets/5d4bf31ccf0b3a0f3f35982a/5d4bf31ccf0b3a...   \n",
       "3      assets/5d4bf31ccf0b3a0f3f35982e/5d4bf31ccf0b3a...   \n",
       "4      assets/5d4bf31ccf0b3a0f3f359830/5d4bf31ccf0b3a...   \n",
       "5      assets/5d4bf31dcf0b3a0f3f35983c/5d4bf31dcf0b3a...   \n",
       "...                                                  ...   \n",
       "38474  assets/5ec4f5513f62767d97a47324/5ec4f5513f6276...   \n",
       "38475  assets/5ec4f5513f62767d97a47325/5ec4f5513f6276...   \n",
       "38476  assets/5ec4f5523f62767d97a47327/5ec4f5523f6276...   \n",
       "38477  assets/5ec4f5523f62767d97a47328/5ec4f5523f6276...   \n",
       "38478  assets/5ecfdf1f581a3d02cf7f8c05/5ecfdf1f581a3d...   \n",
       "\n",
       "                          topics     place        income  \n",
       "1               Family snapshots    butoyi     26.994581  \n",
       "2                        Cutlery    butoyi     26.994581  \n",
       "3                         Family    butoyi     26.994581  \n",
       "4      Place where eating dinner    butoyi     26.994581  \n",
       "5                  Plate of food    butoyi     26.994581  \n",
       "...                          ...       ...           ...  \n",
       "38474                        Bed  larriere  19671.000000  \n",
       "38475            Bathroom/Toilet  larriere  19671.000000  \n",
       "38476                   Armchair  larriere  19671.000000  \n",
       "38477                   Armchair  larriere  19671.000000  \n",
       "38478                     Family  larriere  19671.000000  \n",
       "\n",
       "[36754 rows x 9 columns]"
      ]
     },
     "metadata": {},
     "output_type": "display_data"
    }
   ],
   "source": [
    "data = data_unfiltered[~data_unfiltered['topics'].isin(Subjective_topic_list)]\n",
    "display(data)"
   ]
  },
  {
   "cell_type": "code",
   "execution_count": 9,
   "id": "964d0123",
   "metadata": {},
   "outputs": [
    {
     "data": {
      "text/plain": [
       "36754"
      ]
     },
     "execution_count": 9,
     "metadata": {},
     "output_type": "execute_result"
    }
   ],
   "source": [
    "len(data)"
   ]
  },
  {
   "cell_type": "markdown",
   "id": "eed9dd80",
   "metadata": {},
   "source": [
    "### Split topics"
   ]
  },
  {
   "cell_type": "code",
   "execution_count": 10,
   "id": "3903710d",
   "metadata": {
    "scrolled": true
   },
   "outputs": [
    {
     "name": "stdout",
     "output_type": "stream",
     "text": [
      "45692\n",
      "270\n"
     ]
    }
   ],
   "source": [
    "from collections import Counter\n",
    "list_topics = list(data['topics'])\n",
    "\n",
    "\n",
    "separate_topics = [t.lower().strip() for topic in list_topics for t in topic.split(\",\") ]\n",
    "\n",
    "\n",
    "print(len(separate_topics))\n",
    "#print(Counter(separate_topics))\n",
    "set_topics = list(set(separate_topics))\n",
    "print(len(set_topics))"
   ]
  },
  {
   "cell_type": "code",
   "execution_count": 11,
   "id": "ae6fbeeb",
   "metadata": {},
   "outputs": [
    {
     "name": "stdout",
     "output_type": "stream",
     "text": [
      "270\n"
     ]
    }
   ],
   "source": [
    "# map each topic to list of corresponding images\n",
    "dict_topic2img = {}\n",
    "for list_topics, image_path in zip(data['topics'], data['imageRelPath']):\n",
    "    for topic in list_topics.split(\",\"):\n",
    "        topic = topic.lower().strip()\n",
    "        if topic not in dict_topic2img:\n",
    "            dict_topic2img[topic] = set() #### here a set was used in place of list to avoid duplicate where keyword appears twice in a topic\n",
    "        dict_topic2img[topic].add(image_path)\n",
    "\n",
    "print(len(dict_topic2img))"
   ]
  },
  {
   "cell_type": "code",
   "execution_count": 12,
   "id": "58681a22",
   "metadata": {},
   "outputs": [
    {
     "name": "stdout",
     "output_type": "stream",
     "text": [
      "45616\n"
     ]
    }
   ],
   "source": [
    "#sanity checks \n",
    "\n",
    "ground_truth_counts = [len(dict_topic2img[i]) for i in dict_topic2img]\n",
    "print(sum(ground_truth_counts))"
   ]
  },
  {
   "cell_type": "code",
   "execution_count": 13,
   "id": "cd8f6afc",
   "metadata": {},
   "outputs": [],
   "source": [
    "topics = dict_topic2img.keys()"
   ]
  },
  {
   "cell_type": "code",
   "execution_count": null,
   "id": "d990669c",
   "metadata": {},
   "outputs": [],
   "source": []
  },
  {
   "cell_type": "markdown",
   "id": "20629a42",
   "metadata": {},
   "source": [
    "# Create prompts for the text encoder"
   ]
  },
  {
   "cell_type": "code",
   "execution_count": 14,
   "id": "e1f9b270",
   "metadata": {},
   "outputs": [],
   "source": [
    "temp = \"This is a photo of \"\n",
    "English_topics = [temp + topic for topic in topics]"
   ]
  },
  {
   "cell_type": "code",
   "execution_count": 15,
   "id": "ea685fd6",
   "metadata": {},
   "outputs": [],
   "source": [
    "#English_topics"
   ]
  },
  {
   "cell_type": "code",
   "execution_count": 16,
   "id": "4a3df851",
   "metadata": {},
   "outputs": [],
   "source": [
    "topic2english = {}\n",
    "for topic, prompt in zip(topics, English_topics):\n",
    "    topic2english[topic] = prompt"
   ]
  },
  {
   "cell_type": "code",
   "execution_count": 17,
   "id": "d217ca79",
   "metadata": {},
   "outputs": [
    {
     "data": {
      "text/plain": [
       "'This is a photo of family snapshots'"
      ]
     },
     "execution_count": 17,
     "metadata": {},
     "output_type": "execute_result"
    }
   ],
   "source": [
    "topic2english['family snapshots']"
   ]
  },
  {
   "cell_type": "code",
   "execution_count": 18,
   "id": "cdde580b",
   "metadata": {},
   "outputs": [
    {
     "name": "stdout",
     "output_type": "stream",
     "text": [
      "270\n"
     ]
    }
   ],
   "source": [
    "english_dict_topic2imgGT = {}\n",
    "\n",
    "for topic in topics:\n",
    "    key = topic2english[topic]\n",
    "    english_dict_topic2imgGT[key] = dict_topic2img[topic]\n",
    "print(len(english_dict_topic2imgGT))"
   ]
  },
  {
   "cell_type": "code",
   "execution_count": null,
   "id": "9feff791",
   "metadata": {
    "scrolled": true
   },
   "outputs": [],
   "source": []
  },
  {
   "cell_type": "markdown",
   "id": "8a959379",
   "metadata": {},
   "source": [
    "### Load img embeddings"
   ]
  },
  {
   "cell_type": "code",
   "execution_count": 21,
   "id": "5fe2d7df",
   "metadata": {},
   "outputs": [],
   "source": [
    "import pickle\n",
    "with open(\"nllb_img_embedding.pkl\", 'rb') as f:\n",
    "    img_embedding = pickle.load(f)"
   ]
  },
  {
   "cell_type": "code",
   "execution_count": 22,
   "id": "adb02996",
   "metadata": {},
   "outputs": [
    {
     "data": {
      "text/plain": [
       "torch.Size([36754, 1152])"
      ]
     },
     "execution_count": 22,
     "metadata": {},
     "output_type": "execute_result"
    }
   ],
   "source": [
    "img_embedding.shape"
   ]
  },
  {
   "cell_type": "markdown",
   "id": "6370247f",
   "metadata": {},
   "source": [
    "## Cosine sim for default english_prompts and imgs"
   ]
  },
  {
   "cell_type": "code",
   "execution_count": 25,
   "id": "5db263cb",
   "metadata": {},
   "outputs": [],
   "source": [
    "from sentence_transformers import SentenceTransformer, util\n",
    "from open_clip import get_tokenizer\n",
    "\n",
    "from open_clip import create_model_from_pretrained\n",
    "from PIL import Image, ImageFile\n",
    "import timm"
   ]
  },
  {
   "cell_type": "code",
   "execution_count": 26,
   "id": "1a46cf1f",
   "metadata": {},
   "outputs": [],
   "source": [
    "# Load model directly\n",
    "from transformers import AutoProcessor, AutoModel\n",
    "\n",
    "model, transform = create_model_from_pretrained(\"nllb-clip-large-siglip\", \"v1\", device=\"cuda\")\n",
    "model = model.eval()"
   ]
  },
  {
   "cell_type": "code",
   "execution_count": 27,
   "id": "745d6146",
   "metadata": {},
   "outputs": [],
   "source": [
    "from open_clip import get_tokenizer\n",
    "\n",
    "tokenizer = get_tokenizer(\"nllb-clip-large-siglip\")"
   ]
  },
  {
   "cell_type": "code",
   "execution_count": 29,
   "id": "270fe550",
   "metadata": {
    "scrolled": true
   },
   "outputs": [
    {
     "name": "stderr",
     "output_type": "stream",
     "text": [
      "100%|██████████| 1/1 [00:09<00:00,  9.52s/it]\n"
     ]
    }
   ],
   "source": [
    "#list_english_score_dicts = []\n",
    "for english_prompt in tqdm.tqdm([english_dict_topic2imgGT]):\n",
    "    text = list(english_prompt.keys())\n",
    "    text_langs = 'eng_Latn'\n",
    "    text_inputs = []\n",
    "    for i in range(len(text)):\n",
    "        tokenizer.set_language(text_langs)\n",
    "        text_inputs.append(tokenizer(text[i]))\n",
    "\n",
    "    text_inputs = torch.stack(text_inputs).squeeze(1)\n",
    "    text_inputs = text_inputs.to(\"cuda\")\n",
    "    \n",
    "    with torch.no_grad():\n",
    "        text_features = model.encode_text(text_inputs)\n",
    "        text_features /= text_features.norm(dim=-1, keepdim=True)\n",
    "    \n",
    "    #text_emb = text_model.encode(text, convert_to_tensor=True, show_progress_bar=False)\n",
    "    cossim = util.cos_sim(text_features, img_embedding)\n",
    "    cos_sim = cossim.cpu().numpy()\n",
    "    \n",
    "    dict_topic2score = {}\n",
    "    for i, topic in enumerate(english_prompt.keys()):\n",
    "        clip_scores = cos_sim[i] # clip scores between topic and images from data['imageRelPath']\n",
    "        \n",
    "        list_scores_img = list(zip(clip_scores, data['imageRelPath'], data['topics'])) # ******\n",
    "        dict_topic2score[topic] = sorted(list_scores_img, key = lambda x: x[0], reverse=True)\n",
    "        \n",
    "    #list_english_score_dicts.append(dict_topic2score)"
   ]
  },
  {
   "cell_type": "code",
   "execution_count": 30,
   "id": "b0eba927",
   "metadata": {},
   "outputs": [
    {
     "data": {
      "text/plain": [
       "270"
      ]
     },
     "execution_count": 30,
     "metadata": {},
     "output_type": "execute_result"
    }
   ],
   "source": [
    "len(dict_topic2score)"
   ]
  },
  {
   "cell_type": "code",
   "execution_count": 31,
   "id": "9e453511",
   "metadata": {},
   "outputs": [],
   "source": [
    "import pickle\n",
    "f = open(\"dict_topic2score.pkl\",\"wb\")\n",
    "\n",
    "# write the python object (dict) to pickle file\n",
    "pickle.dump(dict_topic2score,f)\n",
    "\n",
    "# close file\n",
    "f.close()"
   ]
  },
  {
   "cell_type": "code",
   "execution_count": 13,
   "id": "28ef3561",
   "metadata": {},
   "outputs": [],
   "source": [
    "import pickle\n",
    "with open(\"dict_topic2score.pkl\", 'rb') as f:\n",
    "    dict_topic2score = pickle.load(f)"
   ]
  },
  {
   "cell_type": "markdown",
   "id": "c0298fd6",
   "metadata": {},
   "source": [
    "### Score Processing"
   ]
  },
  {
   "cell_type": "code",
   "execution_count": 33,
   "id": "c312d1d5",
   "metadata": {},
   "outputs": [],
   "source": [
    "labels=[\"poor\", \"lower-middle\", \"upper-middle\", \"rich\"]\n",
    "\n",
    "#list_of_topic2prompt_dict[1]\n",
    "data[\"quartile\"] = pd.qcut(data[\"income\"], q=[0, 0.25, 0.5, 0.75, 1],    \n",
    "                         labels=labels)"
   ]
  },
  {
   "cell_type": "code",
   "execution_count": 34,
   "id": "4e45cd20",
   "metadata": {},
   "outputs": [
    {
     "name": "stdout",
     "output_type": "stream",
     "text": [
      "36754\n"
     ]
    }
   ],
   "source": [
    "# map each image to corresponding topics, countries, income level ... TODO\n",
    "dict_img2topic, dict_img2country, dict_img2incomelevel, dict_country2region = {}, {}, {}, {}\n",
    "for list_topics, image_path, country, incomelevel, region in zip(data['topics'], data['imageRelPath'], data['country.name'], data['quartile'], data['region.id']):\n",
    "    dict_img2topic[image_path] = list_topics\n",
    "    dict_img2country[image_path] = country\n",
    "    dict_img2incomelevel[image_path] = incomelevel\n",
    "    dict_country2region[country] = region\n",
    "\n",
    "print(len(dict_img2topic))\n",
    "# print(dict_img2country)"
   ]
  },
  {
   "cell_type": "code",
   "execution_count": 35,
   "id": "70fbd6c4",
   "metadata": {},
   "outputs": [
    {
     "name": "stdout",
     "output_type": "stream",
     "text": [
      "This is a photo of family snapshots\n",
      "This is a photo of cutlery\n",
      "This is a photo of family\n",
      "This is a photo of place where eating dinner\n",
      "This is a photo of plate of food\n",
      "This is a photo of table with food\n",
      "This is a photo of get water\n",
      "This is a photo of stove/hob\n",
      "This is a photo of light source in kitchen\n",
      "This is a photo of drinking water\n",
      "This is a photo of kitchen sink\n",
      "This is a photo of bathroom privacy\n",
      "This is a photo of backyard\n",
      "This is a photo of front door\n",
      "This is a photo of home\n",
      "This is a photo of source of cool\n",
      "This is a photo of street view\n",
      "This is a photo of teeth\n",
      "This is a photo of hand back\n",
      "This is a photo of hand palm\n",
      "This is a photo of pet\n",
      "This is a photo of bedroom\n",
      "This is a photo of grains\n",
      "This is a photo of wardrobe\n",
      "This is a photo of armchair\n",
      "This is a photo of hallway\n",
      "This is a photo of kitchen\n",
      "This is a photo of books\n",
      "This is a photo of everyday shoes\n",
      "This is a photo of hand washing\n",
      "This is a photo of trash/waste\n",
      "This is a photo of tools\n",
      "This is a photo of hair brush/comb\n",
      "This is a photo of street detail\n",
      "This is a photo of soap for hands and body\n",
      "This is a photo of shampoo\n",
      "This is a photo of vegetable plot\n",
      "This is a photo of roof\n",
      "This is a photo of toilet\n",
      "This is a photo of spices\n",
      "This is a photo of salt\n",
      "This is a photo of jewelry\n",
      "This is a photo of cooking utensils\n",
      "This is a photo of dish washing brush/cloth\n",
      "This is a photo of cooking pots\n",
      "This is a photo of plates\n",
      "This is a photo of cups/mugs/glasses\n",
      "This is a photo of wall\n",
      "This is a photo of cattle\n",
      "This is a photo of ceiling\n",
      "This is a photo of bed\n",
      "This is a photo of storage room\n",
      "This is a photo of refrigerator\n",
      "This is a photo of floor\n",
      "This is a photo of wall inside\n",
      "This is a photo of tooth paste\n",
      "This is a photo of toothbrush\n",
      "This is a photo of goats\n",
      "This is a photo of cleaning equipment\n",
      "This is a photo of cleaning after toilet\n",
      "This is a photo of visit\n",
      "This is a photo of hand open to closed\n",
      "This is a photo of brushing teeth\n",
      "This is a photo of using toilet\n",
      "This is a photo of doing dishes\n",
      "This is a photo of pouring drinking water\n",
      "This is a photo of pouring water\n",
      "This is a photo of starting stove\n",
      "This is a photo of cooking\n",
      "This is a photo of preparing food\n",
      "This is a photo of shoes\n",
      "This is a photo of washing hands\n",
      "This is a photo of walking to get water\n",
      "This is a photo of washing clothes/cleaning\n",
      "This is a photo of eating\n",
      "This is a photo of family eating\n",
      "This is a photo of vegetables\n",
      "This is a photo of smoke and steam exit\n",
      "This is a photo of fruits and vegetables\n",
      "This is a photo of toys\n",
      "This is a photo of nicest shoes\n",
      "This is a photo of mosquito protection\n",
      "This is a photo of wall decoration\n",
      "This is a photo of living room\n",
      "This is a photo of fruit trees\n",
      "This is a photo of toilet paper\n",
      "This is a photo of bathroom/toilet\n",
      "This is a photo of shaving\n",
      "This is a photo of lock on front door\n",
      "This is a photo of couch\n",
      "This is a photo of sofa\n",
      "This is a photo of knifes\n",
      "This is a photo of dish racks\n",
      "This is a photo of play area\n",
      "This is a photo of place where serving guests\n",
      "This is a photo of photo guide images\n",
      "This is a photo of agriculture land\n",
      "This is a photo of sitting area\n",
      "This is a photo of bed kids\n",
      "This is a photo of drying\n",
      "This is a photo of water outlet\n",
      "This is a photo of drainage\n",
      "This is a photo of shower\n",
      "This is a photo of house overview\n",
      "This is a photo of socializing\n",
      "This is a photo of playing\n",
      "This is a photo of kids playing outside\n",
      "This is a photo of chopping food\n",
      "This is a photo of chickens\n",
      "This is a photo of bike\n",
      "This is a photo of source of heat\n",
      "This is a photo of phone\n",
      "This is a photo of work area\n",
      "This is a photo of children room\n",
      "This is a photo of light source in livingroom\n",
      "This is a photo of washing detergent\n",
      "This is a photo of medication\n",
      "This is a photo of dish washing soap\n",
      "This is a photo of turning lights on and off\n",
      "This is a photo of source of light\n",
      "This is a photo of wall clock\n",
      "This is a photo of guest bed\n",
      "This is a photo of diapers (or baby-pants)\n",
      "This is a photo of switch on/off\n",
      "This is a photo of pen/pencils\n",
      "This is a photo of paper\n",
      "This is a photo of rug\n",
      "This is a photo of bed_hq\n",
      "This is a photo of social drink\n",
      "This is a photo of carrying water\n",
      "This is a photo of light sources\n",
      "This is a photo of music equipment\n",
      "This is a photo of frontdoor keys\n",
      "This is a photo of lightsources by bed\n",
      "This is a photo of reading light\n",
      "This is a photo of necklaces\n",
      "This is a photo of earings\n",
      "This is a photo of cosmetics\n",
      "This is a photo of cleaning floors\n",
      "This is a photo of make up\n",
      "This is a photo of putting on make up\n",
      "This is a photo of chopping ingredients\n",
      "This is a photo of brushing hair\n",
      "This is a photo of taking a teaspoon of salt\n",
      "This is a photo of drinking social drink\n",
      "This is a photo of meat or fish\n",
      "This is a photo of replaced\n",
      "This is a photo of radio\n",
      "This is a photo of listening to the radio\n",
      "This is a photo of coins\n",
      "This is a photo of pet foods\n",
      "This is a photo of menstruation pads / tampax\n",
      "This is a photo of dinner guests\n",
      "This is a photo of nature sceneries\n",
      "This is a photo of worship places\n",
      "This is a photo of power outlet\n",
      "This is a photo of glasses or lenses\n",
      "This is a photo of adding spices to food while cooking\n",
      "This is a photo of presenting dollar street\n",
      "This is a photo of worshipping\n",
      "This is a photo of writing\n",
      "This is a photo of writing signature\n",
      "This is a photo of tv\n",
      "This is a photo of fishes\n",
      "This is a photo of bowls\n",
      "This is a photo of kids playing inside\n",
      "This is a photo of bills of money\n",
      "This is a photo of coats and jackets\n",
      "This is a photo of surroundings\n",
      "This is a photo of moped/motorcycle\n",
      "This is a photo of parking lot\n",
      "This is a photo of toothpaste on toothbrush\n",
      "This is a photo of wheel barrow\n",
      "This is a photo of waste dumps\n",
      "This is a photo of wedding photos\n",
      "This is a photo of ventilation\n",
      "This is a photo of milk cows or bulls\n",
      "This is a photo of answering the phone\n",
      "This is a photo of closing the front door\n",
      "This is a photo of hanging clothes to dry\n",
      "This is a photo of opening the front door\n",
      "This is a photo of reading\n",
      "This is a photo of reading a book\n",
      "This is a photo of seeing the back of book\n",
      "This is a photo of sleeping\n",
      "This is a photo of turning fan/ac on\n",
      "This is a photo of turning heater on\n",
      "This is a photo of walking towards front door\n",
      "This is a photo of writing \"home\"\n",
      "This is a photo of piercings\n",
      "This is a photo of fishing equipment\n",
      "This is a photo of arm watch\n",
      "This is a photo of soccer balls\n",
      "This is a photo of horse stables\n",
      "This is a photo of playgrounds\n",
      "This is a photo of drinks\n",
      "This is a photo of other transport\n",
      "This is a photo of car\n",
      "This is a photo of car decorations\n",
      "This is a photo of transport of heavy things\n",
      "This is a photo of clothes\n",
      "This is a photo of cigarettes\n",
      "This is a photo of portraits\n",
      "This is a photo of ingredients\n",
      "This is a photo of fields\n",
      "This is a photo of celebrity posters\n",
      "This is a photo of freezer\n",
      "This is a photo of boat\n",
      "This is a photo of arm watches\n",
      "This is a photo of sitting and watching tv\n",
      "This is a photo of plugging into and out of power outlet\n",
      "This is a photo of dishwasher\n",
      "This is a photo of oven\n",
      "This is a photo of baby powder\n",
      "This is a photo of tattoos\n",
      "This is a photo of sheep\n",
      "This is a photo of preparing social drink\n",
      "This is a photo of go through mail\n",
      "This is a photo of smoking\n",
      "This is a photo of walking through home\n",
      "This is a photo of computer\n",
      "This is a photo of contraceptives\n",
      "This is a photo of instrument\n",
      "This is a photo of rehabilitation technology\n",
      "This is a photo of turn tv on\n",
      "This is a photo of playing an instrument\n",
      "This is a photo of bread ready\n",
      "This is a photo of alcoholic drinks\n",
      "This is a photo of snacks\n",
      "This is a photo of alarm clock\n",
      "This is a photo of throwing food trash away\n",
      "This is a photo of car keys\n",
      "This is a photo of tractors\n",
      "This is a photo of opening and closing the refrigerator\n",
      "This is a photo of water sources\n",
      "This is a photo of opening and closing the freezer\n",
      "This is a photo of horses\n",
      "This is a photo of water sources for doing dishes\n",
      "This is a photo of soccer supporter items\n",
      "This is a photo of cooking food\n",
      "This is a photo of snack stores\n",
      "This is a photo of daylight ostructions\n",
      "This is a photo of smog/bad air breathing protection\n",
      "This is a photo of bad outdoor air obstructions\n",
      "This is a photo of skies outside\n",
      "This is a photo of sources of drinking water\n",
      "This is a photo of laying in bed - pretend to sleep\n",
      "This is a photo of newspapers\n",
      "This is a photo of elevators\n",
      "This is a photo of water purifier solutions\n",
      "This is a photo of air fresheners (scents\n",
      "This is a photo of smells)\n",
      "This is a photo of air cleaning equipments\n",
      "This is a photo of foodstores\n",
      "This is a photo of markets\n",
      "This is a photo of picking up the phone\n",
      "This is a photo of bread - ready\n",
      "This is a photo of opening mail\n",
      "This is a photo of meat storages\n",
      "This is a photo of bread bowls\n",
      "This is a photo of disability aid\n",
      "This is a photo of electric wires\n",
      "This is a photo of tabloids\n",
      "This is a photo of equipment\n",
      "This is a photo of baking tools\n",
      "This is a photo of baking sheets\n",
      "This is a photo of baking tables\n",
      "This is a photo of electricity wires\n",
      "This is a photo of meat markets\n",
      "This is a photo of vegetable markets\n"
     ]
    }
   ],
   "source": [
    "for topic in dict_topic2score.keys():\n",
    "    print(topic)"
   ]
  },
  {
   "cell_type": "code",
   "execution_count": 36,
   "id": "7bacdd4b",
   "metadata": {
    "scrolled": true
   },
   "outputs": [
    {
     "name": "stderr",
     "output_type": "stream",
     "text": [
      "  0%|          | 1/270 [00:00<00:54,  4.98it/s]"
     ]
    },
    {
     "name": "stdout",
     "output_type": "stream",
     "text": [
      "Acc: 99.57, Recall: 22.55, Precision: 22.55, F1: 22.55\n"
     ]
    },
    {
     "name": "stderr",
     "output_type": "stream",
     "text": [
      "\r",
      "  1%|          | 2/270 [00:00<01:10,  3.79it/s]"
     ]
    },
    {
     "name": "stdout",
     "output_type": "stream",
     "text": [
      "Acc: 98.71, Recall: 21.26, Precision: 21.26, F1: 21.26\n"
     ]
    },
    {
     "name": "stderr",
     "output_type": "stream",
     "text": [
      "\r",
      "  1%|          | 3/270 [00:00<01:30,  2.95it/s]"
     ]
    },
    {
     "name": "stdout",
     "output_type": "stream",
     "text": [
      "Acc: 98.8, Recall: 57.34, Precision: 57.34, F1: 57.34\n"
     ]
    },
    {
     "name": "stderr",
     "output_type": "stream",
     "text": [
      "\r",
      "  1%|▏         | 4/270 [00:01<01:31,  2.90it/s]"
     ]
    },
    {
     "name": "stdout",
     "output_type": "stream",
     "text": [
      "Acc: 98.45, Recall: 24.87, Precision: 24.87, F1: 24.87\n"
     ]
    },
    {
     "name": "stderr",
     "output_type": "stream",
     "text": [
      "\r",
      "  2%|▏         | 5/270 [00:01<01:33,  2.85it/s]"
     ]
    },
    {
     "name": "stdout",
     "output_type": "stream",
     "text": [
      "Acc: 98.97, Recall: 52.27, Precision: 52.27, F1: 52.27\n"
     ]
    },
    {
     "name": "stderr",
     "output_type": "stream",
     "text": [
      "\r",
      "  2%|▏         | 6/270 [00:01<01:25,  3.08it/s]"
     ]
    },
    {
     "name": "stdout",
     "output_type": "stream",
     "text": [
      "Acc: 99.25, Recall: 41.28, Precision: 41.28, F1: 41.28\n"
     ]
    },
    {
     "name": "stderr",
     "output_type": "stream",
     "text": [
      "\r",
      "  3%|▎         | 7/270 [00:02<01:21,  3.24it/s]"
     ]
    },
    {
     "name": "stdout",
     "output_type": "stream",
     "text": [
      "Acc: 98.91, Recall: 13.79, Precision: 13.79, F1: 13.79\n"
     ]
    },
    {
     "name": "stderr",
     "output_type": "stream",
     "text": [
      "\r",
      "  3%|▎         | 8/270 [00:02<01:27,  2.98it/s]"
     ]
    },
    {
     "name": "stdout",
     "output_type": "stream",
     "text": [
      "Acc: 98.8, Recall: 50.23, Precision: 50.23, F1: 50.23\n"
     ]
    },
    {
     "name": "stderr",
     "output_type": "stream",
     "text": [
      "\r",
      "  3%|▎         | 9/270 [00:02<01:25,  3.04it/s]"
     ]
    },
    {
     "name": "stdout",
     "output_type": "stream",
     "text": [
      "Acc: 98.81, Recall: 29.13, Precision: 29.13, F1: 29.13\n"
     ]
    },
    {
     "name": "stderr",
     "output_type": "stream",
     "text": [
      "\r",
      "  4%|▎         | 10/270 [00:03<01:31,  2.84it/s]"
     ]
    },
    {
     "name": "stdout",
     "output_type": "stream",
     "text": [
      "Acc: 98.31, Recall: 36.34, Precision: 36.34, F1: 36.34\n"
     ]
    },
    {
     "name": "stderr",
     "output_type": "stream",
     "text": [
      "\r",
      "  4%|▍         | 11/270 [00:03<01:36,  2.70it/s]"
     ]
    },
    {
     "name": "stdout",
     "output_type": "stream",
     "text": [
      "Acc: 98.41, Recall: 39.17, Precision: 39.17, F1: 39.17\n"
     ]
    },
    {
     "name": "stderr",
     "output_type": "stream",
     "text": [
      "\r",
      "  4%|▍         | 12/270 [00:04<01:34,  2.74it/s]"
     ]
    },
    {
     "name": "stdout",
     "output_type": "stream",
     "text": [
      "Acc: 98.45, Recall: 22.76, Precision: 22.76, F1: 22.76\n"
     ]
    },
    {
     "name": "stderr",
     "output_type": "stream",
     "text": [
      "\r",
      "  5%|▍         | 13/270 [00:04<01:27,  2.94it/s]"
     ]
    },
    {
     "name": "stdout",
     "output_type": "stream",
     "text": [
      "Acc: 98.99, Recall: 25.1, Precision: 25.1, F1: 25.1\n"
     ]
    },
    {
     "name": "stderr",
     "output_type": "stream",
     "text": [
      "\r",
      "  5%|▌         | 14/270 [00:04<01:29,  2.88it/s]"
     ]
    },
    {
     "name": "stdout",
     "output_type": "stream",
     "text": [
      "Acc: 98.75, Recall: 42.07, Precision: 42.07, F1: 42.07\n"
     ]
    },
    {
     "name": "stderr",
     "output_type": "stream",
     "text": [
      "\r",
      "  6%|▌         | 15/270 [00:05<01:36,  2.65it/s]"
     ]
    },
    {
     "name": "stdout",
     "output_type": "stream",
     "text": [
      "Acc: 98.25, Recall: 40.77, Precision: 40.77, F1: 40.77\n"
     ]
    },
    {
     "name": "stderr",
     "output_type": "stream",
     "text": [
      "\r",
      "  6%|▌         | 16/270 [00:05<01:31,  2.79it/s]"
     ]
    },
    {
     "name": "stdout",
     "output_type": "stream",
     "text": [
      "Acc: 98.85, Recall: 29.9, Precision: 29.9, F1: 29.9\n"
     ]
    },
    {
     "name": "stderr",
     "output_type": "stream",
     "text": [
      "\r",
      "  6%|▋         | 17/270 [00:05<01:36,  2.62it/s]"
     ]
    },
    {
     "name": "stdout",
     "output_type": "stream",
     "text": [
      "Acc: 98.59, Recall: 50.95, Precision: 50.95, F1: 50.95\n"
     ]
    },
    {
     "name": "stderr",
     "output_type": "stream",
     "text": [
      "\r",
      "  7%|▋         | 18/270 [00:06<01:31,  2.75it/s]"
     ]
    },
    {
     "name": "stdout",
     "output_type": "stream",
     "text": [
      "Acc: 99.43, Recall: 68.29, Precision: 68.29, F1: 68.29\n"
     ]
    },
    {
     "name": "stderr",
     "output_type": "stream",
     "text": [
      "\r",
      "  7%|▋         | 19/270 [00:06<01:29,  2.80it/s]"
     ]
    },
    {
     "name": "stdout",
     "output_type": "stream",
     "text": [
      "Acc: 98.81, Recall: 39.11, Precision: 39.11, F1: 39.11\n"
     ]
    },
    {
     "name": "stderr",
     "output_type": "stream",
     "text": [
      "\r",
      "  7%|▋         | 20/270 [00:07<01:34,  2.66it/s]"
     ]
    },
    {
     "name": "stdout",
     "output_type": "stream",
     "text": [
      "Acc: 98.99, Recall: 62.4, Precision: 62.4, F1: 62.4\n"
     ]
    },
    {
     "name": "stderr",
     "output_type": "stream",
     "text": [
      "\r",
      "  8%|▊         | 21/270 [00:07<01:23,  2.97it/s]"
     ]
    },
    {
     "name": "stdout",
     "output_type": "stream",
     "text": [
      "Acc: 99.5, Recall: 50.81, Precision: 50.81, F1: 50.81\n"
     ]
    },
    {
     "name": "stderr",
     "output_type": "stream",
     "text": [
      "\r",
      "  8%|▊         | 22/270 [00:07<01:25,  2.91it/s]"
     ]
    },
    {
     "name": "stdout",
     "output_type": "stream",
     "text": [
      "Acc: 98.62, Recall: 36.34, Precision: 36.34, F1: 36.34\n"
     ]
    },
    {
     "name": "stderr",
     "output_type": "stream",
     "text": [
      "\r",
      "  9%|▊         | 23/270 [00:07<01:22,  2.98it/s]"
     ]
    },
    {
     "name": "stdout",
     "output_type": "stream",
     "text": [
      "Acc: 98.88, Recall: 35.42, Precision: 35.42, F1: 35.42\n"
     ]
    },
    {
     "name": "stderr",
     "output_type": "stream",
     "text": [
      "\r",
      "  9%|▉         | 24/270 [00:08<01:23,  2.95it/s]"
     ]
    },
    {
     "name": "stdout",
     "output_type": "stream",
     "text": [
      "Acc: 99.2, Recall: 59.28, Precision: 59.28, F1: 59.28\n"
     ]
    },
    {
     "name": "stderr",
     "output_type": "stream",
     "text": [
      " 10%|▉         | 26/270 [00:08<01:09,  3.52it/s]"
     ]
    },
    {
     "name": "stdout",
     "output_type": "stream",
     "text": [
      "Acc: 99.11, Recall: 48.1, Precision: 48.1, F1: 48.1\n",
      "Acc: 99.79, Recall: 20.41, Precision: 20.41, F1: 20.41\n"
     ]
    },
    {
     "name": "stderr",
     "output_type": "stream",
     "text": [
      "\r",
      " 10%|█         | 27/270 [00:09<01:12,  3.37it/s]"
     ]
    },
    {
     "name": "stdout",
     "output_type": "stream",
     "text": [
      "Acc: 99.01, Recall: 45.51, Precision: 45.51, F1: 45.51\n"
     ]
    },
    {
     "name": "stderr",
     "output_type": "stream",
     "text": [
      "\r",
      " 10%|█         | 28/270 [00:09<01:12,  3.32it/s]"
     ]
    },
    {
     "name": "stdout",
     "output_type": "stream",
     "text": [
      "Acc: 99.56, Recall: 74.44, Precision: 74.44, F1: 74.44\n"
     ]
    },
    {
     "name": "stderr",
     "output_type": "stream",
     "text": [
      "\r",
      " 11%|█         | 29/270 [00:09<01:17,  3.12it/s]"
     ]
    },
    {
     "name": "stdout",
     "output_type": "stream",
     "text": [
      "Acc: 98.81, Recall: 45.25, Precision: 45.25, F1: 45.25\n"
     ]
    },
    {
     "name": "stderr",
     "output_type": "stream",
     "text": [
      "\r",
      " 11%|█         | 30/270 [00:10<01:24,  2.83it/s]"
     ]
    },
    {
     "name": "stdout",
     "output_type": "stream",
     "text": [
      "Acc: 98.26, Recall: 39.47, Precision: 39.47, F1: 39.47\n"
     ]
    },
    {
     "name": "stderr",
     "output_type": "stream",
     "text": [
      "\r",
      " 11%|█▏        | 31/270 [00:10<01:22,  2.90it/s]"
     ]
    },
    {
     "name": "stdout",
     "output_type": "stream",
     "text": [
      "Acc: 98.94, Recall: 41.09, Precision: 41.09, F1: 41.09\n"
     ]
    },
    {
     "name": "stderr",
     "output_type": "stream",
     "text": [
      "\r",
      " 12%|█▏        | 32/270 [00:10<01:17,  3.08it/s]"
     ]
    },
    {
     "name": "stdout",
     "output_type": "stream",
     "text": [
      "Acc: 99.41, Recall: 56.8, Precision: 56.8, F1: 56.8\n"
     ]
    },
    {
     "name": "stderr",
     "output_type": "stream",
     "text": [
      "\r",
      " 12%|█▏        | 33/270 [00:11<01:20,  2.96it/s]"
     ]
    },
    {
     "name": "stdout",
     "output_type": "stream",
     "text": [
      "Acc: 99.54, Recall: 79.66, Precision: 79.66, F1: 79.66\n"
     ]
    },
    {
     "name": "stderr",
     "output_type": "stream",
     "text": [
      "\r",
      " 13%|█▎        | 34/270 [00:11<01:17,  3.04it/s]"
     ]
    },
    {
     "name": "stdout",
     "output_type": "stream",
     "text": [
      "Acc: 98.65, Recall: 14.78, Precision: 14.78, F1: 14.78\n"
     ]
    },
    {
     "name": "stderr",
     "output_type": "stream",
     "text": [
      "\r",
      " 13%|█▎        | 35/270 [00:11<01:18,  3.00it/s]"
     ]
    },
    {
     "name": "stdout",
     "output_type": "stream",
     "text": [
      "Acc: 98.68, Recall: 33.06, Precision: 33.06, F1: 33.06\n"
     ]
    },
    {
     "name": "stderr",
     "output_type": "stream",
     "text": [
      " 14%|█▎        | 37/270 [00:12<01:07,  3.47it/s]"
     ]
    },
    {
     "name": "stdout",
     "output_type": "stream",
     "text": [
      "Acc: 99.12, Recall: 52.21, Precision: 52.21, F1: 52.21\n",
      "Acc: 99.71, Recall: 22.86, Precision: 22.86, F1: 22.86\n"
     ]
    },
    {
     "name": "stderr",
     "output_type": "stream",
     "text": [
      "\r",
      " 14%|█▍        | 38/270 [00:12<01:08,  3.41it/s]"
     ]
    },
    {
     "name": "stdout",
     "output_type": "stream",
     "text": [
      "Acc: 99.22, Recall: 52.81, Precision: 52.81, F1: 52.81\n"
     ]
    },
    {
     "name": "stderr",
     "output_type": "stream",
     "text": [
      "\r",
      " 14%|█▍        | 39/270 [00:13<01:16,  3.02it/s]"
     ]
    },
    {
     "name": "stdout",
     "output_type": "stream",
     "text": [
      "Acc: 98.79, Recall: 54.77, Precision: 54.77, F1: 54.77\n"
     ]
    },
    {
     "name": "stderr",
     "output_type": "stream",
     "text": [
      "\r",
      " 15%|█▍        | 40/270 [00:13<01:19,  2.90it/s]"
     ]
    },
    {
     "name": "stdout",
     "output_type": "stream",
     "text": [
      "Acc: 98.86, Recall: 49.88, Precision: 49.88, F1: 49.88\n"
     ]
    },
    {
     "name": "stderr",
     "output_type": "stream",
     "text": [
      "\r",
      " 15%|█▌        | 41/270 [00:13<01:21,  2.81it/s]"
     ]
    },
    {
     "name": "stdout",
     "output_type": "stream",
     "text": [
      "Acc: 98.81, Recall: 50.23, Precision: 50.23, F1: 50.23\n"
     ]
    },
    {
     "name": "stderr",
     "output_type": "stream",
     "text": [
      "\r",
      " 16%|█▌        | 42/270 [00:14<01:13,  3.09it/s]"
     ]
    },
    {
     "name": "stdout",
     "output_type": "stream",
     "text": [
      "Acc: 99.54, Recall: 54.55, Precision: 54.55, F1: 54.55\n"
     ]
    },
    {
     "name": "stderr",
     "output_type": "stream",
     "text": [
      "\r",
      " 16%|█▌        | 43/270 [00:14<01:12,  3.13it/s]"
     ]
    },
    {
     "name": "stdout",
     "output_type": "stream",
     "text": [
      "Acc: 98.84, Recall: 29.24, Precision: 29.24, F1: 29.24\n"
     ]
    },
    {
     "name": "stderr",
     "output_type": "stream",
     "text": [
      "\r",
      " 16%|█▋        | 44/270 [00:14<01:13,  3.07it/s]"
     ]
    },
    {
     "name": "stdout",
     "output_type": "stream",
     "text": [
      "Acc: 98.67, Recall: 30.48, Precision: 30.48, F1: 30.48\n"
     ]
    },
    {
     "name": "stderr",
     "output_type": "stream",
     "text": [
      "\r",
      " 17%|█▋        | 45/270 [00:15<01:14,  3.01it/s]"
     ]
    },
    {
     "name": "stdout",
     "output_type": "stream",
     "text": [
      "Acc: 98.65, Recall: 35.16, Precision: 35.16, F1: 35.16\n"
     ]
    },
    {
     "name": "stderr",
     "output_type": "stream",
     "text": [
      "\r",
      " 17%|█▋        | 46/270 [00:15<01:14,  3.00it/s]"
     ]
    },
    {
     "name": "stdout",
     "output_type": "stream",
     "text": [
      "Acc: 98.97, Recall: 44.28, Precision: 44.28, F1: 44.28\n"
     ]
    },
    {
     "name": "stderr",
     "output_type": "stream",
     "text": [
      "\r",
      " 17%|█▋        | 47/270 [00:15<01:13,  3.02it/s]"
     ]
    },
    {
     "name": "stdout",
     "output_type": "stream",
     "text": [
      "Acc: 99.22, Recall: 56.93, Precision: 56.93, F1: 56.93\n"
     ]
    },
    {
     "name": "stderr",
     "output_type": "stream",
     "text": [
      " 18%|█▊        | 49/270 [00:16<00:59,  3.70it/s]"
     ]
    },
    {
     "name": "stdout",
     "output_type": "stream",
     "text": [
      "Acc: 98.76, Recall: 20.28, Precision: 20.28, F1: 20.28\n",
      "Acc: 99.97, Recall: 45.45, Precision: 45.45, F1: 45.45\n"
     ]
    },
    {
     "name": "stderr",
     "output_type": "stream",
     "text": [
      "\r",
      " 19%|█▊        | 50/270 [00:16<01:04,  3.42it/s]"
     ]
    },
    {
     "name": "stdout",
     "output_type": "stream",
     "text": [
      "Acc: 99.02, Recall: 50.0, Precision: 50.0, F1: 50.0\n"
     ]
    },
    {
     "name": "stderr",
     "output_type": "stream",
     "text": [
      "\r",
      " 19%|█▉        | 51/270 [00:16<01:09,  3.16it/s]"
     ]
    },
    {
     "name": "stdout",
     "output_type": "stream",
     "text": [
      "Acc: 98.73, Recall: 45.05, Precision: 45.05, F1: 45.05\n"
     ]
    },
    {
     "name": "stderr",
     "output_type": "stream",
     "text": [
      "\r",
      " 19%|█▉        | 52/270 [00:17<01:05,  3.32it/s]"
     ]
    },
    {
     "name": "stdout",
     "output_type": "stream",
     "text": [
      "Acc: 98.92, Recall: 11.56, Precision: 11.56, F1: 11.56\n"
     ]
    },
    {
     "name": "stderr",
     "output_type": "stream",
     "text": [
      "\r",
      " 20%|█▉        | 53/270 [00:17<01:07,  3.21it/s]"
     ]
    },
    {
     "name": "stdout",
     "output_type": "stream",
     "text": [
      "Acc: 99.12, Recall: 53.2, Precision: 53.2, F1: 53.2\n"
     ]
    },
    {
     "name": "stderr",
     "output_type": "stream",
     "text": [
      "\r",
      " 20%|██        | 54/270 [00:17<01:09,  3.09it/s]"
     ]
    },
    {
     "name": "stdout",
     "output_type": "stream",
     "text": [
      "Acc: 98.88, Recall: 45.36, Precision: 45.36, F1: 45.36\n"
     ]
    },
    {
     "name": "stderr",
     "output_type": "stream",
     "text": [
      "\r",
      " 20%|██        | 55/270 [00:18<01:10,  3.05it/s]"
     ]
    },
    {
     "name": "stdout",
     "output_type": "stream",
     "text": [
      "Acc: 98.49, Recall: 22.41, Precision: 22.41, F1: 22.41\n"
     ]
    },
    {
     "name": "stderr",
     "output_type": "stream",
     "text": [
      "\r",
      " 21%|██        | 56/270 [00:18<01:15,  2.85it/s]"
     ]
    },
    {
     "name": "stdout",
     "output_type": "stream",
     "text": [
      "Acc: 99.04, Recall: 62.07, Precision: 62.07, F1: 62.07\n"
     ]
    },
    {
     "name": "stderr",
     "output_type": "stream",
     "text": [
      " 21%|██▏       | 58/270 [00:19<01:06,  3.18it/s]"
     ]
    },
    {
     "name": "stdout",
     "output_type": "stream",
     "text": [
      "Acc: 98.07, Recall: 35.87, Precision: 35.87, F1: 35.87\n",
      "Acc: 99.96, Recall: 70.83, Precision: 70.83, F1: 70.83\n"
     ]
    },
    {
     "name": "stderr",
     "output_type": "stream",
     "text": [
      " 22%|██▏       | 60/270 [00:19<00:56,  3.74it/s]"
     ]
    },
    {
     "name": "stdout",
     "output_type": "stream",
     "text": [
      "Acc: 98.84, Recall: 10.83, Precision: 10.83, F1: 10.83\n",
      "Acc: 99.63, Recall: 2.86, Precision: 2.86, F1: 2.86\n"
     ]
    },
    {
     "name": "stderr",
     "output_type": "stream",
     "text": [
      " 23%|██▎       | 62/270 [00:21<01:57,  1.78it/s]"
     ]
    },
    {
     "name": "stdout",
     "output_type": "stream",
     "text": [
      "Acc: 84.07, Recall: 7.14, Precision: 7.14, F1: 7.14\n",
      "Acc: 99.74, Recall: 4.08, Precision: 4.08, F1: 4.08\n"
     ]
    },
    {
     "name": "stderr",
     "output_type": "stream",
     "text": [
      "\r",
      " 23%|██▎       | 63/270 [00:21<01:36,  2.15it/s]"
     ]
    },
    {
     "name": "stdout",
     "output_type": "stream",
     "text": [
      "Acc: 99.12, Recall: 10.06, Precision: 10.06, F1: 10.06\n",
      "Acc: 99.47, Recall: 1.02, Precision: 1.02, F1: 1.02\n"
     ]
    },
    {
     "name": "stderr",
     "output_type": "stream",
     "text": [
      " 24%|██▍       | 65/270 [00:22<01:09,  2.93it/s]"
     ]
    },
    {
     "name": "stdout",
     "output_type": "stream",
     "text": [
      "Acc: 99.06, Recall: 3.89, Precision: 3.89, F1: 3.89\n"
     ]
    },
    {
     "name": "stderr",
     "output_type": "stream",
     "text": [
      "\r",
      " 24%|██▍       | 66/270 [00:22<01:01,  3.29it/s]"
     ]
    },
    {
     "name": "stdout",
     "output_type": "stream",
     "text": [
      "Acc: 99.29, Recall: 13.33, Precision: 13.33, F1: 13.33\n"
     ]
    },
    {
     "name": "stderr",
     "output_type": "stream",
     "text": [
      "\r",
      " 25%|██▍       | 67/270 [00:22<00:57,  3.52it/s]"
     ]
    },
    {
     "name": "stdout",
     "output_type": "stream",
     "text": [
      "Acc: 99.11, Recall: 7.87, Precision: 7.87, F1: 7.87\n"
     ]
    },
    {
     "name": "stderr",
     "output_type": "stream",
     "text": [
      "\r",
      " 25%|██▌       | 68/270 [00:23<00:54,  3.69it/s]"
     ]
    },
    {
     "name": "stdout",
     "output_type": "stream",
     "text": [
      "Acc: 99.22, Recall: 26.9, Precision: 26.9, F1: 26.9\n"
     ]
    },
    {
     "name": "stderr",
     "output_type": "stream",
     "text": [
      "\r",
      " 26%|██▌       | 69/270 [00:23<00:53,  3.76it/s]"
     ]
    },
    {
     "name": "stdout",
     "output_type": "stream",
     "text": [
      "Acc: 99.0, Recall: 12.02, Precision: 12.02, F1: 12.02\n"
     ]
    },
    {
     "name": "stderr",
     "output_type": "stream",
     "text": [
      "\r",
      " 26%|██▌       | 70/270 [00:23<00:50,  3.92it/s]"
     ]
    },
    {
     "name": "stdout",
     "output_type": "stream",
     "text": [
      "Acc: 99.2, Recall: 13.02, Precision: 13.02, F1: 13.02\n"
     ]
    },
    {
     "name": "stderr",
     "output_type": "stream",
     "text": [
      "\r",
      " 26%|██▋       | 71/270 [00:23<00:51,  3.90it/s]"
     ]
    },
    {
     "name": "stdout",
     "output_type": "stream",
     "text": [
      "Acc: 98.92, Recall: 5.71, Precision: 5.71, F1: 5.71\n"
     ]
    },
    {
     "name": "stderr",
     "output_type": "stream",
     "text": [
      " 27%|██▋       | 73/270 [00:24<00:45,  4.34it/s]"
     ]
    },
    {
     "name": "stdout",
     "output_type": "stream",
     "text": [
      "Acc: 99.31, Recall: 31.52, Precision: 31.52, F1: 31.52\n",
      "Acc: 99.6, Recall: 6.41, Precision: 6.41, F1: 6.41\n"
     ]
    },
    {
     "name": "stderr",
     "output_type": "stream",
     "text": [
      "\r",
      " 27%|██▋       | 74/270 [00:24<00:57,  3.42it/s]"
     ]
    },
    {
     "name": "stdout",
     "output_type": "stream",
     "text": [
      "Acc: 98.37, Recall: 40.91, Precision: 40.91, F1: 40.91\n"
     ]
    },
    {
     "name": "stderr",
     "output_type": "stream",
     "text": [
      " 28%|██▊       | 76/270 [00:25<00:47,  4.06it/s]"
     ]
    },
    {
     "name": "stdout",
     "output_type": "stream",
     "text": [
      "Acc: 99.33, Recall: 0.0, Precision: 0.0, F1: 0.0\n",
      "Acc: 99.62, Recall: 34.58, Precision: 34.58, F1: 34.58\n"
     ]
    },
    {
     "name": "stderr",
     "output_type": "stream",
     "text": [
      "\r",
      " 29%|██▊       | 77/270 [00:25<00:51,  3.77it/s]"
     ]
    },
    {
     "name": "stdout",
     "output_type": "stream",
     "text": [
      "Acc: 98.88, Recall: 30.03, Precision: 30.03, F1: 30.03\n"
     ]
    },
    {
     "name": "stderr",
     "output_type": "stream",
     "text": [
      "\r",
      " 29%|██▉       | 78/270 [00:25<00:51,  3.74it/s]"
     ]
    },
    {
     "name": "stdout",
     "output_type": "stream",
     "text": [
      "Acc: 98.88, Recall: 11.59, Precision: 11.59, F1: 11.59\n"
     ]
    },
    {
     "name": "stderr",
     "output_type": "stream",
     "text": [
      "\r",
      " 29%|██▉       | 79/270 [00:25<00:50,  3.78it/s]"
     ]
    },
    {
     "name": "stdout",
     "output_type": "stream",
     "text": [
      "Acc: 99.19, Recall: 29.52, Precision: 29.52, F1: 29.52\n"
     ]
    },
    {
     "name": "stderr",
     "output_type": "stream",
     "text": [
      "\r",
      " 30%|██▉       | 80/270 [00:26<00:54,  3.50it/s]"
     ]
    },
    {
     "name": "stdout",
     "output_type": "stream",
     "text": [
      "Acc: 98.87, Recall: 38.82, Precision: 38.82, F1: 38.82\n"
     ]
    },
    {
     "name": "stderr",
     "output_type": "stream",
     "text": [
      "\r",
      " 30%|███       | 81/270 [00:26<00:57,  3.29it/s]"
     ]
    },
    {
     "name": "stdout",
     "output_type": "stream",
     "text": [
      "Acc: 99.04, Recall: 52.82, Precision: 52.82, F1: 52.82\n"
     ]
    },
    {
     "name": "stderr",
     "output_type": "stream",
     "text": [
      "\r",
      " 30%|███       | 82/270 [00:26<00:53,  3.55it/s]"
     ]
    },
    {
     "name": "stdout",
     "output_type": "stream",
     "text": [
      "Acc: 99.52, Recall: 46.01, Precision: 46.01, F1: 46.01\n"
     ]
    },
    {
     "name": "stderr",
     "output_type": "stream",
     "text": [
      "\r",
      " 31%|███       | 83/270 [00:27<00:55,  3.37it/s]"
     ]
    },
    {
     "name": "stdout",
     "output_type": "stream",
     "text": [
      "Acc: 98.49, Recall: 18.77, Precision: 18.77, F1: 18.77\n"
     ]
    },
    {
     "name": "stderr",
     "output_type": "stream",
     "text": [
      "\r",
      " 31%|███       | 84/270 [00:27<00:55,  3.36it/s]"
     ]
    },
    {
     "name": "stdout",
     "output_type": "stream",
     "text": [
      "Acc: 99.01, Recall: 34.77, Precision: 34.77, F1: 34.77\n",
      "Acc: 99.8, Recall: 63.0, Precision: 63.0, F1: 63.0\n"
     ]
    },
    {
     "name": "stderr",
     "output_type": "stream",
     "text": [
      " 32%|███▏      | 86/270 [00:27<00:52,  3.48it/s]"
     ]
    },
    {
     "name": "stdout",
     "output_type": "stream",
     "text": [
      "Acc: 99.08, Recall: 50.73, Precision: 50.73, F1: 50.73\n"
     ]
    },
    {
     "name": "stderr",
     "output_type": "stream",
     "text": [
      "\r",
      " 32%|███▏      | 87/270 [00:28<00:55,  3.30it/s]"
     ]
    },
    {
     "name": "stdout",
     "output_type": "stream",
     "text": [
      "Acc: 98.87, Recall: 40.57, Precision: 40.57, F1: 40.57\n"
     ]
    },
    {
     "name": "stderr",
     "output_type": "stream",
     "text": [
      "\r",
      " 33%|███▎      | 88/270 [00:28<00:52,  3.44it/s]"
     ]
    },
    {
     "name": "stdout",
     "output_type": "stream",
     "text": [
      "Acc: 99.6, Recall: 66.06, Precision: 66.06, F1: 66.06\n"
     ]
    },
    {
     "name": "stderr",
     "output_type": "stream",
     "text": [
      "\r",
      " 33%|███▎      | 89/270 [00:28<00:55,  3.25it/s]"
     ]
    },
    {
     "name": "stdout",
     "output_type": "stream",
     "text": [
      "Acc: 99.57, Recall: 78.82, Precision: 78.82, F1: 78.82\n"
     ]
    },
    {
     "name": "stderr",
     "output_type": "stream",
     "text": [
      "\r",
      " 33%|███▎      | 90/270 [00:29<00:55,  3.25it/s]"
     ]
    },
    {
     "name": "stdout",
     "output_type": "stream",
     "text": [
      "Acc: 99.17, Recall: 49.5, Precision: 49.5, F1: 49.5\n"
     ]
    },
    {
     "name": "stderr",
     "output_type": "stream",
     "text": [
      "\r",
      " 34%|███▎      | 91/270 [00:29<00:55,  3.24it/s]"
     ]
    },
    {
     "name": "stdout",
     "output_type": "stream",
     "text": [
      "Acc: 99.16, Recall: 48.5, Precision: 48.5, F1: 48.5\n"
     ]
    },
    {
     "name": "stderr",
     "output_type": "stream",
     "text": [
      "\r",
      " 34%|███▍      | 92/270 [00:29<00:51,  3.48it/s]"
     ]
    },
    {
     "name": "stdout",
     "output_type": "stream",
     "text": [
      "Acc: 99.81, Recall: 81.01, Precision: 81.01, F1: 81.01\n"
     ]
    },
    {
     "name": "stderr",
     "output_type": "stream",
     "text": [
      "\r",
      " 34%|███▍      | 93/270 [00:30<00:53,  3.33it/s]"
     ]
    },
    {
     "name": "stdout",
     "output_type": "stream",
     "text": [
      "Acc: 98.91, Recall: 40.48, Precision: 40.48, F1: 40.48\n"
     ]
    },
    {
     "name": "stderr",
     "output_type": "stream",
     "text": [
      "\r",
      " 35%|███▍      | 94/270 [00:30<00:54,  3.21it/s]"
     ]
    },
    {
     "name": "stdout",
     "output_type": "stream",
     "text": [
      "Acc: 98.6, Recall: 27.73, Precision: 27.73, F1: 27.73\n"
     ]
    },
    {
     "name": "stderr",
     "output_type": "stream",
     "text": [
      " 36%|███▌      | 96/270 [00:30<00:44,  3.91it/s]"
     ]
    },
    {
     "name": "stdout",
     "output_type": "stream",
     "text": [
      "Acc: 99.25, Recall: 6.8, Precision: 6.8, F1: 6.8\n",
      "Acc: 99.63, Recall: 9.33, Precision: 9.33, F1: 9.33\n"
     ]
    },
    {
     "name": "stderr",
     "output_type": "stream",
     "text": [
      "\r",
      " 36%|███▌      | 97/270 [00:30<00:39,  4.33it/s]"
     ]
    },
    {
     "name": "stdout",
     "output_type": "stream",
     "text": [
      "Acc: 99.78, Recall: 24.53, Precision: 24.53, F1: 24.53\n"
     ]
    },
    {
     "name": "stderr",
     "output_type": "stream",
     "text": [
      "\r",
      " 36%|███▋      | 98/270 [00:31<00:43,  3.93it/s]"
     ]
    },
    {
     "name": "stdout",
     "output_type": "stream",
     "text": [
      "Acc: 98.63, Recall: 14.58, Precision: 14.58, F1: 14.58\n"
     ]
    },
    {
     "name": "stderr",
     "output_type": "stream",
     "text": [
      "\r",
      " 37%|███▋      | 99/270 [00:31<00:44,  3.82it/s]"
     ]
    },
    {
     "name": "stdout",
     "output_type": "stream",
     "text": [
      "Acc: 98.99, Recall: 25.1, Precision: 25.1, F1: 25.1\n"
     ]
    },
    {
     "name": "stderr",
     "output_type": "stream",
     "text": [
      "\r",
      " 37%|███▋      | 100/270 [00:31<00:47,  3.55it/s]"
     ]
    },
    {
     "name": "stdout",
     "output_type": "stream",
     "text": [
      "Acc: 98.3, Recall: 5.15, Precision: 5.15, F1: 5.15\n"
     ]
    },
    {
     "name": "stderr",
     "output_type": "stream",
     "text": [
      "\r",
      " 37%|███▋      | 101/270 [00:32<00:49,  3.43it/s]"
     ]
    },
    {
     "name": "stdout",
     "output_type": "stream",
     "text": [
      "Acc: 98.39, Recall: 3.59, Precision: 3.59, F1: 3.59\n"
     ]
    },
    {
     "name": "stderr",
     "output_type": "stream",
     "text": [
      "\r",
      " 38%|███▊      | 102/270 [00:32<00:49,  3.37it/s]"
     ]
    },
    {
     "name": "stdout",
     "output_type": "stream",
     "text": [
      "Acc: 99.31, Recall: 58.82, Precision: 58.82, F1: 58.82\n"
     ]
    },
    {
     "name": "stderr",
     "output_type": "stream",
     "text": [
      " 39%|███▊      | 104/270 [00:33<00:43,  3.81it/s]"
     ]
    },
    {
     "name": "stdout",
     "output_type": "stream",
     "text": [
      "Acc: 99.03, Recall: 45.59, Precision: 45.59, F1: 45.59\n",
      "Acc: 99.79, Recall: 0.0, Precision: 0.0, F1: 0.0\n"
     ]
    },
    {
     "name": "stderr",
     "output_type": "stream",
     "text": [
      "\r",
      " 39%|███▉      | 105/270 [00:33<00:41,  3.94it/s]"
     ]
    },
    {
     "name": "stdout",
     "output_type": "stream",
     "text": [
      "Acc: 99.11, Recall: 1.2, Precision: 1.2, F1: 1.2\n"
     ]
    },
    {
     "name": "stderr",
     "output_type": "stream",
     "text": [
      " 40%|███▉      | 107/270 [00:33<00:36,  4.50it/s]"
     ]
    },
    {
     "name": "stdout",
     "output_type": "stream",
     "text": [
      "Acc: 99.27, Recall: 3.6, Precision: 3.6, F1: 3.6\n",
      "Acc: 99.74, Recall: 20.0, Precision: 20.0, F1: 20.0\n"
     ]
    },
    {
     "name": "stderr",
     "output_type": "stream",
     "text": [
      " 40%|████      | 109/270 [00:34<00:32,  4.88it/s]"
     ]
    },
    {
     "name": "stdout",
     "output_type": "stream",
     "text": [
      "Acc: 99.49, Recall: 15.32, Precision: 15.32, F1: 15.32\n",
      "Acc: 99.8, Recall: 48.57, Precision: 48.57, F1: 48.57\n"
     ]
    },
    {
     "name": "stderr",
     "output_type": "stream",
     "text": [
      "\r",
      " 41%|████      | 110/270 [00:34<00:33,  4.76it/s]"
     ]
    },
    {
     "name": "stdout",
     "output_type": "stream",
     "text": [
      "Acc: 99.74, Recall: 68.03, Precision: 68.03, F1: 68.03\n"
     ]
    },
    {
     "name": "stderr",
     "output_type": "stream",
     "text": [
      "\r",
      " 41%|████      | 111/270 [00:34<00:35,  4.53it/s]"
     ]
    },
    {
     "name": "stdout",
     "output_type": "stream",
     "text": [
      "Acc: 99.47, Recall: 46.74, Precision: 46.74, F1: 46.74\n"
     ]
    },
    {
     "name": "stderr",
     "output_type": "stream",
     "text": [
      "\r",
      " 41%|████▏     | 112/270 [00:34<00:41,  3.85it/s]"
     ]
    },
    {
     "name": "stdout",
     "output_type": "stream",
     "text": [
      "Acc: 99.49, Recall: 75.0, Precision: 75.0, F1: 75.0\n"
     ]
    },
    {
     "name": "stderr",
     "output_type": "stream",
     "text": [
      "\r",
      " 42%|████▏     | 113/270 [00:35<00:39,  3.96it/s]"
     ]
    },
    {
     "name": "stdout",
     "output_type": "stream",
     "text": [
      "Acc: 99.29, Recall: 22.49, Precision: 22.49, F1: 22.49\n"
     ]
    },
    {
     "name": "stderr",
     "output_type": "stream",
     "text": [
      "\r",
      " 42%|████▏     | 114/270 [00:35<00:39,  3.97it/s]"
     ]
    },
    {
     "name": "stdout",
     "output_type": "stream",
     "text": [
      "Acc: 99.17, Recall: 21.65, Precision: 21.65, F1: 21.65\n"
     ]
    },
    {
     "name": "stderr",
     "output_type": "stream",
     "text": [
      "\r",
      " 43%|████▎     | 115/270 [00:35<00:42,  3.68it/s]"
     ]
    },
    {
     "name": "stdout",
     "output_type": "stream",
     "text": [
      "Acc: 98.72, Recall: 26.56, Precision: 26.56, F1: 26.56\n"
     ]
    },
    {
     "name": "stderr",
     "output_type": "stream",
     "text": [
      "\r",
      " 43%|████▎     | 116/270 [00:35<00:44,  3.49it/s]"
     ]
    },
    {
     "name": "stdout",
     "output_type": "stream",
     "text": [
      "Acc: 98.85, Recall: 32.7, Precision: 32.7, F1: 32.7\n"
     ]
    },
    {
     "name": "stderr",
     "output_type": "stream",
     "text": [
      "\r",
      " 43%|████▎     | 117/270 [00:36<00:44,  3.44it/s]"
     ]
    },
    {
     "name": "stdout",
     "output_type": "stream",
     "text": [
      "Acc: 99.66, Recall: 78.42, Precision: 78.42, F1: 78.42\n"
     ]
    },
    {
     "name": "stderr",
     "output_type": "stream",
     "text": [
      "\r",
      " 44%|████▎     | 118/270 [00:36<00:46,  3.30it/s]"
     ]
    },
    {
     "name": "stdout",
     "output_type": "stream",
     "text": [
      "Acc: 98.66, Recall: 26.71, Precision: 26.71, F1: 26.71\n"
     ]
    },
    {
     "name": "stderr",
     "output_type": "stream",
     "text": [
      "\r",
      " 44%|████▍     | 119/270 [00:36<00:45,  3.34it/s]"
     ]
    },
    {
     "name": "stdout",
     "output_type": "stream",
     "text": [
      "Acc: 98.65, Recall: 7.43, Precision: 7.43, F1: 7.43\n"
     ]
    },
    {
     "name": "stderr",
     "output_type": "stream",
     "text": [
      "\r",
      " 44%|████▍     | 120/270 [00:37<00:41,  3.64it/s]"
     ]
    },
    {
     "name": "stdout",
     "output_type": "stream",
     "text": [
      "Acc: 99.28, Recall: 3.62, Precision: 3.62, F1: 3.62\n"
     ]
    },
    {
     "name": "stderr",
     "output_type": "stream",
     "text": [
      "\r",
      " 45%|████▍     | 121/270 [00:37<00:39,  3.77it/s]"
     ]
    },
    {
     "name": "stdout",
     "output_type": "stream",
     "text": [
      "Acc: 99.9, Recall: 89.67, Precision: 89.67, F1: 89.67\n"
     ]
    },
    {
     "name": "stderr",
     "output_type": "stream",
     "text": [
      " 46%|████▌     | 123/270 [00:37<00:34,  4.27it/s]"
     ]
    },
    {
     "name": "stdout",
     "output_type": "stream",
     "text": [
      "Acc: 99.24, Recall: 13.04, Precision: 13.04, F1: 13.04\n",
      "Acc: 99.86, Recall: 67.53, Precision: 67.53, F1: 67.53\n"
     ]
    },
    {
     "name": "stderr",
     "output_type": "stream",
     "text": [
      "\r",
      " 46%|████▌     | 124/270 [00:38<00:37,  3.87it/s]"
     ]
    },
    {
     "name": "stdout",
     "output_type": "stream",
     "text": [
      "Acc: 99.39, Recall: 63.78, Precision: 63.78, F1: 63.78\n"
     ]
    },
    {
     "name": "stderr",
     "output_type": "stream",
     "text": [
      "\r",
      " 46%|████▋     | 125/270 [00:38<00:39,  3.69it/s]"
     ]
    },
    {
     "name": "stdout",
     "output_type": "stream",
     "text": [
      "Acc: 99.81, Recall: 87.85, Precision: 87.85, F1: 87.85\n"
     ]
    },
    {
     "name": "stderr",
     "output_type": "stream",
     "text": [
      "\r",
      " 47%|████▋     | 126/270 [00:38<00:38,  3.74it/s]"
     ]
    },
    {
     "name": "stdout",
     "output_type": "stream",
     "text": [
      "Acc: 99.16, Recall: 27.36, Precision: 27.36, F1: 27.36\n"
     ]
    },
    {
     "name": "stderr",
     "output_type": "stream",
     "text": [
      " 47%|████▋     | 128/270 [00:39<00:32,  4.40it/s]"
     ]
    },
    {
     "name": "stdout",
     "output_type": "stream",
     "text": [
      "Acc: 99.58, Recall: 59.9, Precision: 59.9, F1: 59.9\n",
      "Acc: 99.98, Recall: 0.0, Precision: 0.0, F1: 0.0\n"
     ]
    },
    {
     "name": "stderr",
     "output_type": "stream",
     "text": [
      " 48%|████▊     | 130/270 [00:39<00:32,  4.28it/s]"
     ]
    },
    {
     "name": "stdout",
     "output_type": "stream",
     "text": [
      "Acc: 98.6, Recall: 32.99, Precision: 32.99, F1: 32.99\n",
      "Acc: 99.88, Recall: 0.0, Precision: 0.0, F1: 0.0\n"
     ]
    },
    {
     "name": "stderr",
     "output_type": "stream",
     "text": [
      "\r",
      " 49%|████▊     | 131/270 [00:39<00:36,  3.82it/s]"
     ]
    },
    {
     "name": "stdout",
     "output_type": "stream",
     "text": [
      "Acc: 98.56, Recall: 20.18, Precision: 20.18, F1: 20.18\n"
     ]
    },
    {
     "name": "stderr",
     "output_type": "stream",
     "text": [
      "\r",
      " 49%|████▉     | 132/270 [00:40<00:37,  3.72it/s]"
     ]
    },
    {
     "name": "stdout",
     "output_type": "stream",
     "text": [
      "Acc: 99.12, Recall: 36.36, Precision: 36.36, F1: 36.36\n"
     ]
    },
    {
     "name": "stderr",
     "output_type": "stream",
     "text": [
      "\r",
      " 49%|████▉     | 133/270 [00:40<00:34,  3.92it/s]"
     ]
    },
    {
     "name": "stdout",
     "output_type": "stream",
     "text": [
      "Acc: 99.41, Recall: 26.53, Precision: 26.53, F1: 26.53\n",
      "Acc: 99.51, Recall: 18.92, Precision: 18.92, F1: 18.92\n"
     ]
    },
    {
     "name": "stderr",
     "output_type": "stream",
     "text": [
      " 50%|█████     | 135/270 [00:40<00:30,  4.37it/s]"
     ]
    },
    {
     "name": "stdout",
     "output_type": "stream",
     "text": [
      "Acc: 99.52, Recall: 19.82, Precision: 19.82, F1: 19.82\n"
     ]
    },
    {
     "name": "stderr",
     "output_type": "stream",
     "text": [
      "\r",
      " 50%|█████     | 136/270 [00:41<00:30,  4.43it/s]"
     ]
    },
    {
     "name": "stdout",
     "output_type": "stream",
     "text": [
      "Acc: 99.73, Recall: 63.5, Precision: 63.5, F1: 63.5\n"
     ]
    },
    {
     "name": "stderr",
     "output_type": "stream",
     "text": [
      "\r",
      " 51%|█████     | 137/270 [00:41<00:29,  4.48it/s]"
     ]
    },
    {
     "name": "stdout",
     "output_type": "stream",
     "text": [
      "Acc: 99.76, Recall: 67.65, Precision: 67.65, F1: 67.65\n"
     ]
    },
    {
     "name": "stderr",
     "output_type": "stream",
     "text": [
      "\r",
      " 51%|█████     | 138/270 [00:41<00:29,  4.54it/s]"
     ]
    },
    {
     "name": "stdout",
     "output_type": "stream",
     "text": [
      "Acc: 99.71, Recall: 56.91, Precision: 56.91, F1: 56.91\n"
     ]
    },
    {
     "name": "stderr",
     "output_type": "stream",
     "text": [
      "\r",
      " 51%|█████▏    | 139/270 [00:41<00:28,  4.56it/s]"
     ]
    },
    {
     "name": "stdout",
     "output_type": "stream",
     "text": [
      "Acc: 99.52, Recall: 33.58, Precision: 33.58, F1: 33.58\n"
     ]
    },
    {
     "name": "stderr",
     "output_type": "stream",
     "text": [
      " 52%|█████▏    | 141/270 [00:42<00:26,  4.82it/s]"
     ]
    },
    {
     "name": "stdout",
     "output_type": "stream",
     "text": [
      "Acc: 99.44, Recall: 31.08, Precision: 31.08, F1: 31.08\n",
      "Acc: 99.72, Recall: 13.33, Precision: 13.33, F1: 13.33\n"
     ]
    },
    {
     "name": "stderr",
     "output_type": "stream",
     "text": [
      " 53%|█████▎    | 143/270 [00:42<00:24,  5.09it/s]"
     ]
    },
    {
     "name": "stdout",
     "output_type": "stream",
     "text": [
      "Acc: 99.71, Recall: 25.0, Precision: 25.0, F1: 25.0\n",
      "Acc: 99.56, Recall: 8.05, Precision: 8.05, F1: 8.05\n"
     ]
    },
    {
     "name": "stderr",
     "output_type": "stream",
     "text": [
      " 54%|█████▎    | 145/270 [00:42<00:24,  5.12it/s]"
     ]
    },
    {
     "name": "stdout",
     "output_type": "stream",
     "text": [
      "Acc: 99.61, Recall: 25.0, Precision: 25.0, F1: 25.0\n",
      "Acc: 99.5, Recall: 12.38, Precision: 12.38, F1: 12.38\n"
     ]
    },
    {
     "name": "stderr",
     "output_type": "stream",
     "text": [
      " 54%|█████▍    | 147/270 [00:43<00:23,  5.21it/s]"
     ]
    },
    {
     "name": "stdout",
     "output_type": "stream",
     "text": [
      "Acc: 99.16, Recall: 20.21, Precision: 20.21, F1: 20.21\n",
      "Acc: 99.98, Recall: 0.0, Precision: 0.0, F1: 0.0\n"
     ]
    },
    {
     "name": "stderr",
     "output_type": "stream",
     "text": [
      " 55%|█████▌    | 149/270 [00:43<00:24,  5.01it/s]"
     ]
    },
    {
     "name": "stdout",
     "output_type": "stream",
     "text": [
      "Acc: 99.56, Recall: 61.54, Precision: 61.54, F1: 61.54\n",
      "Acc: 99.75, Recall: 4.17, Precision: 4.17, F1: 4.17\n"
     ]
    },
    {
     "name": "stderr",
     "output_type": "stream",
     "text": [
      " 56%|█████▌    | 151/270 [00:43<00:21,  5.49it/s]"
     ]
    },
    {
     "name": "stdout",
     "output_type": "stream",
     "text": [
      "Acc: 99.99, Recall: 0.0, Precision: 0.0, F1: 0.0\n",
      "Acc: 99.85, Recall: 58.46, Precision: 58.46, F1: 58.46\n"
     ]
    },
    {
     "name": "stderr",
     "output_type": "stream",
     "text": [
      " 57%|█████▋    | 153/270 [00:44<00:21,  5.42it/s]"
     ]
    },
    {
     "name": "stdout",
     "output_type": "stream",
     "text": [
      "Acc: 99.67, Recall: 52.0, Precision: 52.0, F1: 52.0\n",
      "Acc: 99.74, Recall: 2.08, Precision: 2.08, F1: 2.08\n"
     ]
    },
    {
     "name": "stderr",
     "output_type": "stream",
     "text": [
      "\r",
      " 57%|█████▋    | 154/270 [00:44<00:20,  5.77it/s]"
     ]
    },
    {
     "name": "stdout",
     "output_type": "stream",
     "text": [
      "Acc: 99.98, Recall: 0.0, Precision: 0.0, F1: 0.0\n"
     ]
    },
    {
     "name": "stderr",
     "output_type": "stream",
     "text": [
      "\r",
      " 57%|█████▋    | 155/270 [00:44<00:21,  5.38it/s]"
     ]
    },
    {
     "name": "stdout",
     "output_type": "stream",
     "text": [
      "Acc: 99.48, Recall: 26.72, Precision: 26.72, F1: 26.72\n"
     ]
    },
    {
     "name": "stderr",
     "output_type": "stream",
     "text": [
      "\r",
      " 58%|█████▊    | 156/270 [00:45<00:26,  4.23it/s]"
     ]
    },
    {
     "name": "stdout",
     "output_type": "stream",
     "text": [
      "Acc: 99.37, Recall: 70.18, Precision: 70.18, F1: 70.18\n"
     ]
    },
    {
     "name": "stderr",
     "output_type": "stream",
     "text": [
      " 59%|█████▊    | 158/270 [00:45<00:24,  4.65it/s]"
     ]
    },
    {
     "name": "stdout",
     "output_type": "stream",
     "text": [
      "Acc: 99.96, Recall: 95.24, Precision: 95.24, F1: 95.24\n",
      "Acc: 99.73, Recall: 25.37, Precision: 25.37, F1: 25.37\n"
     ]
    },
    {
     "name": "stderr",
     "output_type": "stream",
     "text": [
      " 59%|█████▉    | 160/270 [00:45<00:21,  5.22it/s]"
     ]
    },
    {
     "name": "stdout",
     "output_type": "stream",
     "text": [
      "Acc: 99.8, Recall: 0.0, Precision: 0.0, F1: 0.0\n",
      "Acc: 99.71, Recall: 0.0, Precision: 0.0, F1: 0.0\n"
     ]
    },
    {
     "name": "stderr",
     "output_type": "stream",
     "text": [
      " 60%|██████    | 162/270 [00:46<00:20,  5.37it/s]"
     ]
    },
    {
     "name": "stdout",
     "output_type": "stream",
     "text": [
      "Acc: 99.62, Recall: 9.21, Precision: 9.21, F1: 9.21\n",
      "Acc: 99.75, Recall: 43.21, Precision: 43.21, F1: 43.21\n"
     ]
    },
    {
     "name": "stderr",
     "output_type": "stream",
     "text": [
      " 61%|██████    | 164/270 [00:46<00:24,  4.32it/s]"
     ]
    },
    {
     "name": "stdout",
     "output_type": "stream",
     "text": [
      "Acc: 99.19, Recall: 69.84, Precision: 69.84, F1: 69.84\n",
      "Acc: 99.8, Recall: 37.93, Precision: 37.93, F1: 37.93\n"
     ]
    },
    {
     "name": "stderr",
     "output_type": "stream",
     "text": [
      " 61%|██████▏   | 166/270 [00:47<00:20,  5.00it/s]"
     ]
    },
    {
     "name": "stdout",
     "output_type": "stream",
     "text": [
      "Acc: 99.88, Recall: 4.35, Precision: 4.35, F1: 4.35\n",
      "Acc: 99.65, Recall: 8.45, Precision: 8.45, F1: 8.45\n"
     ]
    },
    {
     "name": "stderr",
     "output_type": "stream",
     "text": [
      " 62%|██████▏   | 168/270 [00:47<00:17,  5.67it/s]"
     ]
    },
    {
     "name": "stdout",
     "output_type": "stream",
     "text": [
      "Acc: 99.99, Recall: 0.0, Precision: 0.0, F1: 0.0\n",
      "Acc: 99.92, Recall: 46.15, Precision: 46.15, F1: 46.15\n"
     ]
    },
    {
     "name": "stderr",
     "output_type": "stream",
     "text": [
      " 63%|██████▎   | 170/270 [00:47<00:17,  5.73it/s]"
     ]
    },
    {
     "name": "stdout",
     "output_type": "stream",
     "text": [
      "Acc: 99.93, Recall: 0.0, Precision: 0.0, F1: 0.0\n",
      "Acc: 99.87, Recall: 71.6, Precision: 71.6, F1: 71.6\n"
     ]
    },
    {
     "name": "stderr",
     "output_type": "stream",
     "text": [
      " 64%|██████▎   | 172/270 [00:48<00:17,  5.48it/s]"
     ]
    },
    {
     "name": "stdout",
     "output_type": "stream",
     "text": [
      "Acc: 99.47, Recall: 23.02, Precision: 23.02, F1: 23.02\n",
      "Acc: 99.72, Recall: 1.92, Precision: 1.92, F1: 1.92\n"
     ]
    },
    {
     "name": "stderr",
     "output_type": "stream",
     "text": [
      "\r",
      " 64%|██████▍   | 173/270 [00:48<00:17,  5.60it/s]"
     ]
    },
    {
     "name": "stdout",
     "output_type": "stream",
     "text": [
      "Acc: 99.9, Recall: 57.78, Precision: 57.78, F1: 57.78\n"
     ]
    },
    {
     "name": "stderr",
     "output_type": "stream",
     "text": [
      " 65%|██████▍   | 175/270 [00:48<00:17,  5.29it/s]"
     ]
    },
    {
     "name": "stdout",
     "output_type": "stream",
     "text": [
      "Acc: 99.43, Recall: 17.32, Precision: 17.32, F1: 17.32\n",
      "Acc: 99.78, Recall: 50.6, Precision: 50.6, F1: 50.6\n"
     ]
    },
    {
     "name": "stderr",
     "output_type": "stream",
     "text": [
      " 66%|██████▌   | 177/270 [00:48<00:15,  5.94it/s]"
     ]
    },
    {
     "name": "stdout",
     "output_type": "stream",
     "text": [
      "Acc: 99.95, Recall: 10.0, Precision: 10.0, F1: 10.0\n",
      "Acc: 99.97, Recall: 0.0, Precision: 0.0, F1: 0.0\n"
     ]
    },
    {
     "name": "stderr",
     "output_type": "stream",
     "text": [
      " 66%|██████▋   | 179/270 [00:49<00:15,  5.77it/s]"
     ]
    },
    {
     "name": "stdout",
     "output_type": "stream",
     "text": [
      "Acc: 99.73, Recall: 1.96, Precision: 1.96, F1: 1.96\n",
      "Acc: 99.62, Recall: 1.43, Precision: 1.43, F1: 1.43\n"
     ]
    },
    {
     "name": "stderr",
     "output_type": "stream",
     "text": [
      " 67%|██████▋   | 181/270 [00:49<00:15,  5.75it/s]"
     ]
    },
    {
     "name": "stdout",
     "output_type": "stream",
     "text": [
      "Acc: 99.91, Recall: 11.11, Precision: 11.11, F1: 11.11\n",
      "Acc: 99.57, Recall: 10.23, Precision: 10.23, F1: 10.23\n"
     ]
    },
    {
     "name": "stderr",
     "output_type": "stream",
     "text": [
      " 68%|██████▊   | 183/270 [00:50<00:15,  5.79it/s]"
     ]
    },
    {
     "name": "stdout",
     "output_type": "stream",
     "text": [
      "Acc: 99.74, Recall: 40.0, Precision: 40.0, F1: 40.0\n",
      "Acc: 99.86, Recall: 39.53, Precision: 39.53, F1: 39.53\n"
     ]
    },
    {
     "name": "stderr",
     "output_type": "stream",
     "text": [
      " 69%|██████▊   | 185/270 [00:50<00:14,  5.81it/s]"
     ]
    },
    {
     "name": "stdout",
     "output_type": "stream",
     "text": [
      "Acc: 99.78, Recall: 6.98, Precision: 6.98, F1: 6.98\n",
      "Acc: 99.75, Recall: 19.3, Precision: 19.3, F1: 19.3\n"
     ]
    },
    {
     "name": "stderr",
     "output_type": "stream",
     "text": [
      " 69%|██████▉   | 187/270 [00:50<00:13,  6.08it/s]"
     ]
    },
    {
     "name": "stdout",
     "output_type": "stream",
     "text": [
      "Acc: 99.93, Recall: 0.0, Precision: 0.0, F1: 0.0\n",
      "Acc: 99.85, Recall: 12.5, Precision: 12.5, F1: 12.5\n"
     ]
    },
    {
     "name": "stderr",
     "output_type": "stream",
     "text": [
      " 70%|███████   | 189/270 [00:51<00:13,  5.97it/s]"
     ]
    },
    {
     "name": "stdout",
     "output_type": "stream",
     "text": [
      "Acc: 99.61, Recall: 13.25, Precision: 13.25, F1: 13.25\n",
      "Acc: 99.85, Recall: 3.57, Precision: 3.57, F1: 3.57\n"
     ]
    },
    {
     "name": "stderr",
     "output_type": "stream",
     "text": [
      " 71%|███████   | 191/270 [00:51<00:12,  6.11it/s]"
     ]
    },
    {
     "name": "stdout",
     "output_type": "stream",
     "text": [
      "Acc: 99.79, Recall: 42.65, Precision: 42.65, F1: 42.65\n",
      "Acc: 99.99, Recall: 0.0, Precision: 0.0, F1: 0.0\n"
     ]
    },
    {
     "name": "stderr",
     "output_type": "stream",
     "text": [
      " 71%|███████▏  | 193/270 [00:51<00:12,  6.02it/s]"
     ]
    },
    {
     "name": "stdout",
     "output_type": "stream",
     "text": [
      "Acc: 99.85, Recall: 72.28, Precision: 72.28, F1: 72.28\n",
      "Acc: 99.99, Recall: 33.33, Precision: 33.33, F1: 33.33\n"
     ]
    },
    {
     "name": "stderr",
     "output_type": "stream",
     "text": [
      " 72%|███████▏  | 195/270 [00:52<00:11,  6.39it/s]"
     ]
    },
    {
     "name": "stdout",
     "output_type": "stream",
     "text": [
      "Acc: 99.99, Recall: 0.0, Precision: 0.0, F1: 0.0\n",
      "Acc: 99.96, Recall: 0.0, Precision: 0.0, F1: 0.0\n"
     ]
    },
    {
     "name": "stderr",
     "output_type": "stream",
     "text": [
      " 73%|███████▎  | 197/270 [00:52<00:11,  6.58it/s]"
     ]
    },
    {
     "name": "stdout",
     "output_type": "stream",
     "text": [
      "Acc: 99.98, Recall: 0.0, Precision: 0.0, F1: 0.0\n",
      "Acc: 99.97, Recall: 0.0, Precision: 0.0, F1: 0.0\n"
     ]
    },
    {
     "name": "stderr",
     "output_type": "stream",
     "text": [
      " 74%|███████▎  | 199/270 [00:52<00:11,  6.28it/s]"
     ]
    },
    {
     "name": "stdout",
     "output_type": "stream",
     "text": [
      "Acc: 99.76, Recall: 53.12, Precision: 53.12, F1: 53.12\n",
      "Acc: 99.99, Recall: 0.0, Precision: 0.0, F1: 0.0\n"
     ]
    },
    {
     "name": "stderr",
     "output_type": "stream",
     "text": [
      " 74%|███████▍  | 201/270 [00:52<00:10,  6.40it/s]"
     ]
    },
    {
     "name": "stdout",
     "output_type": "stream",
     "text": [
      "Acc: 99.9, Recall: 9.52, Precision: 9.52, F1: 9.52\n",
      "Acc: 99.93, Recall: 0.0, Precision: 0.0, F1: 0.0\n"
     ]
    },
    {
     "name": "stderr",
     "output_type": "stream",
     "text": [
      " 75%|███████▌  | 203/270 [00:53<00:10,  6.45it/s]"
     ]
    },
    {
     "name": "stdout",
     "output_type": "stream",
     "text": [
      "Acc: 99.93, Recall: 60.0, Precision: 60.0, F1: 60.0\n",
      "Acc: 99.95, Recall: 0.0, Precision: 0.0, F1: 0.0\n"
     ]
    },
    {
     "name": "stderr",
     "output_type": "stream",
     "text": [
      " 76%|███████▌  | 205/270 [00:53<00:09,  6.64it/s]"
     ]
    },
    {
     "name": "stdout",
     "output_type": "stream",
     "text": [
      "Acc: 99.98, Recall: 0.0, Precision: 0.0, F1: 0.0\n",
      "Acc: 99.99, Recall: 0.0, Precision: 0.0, F1: 0.0\n"
     ]
    },
    {
     "name": "stderr",
     "output_type": "stream",
     "text": [
      "\r",
      " 76%|███████▋  | 206/270 [00:53<00:09,  6.70it/s]"
     ]
    },
    {
     "name": "stdout",
     "output_type": "stream",
     "text": [
      "Acc: 99.99, Recall: 0.0, Precision: 0.0, F1: 0.0\n"
     ]
    },
    {
     "name": "stderr",
     "output_type": "stream",
     "text": [
      " 77%|███████▋  | 208/270 [00:54<00:10,  5.92it/s]"
     ]
    },
    {
     "name": "stdout",
     "output_type": "stream",
     "text": [
      "Acc: 99.29, Recall: 30.48, Precision: 30.48, F1: 30.48\n",
      "Acc: 99.98, Recall: 20.0, Precision: 20.0, F1: 20.0\n"
     ]
    },
    {
     "name": "stderr",
     "output_type": "stream",
     "text": [
      " 78%|███████▊  | 210/270 [00:54<00:10,  5.83it/s]"
     ]
    },
    {
     "name": "stdout",
     "output_type": "stream",
     "text": [
      "Acc: 99.87, Recall: 20.0, Precision: 20.0, F1: 20.0\n",
      "Acc: 99.69, Recall: 32.14, Precision: 32.14, F1: 32.14\n"
     ]
    },
    {
     "name": "stderr",
     "output_type": "stream",
     "text": [
      " 79%|███████▊  | 212/270 [00:54<00:10,  5.63it/s]"
     ]
    },
    {
     "name": "stdout",
     "output_type": "stream",
     "text": [
      "Acc: 99.55, Recall: 16.33, Precision: 16.33, F1: 16.33\n",
      "Acc: 99.89, Recall: 63.64, Precision: 63.64, F1: 63.64\n"
     ]
    },
    {
     "name": "stderr",
     "output_type": "stream",
     "text": [
      " 79%|███████▉  | 214/270 [00:55<00:09,  5.61it/s]"
     ]
    },
    {
     "name": "stdout",
     "output_type": "stream",
     "text": [
      "Acc: 99.64, Recall: 54.48, Precision: 54.48, F1: 54.48\n",
      "Acc: 99.98, Recall: 25.0, Precision: 25.0, F1: 25.0\n"
     ]
    },
    {
     "name": "stderr",
     "output_type": "stream",
     "text": [
      " 80%|████████  | 216/270 [00:55<00:09,  5.96it/s]"
     ]
    },
    {
     "name": "stdout",
     "output_type": "stream",
     "text": [
      "Acc: 99.91, Recall: 68.63, Precision: 68.63, F1: 68.63\n",
      "Acc: 99.98, Recall: 25.0, Precision: 25.0, F1: 25.0\n"
     ]
    },
    {
     "name": "stderr",
     "output_type": "stream",
     "text": [
      " 81%|████████  | 218/270 [00:55<00:08,  6.10it/s]"
     ]
    },
    {
     "name": "stdout",
     "output_type": "stream",
     "text": [
      "Acc: 99.76, Recall: 4.26, Precision: 4.26, F1: 4.26\n",
      "Acc: 99.89, Recall: 0.0, Precision: 0.0, F1: 0.0\n"
     ]
    },
    {
     "name": "stderr",
     "output_type": "stream",
     "text": [
      " 81%|████████▏ | 220/270 [00:56<00:07,  6.41it/s]"
     ]
    },
    {
     "name": "stdout",
     "output_type": "stream",
     "text": [
      "Acc: 99.96, Recall: 0.0, Precision: 0.0, F1: 0.0\n",
      "Acc: 99.97, Recall: 0.0, Precision: 0.0, F1: 0.0\n"
     ]
    },
    {
     "name": "stderr",
     "output_type": "stream",
     "text": [
      " 82%|████████▏ | 222/270 [00:56<00:08,  5.72it/s]"
     ]
    },
    {
     "name": "stdout",
     "output_type": "stream",
     "text": [
      "Acc: 99.43, Recall: 42.54, Precision: 42.54, F1: 42.54\n",
      "Acc: 99.95, Recall: 60.0, Precision: 60.0, F1: 60.0\n"
     ]
    },
    {
     "name": "stderr",
     "output_type": "stream",
     "text": [
      " 83%|████████▎ | 224/270 [00:56<00:07,  5.83it/s]"
     ]
    },
    {
     "name": "stdout",
     "output_type": "stream",
     "text": [
      "Acc: 99.67, Recall: 35.11, Precision: 35.11, F1: 35.11\n",
      "Acc: 99.96, Recall: 12.5, Precision: 12.5, F1: 12.5\n"
     ]
    },
    {
     "name": "stderr",
     "output_type": "stream",
     "text": [
      " 84%|████████▎ | 226/270 [00:57<00:07,  5.97it/s]"
     ]
    },
    {
     "name": "stdout",
     "output_type": "stream",
     "text": [
      "Acc: 99.78, Recall: 6.98, Precision: 6.98, F1: 6.98\n",
      "Acc: 99.84, Recall: 14.71, Precision: 14.71, F1: 14.71\n"
     ]
    },
    {
     "name": "stderr",
     "output_type": "stream",
     "text": [
      " 84%|████████▍ | 228/270 [00:57<00:07,  5.94it/s]"
     ]
    },
    {
     "name": "stdout",
     "output_type": "stream",
     "text": [
      "Acc: 99.99, Recall: 0.0, Precision: 0.0, F1: 0.0\n",
      "Acc: 99.72, Recall: 32.89, Precision: 32.89, F1: 32.89\n"
     ]
    },
    {
     "name": "stderr",
     "output_type": "stream",
     "text": [
      " 85%|████████▌ | 230/270 [00:57<00:06,  6.07it/s]"
     ]
    },
    {
     "name": "stdout",
     "output_type": "stream",
     "text": [
      "Acc: 99.95, Recall: 9.09, Precision: 9.09, F1: 9.09\n",
      "Acc: 99.8, Recall: 26.53, Precision: 26.53, F1: 26.53\n"
     ]
    },
    {
     "name": "stderr",
     "output_type": "stream",
     "text": [
      " 86%|████████▌ | 232/270 [00:58<00:06,  5.94it/s]"
     ]
    },
    {
     "name": "stdout",
     "output_type": "stream",
     "text": [
      "Acc: 99.79, Recall: 2.56, Precision: 2.56, F1: 2.56\n",
      "Acc: 99.93, Recall: 77.59, Precision: 77.59, F1: 77.59\n"
     ]
    },
    {
     "name": "stderr",
     "output_type": "stream",
     "text": [
      " 87%|████████▋ | 234/270 [00:58<00:05,  6.10it/s]"
     ]
    },
    {
     "name": "stdout",
     "output_type": "stream",
     "text": [
      "Acc: 100.0, Recall: 100.0, Precision: 100.0, F1: 100.0\n",
      "Acc: 99.76, Recall: 10.0, Precision: 10.0, F1: 10.0\n"
     ]
    },
    {
     "name": "stderr",
     "output_type": "stream",
     "text": [
      " 87%|████████▋ | 236/270 [00:58<00:05,  5.94it/s]"
     ]
    },
    {
     "name": "stdout",
     "output_type": "stream",
     "text": [
      "Acc: 99.97, Recall: 0.0, Precision: 0.0, F1: 0.0\n",
      "Acc: 99.59, Recall: 9.64, Precision: 9.64, F1: 9.64\n"
     ]
    },
    {
     "name": "stderr",
     "output_type": "stream",
     "text": [
      " 88%|████████▊ | 238/270 [00:59<00:05,  6.33it/s]"
     ]
    },
    {
     "name": "stdout",
     "output_type": "stream",
     "text": [
      "Acc: 99.98, Recall: 0.0, Precision: 0.0, F1: 0.0\n",
      "Acc: 99.96, Recall: 0.0, Precision: 0.0, F1: 0.0\n"
     ]
    },
    {
     "name": "stderr",
     "output_type": "stream",
     "text": [
      " 89%|████████▉ | 240/270 [00:59<00:04,  6.54it/s]"
     ]
    },
    {
     "name": "stdout",
     "output_type": "stream",
     "text": [
      "Acc: 99.98, Recall: 0.0, Precision: 0.0, F1: 0.0\n",
      "Acc: 99.97, Recall: 0.0, Precision: 0.0, F1: 0.0\n"
     ]
    },
    {
     "name": "stderr",
     "output_type": "stream",
     "text": [
      " 90%|████████▉ | 242/270 [00:59<00:04,  6.67it/s]"
     ]
    },
    {
     "name": "stdout",
     "output_type": "stream",
     "text": [
      "Acc: 100.0, Recall: 100.0, Precision: 100.0, F1: 100.0\n",
      "Acc: 99.97, Recall: 0.0, Precision: 0.0, F1: 0.0\n"
     ]
    },
    {
     "name": "stderr",
     "output_type": "stream",
     "text": [
      " 90%|█████████ | 244/270 [01:00<00:03,  6.72it/s]"
     ]
    },
    {
     "name": "stdout",
     "output_type": "stream",
     "text": [
      "Acc: 99.99, Recall: 0.0, Precision: 0.0, F1: 0.0\n",
      "Acc: 99.97, Recall: 0.0, Precision: 0.0, F1: 0.0\n"
     ]
    },
    {
     "name": "stderr",
     "output_type": "stream",
     "text": [
      " 91%|█████████ | 246/270 [01:00<00:03,  6.71it/s]"
     ]
    },
    {
     "name": "stdout",
     "output_type": "stream",
     "text": [
      "Acc: 99.96, Recall: 0.0, Precision: 0.0, F1: 0.0\n",
      "Acc: 99.95, Recall: 0.0, Precision: 0.0, F1: 0.0\n"
     ]
    },
    {
     "name": "stderr",
     "output_type": "stream",
     "text": [
      " 92%|█████████▏| 248/270 [01:00<00:03,  6.72it/s]"
     ]
    },
    {
     "name": "stdout",
     "output_type": "stream",
     "text": [
      "Acc: 99.96, Recall: 0.0, Precision: 0.0, F1: 0.0\n",
      "Acc: 99.98, Recall: 42.86, Precision: 42.86, F1: 42.86\n"
     ]
    },
    {
     "name": "stderr",
     "output_type": "stream",
     "text": [
      " 93%|█████████▎| 250/270 [01:00<00:02,  6.78it/s]"
     ]
    },
    {
     "name": "stdout",
     "output_type": "stream",
     "text": [
      "Acc: 99.99, Recall: 66.67, Precision: 66.67, F1: 66.67\n",
      "Acc: 99.99, Recall: 0.0, Precision: 0.0, F1: 0.0\n"
     ]
    },
    {
     "name": "stderr",
     "output_type": "stream",
     "text": [
      " 93%|█████████▎| 252/270 [01:01<00:02,  6.83it/s]"
     ]
    },
    {
     "name": "stdout",
     "output_type": "stream",
     "text": [
      "Acc: 100.0, Recall: 100.0, Precision: 100.0, F1: 100.0\n",
      "Acc: 99.99, Recall: 0.0, Precision: 0.0, F1: 0.0\n"
     ]
    },
    {
     "name": "stderr",
     "output_type": "stream",
     "text": [
      " 94%|█████████▍| 254/270 [01:01<00:02,  6.81it/s]"
     ]
    },
    {
     "name": "stdout",
     "output_type": "stream",
     "text": [
      "Acc: 99.98, Recall: 25.0, Precision: 25.0, F1: 25.0\n",
      "Acc: 99.99, Recall: 33.33, Precision: 33.33, F1: 33.33\n"
     ]
    },
    {
     "name": "stderr",
     "output_type": "stream",
     "text": [
      " 95%|█████████▍| 256/270 [01:01<00:02,  6.81it/s]"
     ]
    },
    {
     "name": "stdout",
     "output_type": "stream",
     "text": [
      "Acc: 99.98, Recall: 33.33, Precision: 33.33, F1: 33.33\n",
      "Acc: 99.99, Recall: 0.0, Precision: 0.0, F1: 0.0\n"
     ]
    },
    {
     "name": "stderr",
     "output_type": "stream",
     "text": [
      " 96%|█████████▌| 258/270 [01:02<00:01,  6.79it/s]"
     ]
    },
    {
     "name": "stdout",
     "output_type": "stream",
     "text": [
      "Acc: 99.98, Recall: 0.0, Precision: 0.0, F1: 0.0\n",
      "Acc: 99.98, Recall: 0.0, Precision: 0.0, F1: 0.0\n"
     ]
    },
    {
     "name": "stderr",
     "output_type": "stream",
     "text": [
      " 96%|█████████▋| 260/270 [01:02<00:01,  6.82it/s]"
     ]
    },
    {
     "name": "stdout",
     "output_type": "stream",
     "text": [
      "Acc: 99.99, Recall: 0.0, Precision: 0.0, F1: 0.0\n",
      "Acc: 99.99, Recall: 0.0, Precision: 0.0, F1: 0.0\n"
     ]
    },
    {
     "name": "stderr",
     "output_type": "stream",
     "text": [
      " 97%|█████████▋| 262/270 [01:02<00:01,  6.82it/s]"
     ]
    },
    {
     "name": "stdout",
     "output_type": "stream",
     "text": [
      "Acc: 99.98, Recall: 0.0, Precision: 0.0, F1: 0.0\n",
      "Acc: 99.99, Recall: 0.0, Precision: 0.0, F1: 0.0\n"
     ]
    },
    {
     "name": "stderr",
     "output_type": "stream",
     "text": [
      " 98%|█████████▊| 264/270 [01:02<00:00,  6.84it/s]"
     ]
    },
    {
     "name": "stdout",
     "output_type": "stream",
     "text": [
      "Acc: 99.99, Recall: 0.0, Precision: 0.0, F1: 0.0\n",
      "Acc: 99.99, Recall: 0.0, Precision: 0.0, F1: 0.0\n"
     ]
    },
    {
     "name": "stderr",
     "output_type": "stream",
     "text": [
      " 99%|█████████▊| 266/270 [01:03<00:00,  6.85it/s]"
     ]
    },
    {
     "name": "stdout",
     "output_type": "stream",
     "text": [
      "Acc: 99.99, Recall: 0.0, Precision: 0.0, F1: 0.0\n",
      "Acc: 99.99, Recall: 0.0, Precision: 0.0, F1: 0.0\n"
     ]
    },
    {
     "name": "stderr",
     "output_type": "stream",
     "text": [
      " 99%|█████████▉| 268/270 [01:03<00:00,  6.85it/s]"
     ]
    },
    {
     "name": "stdout",
     "output_type": "stream",
     "text": [
      "Acc: 99.99, Recall: 0.0, Precision: 0.0, F1: 0.0\n",
      "Acc: 99.99, Recall: 0.0, Precision: 0.0, F1: 0.0\n"
     ]
    },
    {
     "name": "stderr",
     "output_type": "stream",
     "text": [
      "100%|██████████| 270/270 [01:03<00:00,  4.23it/s]"
     ]
    },
    {
     "name": "stdout",
     "output_type": "stream",
     "text": [
      "Acc: 99.99, Recall: 0.0, Precision: 0.0, F1: 0.0\n",
      "Acc: 99.99, Recall: 0.0, Precision: 0.0, F1: 0.0\n"
     ]
    },
    {
     "name": "stderr",
     "output_type": "stream",
     "text": [
      "\n"
     ]
    }
   ],
   "source": [
    "## Trial for the first country_dict  (recall and precision and F1 scores are equal)\n",
    "\n",
    "from sklearn.metrics import accuracy_score, precision_score, recall_score, f1_score\n",
    "\n",
    "all_images = list(data['imageRelPath'])\n",
    "list_dict_topic2FNimg = []\n",
    "list_dict_topic2F1 = []\n",
    "\n",
    "#for country_dict in tqdm.tqdm(list_english_score_dicts):\n",
    "    \n",
    "dict_topic2FNimg = {}\n",
    "dict_topic2F1 = {}\n",
    "\n",
    "for topic in tqdm.tqdm(dict_topic2score.keys()):\n",
    "    dict_country_topic2img = english_dict_topic2imgGT\n",
    "    count_pos = len(dict_country_topic2img[topic])\n",
    "\n",
    "    GT_pos_images = dict_country_topic2img[topic]\n",
    "    Pred_pos_images = [data[1] for data in dict_topic2score[topic][:count_pos]]\n",
    "\n",
    "    GT_labels = [1 if img in GT_pos_images else 0 for img in all_images]\n",
    "    Pred_labels = [1 if img in Pred_pos_images else 0 for img in all_images]\n",
    "\n",
    "\n",
    "    accuracy = round(accuracy_score(GT_labels, Pred_labels) * 100, 2)\n",
    "    precision = round(precision_score(GT_labels, Pred_labels) * 100, 2)\n",
    "    recall = round(recall_score(GT_labels, Pred_labels) * 100, 2)\n",
    "    f1 = round(f1_score(GT_labels, Pred_labels) * 100, 2)\n",
    "\n",
    "    print(f\"Acc: {accuracy}, Recall: {recall}, Precision: {precision}, F1: {f1}\")\n",
    "\n",
    "    dict_topic2F1[topic] = f1 \n",
    "    list_dict_topic2F1.append(dict_topic2F1)\n",
    "\n",
    "\n",
    "    # What are the forgotten items (FN) \n",
    "    images_FN = []\n",
    "    for idx, img in enumerate(all_images):\n",
    "        label_GT = GT_labels[idx]\n",
    "        label_Pred = Pred_labels[idx]\n",
    "        #FN\n",
    "        if label_GT == 1 and label_Pred == 0:\n",
    "            images_FN.append(img) \n",
    "\n",
    "    dict_topic2FNimg[topic] = images_FN\n",
    "\n",
    "list_dict_topic2FNimg.append(dict_topic2FNimg)\n"
   ]
  },
  {
   "cell_type": "code",
   "execution_count": 37,
   "id": "892177f7",
   "metadata": {},
   "outputs": [
    {
     "data": {
      "text/plain": [
       "270"
      ]
     },
     "execution_count": 37,
     "metadata": {},
     "output_type": "execute_result"
    }
   ],
   "source": [
    "len(dict_topic2FNimg)"
   ]
  },
  {
   "cell_type": "code",
   "execution_count": 38,
   "id": "70936d47",
   "metadata": {},
   "outputs": [
    {
     "data": {
      "text/plain": [
       "79"
      ]
     },
     "execution_count": 38,
     "metadata": {},
     "output_type": "execute_result"
    }
   ],
   "source": [
    "len(dict_topic2FNimg['This is a photo of family snapshots'])"
   ]
  },
  {
   "cell_type": "code",
   "execution_count": 69,
   "id": "17a0acc6",
   "metadata": {},
   "outputs": [
    {
     "data": {
      "text/plain": [
       "272"
      ]
     },
     "execution_count": 69,
     "metadata": {},
     "output_type": "execute_result"
    }
   ],
   "source": [
    "len(list_dict_topic2F1[0])"
   ]
  },
  {
   "cell_type": "code",
   "execution_count": 71,
   "id": "21b12b38",
   "metadata": {},
   "outputs": [
    {
     "data": {
      "text/plain": [
       "{'This is a photo of family snapshots from Myanmar': 5.88,\n",
       " 'This is a photo of cutlery from Myanmar': 26.91,\n",
       " 'This is a photo of family from Myanmar': 33.98,\n",
       " 'This is a photo of place where eating dinner from Myanmar': 11.64,\n",
       " 'This is a photo of plate of food from Myanmar': 26.26,\n",
       " 'This is a photo of table with food from Myanmar': 38.3,\n",
       " 'This is a photo of get water from Myanmar': 7.33,\n",
       " 'This is a photo of stove/hob from Myanmar': 31.0,\n",
       " 'This is a photo of light source in kitchen from Myanmar': 17.48,\n",
       " 'This is a photo of drinking water from Myanmar': 12.73,\n",
       " 'This is a photo of kitchen sink from Myanmar': 26.46,\n",
       " 'This is a photo of bathroom privacy from Myanmar': 12.74,\n",
       " 'This is a photo of backyard from Myanmar': 13.36,\n",
       " 'This is a photo of front door from Myanmar': 41.31,\n",
       " 'This is a photo of home from Myanmar': 13.28,\n",
       " 'This is a photo of source of cool from Myanmar': 8.64,\n",
       " 'This is a photo of street view from Myanmar': 27.08,\n",
       " 'This is a photo of teeth from Myanmar': 57.62,\n",
       " 'This is a photo of hand back from Myanmar': 26.54,\n",
       " 'This is a photo of hand palm from Myanmar': 65.65,\n",
       " 'This is a photo of pet from Myanmar': 40.0,\n",
       " 'This is a photo of bedroom from Myanmar': 26.57,\n",
       " 'This is a photo of grains from Myanmar': 32.6,\n",
       " 'This is a photo of wardrobe from Myanmar': 33.8,\n",
       " 'This is a photo of armchair from Myanmar': 35.76,\n",
       " 'This is a photo of hallway from Myanmar': 16.33,\n",
       " 'This is a photo of kitchen from Myanmar': 20.66,\n",
       " 'This is a photo of books from Myanmar': 37.06,\n",
       " 'This is a photo of everyday shoes from Myanmar': 44.25,\n",
       " 'This is a photo of hand washing from Myanmar': 24.67,\n",
       " 'This is a photo of trash/waste from Myanmar': 26.89,\n",
       " 'This is a photo of tools from Myanmar': 20.0,\n",
       " 'This is a photo of hair brush/comb from Myanmar': 54.96,\n",
       " 'This is a photo of street detail from Myanmar': 1.37,\n",
       " 'This is a photo of soap for hands and body from Myanmar': 13.77,\n",
       " 'This is a photo of shampoo from Myanmar': 22.71,\n",
       " 'This is a photo of vegetable plot from Myanmar': 24.29,\n",
       " 'This is a photo of roof from Myanmar': 37.29,\n",
       " 'This is a photo of toilet from Myanmar': 32.86,\n",
       " 'This is a photo of spices from Myanmar': 34.37,\n",
       " 'This is a photo of salt from Myanmar': 34.02,\n",
       " 'This is a photo of jewelry from Myanmar': 33.69,\n",
       " 'This is a photo of cooking utensils from Myanmar': 19.27,\n",
       " 'This is a photo of dish washing brush/cloth from Myanmar': 3.99,\n",
       " 'This is a photo of cooking pots from Myanmar': 24.74,\n",
       " 'This is a photo of plates from Myanmar': 33.43,\n",
       " 'This is a photo of cups/mugs/glasses from Myanmar': 32.83,\n",
       " 'This is a photo of wall from Myanmar': 17.06,\n",
       " 'This is a photo of cattle from Myanmar': 54.55,\n",
       " 'This is a photo of ceiling from Myanmar': 27.35,\n",
       " 'This is a photo of bed from Myanmar': 36.08,\n",
       " 'This is a photo of storage room from Myanmar': 10.22,\n",
       " 'This is a photo of refrigerator from Myanmar': 36.05,\n",
       " 'This is a photo of floor from Myanmar': 22.55,\n",
       " 'This is a photo of wall inside from Myanmar': 12.89,\n",
       " 'This is a photo of tooth paste from Myanmar': 20.04,\n",
       " 'This is a photo of toothbrush from Myanmar': 36.59,\n",
       " 'This is a photo of goats from Myanmar': 66.67,\n",
       " 'This is a photo of cleaning equipment from Myanmar': 7.08,\n",
       " 'This is a photo of cleaning after toilet from Myanmar': 7.14,\n",
       " 'This is a photo of visit from Myanmar': 3.84,\n",
       " 'This is a photo of hand open to closed from Myanmar': 10.2,\n",
       " 'This is a photo of brushing teeth from Myanmar': 17.32,\n",
       " 'This is a photo of using toilet from Myanmar': 4.08,\n",
       " 'This is a photo of doing dishes from Myanmar': 6.67,\n",
       " 'This is a photo of pouring drinking water from Myanmar': 6.67,\n",
       " 'This is a photo of pouring water from Myanmar': 3.37,\n",
       " 'This is a photo of starting stove from Myanmar': 15.23,\n",
       " 'This is a photo of cooking from Myanmar': 7.69,\n",
       " 'This is a photo of preparing food from Myanmar': 5.92,\n",
       " 'This is a photo of shoes from Myanmar': 4.76,\n",
       " 'This is a photo of washing hands from Myanmar': 23.37,\n",
       " 'This is a photo of walking to get water from Myanmar': 2.56,\n",
       " 'This is a photo of washing clothes/cleaning from Myanmar': 18.18,\n",
       " 'This is a photo of eating from Myanmar': 10.48,\n",
       " 'This is a photo of family eating from Myanmar': 14.95,\n",
       " 'This is a photo of vegetables from Myanmar': 47.1,\n",
       " 'This is a photo of smoke and steam exit from Myanmar': 7.3,\n",
       " 'This is a photo of fruits and vegetables from Myanmar': 27.62,\n",
       " 'This is a photo of toys from Myanmar': 17.06,\n",
       " 'This is a photo of nicest shoes from Myanmar': 43.7,\n",
       " 'This is a photo of mosquito protection from Myanmar': 16.56,\n",
       " 'This is a photo of wall decoration from Myanmar': 19.65,\n",
       " 'This is a photo of living room from Myanmar': 26.88,\n",
       " 'This is a photo of fruit trees from Myanmar': 43.0,\n",
       " 'This is a photo of toilet paper from Myanmar': 41.98,\n",
       " 'This is a photo of bathroom/toilet from Myanmar': 26.0,\n",
       " 'This is a photo of shaving from Myanmar': 3.67,\n",
       " 'This is a photo of lock on front door from Myanmar': 60.86,\n",
       " 'This is a photo of couch from Myanmar': 37.54,\n",
       " 'This is a photo of  sofa from Myanmar': 42.52,\n",
       " 'This is a photo of knifes from Myanmar': 57.54,\n",
       " 'This is a photo of dish racks from Myanmar': 17.86,\n",
       " 'This is a photo of play area from Myanmar': 10.36,\n",
       " 'This is a photo of place where serving guests from Myanmar': 10.88,\n",
       " 'This is a photo of photo guide images from Myanmar': 0.0,\n",
       " 'This is a photo of agriculture land from Myanmar': 30.19,\n",
       " 'This is a photo of sitting area from Myanmar': 12.54,\n",
       " 'This is a photo of bed kids from Myanmar': 14.98,\n",
       " 'This is a photo of drying from Myanmar': 20.3,\n",
       " 'This is a photo of water outlet from Myanmar': 3.27,\n",
       " 'This is a photo of  drainage from Myanmar': 13.4,\n",
       " 'This is a photo of shower from Myanmar': 25.23,\n",
       " 'This is a photo of house overview from Myanmar': 2.63,\n",
       " 'This is a photo of socializing from Myanmar': 16.27,\n",
       " 'This is a photo of playing from Myanmar': 17.99,\n",
       " 'This is a photo of kids playing outside from Myanmar': 18.33,\n",
       " 'This is a photo of chopping food from Myanmar': 6.31,\n",
       " 'This is a photo of chickens from Myanmar': 64.29,\n",
       " 'This is a photo of bike from Myanmar': 41.5,\n",
       " 'This is a photo of source of heat from Myanmar': 3.26,\n",
       " 'This is a photo of phone from Myanmar': 56.72,\n",
       " 'This is a photo of work area from Myanmar': 9.47,\n",
       " 'This is a photo of children room from Myanmar': 11.86,\n",
       " 'This is a photo of light source in livingroom from Myanmar': 21.88,\n",
       " 'This is a photo of washing detergent from Myanmar': 6.35,\n",
       " 'This is a photo of medication from Myanmar': 37.67,\n",
       " 'This is a photo of dish washing soap from Myanmar': 3.56,\n",
       " 'This is a photo of turning lights on and off from Myanmar': 14.13,\n",
       " 'This is a photo of source of light from Myanmar': 12.32,\n",
       " 'This is a photo of wall clock from Myanmar': 69.57,\n",
       " 'This is a photo of guest bed from Myanmar': 18.01,\n",
       " 'This is a photo of diapers (or baby-pants) from Myanmar': 35.06,\n",
       " 'This is a photo of switch on/off from Myanmar': 37.5,\n",
       " 'This is a photo of pen/pencils from Myanmar': 54.86,\n",
       " 'This is a photo of paper from Myanmar': 34.43,\n",
       " 'This is a photo of rug from Myanmar': 29.69,\n",
       " 'This is a photo of bed_hq from Myanmar': 0.0,\n",
       " 'This is a photo of social drink from Myanmar': 19.74,\n",
       " 'This is a photo of carrying water from Myanmar': 0.0,\n",
       " 'This is a photo of light sources from Myanmar': 21.08,\n",
       " 'This is a photo of music equipment from Myanmar': 17.79,\n",
       " 'This is a photo of frontdoor keys from Myanmar': 19.73,\n",
       " 'This is a photo of lightsources by bed from Myanmar': 4.5,\n",
       " 'This is a photo of  reading light from Myanmar': 8.11,\n",
       " 'This is a photo of necklaces from Myanmar': 51.09,\n",
       " 'This is a photo of earings from Myanmar': 9.56,\n",
       " 'This is a photo of cosmetics from Myanmar': 16.26,\n",
       " 'This is a photo of cleaning floors from Myanmar': 13.43,\n",
       " 'This is a photo of make up from Myanmar': 4.05,\n",
       " 'This is a photo of putting on make up from Myanmar': 8.33,\n",
       " 'This is a photo of chopping ingredients from Myanmar': 4.17,\n",
       " 'This is a photo of brushing hair from Myanmar': 5.75,\n",
       " 'This is a photo of taking a teaspoon of salt from Myanmar': 5.21,\n",
       " 'This is a photo of drinking social drink from Myanmar': 14.29,\n",
       " 'This is a photo of meat or fish from Myanmar': 21.24,\n",
       " 'This is a photo of replaced from Myanmar': 0.0,\n",
       " 'This is a photo of radio from Myanmar': 35.58,\n",
       " 'This is a photo of listening to the radio from Myanmar': 0.0,\n",
       " 'This is a photo of coins from Myanmar': 0.0,\n",
       " 'This is a photo of pet foods from Myanmar': 0.0,\n",
       " 'This is a photo of menstruation pads / tampax from Myanmar': 15.2,\n",
       " 'This is a photo of dinner guests from Myanmar': 10.42,\n",
       " 'This is a photo of nature sceneries from Myanmar': 0.0,\n",
       " 'This is a photo of worship places from Myanmar': 13.74,\n",
       " 'This is a photo of power outlet from Myanmar': 35.22,\n",
       " 'This is a photo of glasses or lenses from Myanmar': 72.79,\n",
       " 'This is a photo of adding spices to food while cooking from Myanmar': 1.49,\n",
       " 'This is a photo of presenting dollar street from Myanmar': 0.0,\n",
       " 'This is a photo of worshipping from Myanmar': 11.11,\n",
       " 'This is a photo of writing from Myanmar': 2.63,\n",
       " 'This is a photo of writing signature from Myanmar': 32.1,\n",
       " 'This is a photo of tv from Myanmar': 63.56,\n",
       " 'This is a photo of fishes from Myanmar': 22.41,\n",
       " 'This is a photo of bowls from Myanmar': 0.0,\n",
       " 'This is a photo of kids playing inside from Myanmar': 15.49,\n",
       " 'This is a photo of bills of money from Myanmar': 0.0,\n",
       " 'This is a photo of coats and jackets from Myanmar': 15.38,\n",
       " 'This is a photo of surroundings from Myanmar': 0.0,\n",
       " 'This is a photo of moped/motorcycle from Myanmar': 50.62,\n",
       " 'This is a photo of parking lot from Myanmar': 16.67,\n",
       " 'This is a photo of toothpaste on toothbrush from Myanmar': 3.85,\n",
       " 'This is a photo of wheel barrow from Myanmar': 13.33,\n",
       " 'This is a photo of wall  from Myanmar': 0.0,\n",
       " 'This is a photo of waste dumps from Myanmar': 8.66,\n",
       " 'This is a photo of wedding photos from Myanmar': 19.28,\n",
       " 'This is a photo of ventilation from Myanmar': 0.0,\n",
       " 'This is a photo of milk cows or bulls from Myanmar': 40.0,\n",
       " 'This is a photo of answering the phone from Myanmar': 1.96,\n",
       " 'This is a photo of closing the front door from Myanmar': 8.57,\n",
       " 'This is a photo of hanging clothes to dry from Myanmar': 0.0,\n",
       " 'This is a photo of opening the front door from Myanmar': 14.77,\n",
       " 'This is a photo of reading from Myanmar': 11.25,\n",
       " 'This is a photo of reading a book from Myanmar': 6.98,\n",
       " 'This is a photo of  seeing the back of book from Myanmar': 2.33,\n",
       " 'This is a photo of sleeping from Myanmar': 5.26,\n",
       " 'This is a photo of turning fan/ac on from Myanmar': 0.0,\n",
       " 'This is a photo of turning heater on from Myanmar': 3.12,\n",
       " 'This is a photo of walking towards front door from Myanmar': 0.0,\n",
       " 'This is a photo of writing \"home\" from Myanmar': 0.0,\n",
       " 'This is a photo of piercings from Myanmar': 20.59,\n",
       " 'This is a photo of fishing equipment from Myanmar': 0.0,\n",
       " 'This is a photo of arm watch from Myanmar': 50.5,\n",
       " 'This is a photo of soccer balls from Myanmar': 33.33,\n",
       " 'This is a photo of horse stables from Myanmar': 0.0,\n",
       " 'This is a photo of playgrounds from Myanmar': 0.0,\n",
       " 'This is a photo of drinks from Myanmar': 0.0,\n",
       " 'This is a photo of other transport  from Myanmar': 0.0,\n",
       " 'This is a photo of car from Myanmar': 13.54,\n",
       " 'This is a photo of car decorations from Myanmar': 0.0,\n",
       " 'This is a photo of transport of heavy things from Myanmar': 0.0,\n",
       " 'This is a photo of clothes from Myanmar': 0.0,\n",
       " 'This is a photo of cigarettes from Myanmar': 23.33,\n",
       " 'This is a photo of portraits from Myanmar': 0.0,\n",
       " 'This is a photo of ingredients from Myanmar': 0.0,\n",
       " 'This is a photo of fields from Myanmar': 0.0,\n",
       " 'This is a photo of celebrity posters from Myanmar': 0.0,\n",
       " 'This is a photo of freezer from Myanmar': 27.27,\n",
       " 'This is a photo of boat from Myanmar': 20.0,\n",
       " 'This is a photo of arm watches from Myanmar': 20.0,\n",
       " 'This is a photo of sitting and watching tv from Myanmar': 13.1,\n",
       " 'This is a photo of plugging into and out of power outlet from Myanmar': 10.2,\n",
       " 'This is a photo of dishwasher from Myanmar': 0.0,\n",
       " 'This is a photo of oven from Myanmar': 15.86,\n",
       " 'This is a photo of baby powder from Myanmar': 0.0,\n",
       " 'This is a photo of tattoos from Myanmar': 21.57,\n",
       " 'This is a photo of sheep from Myanmar': 25.0,\n",
       " 'This is a photo of other transport from Myanmar': 33.33,\n",
       " 'This is a photo of preparing social drink from Myanmar': 0.0,\n",
       " 'This is a photo of go through mail from Myanmar': 0.0,\n",
       " 'This is a photo of smoking from Myanmar': 14.29,\n",
       " 'This is a photo of walking through home from Myanmar': 0.0,\n",
       " 'This is a photo of computer from Myanmar': 24.31,\n",
       " 'This is a photo of contraceptives from Myanmar': 20.0,\n",
       " 'This is a photo of instrument from Myanmar': 9.57,\n",
       " 'This is a photo of rehabilitation technology from Myanmar': 0.0,\n",
       " 'This is a photo of turn tv on from Myanmar': 2.33,\n",
       " 'This is a photo of playing an instrument from Myanmar': 5.88,\n",
       " 'This is a photo of bread ready from Myanmar': 0.0,\n",
       " 'This is a photo of alcoholic drinks from Myanmar': 5.26,\n",
       " 'This is a photo of snacks from Myanmar': 0.0,\n",
       " 'This is a photo of alarm clock from Myanmar': 6.12,\n",
       " 'This is a photo of throwing food trash away from Myanmar': 0.0,\n",
       " 'This is a photo of car keys from Myanmar': 31.03,\n",
       " 'This is a photo of tractors from Myanmar': 0.0,\n",
       " 'This is a photo of opening and closing the refrigerator from Myanmar': 12.0,\n",
       " 'This is a photo of water sources from Myanmar': 0.0,\n",
       " 'This is a photo of opening and closing the freezer from Myanmar': 6.02,\n",
       " 'This is a photo of horses from Myanmar': 0.0,\n",
       " 'This is a photo of water sources for doing dishes from Myanmar': 0.0,\n",
       " 'This is a photo of soccer supporter items from Myanmar': 0.0,\n",
       " 'This is a photo of cooking food from Myanmar': 0.0,\n",
       " 'This is a photo of snack stores from Myanmar': 100.0,\n",
       " 'This is a photo of daylight ostructions from Myanmar': 0.0,\n",
       " 'This is a photo of smog/bad air breathing protection from Myanmar': 50.0,\n",
       " 'This is a photo of bad outdoor air obstructions from Myanmar': 0.0,\n",
       " 'This is a photo of skies outside from Myanmar': 0.0,\n",
       " 'This is a photo of sources of drinking water from Myanmar': 0.0,\n",
       " 'This is a photo of laying in bed - pretend to sleep from Myanmar': 14.29,\n",
       " 'This is a photo of newspapers from Myanmar': 28.57,\n",
       " 'This is a photo of elevators from Myanmar': 0.0,\n",
       " 'This is a photo of water purifier solutions from Myanmar': 0.0,\n",
       " 'This is a photo of air fresheners (scents from Myanmar': 0.0,\n",
       " 'This is a photo of  smells) from Myanmar': 0.0,\n",
       " 'This is a photo of air cleaning equipments from Myanmar': 0.0,\n",
       " 'This is a photo of foodstores from Myanmar': 0.0,\n",
       " 'This is a photo of markets from Myanmar': 0.0,\n",
       " 'This is a photo of picking up the phone from Myanmar': 0.0,\n",
       " 'This is a photo of bread - ready from Myanmar': 0.0,\n",
       " 'This is a photo of opening mail from Myanmar': 0.0,\n",
       " 'This is a photo of meat storages from Myanmar': 0.0,\n",
       " 'This is a photo of bread bowls from Myanmar': 0.0,\n",
       " 'This is a photo of disability aid from Myanmar': 0.0,\n",
       " 'This is a photo of electric wires from Myanmar': 0.0,\n",
       " 'This is a photo of tabloids from Myanmar': 0.0,\n",
       " 'This is a photo of equipment from Myanmar': 0.0,\n",
       " 'This is a photo of baking tools from Myanmar': 0.0,\n",
       " 'This is a photo of baking sheets from Myanmar': 0.0,\n",
       " 'This is a photo of baking tables from Myanmar': 0.0,\n",
       " 'This is a photo of electricity wires from Myanmar': 0.0,\n",
       " 'This is a photo of meat markets from Myanmar': 0.0,\n",
       " 'This is a photo of vegetable markets from Myanmar': 0.0}"
      ]
     },
     "execution_count": 71,
     "metadata": {},
     "output_type": "execute_result"
    }
   ],
   "source": [
    "list_dict_topic2F1[6]"
   ]
  },
  {
   "cell_type": "code",
   "execution_count": 39,
   "id": "a0dcfc6a",
   "metadata": {},
   "outputs": [],
   "source": [
    "f = open(\"data/english_dict_topic2FNimg.pkl\",\"wb\")\n",
    "\n",
    "# write the python object (dict) to pickle file\n",
    "pickle.dump(dict_topic2FNimg,f)\n",
    "\n",
    "# close file\n",
    "f.close()"
   ]
  },
  {
   "cell_type": "code",
   "execution_count": 40,
   "id": "c4988563",
   "metadata": {},
   "outputs": [],
   "source": [
    "f = open(\"data/english_dict_topic2F1.pkl\",\"wb\")\n",
    "\n",
    "# write the python object (dict) to pickle file\n",
    "pickle.dump(dict_topic2F1,f)\n",
    "\n",
    "# close file\n",
    "f.close()"
   ]
  },
  {
   "cell_type": "code",
   "execution_count": null,
   "id": "9609aaf4",
   "metadata": {},
   "outputs": [],
   "source": []
  },
  {
   "cell_type": "code",
   "execution_count": null,
   "id": "bf4349f2",
   "metadata": {},
   "outputs": [],
   "source": []
  }
 ],
 "metadata": {
  "kernelspec": {
   "display_name": "Python 3 (ipykernel)",
   "language": "python",
   "name": "python3"
  },
  "language_info": {
   "codemirror_mode": {
    "name": "ipython",
    "version": 3
   },
   "file_extension": ".py",
   "mimetype": "text/x-python",
   "name": "python",
   "nbconvert_exporter": "python",
   "pygments_lexer": "ipython3",
   "version": "3.10.9"
  }
 },
 "nbformat": 4,
 "nbformat_minor": 5
}
