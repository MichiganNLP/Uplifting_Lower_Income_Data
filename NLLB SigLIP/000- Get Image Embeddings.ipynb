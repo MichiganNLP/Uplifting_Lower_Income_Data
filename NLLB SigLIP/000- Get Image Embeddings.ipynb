{
 "cells": [
  {
   "cell_type": "code",
   "execution_count": 2,
   "id": "ff43253d",
   "metadata": {},
   "outputs": [],
   "source": [
    "\n",
    "path_data = '/data'"
   ]
  },
  {
   "cell_type": "code",
   "execution_count": 3,
   "id": "fbb1c522",
   "metadata": {},
   "outputs": [
    {
     "name": "stdout",
     "output_type": "stream",
     "text": [
      "Torch version: 2.2.1+cu121\n"
     ]
    }
   ],
   "source": [
    "import numpy as np\n",
    "import pandas as pd\n",
    "import matplotlib.pyplot as plt\n",
    "import seaborn as sns \n",
    "import warnings\n",
    "warnings.filterwarnings(\"ignore\")\n",
    "import os\n",
    "\n",
    "\n",
    "\n",
    "import torch\n",
    "import transformers\n",
    "from pkg_resources import packaging\n",
    "from PIL import Image\n",
    "import tqdm\n",
    "from pathlib import Path\n",
    "print(\"Torch version:\", torch.__version__)\n",
    "\n",
    "from PIL import ImageFile\n",
    "ImageFile.LOAD_TRUNCATED_IMAGES = True\n",
    "\n",
    "\n",
    "import urllib.request\n",
    "import requests\n",
    "import open_clip\n",
    "from sentence_transformers import SentenceTransformer, util\n",
    "from open_clip import get_tokenizer\n",
    "\n",
    "from open_clip import create_model_from_pretrained\n",
    "from PIL import Image, ImageFile\n",
    "import timm\n",
    "\n",
    "plt.style.use('ggplot')"
   ]
  },
  {
   "cell_type": "code",
   "execution_count": 4,
   "id": "4c14e84c",
   "metadata": {},
   "outputs": [],
   "source": [
    "data_unfiltered = pd.read_csv(\"/\".join([path_data, \"images_v2.csv\"]))\n",
    "#display(data_unfiltered)"
   ]
  },
  {
   "cell_type": "code",
   "execution_count": 5,
   "id": "f79fed69",
   "metadata": {},
   "outputs": [
    {
     "data": {
      "text/plain": [
       "38479"
      ]
     },
     "execution_count": 5,
     "metadata": {},
     "output_type": "execute_result"
    }
   ],
   "source": [
    "len(data_unfiltered)"
   ]
  },
  {
   "cell_type": "markdown",
   "id": "f7c8d061",
   "metadata": {},
   "source": [
    "### Remove subjective topics"
   ]
  },
  {
   "cell_type": "code",
   "execution_count": 6,
   "id": "e6c18806",
   "metadata": {},
   "outputs": [],
   "source": [
    "subjective_topics = ['Favorite home decorations', 'Favourite item in kitchen', 'Favourite sports clubs', 'How the most loved item is used', 'icons', 'Idols', 'Latest furniture bought', ' looking over the shoulder', 'Most loved item', 'Most loved toy', 'Most played songs on the radio', 'Music idol', 'Next big thing you are planning to buy', 'Playing with most loved toy', 'Thing I dream about having', 'Things I wish I had', 'Using most loved item', 'Youth culture', 'What I wish I could buy']"
   ]
  },
  {
   "cell_type": "code",
   "execution_count": 7,
   "id": "9fcf6540",
   "metadata": {},
   "outputs": [
    {
     "data": {
      "text/plain": [
       "19"
      ]
     },
     "execution_count": 7,
     "metadata": {},
     "output_type": "execute_result"
    }
   ],
   "source": [
    "len(subjective_topics)"
   ]
  },
  {
   "cell_type": "code",
   "execution_count": 8,
   "id": "377f14b7",
   "metadata": {},
   "outputs": [],
   "source": [
    "unique_topics = data_unfiltered['topics'].unique()"
   ]
  },
  {
   "cell_type": "code",
   "execution_count": 9,
   "id": "ec2c83fa",
   "metadata": {},
   "outputs": [],
   "source": [
    "Subjective_topic_list = []\n",
    "\n",
    "for topic in unique_topics:\n",
    "    topic_ = topic.replace('/ ', ', ')\n",
    "    topic_split = topic_.split(',')\n",
    "    for split in topic_split:\n",
    "        if split in subjective_topics:\n",
    "            Subjective_topic_list.append(topic)"
   ]
  },
  {
   "cell_type": "code",
   "execution_count": 10,
   "id": "d4d490bb",
   "metadata": {},
   "outputs": [
    {
     "data": {
      "text/html": [
       "<div>\n",
       "<style scoped>\n",
       "    .dataframe tbody tr th:only-of-type {\n",
       "        vertical-align: middle;\n",
       "    }\n",
       "\n",
       "    .dataframe tbody tr th {\n",
       "        vertical-align: top;\n",
       "    }\n",
       "\n",
       "    .dataframe thead th {\n",
       "        text-align: right;\n",
       "    }\n",
       "</style>\n",
       "<table border=\"1\" class=\"dataframe\">\n",
       "  <thead>\n",
       "    <tr style=\"text-align: right;\">\n",
       "      <th></th>\n",
       "      <th>id</th>\n",
       "      <th>country.name</th>\n",
       "      <th>country.id</th>\n",
       "      <th>region.id</th>\n",
       "      <th>type</th>\n",
       "      <th>imageRelPath</th>\n",
       "      <th>topics</th>\n",
       "      <th>place</th>\n",
       "      <th>income</th>\n",
       "    </tr>\n",
       "  </thead>\n",
       "  <tbody>\n",
       "    <tr>\n",
       "      <th>1</th>\n",
       "      <td>5d4bf31ccf0b3a0f3f359814</td>\n",
       "      <td>Burundi</td>\n",
       "      <td>bi</td>\n",
       "      <td>af</td>\n",
       "      <td>image</td>\n",
       "      <td>assets/5d4bf31ccf0b3a0f3f359814/5d4bf31ccf0b3a...</td>\n",
       "      <td>Family snapshots</td>\n",
       "      <td>butoyi</td>\n",
       "      <td>26.994581</td>\n",
       "    </tr>\n",
       "    <tr>\n",
       "      <th>2</th>\n",
       "      <td>5d4bf31ccf0b3a0f3f35982a</td>\n",
       "      <td>Burundi</td>\n",
       "      <td>bi</td>\n",
       "      <td>af</td>\n",
       "      <td>image</td>\n",
       "      <td>assets/5d4bf31ccf0b3a0f3f35982a/5d4bf31ccf0b3a...</td>\n",
       "      <td>Cutlery</td>\n",
       "      <td>butoyi</td>\n",
       "      <td>26.994581</td>\n",
       "    </tr>\n",
       "    <tr>\n",
       "      <th>3</th>\n",
       "      <td>5d4bf31ccf0b3a0f3f35982e</td>\n",
       "      <td>Burundi</td>\n",
       "      <td>bi</td>\n",
       "      <td>af</td>\n",
       "      <td>image</td>\n",
       "      <td>assets/5d4bf31ccf0b3a0f3f35982e/5d4bf31ccf0b3a...</td>\n",
       "      <td>Family</td>\n",
       "      <td>butoyi</td>\n",
       "      <td>26.994581</td>\n",
       "    </tr>\n",
       "    <tr>\n",
       "      <th>4</th>\n",
       "      <td>5d4bf31ccf0b3a0f3f359830</td>\n",
       "      <td>Burundi</td>\n",
       "      <td>bi</td>\n",
       "      <td>af</td>\n",
       "      <td>image</td>\n",
       "      <td>assets/5d4bf31ccf0b3a0f3f359830/5d4bf31ccf0b3a...</td>\n",
       "      <td>Place where eating dinner</td>\n",
       "      <td>butoyi</td>\n",
       "      <td>26.994581</td>\n",
       "    </tr>\n",
       "    <tr>\n",
       "      <th>5</th>\n",
       "      <td>5d4bf31dcf0b3a0f3f35983c</td>\n",
       "      <td>Burundi</td>\n",
       "      <td>bi</td>\n",
       "      <td>af</td>\n",
       "      <td>image</td>\n",
       "      <td>assets/5d4bf31dcf0b3a0f3f35983c/5d4bf31dcf0b3a...</td>\n",
       "      <td>Plate of food</td>\n",
       "      <td>butoyi</td>\n",
       "      <td>26.994581</td>\n",
       "    </tr>\n",
       "    <tr>\n",
       "      <th>...</th>\n",
       "      <td>...</td>\n",
       "      <td>...</td>\n",
       "      <td>...</td>\n",
       "      <td>...</td>\n",
       "      <td>...</td>\n",
       "      <td>...</td>\n",
       "      <td>...</td>\n",
       "      <td>...</td>\n",
       "      <td>...</td>\n",
       "    </tr>\n",
       "    <tr>\n",
       "      <th>38474</th>\n",
       "      <td>5ec4f5513f62767d97a47324</td>\n",
       "      <td>France</td>\n",
       "      <td>fr</td>\n",
       "      <td>eu</td>\n",
       "      <td>image</td>\n",
       "      <td>assets/5ec4f5513f62767d97a47324/5ec4f5513f6276...</td>\n",
       "      <td>Bed</td>\n",
       "      <td>larriere</td>\n",
       "      <td>19671.000000</td>\n",
       "    </tr>\n",
       "    <tr>\n",
       "      <th>38475</th>\n",
       "      <td>5ec4f5513f62767d97a47325</td>\n",
       "      <td>France</td>\n",
       "      <td>fr</td>\n",
       "      <td>eu</td>\n",
       "      <td>image</td>\n",
       "      <td>assets/5ec4f5513f62767d97a47325/5ec4f5513f6276...</td>\n",
       "      <td>Bathroom/Toilet</td>\n",
       "      <td>larriere</td>\n",
       "      <td>19671.000000</td>\n",
       "    </tr>\n",
       "    <tr>\n",
       "      <th>38476</th>\n",
       "      <td>5ec4f5523f62767d97a47327</td>\n",
       "      <td>France</td>\n",
       "      <td>fr</td>\n",
       "      <td>eu</td>\n",
       "      <td>image</td>\n",
       "      <td>assets/5ec4f5523f62767d97a47327/5ec4f5523f6276...</td>\n",
       "      <td>Armchair</td>\n",
       "      <td>larriere</td>\n",
       "      <td>19671.000000</td>\n",
       "    </tr>\n",
       "    <tr>\n",
       "      <th>38477</th>\n",
       "      <td>5ec4f5523f62767d97a47328</td>\n",
       "      <td>France</td>\n",
       "      <td>fr</td>\n",
       "      <td>eu</td>\n",
       "      <td>image</td>\n",
       "      <td>assets/5ec4f5523f62767d97a47328/5ec4f5523f6276...</td>\n",
       "      <td>Armchair</td>\n",
       "      <td>larriere</td>\n",
       "      <td>19671.000000</td>\n",
       "    </tr>\n",
       "    <tr>\n",
       "      <th>38478</th>\n",
       "      <td>5ecfdf1f581a3d02cf7f8c05</td>\n",
       "      <td>France</td>\n",
       "      <td>fr</td>\n",
       "      <td>eu</td>\n",
       "      <td>image</td>\n",
       "      <td>assets/5ecfdf1f581a3d02cf7f8c05/5ecfdf1f581a3d...</td>\n",
       "      <td>Family</td>\n",
       "      <td>larriere</td>\n",
       "      <td>19671.000000</td>\n",
       "    </tr>\n",
       "  </tbody>\n",
       "</table>\n",
       "<p>36754 rows × 9 columns</p>\n",
       "</div>"
      ],
      "text/plain": [
       "                             id country.name country.id region.id   type  \\\n",
       "1      5d4bf31ccf0b3a0f3f359814      Burundi         bi        af  image   \n",
       "2      5d4bf31ccf0b3a0f3f35982a      Burundi         bi        af  image   \n",
       "3      5d4bf31ccf0b3a0f3f35982e      Burundi         bi        af  image   \n",
       "4      5d4bf31ccf0b3a0f3f359830      Burundi         bi        af  image   \n",
       "5      5d4bf31dcf0b3a0f3f35983c      Burundi         bi        af  image   \n",
       "...                         ...          ...        ...       ...    ...   \n",
       "38474  5ec4f5513f62767d97a47324       France         fr        eu  image   \n",
       "38475  5ec4f5513f62767d97a47325       France         fr        eu  image   \n",
       "38476  5ec4f5523f62767d97a47327       France         fr        eu  image   \n",
       "38477  5ec4f5523f62767d97a47328       France         fr        eu  image   \n",
       "38478  5ecfdf1f581a3d02cf7f8c05       France         fr        eu  image   \n",
       "\n",
       "                                            imageRelPath  \\\n",
       "1      assets/5d4bf31ccf0b3a0f3f359814/5d4bf31ccf0b3a...   \n",
       "2      assets/5d4bf31ccf0b3a0f3f35982a/5d4bf31ccf0b3a...   \n",
       "3      assets/5d4bf31ccf0b3a0f3f35982e/5d4bf31ccf0b3a...   \n",
       "4      assets/5d4bf31ccf0b3a0f3f359830/5d4bf31ccf0b3a...   \n",
       "5      assets/5d4bf31dcf0b3a0f3f35983c/5d4bf31dcf0b3a...   \n",
       "...                                                  ...   \n",
       "38474  assets/5ec4f5513f62767d97a47324/5ec4f5513f6276...   \n",
       "38475  assets/5ec4f5513f62767d97a47325/5ec4f5513f6276...   \n",
       "38476  assets/5ec4f5523f62767d97a47327/5ec4f5523f6276...   \n",
       "38477  assets/5ec4f5523f62767d97a47328/5ec4f5523f6276...   \n",
       "38478  assets/5ecfdf1f581a3d02cf7f8c05/5ecfdf1f581a3d...   \n",
       "\n",
       "                          topics     place        income  \n",
       "1               Family snapshots    butoyi     26.994581  \n",
       "2                        Cutlery    butoyi     26.994581  \n",
       "3                         Family    butoyi     26.994581  \n",
       "4      Place where eating dinner    butoyi     26.994581  \n",
       "5                  Plate of food    butoyi     26.994581  \n",
       "...                          ...       ...           ...  \n",
       "38474                        Bed  larriere  19671.000000  \n",
       "38475            Bathroom/Toilet  larriere  19671.000000  \n",
       "38476                   Armchair  larriere  19671.000000  \n",
       "38477                   Armchair  larriere  19671.000000  \n",
       "38478                     Family  larriere  19671.000000  \n",
       "\n",
       "[36754 rows x 9 columns]"
      ]
     },
     "metadata": {},
     "output_type": "display_data"
    }
   ],
   "source": [
    "data = data_unfiltered[~data_unfiltered['topics'].isin(Subjective_topic_list)]\n",
    "display(data)"
   ]
  },
  {
   "cell_type": "code",
   "execution_count": 10,
   "id": "964d0123",
   "metadata": {},
   "outputs": [
    {
     "data": {
      "text/plain": [
       "36754"
      ]
     },
     "execution_count": 10,
     "metadata": {},
     "output_type": "execute_result"
    }
   ],
   "source": [
    "len(data)"
   ]
  },
  {
   "cell_type": "markdown",
   "id": "eed9dd80",
   "metadata": {},
   "source": [
    "### Split topics"
   ]
  },
  {
   "cell_type": "code",
   "execution_count": 15,
   "id": "3903710d",
   "metadata": {
    "scrolled": true
   },
   "outputs": [
    {
     "name": "stdout",
     "output_type": "stream",
     "text": [
      "45692\n",
      "Counter({'visit': 3177, 'toothbrush': 552, 'home': 542, 'street view': 532, 'hand washing': 530, 'family': 521, 'washing clothes/cleaning': 507, 'tv': 494, 'toilet': 493, 'hand palm': 492, 'drinking water': 487, 'kitchen sink': 480, 'tooth paste': 468, 'stove/hob': 444, 'salt': 438, 'bed': 424, 'spices': 419, 'hair brush/comb': 413, 'everyday shoes': 402, 'bedroom': 400, 'front door': 398, 'plate of food': 397, 'power outlet': 389, 'social drink': 385, 'cooking pots': 384, 'floor': 379, 'place where eating dinner': 378, 'nicest shoes': 375, 'lock on front door': 373, 'phone': 373, 'bathroom privacy': 369, 'wardrobe': 363, 'soap for hands and body': 363, 'ceiling': 362, 'hand back': 360, 'wall inside': 359, 'play area': 357, 'dish washing brush/cloth': 351, 'bathroom/toilet': 350, 'refrigerator': 344, 'toilet paper': 343, 'plates': 341, 'wall decoration': 341, 'toys': 340, 'shampoo': 339, 'dish washing soap': 339, 'light sources': 339, 'dish racks': 338, 'kitchen': 335, 'cups/mugs/glasses': 332, 'trash/waste': 331, 'drying': 330, 'shower': 329, 'teeth': 328, 'light source in livingroom': 320, 'grains': 319, 'armchair': 316, 'washing detergent': 315, 'books': 313, 'switch on/off': 312, 'light source in kitchen': 309, 'water outlet': 306, 'drainage': 306, 'roof': 304, 'cutlery': 301, 'source of cool': 301, 'cooking utensils': 301, 'couch': 301, 'sofa': 301, 'sitting area': 295, 'vegetables': 293, 'medication': 292, 'street detail': 291, 'pen/pencils': 288, 'wall': 286, 'living room': 279, 'turning lights on and off': 269, 'music equipment': 253, 'tools': 250, 'backyard': 247, 'bed kids': 247, 'cleaning equipment': 240, 'table with food': 235, 'smoke and steam exit': 233, 'get water': 232, 'storage room': 226, 'shaving': 218, 'paper': 212, 'shoes': 210, 'fruits and vegetables': 210, 'cooking': 208, 'radio': 208, 'starting stove': 197, 'children room': 196, 'meat or fish': 193, 'rug': 192, 'jewelry': 187, 'freezer': 187, 'pet': 185, 'source of heat': 185, 'washing hands': 184, 'wall clock': 184, 'computer': 181, 'doing dishes': 180, 'brushing teeth': 179, 'knifes': 179, 'pouring water': 178, 'preparing food': 169, 'work area': 169, 'socializing': 166, 'mosquito protection': 163, 'guest bed': 161, 'pouring drinking water': 150, 'place where serving guests': 148, 'make up': 148, 'bike': 147, 'frontdoor keys': 147, 'glasses or lenses': 147, 'oven': 145, 'playing': 139, 'source of light': 138, 'necklaces': 137, 'earings': 136, 'cleaning floors': 134, 'worship places': 131, 'parking lot': 127, 'waste dumps': 127, 'menstruation pads / tampax': 125, 'eating': 124, 'cosmetics': 123, 'chopping food': 111, 'lightsources by bed': 111, 'reading light': 111, 'family eating': 107, 'drinking social drink': 105, 'family snapshots': 102, 'arm watch': 101, 'fruit trees': 100, 'using toilet': 98, 'plugging into and out of power outlet': 98, 'taking a teaspoon of salt': 96, 'car': 96, 'instrument': 94, 'opening the front door': 88, 'brushing hair': 87, 'sitting and watching tv': 84, 'wedding photos': 83, 'walking towards front door': 83, 'opening and closing the freezer': 83, 'writing signature': 81, 'moped/motorcycle': 81, 'reading': 80, 'walking to get water': 78, 'diapers (or baby-pants)': 77, 'writing': 76, 'alcoholic drinks': 76, 'photo guide images': 75, 'chopping ingredients': 72, 'kids playing inside': 71, 'vegetable plot': 70, 'cleaning after toilet': 70, 'chickens': 70, 'closing the front door': 70, 'piercings': 68, 'adding spices to food while cooking': 67, 'pet foods': 65, 'kids playing outside': 60, 'putting on make up': 60, 'fishes': 58, 'car keys': 58, 'sleeping': 57, 'dishwasher': 55, 'worshipping': 54, 'agriculture land': 53, 'toothpaste on toothbrush': 52, 'answering the phone': 51, 'tattoos': 51, 'opening and closing the refrigerator': 50, 'hallway': 49, 'hand open to closed': 49, 'alarm clock': 49, 'listening to the radio': 48, 'dinner guests': 48, 'preparing social drink': 47, 'wheel barrow': 45, 'reading a book': 43, 'seeing the back of book': 43, 'turn tv on': 43, 'throwing food trash away': 39, 'house overview': 38, 'presenting dollar street': 36, 'playing an instrument': 34, 'turning heater on': 32, 'cigarettes': 30, 'arm watches': 30, 'writing \"home\"': 28, 'coats and jackets': 26, 'contraceptives': 25, 'goats': 24, 'bowls': 23, 'carrying water': 22, 'transport of heavy things': 21, 'go through mail': 21, 'hanging clothes to dry': 18, 'surroundings': 13, 'turning fan/ac on': 13, 'clothes': 12, 'cattle': 11, 'snacks': 11, 'ventilation': 10, 'portraits': 9, 'sources of drinking water': 9, 'rehabilitation technology': 8, 'playgrounds': 7, 'smoking': 7, 'water sources for doing dishes': 7, 'skies outside': 7, 'laying in bed - pretend to sleep': 7, 'newspapers': 7, 'walking through home': 6, 'daylight ostructions': 6, 'bad outdoor air obstructions': 6, 'markets': 6, 'milk cows or bulls': 5, 'other transport': 5, 'boat': 5, 'water sources': 5, 'cooking food': 5, 'bed_hq': 4, 'baby powder': 4, 'sheep': 4, 'air cleaning equipments': 4, 'bread - ready': 4, 'opening mail': 4, 'replaced': 3, 'nature sceneries': 3, 'soccer balls': 3, 'drinks': 3, 'ingredients': 3, 'horses': 3, 'soccer supporter items': 3, 'elevators': 3, 'foodstores': 3, 'disability aid': 3, 'bills of money': 2, 'smog/bad air breathing protection': 2, 'water purifier solutions': 2, 'meat storages': 2, 'electric wires': 2, 'tabloids': 2, 'coins': 1, 'fishing equipment': 1, 'horse stables': 1, 'car decorations': 1, 'fields': 1, 'celebrity posters': 1, 'bread ready': 1, 'tractors': 1, 'snack stores': 1, 'air fresheners (scents': 1, 'smells)': 1, 'picking up the phone': 1, 'bread bowls': 1, 'equipment': 1, 'baking tools': 1, 'baking sheets': 1, 'baking tables': 1, 'electricity wires': 1, 'meat markets': 1, 'vegetable markets': 1})\n",
      "270\n"
     ]
    }
   ],
   "source": [
    "from collections import Counter\n",
    "list_topics = list(data['topics'])\n",
    "\n",
    "\n",
    "separate_topics = [t.lower().strip() for topic in list_topics for t in topic.split(\",\") ]\n",
    "\n",
    "\n",
    "\n",
    "print(len(separate_topics))\n",
    "print(Counter(separate_topics))\n",
    "set_topics = list(set(separate_topics))\n",
    "print(len(set_topics))"
   ]
  },
  {
   "cell_type": "code",
   "execution_count": 26,
   "id": "ae6fbeeb",
   "metadata": {},
   "outputs": [
    {
     "name": "stdout",
     "output_type": "stream",
     "text": [
      "270\n"
     ]
    }
   ],
   "source": [
    "# map each topic to list of corresponding images\n",
    "dict_topic2img = {}\n",
    "for list_topics, image_path in zip(data['topics'], data['imageRelPath']):\n",
    "    for topic in list_topics.split(\",\"):\n",
    "        topic = topic.lower().strip()\n",
    "        if topic not in dict_topic2img:\n",
    "            dict_topic2img[topic] = set() #### here a set was used in place of list to avoid duplicate where keyword appears twice in a topic\n",
    "        dict_topic2img[topic].add(image_path)\n",
    "\n",
    "print(len(dict_topic2img))"
   ]
  },
  {
   "cell_type": "code",
   "execution_count": 27,
   "id": "58681a22",
   "metadata": {},
   "outputs": [
    {
     "name": "stdout",
     "output_type": "stream",
     "text": [
      "45616\n"
     ]
    }
   ],
   "source": [
    "#sanity checks \n",
    "\n",
    "ground_truth_counts = [len(dict_topic2img[i]) for i in dict_topic2img]\n",
    "print(sum(ground_truth_counts))"
   ]
  },
  {
   "cell_type": "code",
   "execution_count": 28,
   "id": "cd8f6afc",
   "metadata": {},
   "outputs": [],
   "source": [
    "topics = dict_topic2img.keys()"
   ]
  },
  {
   "cell_type": "code",
   "execution_count": null,
   "id": "d990669c",
   "metadata": {},
   "outputs": [],
   "source": []
  },
  {
   "cell_type": "markdown",
   "id": "20629a42",
   "metadata": {},
   "source": [
    "# Create default prompts for the text encoder"
   ]
  },
  {
   "cell_type": "code",
   "execution_count": 30,
   "id": "e1f9b270",
   "metadata": {},
   "outputs": [],
   "source": [
    "temp = \"This is a photo of \"\n",
    "English_topics = [temp + topic for topic in topics]"
   ]
  },
  {
   "cell_type": "code",
   "execution_count": 31,
   "id": "ea685fd6",
   "metadata": {},
   "outputs": [],
   "source": [
    "#English_topics"
   ]
  },
  {
   "cell_type": "code",
   "execution_count": 32,
   "id": "4a3df851",
   "metadata": {},
   "outputs": [],
   "source": [
    "topic2english = {}\n",
    "for topic, prompt in zip(topics, English_topics):\n",
    "    topic2english[topic] = prompt"
   ]
  },
  {
   "cell_type": "code",
   "execution_count": 33,
   "id": "d217ca79",
   "metadata": {},
   "outputs": [
    {
     "data": {
      "text/plain": [
       "{'family snapshots': 'This is a photo of family snapshots',\n",
       " 'cutlery': 'This is a photo of cutlery',\n",
       " 'family': 'This is a photo of family',\n",
       " 'place where eating dinner': 'This is a photo of place where eating dinner',\n",
       " 'plate of food': 'This is a photo of plate of food',\n",
       " 'table with food': 'This is a photo of table with food',\n",
       " 'get water': 'This is a photo of get water',\n",
       " 'stove/hob': 'This is a photo of stove/hob',\n",
       " 'light source in kitchen': 'This is a photo of light source in kitchen',\n",
       " 'drinking water': 'This is a photo of drinking water',\n",
       " 'kitchen sink': 'This is a photo of kitchen sink',\n",
       " 'bathroom privacy': 'This is a photo of bathroom privacy',\n",
       " 'backyard': 'This is a photo of backyard',\n",
       " 'front door': 'This is a photo of front door',\n",
       " 'home': 'This is a photo of home',\n",
       " 'source of cool': 'This is a photo of source of cool',\n",
       " 'street view': 'This is a photo of street view',\n",
       " 'teeth': 'This is a photo of teeth',\n",
       " 'hand back': 'This is a photo of hand back',\n",
       " 'hand palm': 'This is a photo of hand palm',\n",
       " 'pet': 'This is a photo of pet',\n",
       " 'bedroom': 'This is a photo of bedroom',\n",
       " 'grains': 'This is a photo of grains',\n",
       " 'wardrobe': 'This is a photo of wardrobe',\n",
       " 'armchair': 'This is a photo of armchair',\n",
       " 'hallway': 'This is a photo of hallway',\n",
       " 'kitchen': 'This is a photo of kitchen',\n",
       " 'books': 'This is a photo of books',\n",
       " 'everyday shoes': 'This is a photo of everyday shoes',\n",
       " 'hand washing': 'This is a photo of hand washing',\n",
       " 'trash/waste': 'This is a photo of trash/waste',\n",
       " 'tools': 'This is a photo of tools',\n",
       " 'hair brush/comb': 'This is a photo of hair brush/comb',\n",
       " 'street detail': 'This is a photo of street detail',\n",
       " 'soap for hands and body': 'This is a photo of soap for hands and body',\n",
       " 'shampoo': 'This is a photo of shampoo',\n",
       " 'vegetable plot': 'This is a photo of vegetable plot',\n",
       " 'roof': 'This is a photo of roof',\n",
       " 'toilet': 'This is a photo of toilet',\n",
       " 'spices': 'This is a photo of spices',\n",
       " 'salt': 'This is a photo of salt',\n",
       " 'jewelry': 'This is a photo of jewelry',\n",
       " 'cooking utensils': 'This is a photo of cooking utensils',\n",
       " 'dish washing brush/cloth': 'This is a photo of dish washing brush/cloth',\n",
       " 'cooking pots': 'This is a photo of cooking pots',\n",
       " 'plates': 'This is a photo of plates',\n",
       " 'cups/mugs/glasses': 'This is a photo of cups/mugs/glasses',\n",
       " 'wall': 'This is a photo of wall',\n",
       " 'cattle': 'This is a photo of cattle',\n",
       " 'ceiling': 'This is a photo of ceiling',\n",
       " 'bed': 'This is a photo of bed',\n",
       " 'storage room': 'This is a photo of storage room',\n",
       " 'refrigerator': 'This is a photo of refrigerator',\n",
       " 'floor': 'This is a photo of floor',\n",
       " 'wall inside': 'This is a photo of wall inside',\n",
       " 'tooth paste': 'This is a photo of tooth paste',\n",
       " 'toothbrush': 'This is a photo of toothbrush',\n",
       " 'goats': 'This is a photo of goats',\n",
       " 'cleaning equipment': 'This is a photo of cleaning equipment',\n",
       " 'cleaning after toilet': 'This is a photo of cleaning after toilet',\n",
       " 'visit': 'This is a photo of visit',\n",
       " 'hand open to closed': 'This is a photo of hand open to closed',\n",
       " 'brushing teeth': 'This is a photo of brushing teeth',\n",
       " 'using toilet': 'This is a photo of using toilet',\n",
       " 'doing dishes': 'This is a photo of doing dishes',\n",
       " 'pouring drinking water': 'This is a photo of pouring drinking water',\n",
       " 'pouring water': 'This is a photo of pouring water',\n",
       " 'starting stove': 'This is a photo of starting stove',\n",
       " 'cooking': 'This is a photo of cooking',\n",
       " 'preparing food': 'This is a photo of preparing food',\n",
       " 'shoes': 'This is a photo of shoes',\n",
       " 'washing hands': 'This is a photo of washing hands',\n",
       " 'walking to get water': 'This is a photo of walking to get water',\n",
       " 'washing clothes/cleaning': 'This is a photo of washing clothes/cleaning',\n",
       " 'eating': 'This is a photo of eating',\n",
       " 'family eating': 'This is a photo of family eating',\n",
       " 'vegetables': 'This is a photo of vegetables',\n",
       " 'smoke and steam exit': 'This is a photo of smoke and steam exit',\n",
       " 'fruits and vegetables': 'This is a photo of fruits and vegetables',\n",
       " 'toys': 'This is a photo of toys',\n",
       " 'nicest shoes': 'This is a photo of nicest shoes',\n",
       " 'mosquito protection': 'This is a photo of mosquito protection',\n",
       " 'wall decoration': 'This is a photo of wall decoration',\n",
       " 'living room': 'This is a photo of living room',\n",
       " 'fruit trees': 'This is a photo of fruit trees',\n",
       " 'toilet paper': 'This is a photo of toilet paper',\n",
       " 'bathroom/toilet': 'This is a photo of bathroom/toilet',\n",
       " 'shaving': 'This is a photo of shaving',\n",
       " 'lock on front door': 'This is a photo of lock on front door',\n",
       " 'couch': 'This is a photo of couch',\n",
       " 'sofa': 'This is a photo of sofa',\n",
       " 'knifes': 'This is a photo of knifes',\n",
       " 'dish racks': 'This is a photo of dish racks',\n",
       " 'play area': 'This is a photo of play area',\n",
       " 'place where serving guests': 'This is a photo of place where serving guests',\n",
       " 'photo guide images': 'This is a photo of photo guide images',\n",
       " 'agriculture land': 'This is a photo of agriculture land',\n",
       " 'sitting area': 'This is a photo of sitting area',\n",
       " 'bed kids': 'This is a photo of bed kids',\n",
       " 'drying': 'This is a photo of drying',\n",
       " 'water outlet': 'This is a photo of water outlet',\n",
       " 'drainage': 'This is a photo of drainage',\n",
       " 'shower': 'This is a photo of shower',\n",
       " 'house overview': 'This is a photo of house overview',\n",
       " 'socializing': 'This is a photo of socializing',\n",
       " 'playing': 'This is a photo of playing',\n",
       " 'kids playing outside': 'This is a photo of kids playing outside',\n",
       " 'chopping food': 'This is a photo of chopping food',\n",
       " 'chickens': 'This is a photo of chickens',\n",
       " 'bike': 'This is a photo of bike',\n",
       " 'source of heat': 'This is a photo of source of heat',\n",
       " 'phone': 'This is a photo of phone',\n",
       " 'work area': 'This is a photo of work area',\n",
       " 'children room': 'This is a photo of children room',\n",
       " 'light source in livingroom': 'This is a photo of light source in livingroom',\n",
       " 'washing detergent': 'This is a photo of washing detergent',\n",
       " 'medication': 'This is a photo of medication',\n",
       " 'dish washing soap': 'This is a photo of dish washing soap',\n",
       " 'turning lights on and off': 'This is a photo of turning lights on and off',\n",
       " 'source of light': 'This is a photo of source of light',\n",
       " 'wall clock': 'This is a photo of wall clock',\n",
       " 'guest bed': 'This is a photo of guest bed',\n",
       " 'diapers (or baby-pants)': 'This is a photo of diapers (or baby-pants)',\n",
       " 'switch on/off': 'This is a photo of switch on/off',\n",
       " 'pen/pencils': 'This is a photo of pen/pencils',\n",
       " 'paper': 'This is a photo of paper',\n",
       " 'rug': 'This is a photo of rug',\n",
       " 'bed_hq': 'This is a photo of bed_hq',\n",
       " 'social drink': 'This is a photo of social drink',\n",
       " 'carrying water': 'This is a photo of carrying water',\n",
       " 'light sources': 'This is a photo of light sources',\n",
       " 'music equipment': 'This is a photo of music equipment',\n",
       " 'frontdoor keys': 'This is a photo of frontdoor keys',\n",
       " 'lightsources by bed': 'This is a photo of lightsources by bed',\n",
       " 'reading light': 'This is a photo of reading light',\n",
       " 'necklaces': 'This is a photo of necklaces',\n",
       " 'earings': 'This is a photo of earings',\n",
       " 'cosmetics': 'This is a photo of cosmetics',\n",
       " 'cleaning floors': 'This is a photo of cleaning floors',\n",
       " 'make up': 'This is a photo of make up',\n",
       " 'putting on make up': 'This is a photo of putting on make up',\n",
       " 'chopping ingredients': 'This is a photo of chopping ingredients',\n",
       " 'brushing hair': 'This is a photo of brushing hair',\n",
       " 'taking a teaspoon of salt': 'This is a photo of taking a teaspoon of salt',\n",
       " 'drinking social drink': 'This is a photo of drinking social drink',\n",
       " 'meat or fish': 'This is a photo of meat or fish',\n",
       " 'replaced': 'This is a photo of replaced',\n",
       " 'radio': 'This is a photo of radio',\n",
       " 'listening to the radio': 'This is a photo of listening to the radio',\n",
       " 'coins': 'This is a photo of coins',\n",
       " 'pet foods': 'This is a photo of pet foods',\n",
       " 'menstruation pads / tampax': 'This is a photo of menstruation pads / tampax',\n",
       " 'dinner guests': 'This is a photo of dinner guests',\n",
       " 'nature sceneries': 'This is a photo of nature sceneries',\n",
       " 'worship places': 'This is a photo of worship places',\n",
       " 'power outlet': 'This is a photo of power outlet',\n",
       " 'glasses or lenses': 'This is a photo of glasses or lenses',\n",
       " 'adding spices to food while cooking': 'This is a photo of adding spices to food while cooking',\n",
       " 'presenting dollar street': 'This is a photo of presenting dollar street',\n",
       " 'worshipping': 'This is a photo of worshipping',\n",
       " 'writing': 'This is a photo of writing',\n",
       " 'writing signature': 'This is a photo of writing signature',\n",
       " 'tv': 'This is a photo of tv',\n",
       " 'fishes': 'This is a photo of fishes',\n",
       " 'bowls': 'This is a photo of bowls',\n",
       " 'kids playing inside': 'This is a photo of kids playing inside',\n",
       " 'bills of money': 'This is a photo of bills of money',\n",
       " 'coats and jackets': 'This is a photo of coats and jackets',\n",
       " 'surroundings': 'This is a photo of surroundings',\n",
       " 'moped/motorcycle': 'This is a photo of moped/motorcycle',\n",
       " 'parking lot': 'This is a photo of parking lot',\n",
       " 'toothpaste on toothbrush': 'This is a photo of toothpaste on toothbrush',\n",
       " 'wheel barrow': 'This is a photo of wheel barrow',\n",
       " 'waste dumps': 'This is a photo of waste dumps',\n",
       " 'wedding photos': 'This is a photo of wedding photos',\n",
       " 'ventilation': 'This is a photo of ventilation',\n",
       " 'milk cows or bulls': 'This is a photo of milk cows or bulls',\n",
       " 'answering the phone': 'This is a photo of answering the phone',\n",
       " 'closing the front door': 'This is a photo of closing the front door',\n",
       " 'hanging clothes to dry': 'This is a photo of hanging clothes to dry',\n",
       " 'opening the front door': 'This is a photo of opening the front door',\n",
       " 'reading': 'This is a photo of reading',\n",
       " 'reading a book': 'This is a photo of reading a book',\n",
       " 'seeing the back of book': 'This is a photo of seeing the back of book',\n",
       " 'sleeping': 'This is a photo of sleeping',\n",
       " 'turning fan/ac on': 'This is a photo of turning fan/ac on',\n",
       " 'turning heater on': 'This is a photo of turning heater on',\n",
       " 'walking towards front door': 'This is a photo of walking towards front door',\n",
       " 'writing \"home\"': 'This is a photo of writing \"home\"',\n",
       " 'piercings': 'This is a photo of piercings',\n",
       " 'fishing equipment': 'This is a photo of fishing equipment',\n",
       " 'arm watch': 'This is a photo of arm watch',\n",
       " 'soccer balls': 'This is a photo of soccer balls',\n",
       " 'horse stables': 'This is a photo of horse stables',\n",
       " 'playgrounds': 'This is a photo of playgrounds',\n",
       " 'drinks': 'This is a photo of drinks',\n",
       " 'other transport': 'This is a photo of other transport',\n",
       " 'car': 'This is a photo of car',\n",
       " 'car decorations': 'This is a photo of car decorations',\n",
       " 'transport of heavy things': 'This is a photo of transport of heavy things',\n",
       " 'clothes': 'This is a photo of clothes',\n",
       " 'cigarettes': 'This is a photo of cigarettes',\n",
       " 'portraits': 'This is a photo of portraits',\n",
       " 'ingredients': 'This is a photo of ingredients',\n",
       " 'fields': 'This is a photo of fields',\n",
       " 'celebrity posters': 'This is a photo of celebrity posters',\n",
       " 'freezer': 'This is a photo of freezer',\n",
       " 'boat': 'This is a photo of boat',\n",
       " 'arm watches': 'This is a photo of arm watches',\n",
       " 'sitting and watching tv': 'This is a photo of sitting and watching tv',\n",
       " 'plugging into and out of power outlet': 'This is a photo of plugging into and out of power outlet',\n",
       " 'dishwasher': 'This is a photo of dishwasher',\n",
       " 'oven': 'This is a photo of oven',\n",
       " 'baby powder': 'This is a photo of baby powder',\n",
       " 'tattoos': 'This is a photo of tattoos',\n",
       " 'sheep': 'This is a photo of sheep',\n",
       " 'preparing social drink': 'This is a photo of preparing social drink',\n",
       " 'go through mail': 'This is a photo of go through mail',\n",
       " 'smoking': 'This is a photo of smoking',\n",
       " 'walking through home': 'This is a photo of walking through home',\n",
       " 'computer': 'This is a photo of computer',\n",
       " 'contraceptives': 'This is a photo of contraceptives',\n",
       " 'instrument': 'This is a photo of instrument',\n",
       " 'rehabilitation technology': 'This is a photo of rehabilitation technology',\n",
       " 'turn tv on': 'This is a photo of turn tv on',\n",
       " 'playing an instrument': 'This is a photo of playing an instrument',\n",
       " 'bread ready': 'This is a photo of bread ready',\n",
       " 'alcoholic drinks': 'This is a photo of alcoholic drinks',\n",
       " 'snacks': 'This is a photo of snacks',\n",
       " 'alarm clock': 'This is a photo of alarm clock',\n",
       " 'throwing food trash away': 'This is a photo of throwing food trash away',\n",
       " 'car keys': 'This is a photo of car keys',\n",
       " 'tractors': 'This is a photo of tractors',\n",
       " 'opening and closing the refrigerator': 'This is a photo of opening and closing the refrigerator',\n",
       " 'water sources': 'This is a photo of water sources',\n",
       " 'opening and closing the freezer': 'This is a photo of opening and closing the freezer',\n",
       " 'horses': 'This is a photo of horses',\n",
       " 'water sources for doing dishes': 'This is a photo of water sources for doing dishes',\n",
       " 'soccer supporter items': 'This is a photo of soccer supporter items',\n",
       " 'cooking food': 'This is a photo of cooking food',\n",
       " 'snack stores': 'This is a photo of snack stores',\n",
       " 'daylight ostructions': 'This is a photo of daylight ostructions',\n",
       " 'smog/bad air breathing protection': 'This is a photo of smog/bad air breathing protection',\n",
       " 'bad outdoor air obstructions': 'This is a photo of bad outdoor air obstructions',\n",
       " 'skies outside': 'This is a photo of skies outside',\n",
       " 'sources of drinking water': 'This is a photo of sources of drinking water',\n",
       " 'laying in bed - pretend to sleep': 'This is a photo of laying in bed - pretend to sleep',\n",
       " 'newspapers': 'This is a photo of newspapers',\n",
       " 'elevators': 'This is a photo of elevators',\n",
       " 'water purifier solutions': 'This is a photo of water purifier solutions',\n",
       " 'air fresheners (scents': 'This is a photo of air fresheners (scents',\n",
       " 'smells)': 'This is a photo of smells)',\n",
       " 'air cleaning equipments': 'This is a photo of air cleaning equipments',\n",
       " 'foodstores': 'This is a photo of foodstores',\n",
       " 'markets': 'This is a photo of markets',\n",
       " 'picking up the phone': 'This is a photo of picking up the phone',\n",
       " 'bread - ready': 'This is a photo of bread - ready',\n",
       " 'opening mail': 'This is a photo of opening mail',\n",
       " 'meat storages': 'This is a photo of meat storages',\n",
       " 'bread bowls': 'This is a photo of bread bowls',\n",
       " 'disability aid': 'This is a photo of disability aid',\n",
       " 'electric wires': 'This is a photo of electric wires',\n",
       " 'tabloids': 'This is a photo of tabloids',\n",
       " 'equipment': 'This is a photo of equipment',\n",
       " 'baking tools': 'This is a photo of baking tools',\n",
       " 'baking sheets': 'This is a photo of baking sheets',\n",
       " 'baking tables': 'This is a photo of baking tables',\n",
       " 'electricity wires': 'This is a photo of electricity wires',\n",
       " 'meat markets': 'This is a photo of meat markets',\n",
       " 'vegetable markets': 'This is a photo of vegetable markets'}"
      ]
     },
     "execution_count": 33,
     "metadata": {},
     "output_type": "execute_result"
    }
   ],
   "source": [
    "topic2english"
   ]
  },
  {
   "cell_type": "code",
   "execution_count": 34,
   "id": "cdde580b",
   "metadata": {},
   "outputs": [
    {
     "name": "stdout",
     "output_type": "stream",
     "text": [
      "270\n"
     ]
    }
   ],
   "source": [
    "english_dict_topic2imgGT = {}\n",
    "\n",
    "for topic in topics:\n",
    "    key = topic2english[topic]\n",
    "    english_dict_topic2imgGT[key] = dict_topic2img[topic]\n",
    "print(len(english_dict_topic2imgGT))"
   ]
  },
  {
   "cell_type": "code",
   "execution_count": 35,
   "id": "9feff791",
   "metadata": {
    "scrolled": true
   },
   "outputs": [],
   "source": [
    "# import torch\n",
    "# import gc\n",
    "\n",
    "# torch.cuda.empty_cache()\n",
    "# gc.collect()"
   ]
  },
  {
   "cell_type": "code",
   "execution_count": null,
   "id": "ca758961",
   "metadata": {},
   "outputs": [],
   "source": []
  },
  {
   "cell_type": "markdown",
   "id": "5e5977fe",
   "metadata": {},
   "source": [
    "## Get image embeddings"
   ]
  },
  {
   "cell_type": "code",
   "execution_count": 38,
   "id": "bcd13a9f",
   "metadata": {
    "scrolled": true
   },
   "outputs": [],
   "source": [
    "# Load model directly\n",
    "from transformers import AutoProcessor, AutoModel\n",
    "\n",
    "model, transform = create_model_from_pretrained(\"nllb-clip-large-siglip\", \"v1\", device=\"cuda\")\n",
    "model = model.eval()"
   ]
  },
  {
   "cell_type": "code",
   "execution_count": 39,
   "id": "770bd908",
   "metadata": {},
   "outputs": [],
   "source": [
    "from open_clip import get_tokenizer\n",
    "\n",
    "tokenizer = get_tokenizer(\"nllb-clip-large-siglip\")"
   ]
  },
  {
   "cell_type": "code",
   "execution_count": 40,
   "id": "ebc585d3",
   "metadata": {},
   "outputs": [],
   "source": [
    "device = \"cuda\" if torch.cuda.is_available() else \"cpu\""
   ]
  },
  {
   "cell_type": "code",
   "execution_count": null,
   "id": "2d54e642",
   "metadata": {},
   "outputs": [],
   "source": [
    "path_images = [path_data + s for s in list(data['imageRelPath'])]\n",
    "image_ids1 = [s.split(\"/\")[9] for s in path_images]\n",
    "image_ids = data['id']\n",
    "assert(set(image_ids1) == set(image_ids))\n",
    "# path_images_out = [path_data + img_id + \"npy\" for img_id in image_ids]\n",
    "path_images[:2]"
   ]
  },
  {
   "cell_type": "code",
   "execution_count": 42,
   "id": "9f823e84",
   "metadata": {},
   "outputs": [
    {
     "data": {
      "text/plain": [
       "36754"
      ]
     },
     "execution_count": 42,
     "metadata": {},
     "output_type": "execute_result"
    }
   ],
   "source": [
    "len(path_images)"
   ]
  },
  {
   "cell_type": "code",
   "execution_count": 46,
   "id": "55788ae0",
   "metadata": {},
   "outputs": [],
   "source": [
    "def load_image(url_or_path):\n",
    "    if url_or_path.startswith(\"http://\") or url_or_path.startswith(\"https://\"):\n",
    "        return Image.open(requests.get(url_or_path, stream=True).raw)\n",
    "    else:\n",
    "        return Image.open(url_or_path)\n"
   ]
  },
  {
   "cell_type": "code",
   "execution_count": 43,
   "id": "6455e4a8",
   "metadata": {},
   "outputs": [
    {
     "name": "stderr",
     "output_type": "stream",
     "text": [
      "100%|██████████| 36754/36754 [22:01<00:00, 27.82it/s]\n"
     ]
    },
    {
     "data": {
      "text/plain": [
       "36754"
      ]
     },
     "execution_count": 43,
     "metadata": {},
     "output_type": "execute_result"
    }
   ],
   "source": [
    "image_path_list = []\n",
    "imgs_corrupted = []\n",
    "for image_path in tqdm.tqdm(path_images):\n",
    "        path_to_img = image_path\n",
    "        if Path(path_to_img).is_file():\n",
    "            image_path_list.append(path_to_img)\n",
    "        else:\n",
    "            imgs_corrupted.append(path_to_img)\n",
    "len(image_path_list)"
   ]
  },
  {
   "cell_type": "code",
   "execution_count": 44,
   "id": "4c78ea28",
   "metadata": {},
   "outputs": [
    {
     "data": {
      "text/plain": [
       "0"
      ]
     },
     "execution_count": 44,
     "metadata": {},
     "output_type": "execute_result"
    }
   ],
   "source": [
    "len(imgs_corrupted)"
   ]
  },
  {
   "cell_type": "code",
   "execution_count": 76,
   "id": "fc27e0b6",
   "metadata": {},
   "outputs": [
    {
     "name": "stdout",
     "output_type": "stream",
     "text": [
      "37\n",
      "0\n",
      "1000\n"
     ]
    },
    {
     "data": {
      "application/vnd.jupyter.widget-view+json": {
       "model_id": "53df2942954d4d54bdca02b74fbcb1d1",
       "version_major": 2,
       "version_minor": 0
      },
      "text/plain": [
       "Batches:   0%|          | 0/32 [00:00<?, ?it/s]"
      ]
     },
     "metadata": {},
     "output_type": "display_data"
    },
    {
     "name": "stdout",
     "output_type": "stream",
     "text": [
      "1\n",
      "1000\n"
     ]
    },
    {
     "data": {
      "application/vnd.jupyter.widget-view+json": {
       "model_id": "9fbc964656954dccae1fb24e344b9d02",
       "version_major": 2,
       "version_minor": 0
      },
      "text/plain": [
       "Batches:   0%|          | 0/32 [00:00<?, ?it/s]"
      ]
     },
     "metadata": {},
     "output_type": "display_data"
    },
    {
     "name": "stdout",
     "output_type": "stream",
     "text": [
      "2\n",
      "1000\n"
     ]
    },
    {
     "data": {
      "application/vnd.jupyter.widget-view+json": {
       "model_id": "d195426d8b42438f901481be95cc1954",
       "version_major": 2,
       "version_minor": 0
      },
      "text/plain": [
       "Batches:   0%|          | 0/32 [00:00<?, ?it/s]"
      ]
     },
     "metadata": {},
     "output_type": "display_data"
    },
    {
     "name": "stdout",
     "output_type": "stream",
     "text": [
      "3\n",
      "1000\n"
     ]
    },
    {
     "data": {
      "application/vnd.jupyter.widget-view+json": {
       "model_id": "f21a262073a449619414ce0a1b1ca33d",
       "version_major": 2,
       "version_minor": 0
      },
      "text/plain": [
       "Batches:   0%|          | 0/32 [00:00<?, ?it/s]"
      ]
     },
     "metadata": {},
     "output_type": "display_data"
    },
    {
     "name": "stdout",
     "output_type": "stream",
     "text": [
      "4\n",
      "1000\n"
     ]
    },
    {
     "data": {
      "application/vnd.jupyter.widget-view+json": {
       "model_id": "35c5aa24ca74448cac57f78fbf5f336b",
       "version_major": 2,
       "version_minor": 0
      },
      "text/plain": [
       "Batches:   0%|          | 0/32 [00:00<?, ?it/s]"
      ]
     },
     "metadata": {},
     "output_type": "display_data"
    },
    {
     "name": "stdout",
     "output_type": "stream",
     "text": [
      "5\n",
      "1000\n"
     ]
    },
    {
     "data": {
      "application/vnd.jupyter.widget-view+json": {
       "model_id": "01adc2ac137b4a98a9fe86af2d0ae2c8",
       "version_major": 2,
       "version_minor": 0
      },
      "text/plain": [
       "Batches:   0%|          | 0/32 [00:00<?, ?it/s]"
      ]
     },
     "metadata": {},
     "output_type": "display_data"
    },
    {
     "name": "stdout",
     "output_type": "stream",
     "text": [
      "6\n",
      "1000\n"
     ]
    },
    {
     "data": {
      "application/vnd.jupyter.widget-view+json": {
       "model_id": "1b05f9d81317471ebf94650a8632a991",
       "version_major": 2,
       "version_minor": 0
      },
      "text/plain": [
       "Batches:   0%|          | 0/32 [00:00<?, ?it/s]"
      ]
     },
     "metadata": {},
     "output_type": "display_data"
    },
    {
     "name": "stdout",
     "output_type": "stream",
     "text": [
      "7\n",
      "1000\n"
     ]
    },
    {
     "data": {
      "application/vnd.jupyter.widget-view+json": {
       "model_id": "ebed99b919a54413b71726bf3bb88583",
       "version_major": 2,
       "version_minor": 0
      },
      "text/plain": [
       "Batches:   0%|          | 0/32 [00:00<?, ?it/s]"
      ]
     },
     "metadata": {},
     "output_type": "display_data"
    },
    {
     "name": "stdout",
     "output_type": "stream",
     "text": [
      "8\n",
      "1000\n"
     ]
    },
    {
     "data": {
      "application/vnd.jupyter.widget-view+json": {
       "model_id": "19d4f8c3c4f7406fb5289ba03ddcf38c",
       "version_major": 2,
       "version_minor": 0
      },
      "text/plain": [
       "Batches:   0%|          | 0/32 [00:00<?, ?it/s]"
      ]
     },
     "metadata": {},
     "output_type": "display_data"
    },
    {
     "name": "stdout",
     "output_type": "stream",
     "text": [
      "9\n",
      "1000\n"
     ]
    },
    {
     "data": {
      "application/vnd.jupyter.widget-view+json": {
       "model_id": "6f342e08a6a945f491afd19275112b89",
       "version_major": 2,
       "version_minor": 0
      },
      "text/plain": [
       "Batches:   0%|          | 0/32 [00:00<?, ?it/s]"
      ]
     },
     "metadata": {},
     "output_type": "display_data"
    },
    {
     "name": "stdout",
     "output_type": "stream",
     "text": [
      "10\n",
      "1000\n"
     ]
    },
    {
     "data": {
      "application/vnd.jupyter.widget-view+json": {
       "model_id": "c23c219bf7ba45f8bc6efbc7e57c45e3",
       "version_major": 2,
       "version_minor": 0
      },
      "text/plain": [
       "Batches:   0%|          | 0/32 [00:00<?, ?it/s]"
      ]
     },
     "metadata": {},
     "output_type": "display_data"
    },
    {
     "name": "stdout",
     "output_type": "stream",
     "text": [
      "11\n",
      "1000\n"
     ]
    },
    {
     "data": {
      "application/vnd.jupyter.widget-view+json": {
       "model_id": "1d1c7ce23b36431aaec186759318412c",
       "version_major": 2,
       "version_minor": 0
      },
      "text/plain": [
       "Batches:   0%|          | 0/32 [00:00<?, ?it/s]"
      ]
     },
     "metadata": {},
     "output_type": "display_data"
    },
    {
     "name": "stdout",
     "output_type": "stream",
     "text": [
      "12\n",
      "1000\n"
     ]
    },
    {
     "data": {
      "application/vnd.jupyter.widget-view+json": {
       "model_id": "386560f7f09e4df2a2546af54f471f16",
       "version_major": 2,
       "version_minor": 0
      },
      "text/plain": [
       "Batches:   0%|          | 0/32 [00:00<?, ?it/s]"
      ]
     },
     "metadata": {},
     "output_type": "display_data"
    },
    {
     "name": "stdout",
     "output_type": "stream",
     "text": [
      "13\n",
      "1000\n"
     ]
    },
    {
     "data": {
      "application/vnd.jupyter.widget-view+json": {
       "model_id": "113337c57673450b87b1631b4171e1c6",
       "version_major": 2,
       "version_minor": 0
      },
      "text/plain": [
       "Batches:   0%|          | 0/32 [00:00<?, ?it/s]"
      ]
     },
     "metadata": {},
     "output_type": "display_data"
    },
    {
     "name": "stdout",
     "output_type": "stream",
     "text": [
      "14\n",
      "1000\n"
     ]
    },
    {
     "data": {
      "application/vnd.jupyter.widget-view+json": {
       "model_id": "b743b88aec614f139702a52b6c2b2612",
       "version_major": 2,
       "version_minor": 0
      },
      "text/plain": [
       "Batches:   0%|          | 0/32 [00:00<?, ?it/s]"
      ]
     },
     "metadata": {},
     "output_type": "display_data"
    },
    {
     "name": "stdout",
     "output_type": "stream",
     "text": [
      "15\n",
      "1000\n"
     ]
    },
    {
     "data": {
      "application/vnd.jupyter.widget-view+json": {
       "model_id": "eeac5431c943487fbbaf36887d81257b",
       "version_major": 2,
       "version_minor": 0
      },
      "text/plain": [
       "Batches:   0%|          | 0/32 [00:00<?, ?it/s]"
      ]
     },
     "metadata": {},
     "output_type": "display_data"
    },
    {
     "name": "stdout",
     "output_type": "stream",
     "text": [
      "16\n",
      "1000\n"
     ]
    },
    {
     "data": {
      "application/vnd.jupyter.widget-view+json": {
       "model_id": "743a4e2496984d8da0bccf68c831dde8",
       "version_major": 2,
       "version_minor": 0
      },
      "text/plain": [
       "Batches:   0%|          | 0/32 [00:00<?, ?it/s]"
      ]
     },
     "metadata": {},
     "output_type": "display_data"
    },
    {
     "name": "stdout",
     "output_type": "stream",
     "text": [
      "17\n",
      "1000\n"
     ]
    },
    {
     "data": {
      "application/vnd.jupyter.widget-view+json": {
       "model_id": "b1291b16bbea48ac8dae439bb28d381b",
       "version_major": 2,
       "version_minor": 0
      },
      "text/plain": [
       "Batches:   0%|          | 0/32 [00:00<?, ?it/s]"
      ]
     },
     "metadata": {},
     "output_type": "display_data"
    },
    {
     "name": "stdout",
     "output_type": "stream",
     "text": [
      "18\n",
      "1000\n"
     ]
    },
    {
     "data": {
      "application/vnd.jupyter.widget-view+json": {
       "model_id": "aad395031deb4f558f935aa3b90df31d",
       "version_major": 2,
       "version_minor": 0
      },
      "text/plain": [
       "Batches:   0%|          | 0/32 [00:00<?, ?it/s]"
      ]
     },
     "metadata": {},
     "output_type": "display_data"
    },
    {
     "name": "stdout",
     "output_type": "stream",
     "text": [
      "19\n",
      "1000\n"
     ]
    },
    {
     "data": {
      "application/vnd.jupyter.widget-view+json": {
       "model_id": "7756ef58391340e6987d5b3b2d181b4a",
       "version_major": 2,
       "version_minor": 0
      },
      "text/plain": [
       "Batches:   0%|          | 0/32 [00:00<?, ?it/s]"
      ]
     },
     "metadata": {},
     "output_type": "display_data"
    },
    {
     "name": "stdout",
     "output_type": "stream",
     "text": [
      "20\n",
      "1000\n"
     ]
    },
    {
     "data": {
      "application/vnd.jupyter.widget-view+json": {
       "model_id": "dd9653d451d846bc9e3e3709f1626c79",
       "version_major": 2,
       "version_minor": 0
      },
      "text/plain": [
       "Batches:   0%|          | 0/32 [00:00<?, ?it/s]"
      ]
     },
     "metadata": {},
     "output_type": "display_data"
    },
    {
     "name": "stdout",
     "output_type": "stream",
     "text": [
      "21\n",
      "1000\n"
     ]
    },
    {
     "data": {
      "application/vnd.jupyter.widget-view+json": {
       "model_id": "faf011d7a1b6430abd40263504a5dbd6",
       "version_major": 2,
       "version_minor": 0
      },
      "text/plain": [
       "Batches:   0%|          | 0/32 [00:00<?, ?it/s]"
      ]
     },
     "metadata": {},
     "output_type": "display_data"
    },
    {
     "name": "stdout",
     "output_type": "stream",
     "text": [
      "22\n",
      "1000\n"
     ]
    },
    {
     "data": {
      "application/vnd.jupyter.widget-view+json": {
       "model_id": "accc04054da2485a9e65d29d9c417267",
       "version_major": 2,
       "version_minor": 0
      },
      "text/plain": [
       "Batches:   0%|          | 0/32 [00:00<?, ?it/s]"
      ]
     },
     "metadata": {},
     "output_type": "display_data"
    },
    {
     "name": "stdout",
     "output_type": "stream",
     "text": [
      "23\n",
      "1000\n"
     ]
    },
    {
     "data": {
      "application/vnd.jupyter.widget-view+json": {
       "model_id": "5b1ff5108d5047b093a01b0adc91abcd",
       "version_major": 2,
       "version_minor": 0
      },
      "text/plain": [
       "Batches:   0%|          | 0/32 [00:00<?, ?it/s]"
      ]
     },
     "metadata": {},
     "output_type": "display_data"
    },
    {
     "name": "stdout",
     "output_type": "stream",
     "text": [
      "24\n",
      "1000\n"
     ]
    },
    {
     "data": {
      "application/vnd.jupyter.widget-view+json": {
       "model_id": "e451db2181f94ad9ba4314869a426de2",
       "version_major": 2,
       "version_minor": 0
      },
      "text/plain": [
       "Batches:   0%|          | 0/32 [00:00<?, ?it/s]"
      ]
     },
     "metadata": {},
     "output_type": "display_data"
    },
    {
     "name": "stdout",
     "output_type": "stream",
     "text": [
      "25\n",
      "1000\n"
     ]
    },
    {
     "data": {
      "application/vnd.jupyter.widget-view+json": {
       "model_id": "b72b2b7da60745dbaee199a35ad8844a",
       "version_major": 2,
       "version_minor": 0
      },
      "text/plain": [
       "Batches:   0%|          | 0/32 [00:00<?, ?it/s]"
      ]
     },
     "metadata": {},
     "output_type": "display_data"
    },
    {
     "name": "stdout",
     "output_type": "stream",
     "text": [
      "26\n",
      "1000\n"
     ]
    },
    {
     "data": {
      "application/vnd.jupyter.widget-view+json": {
       "model_id": "b17a06863af649f5870278aac2cbd215",
       "version_major": 2,
       "version_minor": 0
      },
      "text/plain": [
       "Batches:   0%|          | 0/32 [00:00<?, ?it/s]"
      ]
     },
     "metadata": {},
     "output_type": "display_data"
    },
    {
     "name": "stdout",
     "output_type": "stream",
     "text": [
      "27\n",
      "1000\n"
     ]
    },
    {
     "data": {
      "application/vnd.jupyter.widget-view+json": {
       "model_id": "e4a956c61e704734a0ab025fe706d5ec",
       "version_major": 2,
       "version_minor": 0
      },
      "text/plain": [
       "Batches:   0%|          | 0/32 [00:00<?, ?it/s]"
      ]
     },
     "metadata": {},
     "output_type": "display_data"
    },
    {
     "name": "stdout",
     "output_type": "stream",
     "text": [
      "28\n",
      "1000\n"
     ]
    },
    {
     "data": {
      "application/vnd.jupyter.widget-view+json": {
       "model_id": "ecd63a7a95b64927b6f74fb0f32ca841",
       "version_major": 2,
       "version_minor": 0
      },
      "text/plain": [
       "Batches:   0%|          | 0/32 [00:00<?, ?it/s]"
      ]
     },
     "metadata": {},
     "output_type": "display_data"
    },
    {
     "name": "stdout",
     "output_type": "stream",
     "text": [
      "29\n",
      "1000\n"
     ]
    },
    {
     "data": {
      "application/vnd.jupyter.widget-view+json": {
       "model_id": "d2734b7bafb845ab8209a06feb77217b",
       "version_major": 2,
       "version_minor": 0
      },
      "text/plain": [
       "Batches:   0%|          | 0/32 [00:00<?, ?it/s]"
      ]
     },
     "metadata": {},
     "output_type": "display_data"
    },
    {
     "name": "stdout",
     "output_type": "stream",
     "text": [
      "30\n",
      "1000\n"
     ]
    },
    {
     "data": {
      "application/vnd.jupyter.widget-view+json": {
       "model_id": "d35d843de81f4691b2ea5798d85f5c3d",
       "version_major": 2,
       "version_minor": 0
      },
      "text/plain": [
       "Batches:   0%|          | 0/32 [00:00<?, ?it/s]"
      ]
     },
     "metadata": {},
     "output_type": "display_data"
    },
    {
     "name": "stdout",
     "output_type": "stream",
     "text": [
      "31\n",
      "1000\n"
     ]
    },
    {
     "data": {
      "application/vnd.jupyter.widget-view+json": {
       "model_id": "ed27f9c192a0409bb25ef2634eed7d11",
       "version_major": 2,
       "version_minor": 0
      },
      "text/plain": [
       "Batches:   0%|          | 0/32 [00:00<?, ?it/s]"
      ]
     },
     "metadata": {},
     "output_type": "display_data"
    },
    {
     "name": "stdout",
     "output_type": "stream",
     "text": [
      "32\n",
      "1000\n"
     ]
    },
    {
     "data": {
      "application/vnd.jupyter.widget-view+json": {
       "model_id": "03e035711633444d8ebf247b5cf1a94b",
       "version_major": 2,
       "version_minor": 0
      },
      "text/plain": [
       "Batches:   0%|          | 0/32 [00:00<?, ?it/s]"
      ]
     },
     "metadata": {},
     "output_type": "display_data"
    },
    {
     "name": "stdout",
     "output_type": "stream",
     "text": [
      "33\n",
      "1000\n"
     ]
    },
    {
     "data": {
      "application/vnd.jupyter.widget-view+json": {
       "model_id": "80be2e13869b4ea38e4e00b73cc50d98",
       "version_major": 2,
       "version_minor": 0
      },
      "text/plain": [
       "Batches:   0%|          | 0/32 [00:00<?, ?it/s]"
      ]
     },
     "metadata": {},
     "output_type": "display_data"
    },
    {
     "name": "stdout",
     "output_type": "stream",
     "text": [
      "34\n",
      "1000\n"
     ]
    },
    {
     "data": {
      "application/vnd.jupyter.widget-view+json": {
       "model_id": "4ef573dddbb74554b7b1d41080f763c0",
       "version_major": 2,
       "version_minor": 0
      },
      "text/plain": [
       "Batches:   0%|          | 0/32 [00:00<?, ?it/s]"
      ]
     },
     "metadata": {},
     "output_type": "display_data"
    },
    {
     "name": "stdout",
     "output_type": "stream",
     "text": [
      "35\n",
      "1000\n"
     ]
    },
    {
     "data": {
      "application/vnd.jupyter.widget-view+json": {
       "model_id": "14ee968c999f461da17a3a6bd4b563fb",
       "version_major": 2,
       "version_minor": 0
      },
      "text/plain": [
       "Batches:   0%|          | 0/32 [00:00<?, ?it/s]"
      ]
     },
     "metadata": {},
     "output_type": "display_data"
    },
    {
     "name": "stdout",
     "output_type": "stream",
     "text": [
      "36\n",
      "754\n"
     ]
    },
    {
     "data": {
      "application/vnd.jupyter.widget-view+json": {
       "model_id": "daa8b4e3a6fc46cfa17794852c5521d2",
       "version_major": 2,
       "version_minor": 0
      },
      "text/plain": [
       "Batches:   0%|          | 0/24 [00:00<?, ?it/s]"
      ]
     },
     "metadata": {},
     "output_type": "display_data"
    },
    {
     "name": "stdout",
     "output_type": "stream",
     "text": [
      "Image encoding completed..\n"
     ]
    }
   ],
   "source": [
    "count = 1000\n",
    "end = len(image_path_list) // count + 1\n",
    "print(end)\n",
    "\n",
    "list_img_emb = []\n",
    "image_names_list = []\n",
    "for k in range(0, end):\n",
    "    print(k)                    \n",
    "    imgs_corrupted = []\n",
    "    images_prep = []\n",
    "    k_images = image_path_list[count*k:count*(k+1)]\n",
    "    print(len(k_images))\n",
    "    \n",
    "    \n",
    "    images = [load_image(img) for img in k_images]\n",
    "    list_of_tensors = [transform(image).unsqueeze(0) for image in images]\n",
    "    image_inputs = torch.stack(list_of_tensors, dim=0)\n",
    "    image_inputs = image_inputs.to(\"cuda\")\n",
    "    \n",
    "    \n",
    "    with torch.no_grad():\n",
    "        image_feature = [model.encode_image(image_input) for image_input in image_inputs]\n",
    "        image_features = torch.stack(image_feature, dim=0)\n",
    "        image_features /= image_features.norm(dim=-1, keepdim=True)\n",
    "        image_features = image_features.squeeze(1)\n",
    "    \n",
    "    \n",
    "    #img_emb = img_model.encode([Image.open(filepath) for filepath in k_images], batch_size=32, convert_to_tensor=True, show_progress_bar=True)\n",
    "    torch.cuda.empty_cache()\n",
    "    list_img_emb.append(image_features)\n",
    "    \n",
    "    image_names = [image_path.split(\"/\")[-1].split(\".\")[0] for image_path in image_path_list]\n",
    "    image_names_list.append(image_names)\n",
    "    \n",
    "print(\"Image encoding completed..\")"
   ]
  },
  {
   "cell_type": "code",
   "execution_count": null,
   "id": "b355c97a",
   "metadata": {},
   "outputs": [],
   "source": [
    "img_features = torch.cat(list_img_emb, dim=0)\n",
    "img_features.shape"
   ]
  },
  {
   "cell_type": "code",
   "execution_count": null,
   "id": "5f2975eb",
   "metadata": {},
   "outputs": [],
   "source": [
    "def flatten_extend(matrix):\n",
    "    flat_list = []\n",
    "    for row in matrix:\n",
    "        flat_list.extend(row)\n",
    "    return flat_list"
   ]
  },
  {
   "cell_type": "code",
   "execution_count": null,
   "id": "b337e46b",
   "metadata": {},
   "outputs": [],
   "source": [
    "names = flatten_extend(image_names_list)"
   ]
  },
  {
   "cell_type": "code",
   "execution_count": null,
   "id": "bbc6fc44",
   "metadata": {},
   "outputs": [],
   "source": [
    "names[0]"
   ]
  },
  {
   "cell_type": "code",
   "execution_count": null,
   "id": "82ec3801",
   "metadata": {},
   "outputs": [],
   "source": [
    "import pickle"
   ]
  },
  {
   "cell_type": "code",
   "execution_count": null,
   "id": "abe06eb3",
   "metadata": {},
   "outputs": [],
   "source": [
    "f = open(\"nllb_img_embedding.pkl\",\"wb\")\n",
    "\n",
    "# write the python object (dict) to pickle file\n",
    "pickle.dump(img_features,f)\n",
    "\n",
    "# close file\n",
    "f.close()"
   ]
  },
  {
   "cell_type": "code",
   "execution_count": 92,
   "id": "2a377d66",
   "metadata": {},
   "outputs": [],
   "source": []
  },
  {
   "cell_type": "code",
   "execution_count": null,
   "id": "13de3018",
   "metadata": {},
   "outputs": [],
   "source": []
  }
 ],
 "metadata": {
  "kernelspec": {
   "display_name": "Python 3 (ipykernel)",
   "language": "python",
   "name": "python3"
  },
  "language_info": {
   "codemirror_mode": {
    "name": "ipython",
    "version": 3
   },
   "file_extension": ".py",
   "mimetype": "text/x-python",
   "name": "python",
   "nbconvert_exporter": "python",
   "pygments_lexer": "ipython3",
   "version": "3.10.9"
  }
 },
 "nbformat": 4,
 "nbformat_minor": 5
}
